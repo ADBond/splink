{
 "cells": [
  {
   "attachments": {},
   "cell_type": "markdown",
   "metadata": {},
   "source": [
    "# `profile_columns`\n",
    "\n",
    "!!! info \"At a glance\"\n",
    "    **Useful for:** Looking at the distribution of values in columns. \n",
    "\n",
    "    **API Documentation:** [profile_columns()](../linker.md#splink.linker.Linker.profile_columns)\n",
    "\n",
    "    **What is needed to generate the chart?:** A `linker` with some data."
   ]
  },
  {
   "attachments": {},
   "cell_type": "markdown",
   "metadata": {},
   "source": [
    "## Worked Example"
   ]
  },
  {
   "cell_type": "code",
   "execution_count": 1,
   "metadata": {},
   "source": [
    "import altair as alt\n",
    "from splink.datasets import splink_datasets\n",
    "from splink.duckdb.linker import DuckDBLinker\n",
    "\n",
    "df = splink_datasets.historical_50k\n",
    "linker = DuckDBLinker(df)\n",
    "\n",
    "linker.profile_columns()"
   ],
   "outputs": []
  },
  {
   "attachments": {},
   "cell_type": "markdown",
   "metadata": {},
   "source": [
    "<hr>"
   ]
  },
  {
   "attachments": {},
   "cell_type": "markdown",
   "metadata": {},
   "source": [
    "### What the chart shows\n",
    "\n",
    "The `profile_columns` chart shows 3 charts for each selected column:\n",
    "\n",
    "- The left chart shows the distribution of all values in the column. The width of each \"step\" represents the proportion of all (non-null) values of a given value while the height of each \"step\" gives the count of the same given value.\n",
    "- The middle chart shows the counts of the ten most common values in the column. These correspond to the 10 leftmost \"steps\" in the left chart.\n",
    "- The right chart shows the counts of the ten least common values in the column. These correspond to the 10 rightmost \"steps\" in the left chart."
   ]
  },
  {
   "attachments": {},
   "cell_type": "markdown",
   "metadata": {},
   "source": [
    "??? note \"What the chart tooltip shows\"\n",
    "\n",
    "    ##### Left chart:\n",
    "\n",
    "    ![](./img/profile_columns_tooltip_1.png) \n",
    "\n",
    "    This tooltip shows a number of statistics based on the column value of the \"step\" that the user is hovering over, including:\n",
    "\n",
    "    - The number of occurances of the given value.\n",
    "    - The precentile of the column value (excluding and including null values).\n",
    "    - The total number of rows in the column (excluding and including null values).\n",
    "\n",
    "    ##### Middle and right chart:\n",
    "\n",
    "    ![](./img/profile_columns_tooltip_2.png)\n",
    "\n",
    "    This tooltip shows a number of statistics based on the column value of the bar that the user is hovering over, including:\n",
    "\n",
    "    - The column value\n",
    "    - The count of the column value.\n",
    "    - The total number of rows in the column (excluding and including null values)."
   ]
  },
  {
   "attachments": {},
   "cell_type": "markdown",
   "metadata": {},
   "source": [
    "<hr>"
   ]
  },
  {
   "attachments": {},
   "cell_type": "markdown",
   "metadata": {},
   "source": [
    "### How to interpret the chart\n",
    "\n",
    "The distribution of values in your data is important for two main reasons:\n",
    "\n",
    "1. Columns with higher cardinality (number of distinct values) are usually more useful for data linking. For instance, date of birth is a much stronger linkage variable than gender.\n",
    "\n",
    "2. The skew of values is important. If you have a `birth_place` column that has 1,000 distinct values, but 75% of them are London, this is much less useful for linkage than if the 1,000 values were equally distributed"
   ]
  },
  {
   "attachments": {},
   "cell_type": "markdown",
   "metadata": {},
   "source": [
    "<hr>"
   ]
  },
  {
   "attachments": {},
   "cell_type": "markdown",
   "metadata": {},
   "source": [
    "### Actions to take as a result of the chart\n",
    "\n",
    "In an ideal world, all of the columns in datasets used for linkage would be high cardinality with a low skew (i.e. many distinct values that are evenly distributed). This is rarely the case with real-life datasets, but there a number of steps to extract the most predictive value, particularly with skewed data.\n",
    "\n",
    "#### Skewed String Columns\n",
    "\n",
    "Consider the skew of `birth_place` in our example:"
   ]
  },
  {
   "cell_type": "code",
   "execution_count": 2,
   "metadata": {},
   "source": [
    "linker.profile_columns(\"birth_place\")"
   ],
   "outputs": []
  },
  {
   "attachments": {},
   "cell_type": "markdown",
   "metadata": {},
   "source": [
    "Here we can see that \"london\" is the most common value, with many multiples more entires than the other values. In this case two records both having a `birth_place` of \"london\" gives far less evidence for a match than both having a rarer `birth_place` (e.g. \"felthorpe\").\n",
    "\n",
    "To take this skew into account, we can build Splink models with **Term Frequency Adjustments**. These adjustments will increase the amount of evidence for rare matching values and reduce the amount of evidence for common matching values.\n",
    "\n",
    "To understand how these work in more detail, check out the [Term Frequency Adjustments Topic Guide](../topic_guides/comparisons/term-frequency.md)\n",
    "\n",
    "<hr>"
   ]
  },
  {
   "attachments": {},
   "cell_type": "markdown",
   "metadata": {},
   "source": [
    "#### Skewed Date Columns\n",
    "\n",
    "Dates can also be skewed, but tend to be dealt with slightly differently.\n",
    "\n",
    "Consider the `dob` column from our example:"
   ]
  },
  {
   "cell_type": "code",
   "execution_count": 3,
   "metadata": {},
   "source": [
    "linker.profile_columns(\"dob\")"
   ],
   "outputs": []
  },
  {
   "attachments": {},
   "cell_type": "markdown",
   "metadata": {},
   "source": [
    "Here we can see a large skew towards dates which are the 1st January. We can narrow down the profiling to show the distribution of month and day to explore this further:"
   ]
  },
  {
   "cell_type": "code",
   "execution_count": 4,
   "metadata": {},
   "source": [
    "linker.profile_columns(\"substr(dob, 6, 10)\")"
   ],
   "outputs": []
  },
  {
   "attachments": {},
   "cell_type": "markdown",
   "metadata": {},
   "source": [
    "Here we can see that over 35% of all dates in this dataset are the 1st January. This is fairly common in manually entered datasets where if only the year of birth is known, people will generally enter the 1st January for that year.\n",
    "\n",
    "There are a number of ways to deal with this issue, but the most effective method we have found is to have a separate comparison level in a splink for matches on the 1st January. For example, there is a `separate_1st_january` parameter in the `date_comparison` function:"
   ]
  },
  {
   "cell_type": "code",
   "execution_count": 5,
   "metadata": {},
   "source": [
    "import splink.duckdb.comparison_template_library as ctl\n",
    "\n",
    "dob_comparison = ctl.date_comparison(\"dob\", separate_1st_january=True)"
   ],
   "outputs": []
  },
  {
   "cell_type": "code",
   "execution_count": 6,
   "metadata": {},
   "source": [
    "print(dob_comparison.human_readable_description)\n"
   ],
   "outputs": []
  },
  {
   "attachments": {},
   "cell_type": "markdown",
   "metadata": {},
   "source": [
    "<hr>"
   ]
  },
  {
   "attachments": {},
   "cell_type": "markdown",
   "metadata": {},
   "source": [
    "#### Low cardinality columns\n",
    "\n",
    "Unfortunately, there is not much that can be done to improve low cardinality data. Ultimately, they will provide some evidence of a match between records, but need to be used in conjunction with some more predictive, higher cardinality fields."
   ]
  }
 ],
 "metadata": {
  "kernelspec": {
   "display_name": "base",
   "language": "python",
   "name": "python3"
  },
  "language_info": {
   "codemirror_mode": {
    "name": "ipython",
    "version": 3
   },
   "file_extension": ".py",
   "mimetype": "text/x-python",
   "name": "python",
   "nbconvert_exporter": "python",
   "pygments_lexer": "ipython3",
   "version": "3.9.12"
  },
  "orig_nbformat": 4
 },
 "nbformat": 4,
 "nbformat_minor": 2
}
