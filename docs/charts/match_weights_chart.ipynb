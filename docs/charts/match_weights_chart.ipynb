{
 "cells": [
  {
   "attachments": {},
   "cell_type": "markdown",
   "metadata": {},
   "source": [
    "# `match_weights_chart`\n",
    "\n",
    "!!! info \"At a glance\"\n",
    "    **Useful for:** Looking at the whole Splink model definition.\n",
    "\n",
    "    **API Documentation:** [match_weights_chart()](../linker.md#splink.linker.Linker.match_weights_chart)\n",
    "\n",
    "    **What is needed to generate the chart?** A trained Splink model."
   ]
  },
  {
   "attachments": {},
   "cell_type": "markdown",
   "metadata": {},
   "source": [
    "## Worked Example"
   ]
  },
  {
   "cell_type": "code",
   "execution_count": 1,
   "metadata": {},
   "source": [
    "from splink.duckdb.linker import DuckDBLinker\n",
    "import splink.duckdb.comparison_library as cl\n",
    "import splink.duckdb.comparison_template_library as ctl\n",
    "from splink.duckdb.blocking_rule_library import block_on\n",
    "from splink.datasets import splink_datasets\n",
    "import logging, sys\n",
    "logging.disable(sys.maxsize)\n",
    "\n",
    "df = splink_datasets.fake_1000\n",
    "\n",
    "settings = {\n",
    "    \"link_type\": \"dedupe_only\",\n",
    "    \"blocking_rules_to_generate_predictions\": [\n",
    "        block_on(\"first_name\"),\n",
    "        block_on(\"surname\"),\n",
    "    ],\n",
    "    \"comparisons\": [\n",
    "        ctl.name_comparison(\"first_name\"),\n",
    "        ctl.name_comparison(\"surname\"),\n",
    "        ctl.date_comparison(\"dob\", cast_strings_to_date=True),\n",
    "        cl.exact_match(\"city\", term_frequency_adjustments=True),\n",
    "        ctl.email_comparison(\"email\", include_username_fuzzy_level=False),\n",
    "    ],\n",
    "}\n",
    "\n",
    "linker = DuckDBLinker(df, settings)\n",
    "linker.estimate_u_using_random_sampling(max_pairs=1e6)\n",
    "\n",
    "blocking_rule_for_training = block_on([\"first_name\", \"surname\"])\n",
    "\n",
    "linker.estimate_parameters_using_expectation_maximisation(blocking_rule_for_training)\n",
    "\n",
    "blocking_rule_for_training = block_on(\"dob\")\n",
    "linker.estimate_parameters_using_expectation_maximisation(blocking_rule_for_training)\n",
    "\n",
    "linker.match_weights_chart()"
   ],
   "outputs": []
  },
  {
   "attachments": {},
   "cell_type": "markdown",
   "metadata": {},
   "source": [
    "### What the chart shows\n",
    "\n",
    "The `match_weights_chart` show the results of a trained Splink model. Each comparison within a model is represented in a bar chart, with a bar showing the evidence for two records being a match (i.e. match weight) for each comparison level.\n",
    "\n",
    "??? note \"What the chart tooltip shows\"\n",
    "\n",
    "    ![](./img/match_weights_chart_tooltip.png)\n",
    "\n",
    "    The tooltip shows information based on the comparison level bar that the user is hovering over, including:\n",
    "\n",
    "    - The name of the comparison and comaprison level.\n",
    "    - The comparison level condition as an SQL statement.\n",
    "    - The m and u proability for the comparison level.\n",
    "    - The resulting bayes factor and match weight for the comparison level."
   ]
  },
  {
   "attachments": {},
   "cell_type": "markdown",
   "metadata": {},
   "source": [
    "### How to interpret the chart\n",
    "\n",
    "Each bar in the `match_weights_chart` shows the evidence of a match provided by each level in a Splink model (i.e. match weight). As such, the match weight chart provides a summary for the entire Splink model, as it shows the match weights for every type of comparison defined within the model.\n",
    "\n",
    "Any Splink score generated to compare two records will add up the evidence (i.e. match weights) for each comparison to come up with a final match weight score, which can then be converted into a probability of a match.\n",
    "\n",
    "The first bar chart is the Prior Match Weight, which is the . This can be thought of in the same way as the y-intercept of a simple regression model\n",
    "\n",
    "This chart is an aggregation of the [`m_u_parameters_chart`](./m_u_parameters_chart.ipynb). The match weight for a comparison level is simply $log_2(\\frac{m}{u})$."
   ]
  },
  {
   "attachments": {},
   "cell_type": "markdown",
   "metadata": {},
   "source": [
    "### Actions to take as a result of the chart\n",
    "\n",
    "Some heuristics to help assess Splink models with the `match_weights_chart`:\n",
    "\n",
    "#### Match weights gradually reducing within a comparison\n",
    "\n",
    "Comparison levels are order dependent, therefore they are constructed that the most \"similar\" levels come first and get gradually less \"similar\". As a result, we would generally expect that match weight will reduce as we go down the levels in a comparison. \n",
    "\n",
    "#### Very similar comparison levels\n",
    "\n",
    "Comparisons are broken up into comparison levels to show different levels of similarity between records. As these levels are associated with different levels of similarity, we expect the amount of evidence (i.e. match weight) to vary between comparison levels. Two levels with the same match weight does not provide the model with any additional information which could make it perform better. \n",
    "\n",
    "Therefore, if two levels of a comparison return the same match weight, these should be combined into a single level.\n",
    "\n",
    "#### Very different comparison levels\n",
    "\n",
    "Levels that have a large variation between comparison levels have a significant impact on the model results. For example, looking at the `email` comparison in the chart above, the difference in match weight between an exact/fuzzy match and \"All other comparisons\" is > 13, which is quite extreme. This generally happens with highly predictive features (e.g. email, national insurance number, social security number).\n",
    "\n",
    "If there are a number of highly predictive features, it is worth looking at simplifying your model using these more predictive features. In some cases, similar results may be obtained with a [deterministic](../topic_guides/theory/probabilistic_vs_deterministic.md) rather than a probabilistic linkage model.\n",
    "\n",
    "#### Logical Walk-through\n",
    "\n",
    "One of the most effective methods to assess a splink model is to walk through each of the comparison levels of the `match_weights_chart` and sense check the amount of evidence (i.e. match weight) that has been allocated by the model.\n",
    "\n",
    "For example, in the chart above, we would expect records with the same `dob` to provide more evidence of a match that `first_name` or `surname`. Conversely, given how people can move location, we would expect that `city` would be less predictive than people's fixed, personally identifying characteristics like `surname`, `dob` etc.\n",
    "\n",
    "#### Anything look strange?\n",
    "\n",
    "If anything still looks unusual, check out:\n",
    "\n",
    "- the underlying m and u values in the [`m_u_parameters_chart`](./m_u_parameters_chart.ipynb)\n",
    "- the values from each training session in the [`parameter_estimate_comparisons_chart`](./parameter_estimate_comparisons_chart.ipynb)"
   ]
  },
  {
   "attachments": {},
   "cell_type": "markdown",
   "metadata": {},
   "source": [
    "## Related Charts\n",
    "\n",
    "::cards::\n",
    "[\n",
    "    {\n",
    "    \"title\": \"`m u parameters chart`\",\n",
    "    \"image\": \"./img/m_u_parameters_chart.png\",\n",
    "    \"url\": \"./m_u_parameters_chart.ipynb\"\n",
    "    },\n",
    "    {\n",
    "    \"title\": \"`parameter estimate comparisons chart`\",\n",
    "    \"image\": \"./img/parameter_estimate_comparisons_chart.png\",\n",
    "    \"url\": \"./parameter_estimate_comparisons_chart.ipynb\"\n",
    "    },\n",
    "]\n",
    "::/cards::"
   ]
  }
 ],
 "metadata": {
  "kernelspec": {
   "display_name": "base",
   "language": "python",
   "name": "python3"
  },
  "language_info": {
   "codemirror_mode": {
    "name": "ipython",
    "version": 3
   },
   "file_extension": ".py",
   "mimetype": "text/x-python",
   "name": "python",
   "nbconvert_exporter": "python",
   "pygments_lexer": "ipython3",
   "version": "3.9.12"
  },
  "orig_nbformat": 4
 },
 "nbformat": 4,
 "nbformat_minor": 2
}
