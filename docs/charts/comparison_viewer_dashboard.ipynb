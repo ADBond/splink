{
 "cells": [
  {
   "attachments": {},
   "cell_type": "markdown",
   "metadata": {},
   "source": [
    "!!! warning \"Work in Progress\"\n",
    "    This page is currently under construction. \n",
    "\n",
    "# `comparison_viewer_dashboard`\n",
    "\n",
    "!!! info \"At a glance\"\n",
    "    **Useful for:** \n",
    "\n",
    "    **API Documentation:** [comparison_viewer_dashboard()](../../linker.md#splink.linker.Linker.comparison_viewer_dashboard)\n",
    "\n",
    "    **What is needed to generate the chart?** "
   ]
  },
  {
   "attachments": {},
   "cell_type": "markdown",
   "metadata": {},
   "source": [
    "## Worked Example"
   ]
  },
  {
   "cell_type": "code",
   "execution_count": 2,
   "metadata": {},
   "outputs": [
    {
     "data": {
      "application/vnd.jupyter.widget-view+json": {
       "model_id": "ebf9b24d5cd840cb9e417f6f1688215f",
       "version_major": 2,
       "version_minor": 0
      },
      "text/plain": [
       "FloatProgress(value=0.0, layout=Layout(width='auto'), style=ProgressStyle(bar_color='black'))"
      ]
     },
     "metadata": {},
     "output_type": "display_data"
    },
    {
     "ename": "TypeError",
     "evalue": "Object of type exact_match_rule is not JSON serializable",
     "output_type": "error",
     "traceback": [
      "\u001b[0;31m---------------------------------------------------------------------------\u001b[0m",
      "\u001b[0;31mTypeError\u001b[0m                                 Traceback (most recent call last)",
      "\u001b[1;32m/Users/rosskennedy/splink/docs/topic_guides/charts/comparison_viewer_dashboard.ipynb Cell 3\u001b[0m in \u001b[0;36m4\n\u001b[1;32m     <a href='vscode-notebook-cell:/Users/rosskennedy/splink/docs/topic_guides/charts/comparison_viewer_dashboard.ipynb#W2sZmlsZQ%3D%3D?line=38'>39</a>\u001b[0m linker\u001b[39m.\u001b[39mestimate_parameters_using_expectation_maximisation(blocking_rule_for_training)\n\u001b[1;32m     <a href='vscode-notebook-cell:/Users/rosskennedy/splink/docs/topic_guides/charts/comparison_viewer_dashboard.ipynb#W2sZmlsZQ%3D%3D?line=40'>41</a>\u001b[0m df_predictions \u001b[39m=\u001b[39m linker\u001b[39m.\u001b[39mpredict(threshold_match_probability\u001b[39m=\u001b[39m\u001b[39m0.2\u001b[39m)\n\u001b[0;32m---> <a href='vscode-notebook-cell:/Users/rosskennedy/splink/docs/topic_guides/charts/comparison_viewer_dashboard.ipynb#W2sZmlsZQ%3D%3D?line=42'>43</a>\u001b[0m linker\u001b[39m.\u001b[39mcomparison_viewer_dashboard(df_predictions, \u001b[39m\"\u001b[39m\u001b[39mimg/scv.html\u001b[39m\u001b[39m\"\u001b[39m, overwrite\u001b[39m=\u001b[39m\u001b[39mTrue\u001b[39;00m)\n\u001b[1;32m     <a href='vscode-notebook-cell:/Users/rosskennedy/splink/docs/topic_guides/charts/comparison_viewer_dashboard.ipynb#W2sZmlsZQ%3D%3D?line=44'>45</a>\u001b[0m \u001b[39m# You can view the scv.html file in your browser, or inline in a notbook as follows\u001b[39;00m\n\u001b[1;32m     <a href='vscode-notebook-cell:/Users/rosskennedy/splink/docs/topic_guides/charts/comparison_viewer_dashboard.ipynb#W2sZmlsZQ%3D%3D?line=45'>46</a>\u001b[0m \u001b[39mfrom\u001b[39;00m \u001b[39mIPython\u001b[39;00m\u001b[39m.\u001b[39;00m\u001b[39mdisplay\u001b[39;00m \u001b[39mimport\u001b[39;00m IFrame\n",
      "File \u001b[0;32m~/splink/splink/linker.py:2601\u001b[0m, in \u001b[0;36mLinker.comparison_viewer_dashboard\u001b[0;34m(self, df_predict, out_path, overwrite, num_example_rows, return_html_as_string)\u001b[0m\n\u001b[1;32m   2597\u001b[0m     \u001b[39mself\u001b[39m\u001b[39m.\u001b[39m_enqueue_sql(sql[\u001b[39m\"\u001b[39m\u001b[39msql\u001b[39m\u001b[39m\"\u001b[39m], sql[\u001b[39m\"\u001b[39m\u001b[39moutput_table_name\u001b[39m\u001b[39m\"\u001b[39m])\n\u001b[1;32m   2599\u001b[0m df \u001b[39m=\u001b[39m \u001b[39mself\u001b[39m\u001b[39m.\u001b[39m_execute_sql_pipeline([df_predict])\n\u001b[0;32m-> 2601\u001b[0m rendered \u001b[39m=\u001b[39m render_splink_comparison_viewer_html(\n\u001b[1;32m   2602\u001b[0m     df\u001b[39m.\u001b[39;49mas_record_dict(),\n\u001b[1;32m   2603\u001b[0m     \u001b[39mself\u001b[39;49m\u001b[39m.\u001b[39;49m_settings_obj\u001b[39m.\u001b[39;49m_as_completed_dict(),\n\u001b[1;32m   2604\u001b[0m     out_path,\n\u001b[1;32m   2605\u001b[0m     overwrite,\n\u001b[1;32m   2606\u001b[0m )\n\u001b[1;32m   2607\u001b[0m \u001b[39mif\u001b[39;00m return_html_as_string:\n\u001b[1;32m   2608\u001b[0m     \u001b[39mreturn\u001b[39;00m rendered\n",
      "File \u001b[0;32m~/splink/splink/splink_comparison_viewer.py:117\u001b[0m, in \u001b[0;36mrender_splink_comparison_viewer_html\u001b[0;34m(comparison_vector_data, splink_settings, out_path, overwrite)\u001b[0m\n\u001b[1;32m    110\u001b[0m template_path \u001b[39m=\u001b[39m \u001b[39m\"\u001b[39m\u001b[39mfiles/splink_comparison_viewer/template.j2\u001b[39m\u001b[39m\"\u001b[39m\n\u001b[1;32m    111\u001b[0m template \u001b[39m=\u001b[39m Template(read_resource(template_path))\n\u001b[1;32m    113\u001b[0m template_data \u001b[39m=\u001b[39m {\n\u001b[1;32m    114\u001b[0m     \u001b[39m\"\u001b[39m\u001b[39mcomparison_vector_data\u001b[39m\u001b[39m\"\u001b[39m: json\u001b[39m.\u001b[39mdumps(\n\u001b[1;32m    115\u001b[0m         comparison_vector_data, \u001b[39mcls\u001b[39m\u001b[39m=\u001b[39mEverythingEncoder\n\u001b[1;32m    116\u001b[0m     ),\n\u001b[0;32m--> 117\u001b[0m     \u001b[39m\"\u001b[39m\u001b[39msplink_settings\u001b[39m\u001b[39m\"\u001b[39m: json\u001b[39m.\u001b[39;49mdumps(splink_settings),\n\u001b[1;32m    118\u001b[0m }\n\u001b[1;32m    120\u001b[0m files \u001b[39m=\u001b[39m {\n\u001b[1;32m    121\u001b[0m     \u001b[39m\"\u001b[39m\u001b[39membed\u001b[39m\u001b[39m\"\u001b[39m: \u001b[39m\"\u001b[39m\u001b[39mfiles/external_js/vega-embed@6.20.2\u001b[39m\u001b[39m\"\u001b[39m,\n\u001b[1;32m    122\u001b[0m     \u001b[39m\"\u001b[39m\u001b[39mvega\u001b[39m\u001b[39m\"\u001b[39m: \u001b[39m\"\u001b[39m\u001b[39mfiles/external_js/vega@5.21.0\u001b[39m\u001b[39m\"\u001b[39m,\n\u001b[0;32m   (...)\u001b[0m\n\u001b[1;32m    125\u001b[0m     \u001b[39m\"\u001b[39m\u001b[39mcustom_css\u001b[39m\u001b[39m\"\u001b[39m: \u001b[39m\"\u001b[39m\u001b[39mfiles/splink_comparison_viewer/custom.css\u001b[39m\u001b[39m\"\u001b[39m,\n\u001b[1;32m    126\u001b[0m }\n\u001b[1;32m    127\u001b[0m \u001b[39mfor\u001b[39;00m k, v \u001b[39min\u001b[39;00m files\u001b[39m.\u001b[39mitems():\n",
      "File \u001b[0;32m~/Library/r-miniconda/lib/python3.9/json/__init__.py:231\u001b[0m, in \u001b[0;36mdumps\u001b[0;34m(obj, skipkeys, ensure_ascii, check_circular, allow_nan, cls, indent, separators, default, sort_keys, **kw)\u001b[0m\n\u001b[1;32m    226\u001b[0m \u001b[39m# cached encoder\u001b[39;00m\n\u001b[1;32m    227\u001b[0m \u001b[39mif\u001b[39;00m (\u001b[39mnot\u001b[39;00m skipkeys \u001b[39mand\u001b[39;00m ensure_ascii \u001b[39mand\u001b[39;00m\n\u001b[1;32m    228\u001b[0m     check_circular \u001b[39mand\u001b[39;00m allow_nan \u001b[39mand\u001b[39;00m\n\u001b[1;32m    229\u001b[0m     \u001b[39mcls\u001b[39m \u001b[39mis\u001b[39;00m \u001b[39mNone\u001b[39;00m \u001b[39mand\u001b[39;00m indent \u001b[39mis\u001b[39;00m \u001b[39mNone\u001b[39;00m \u001b[39mand\u001b[39;00m separators \u001b[39mis\u001b[39;00m \u001b[39mNone\u001b[39;00m \u001b[39mand\u001b[39;00m\n\u001b[1;32m    230\u001b[0m     default \u001b[39mis\u001b[39;00m \u001b[39mNone\u001b[39;00m \u001b[39mand\u001b[39;00m \u001b[39mnot\u001b[39;00m sort_keys \u001b[39mand\u001b[39;00m \u001b[39mnot\u001b[39;00m kw):\n\u001b[0;32m--> 231\u001b[0m     \u001b[39mreturn\u001b[39;00m _default_encoder\u001b[39m.\u001b[39;49mencode(obj)\n\u001b[1;32m    232\u001b[0m \u001b[39mif\u001b[39;00m \u001b[39mcls\u001b[39m \u001b[39mis\u001b[39;00m \u001b[39mNone\u001b[39;00m:\n\u001b[1;32m    233\u001b[0m     \u001b[39mcls\u001b[39m \u001b[39m=\u001b[39m JSONEncoder\n",
      "File \u001b[0;32m~/Library/r-miniconda/lib/python3.9/json/encoder.py:199\u001b[0m, in \u001b[0;36mJSONEncoder.encode\u001b[0;34m(self, o)\u001b[0m\n\u001b[1;32m    195\u001b[0m         \u001b[39mreturn\u001b[39;00m encode_basestring(o)\n\u001b[1;32m    196\u001b[0m \u001b[39m# This doesn't pass the iterator directly to ''.join() because the\u001b[39;00m\n\u001b[1;32m    197\u001b[0m \u001b[39m# exceptions aren't as detailed.  The list call should be roughly\u001b[39;00m\n\u001b[1;32m    198\u001b[0m \u001b[39m# equivalent to the PySequence_Fast that ''.join() would do.\u001b[39;00m\n\u001b[0;32m--> 199\u001b[0m chunks \u001b[39m=\u001b[39m \u001b[39mself\u001b[39;49m\u001b[39m.\u001b[39;49miterencode(o, _one_shot\u001b[39m=\u001b[39;49m\u001b[39mTrue\u001b[39;49;00m)\n\u001b[1;32m    200\u001b[0m \u001b[39mif\u001b[39;00m \u001b[39mnot\u001b[39;00m \u001b[39misinstance\u001b[39m(chunks, (\u001b[39mlist\u001b[39m, \u001b[39mtuple\u001b[39m)):\n\u001b[1;32m    201\u001b[0m     chunks \u001b[39m=\u001b[39m \u001b[39mlist\u001b[39m(chunks)\n",
      "File \u001b[0;32m~/Library/r-miniconda/lib/python3.9/json/encoder.py:257\u001b[0m, in \u001b[0;36mJSONEncoder.iterencode\u001b[0;34m(self, o, _one_shot)\u001b[0m\n\u001b[1;32m    252\u001b[0m \u001b[39melse\u001b[39;00m:\n\u001b[1;32m    253\u001b[0m     _iterencode \u001b[39m=\u001b[39m _make_iterencode(\n\u001b[1;32m    254\u001b[0m         markers, \u001b[39mself\u001b[39m\u001b[39m.\u001b[39mdefault, _encoder, \u001b[39mself\u001b[39m\u001b[39m.\u001b[39mindent, floatstr,\n\u001b[1;32m    255\u001b[0m         \u001b[39mself\u001b[39m\u001b[39m.\u001b[39mkey_separator, \u001b[39mself\u001b[39m\u001b[39m.\u001b[39mitem_separator, \u001b[39mself\u001b[39m\u001b[39m.\u001b[39msort_keys,\n\u001b[1;32m    256\u001b[0m         \u001b[39mself\u001b[39m\u001b[39m.\u001b[39mskipkeys, _one_shot)\n\u001b[0;32m--> 257\u001b[0m \u001b[39mreturn\u001b[39;00m _iterencode(o, \u001b[39m0\u001b[39;49m)\n",
      "File \u001b[0;32m~/Library/r-miniconda/lib/python3.9/json/encoder.py:179\u001b[0m, in \u001b[0;36mJSONEncoder.default\u001b[0;34m(self, o)\u001b[0m\n\u001b[1;32m    160\u001b[0m \u001b[39mdef\u001b[39;00m \u001b[39mdefault\u001b[39m(\u001b[39mself\u001b[39m, o):\n\u001b[1;32m    161\u001b[0m     \u001b[39m\"\"\"Implement this method in a subclass such that it returns\u001b[39;00m\n\u001b[1;32m    162\u001b[0m \u001b[39m    a serializable object for ``o``, or calls the base implementation\u001b[39;00m\n\u001b[1;32m    163\u001b[0m \u001b[39m    (to raise a ``TypeError``).\u001b[39;00m\n\u001b[0;32m   (...)\u001b[0m\n\u001b[1;32m    177\u001b[0m \n\u001b[1;32m    178\u001b[0m \u001b[39m    \"\"\"\u001b[39;00m\n\u001b[0;32m--> 179\u001b[0m     \u001b[39mraise\u001b[39;00m \u001b[39mTypeError\u001b[39;00m(\u001b[39mf\u001b[39m\u001b[39m'\u001b[39m\u001b[39mObject of type \u001b[39m\u001b[39m{\u001b[39;00mo\u001b[39m.\u001b[39m\u001b[39m__class__\u001b[39m\u001b[39m.\u001b[39m\u001b[39m__name__\u001b[39m\u001b[39m}\u001b[39;00m\u001b[39m \u001b[39m\u001b[39m'\u001b[39m\n\u001b[1;32m    180\u001b[0m                     \u001b[39mf\u001b[39m\u001b[39m'\u001b[39m\u001b[39mis not JSON serializable\u001b[39m\u001b[39m'\u001b[39m)\n",
      "\u001b[0;31mTypeError\u001b[0m: Object of type exact_match_rule is not JSON serializable"
     ]
    }
   ],
   "source": [
    "from splink.duckdb.linker import DuckDBLinker\n",
    "import splink.duckdb.comparison_library as cl\n",
    "import splink.duckdb.comparison_template_library as ctl\n",
    "import splink.duckdb.blocking_rule_library as brl\n",
    "from splink.datasets import splink_datasets\n",
    "import logging, sys\n",
    "logging.disable(sys.maxsize)\n",
    "\n",
    "df = splink_datasets.fake_1000\n",
    "\n",
    "settings = {\n",
    "    \"link_type\": \"dedupe_only\",\n",
    "    \"blocking_rules_to_generate_predictions\": [\n",
    "        brl.exact_match_rule(\"first_name\"),\n",
    "        brl.exact_match_rule(\"surname\"),\n",
    "    ],\n",
    "    \"comparisons\": [\n",
    "        ctl.name_comparison(\"first_name\"),\n",
    "        ctl.name_comparison(\"surname\"),\n",
    "        ctl.date_comparison(\"dob\", cast_strings_to_date=True),\n",
    "        cl.exact_match(\"city\", term_frequency_adjustments=True),\n",
    "        ctl.email_comparison(\"email\", include_username_fuzzy_level=False),\n",
    "    ],\n",
    "    \"retain_intermediate_calculation_columns\": True,\n",
    "    \"retain_matching_columns\":True,\n",
    "}\n",
    "\n",
    "linker = DuckDBLinker(df, settings)\n",
    "linker.estimate_u_using_random_sampling(max_pairs=1e6)\n",
    "\n",
    "blocking_rule_for_training = brl.and_(\n",
    "                            brl.exact_match_rule(\"first_name\"), \n",
    "                            brl.exact_match_rule(\"surname\")\n",
    "                            )\n",
    "\n",
    "linker.estimate_parameters_using_expectation_maximisation(blocking_rule_for_training)\n",
    "\n",
    "blocking_rule_for_training = brl.exact_match_rule(\"dob\")\n",
    "linker.estimate_parameters_using_expectation_maximisation(blocking_rule_for_training)\n",
    "\n",
    "df_predictions = linker.predict(threshold_match_probability=0.2)\n",
    "\n",
    "linker.comparison_viewer_dashboard(df_predictions, \"img/scv.html\", overwrite=True)\n",
    "\n",
    "# You can view the scv.html file in your browser, or inline in a notbook as follows\n",
    "from IPython.display import IFrame\n",
    "IFrame(\n",
    "    src=\"./scv.html\", width=\"100%\", height=1200\n",
    ")  \n"
   ]
  },
  {
   "attachments": {},
   "cell_type": "markdown",
   "metadata": {},
   "source": [
    "### What the chart shows\n"
   ]
  },
  {
   "attachments": {},
   "cell_type": "markdown",
   "metadata": {},
   "source": [
    "### How to interpret the chart\n"
   ]
  },
  {
   "attachments": {},
   "cell_type": "markdown",
   "metadata": {},
   "source": [
    "### Actions to take as a result of the chart\n",
    "\n"
   ]
  }
 ],
 "metadata": {
  "kernelspec": {
   "display_name": "base",
   "language": "python",
   "name": "python3"
  },
  "language_info": {
   "codemirror_mode": {
    "name": "ipython",
    "version": 3
   },
   "file_extension": ".py",
   "mimetype": "text/x-python",
   "name": "python",
   "nbconvert_exporter": "python",
   "pygments_lexer": "ipython3",
   "version": "3.9.12"
  },
  "orig_nbformat": 4
 },
 "nbformat": 4,
 "nbformat_minor": 2
}
