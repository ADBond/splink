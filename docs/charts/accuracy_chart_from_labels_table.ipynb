{
 "cells": [
  {
   "attachments": {},
   "cell_type": "markdown",
   "metadata": {},
   "source": [
    "# `accuracy_chart_from_labels_table`\n",
    "\n",
    "!!! info \"At a glance\"\n",
    "    **Useful for:** Selecting an optimal match weight threshold for generating linked clusters.\n",
    "\n",
    "    **API Documentation:** [accuracy_chart_from_labels_table()](../linker.md#splink.linker.Linker.accuracy_chart_from_labels_table)\n",
    "\n",
    "    **What is needed to generate the chart?** A `linker` with some data and a corresponding labelled dataset"
   ]
  },
  {
   "attachments": {},
   "cell_type": "markdown",
   "metadata": {},
   "source": [
    "## Worked Example"
   ]
  },
  {
   "cell_type": "code",
   "execution_count": 1,
   "metadata": {},
   "source": [
    "from splink.duckdb.linker import DuckDBLinker\n",
    "import splink.duckdb.comparison_library as cl\n",
    "import splink.duckdb.comparison_template_library as ctl\n",
    "from splink.duckdb.blocking_rule_library import block_on\n",
    "from splink.datasets import splink_datasets, splink_dataset_labels\n",
    "import logging, sys\n",
    "\n",
    "logging.disable(sys.maxsize)\n",
    "\n",
    "df = splink_datasets.fake_1000\n",
    "\n",
    "settings = {\n",
    "    \"link_type\": \"dedupe_only\",\n",
    "    \"blocking_rules_to_generate_predictions\": [\n",
    "        block_on(\"first_name\"),\n",
    "        block_on(\"surname\"),\n",
    "    ],\n",
    "    \"comparisons\": [\n",
    "        ctl.name_comparison(\"first_name\"),\n",
    "        ctl.name_comparison(\"surname\"),\n",
    "        ctl.date_comparison(\"dob\", cast_strings_to_date=True),\n",
    "        cl.exact_match(\"city\", term_frequency_adjustments=True),\n",
    "        ctl.email_comparison(\"email\", include_username_fuzzy_level=False),\n",
    "    ],\n",
    "}\n",
    "\n",
    "linker = DuckDBLinker(df, settings)\n",
    "linker.estimate_u_using_random_sampling(max_pairs=1e6)\n",
    "\n",
    "blocking_rule_for_training = block_on([\"first_name\", \"surname\"])\n",
    "\n",
    "linker.estimate_parameters_using_expectation_maximisation(blocking_rule_for_training)\n",
    "\n",
    "blocking_rule_for_training = block_on(\"dob\")\n",
    "linker.estimate_parameters_using_expectation_maximisation(blocking_rule_for_training)\n",
    "\n",
    "\n",
    "df_labels = splink_dataset_labels.fake_1000_labels\n",
    "labels_table = linker.register_labels_table(df_labels)\n",
    "\n",
    "linker.accuracy_analysis_from_labels_table(\n",
    "    labels_table, output_type=\"accuracy\", add_metrics=[\"f1\"]\n",
    ")"
   ],
   "outputs": []
  },
  {
   "attachments": {},
   "cell_type": "markdown",
   "metadata": {},
   "source": [
    "### What the chart shows\n",
    "\n",
    "For a given match weight threshold, a record pair with a score above this threshold will be labelled a match and below the threshold will be labelled a non-match. For all possible match weight thresholds, this chart shows various accuracy metrics comparing the Splink scores against clerical labels. \n",
    "\n",
    "**Precision** and **recall** are shown by default, but various additional metrics can be added: specificity, negative predictive value (NPV), accuracy, $F_1$, $F_2$, $F_{0.5}$, $P_4$ and $\\phi$ (Matthews correlation coefficient)."
   ]
  },
  {
   "attachments": {},
   "cell_type": "markdown",
   "metadata": {},
   "source": [
    "### How to interpret the chart\n",
    "\n",
    "**Precision** can be maximised by **increasing** the match threshold (reducing false positives).\n",
    "\n",
    "**Recall** can be maximised by **decreasing** the match threshold (reducing false negatives). \n",
    "\n",
    "Additional metrics can be used to find the optimal compromise between these two, looking for the threshold at which peak accuracy is achieved. \n",
    "\n",
    "!!! info \"Confusion matrix\"\n",
    "\n",
    "    See [threshold_selection_tool_from_labels_table](threshold_selection_tool_from_labels_table.ipynb) for a more complete visualisation of the impact of match threshold on false positives and false negatives, with reference to the confusion matrix."
   ]
  },
  {
   "attachments": {},
   "cell_type": "markdown",
   "metadata": {},
   "source": [
    "### Actions to take as a result of the chart\n",
    "\n",
    "Having identified an optimal match weight threshold, this can be applied when generating linked clusters using [cluster_pairwise_predictions_at_thresholds()](../linker.md#splink.linker.Linker.cluster_pairwise_predictions_at_thresholds)."
   ]
  },
  {
   "cell_type": "markdown",
   "metadata": {},
   "source": []
  }
 ],
 "metadata": {
  "kernelspec": {
   "display_name": "base",
   "language": "python",
   "name": "python3"
  },
  "language_info": {
   "codemirror_mode": {
    "name": "ipython",
    "version": 3
   },
   "file_extension": ".py",
   "mimetype": "text/x-python",
   "name": "python",
   "nbconvert_exporter": "python",
   "pygments_lexer": "ipython3",
   "version": "3.10.6"
  },
  "orig_nbformat": 4
 },
 "nbformat": 4,
 "nbformat_minor": 2
}
