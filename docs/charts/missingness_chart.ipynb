{
 "cells": [
  {
   "attachments": {},
   "cell_type": "markdown",
   "metadata": {},
   "source": [
    "# `missingness_chart`\n",
    "\n",
    "!!! info \"At a glance\"\n",
    "    **Useful for:** Looking at how many missing values are present in a dataset.\n",
    "\n",
    "    **API Documentation:** [missingness_chart()](../linker.md#splink.linker.Linker.missingness_chart)\n",
    "\n",
    "    **What is needed to generate the chart?:** A `linker` with some data."
   ]
  },
  {
   "attachments": {},
   "cell_type": "markdown",
   "metadata": {},
   "source": [
    "## Worked Example\n",
    "\n"
   ]
  },
  {
   "cell_type": "code",
   "execution_count": 2,
   "metadata": {},
   "source": [
    "from splink.datasets import splink_datasets\n",
    "from splink.duckdb.linker import DuckDBLinker\n",
    "\n",
    "df = splink_datasets.historical_50k\n",
    "linker = DuckDBLinker(df)\n",
    "linker.missingness_chart()"
   ],
   "outputs": []
  },
  {
   "attachments": {},
   "cell_type": "markdown",
   "metadata": {},
   "source": [
    "### What the chart shows\n",
    "\n",
    "The `missingness_chart` show the proportion of missing values in the columns of a dataset.\n",
    "\n",
    "??? note \"What the chart tooltip shows\"\n",
    "\n",
    "    ![](./img/missingness_chart_tooltip.png)\n",
    "\n",
    "    The tooltip shows a number of statistics based on the bar that the user is hovering over, including:\n",
    "\n",
    "    - The column name.\n",
    "    - The count and percentage of null values in the column.\n",
    "    - The total number of rows in the column (including null values)."
   ]
  },
  {
   "attachments": {},
   "cell_type": "markdown",
   "metadata": {},
   "source": [
    "<hr>"
   ]
  },
  {
   "attachments": {},
   "cell_type": "markdown",
   "metadata": {},
   "source": [
    "### How to interpret the chart\n",
    "\n",
    "Each bar of the chart is the percentage of missing values in the columns of the selected dataset.\n"
   ]
  },
  {
   "attachments": {},
   "cell_type": "markdown",
   "metadata": {},
   "source": [
    "<hr>"
   ]
  },
  {
   "attachments": {},
   "cell_type": "markdown",
   "metadata": {},
   "source": [
    "### Actions to take as a result of the chart\n",
    "\n",
    "In general, columns with high missingness will not have significant impact on the final model results. This is because there will be so many cases where at least one of the records in any pairwise comparison has a missing value that few will actually get scored by the model. If it is a particularly strong identifier (e.g. National Insurance Number, Social Security Number) it can still be worth including a column with high missingness in your model.\n",
    "\n",
    "In cases with particularly high missingness there is a risk that there will not be sufficient pairwise examples to train the Splink model. In this case, it is generally advised to  remove the column from the model comparisons."
   ]
  }
 ],
 "metadata": {
  "kernelspec": {
   "display_name": "base",
   "language": "python",
   "name": "python3"
  },
  "language_info": {
   "codemirror_mode": {
    "name": "ipython",
    "version": 3
   },
   "file_extension": ".py",
   "mimetype": "text/x-python",
   "name": "python",
   "nbconvert_exporter": "python",
   "pygments_lexer": "ipython3",
   "version": "3.9.12"
  },
  "orig_nbformat": 4
 },
 "nbformat": 4,
 "nbformat_minor": 2
}
