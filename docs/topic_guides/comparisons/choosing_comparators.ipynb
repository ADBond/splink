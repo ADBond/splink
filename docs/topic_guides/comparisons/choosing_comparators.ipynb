{
 "cells": [
  {
   "attachments": {},
   "cell_type": "markdown",
   "metadata": {},
   "source": [
    "# Choosing String Comparators\n",
    "\n",
    "When building a Splink model, one of the most important aspects is defining the [`Comparisons`](../../comparison.md) and [`Comparison Levels`](../../comparison_level.md) that the model will train on. Each `Comparison Level` within a `Comparison` should contain a different amount of evidence that two records are a match, which the model can assign a Match Weight to. When considering different amounts of evidence for the model, it is helpful to explore fuzzy matching as a way of distinguishing strings that are similar, but not the same, as one another.\n",
    "\n",
    "This guide is intended to show how Splink's string comparators perform in different situations in order to help choosing the most appropriate comparator for a given column as well as the most appropriate threshold (or thresholds).\n",
    "For descriptions and examples of each string comparators available in Splink, see the dedicated [topic guide](./comparators.md)."
   ]
  },
  {
   "attachments": {},
   "cell_type": "markdown",
   "metadata": {},
   "source": [
    "## What options are available when comparing strings?\n",
    "\n",
    "There are three main classes of string comparator that are considered within Splink:\n",
    "\n",
    "1. **String Similarity Scores**  \n",
    "2. **String Distance Scores**  \n",
    "3. **Phonetic Matching**  \n",
    "\n",
    "where  \n",
    "\n",
    "**String Similarity Scores** are scores between 0 and 1 indicating how similar two strings are. 0 represents two completely dissimilar strings and 1 represents identical strings. E.g. [Jaro-Winkler Similarity](comparators.md#jaro-winkler-similarity).  \n",
    "\n",
    "**String Distance Scores** are integer distances, counting the number of operations to convert one string into another. A lower string distance indicates more similar strings. E.g. [Levenshtein Distance](comparators.md#levenshtein-distance).  \n",
    "\n",
    "**Phonetic Matching** is whether two strings are phonetically similar. The two strings are passed through a [phonetic transformation algorithm](phonetic.md) and then the resulting phonetic codes are matched. E.g. [Double Metaphone](phonetic.md#double-metaphone)."
   ]
  },
  {
   "attachments": {},
   "cell_type": "markdown",
   "metadata": {},
   "source": [
    "## Comparing String Similarity and Distance Scores\n",
    "\n",
    "Splink contains a `comparison_helpers` module which includes some helper functions for comparing the string similarity and distance scores that can help when choosing the most appropriate fuzzy matching function.\n",
    "\n",
    "For comparing two strings the `comparator_score` function returns the scores for all of the available comparators. E.g. consider a simple inversion \"Richard\" vs \"iRchard\":"
   ]
  },
  {
   "cell_type": "code",
   "execution_count": 1,
   "metadata": {},
   "source": [
    "import splink.comparison_helpers as ch\n",
    "\n",
    "ch.comparator_score(\"Richard\", \"iRchard\")"
   ],
   "outputs": []
  },
  {
   "attachments": {},
   "cell_type": "markdown",
   "metadata": {},
   "source": [
    "Now consider a collection of common variations of the name \"Richard\" - which comparators will consider these variations as sufficiently similar to \"Richard\"?"
   ]
  },
  {
   "cell_type": "code",
   "execution_count": 2,
   "metadata": {},
   "source": [
    "import pandas as pd\n",
    "\n",
    "data = {\n",
    "    \"string1\": [\n",
    "        \"Richard\",\n",
    "        \"Richard\",\n",
    "        \"Richard\",\n",
    "        \"Richard\",\n",
    "        \"Richard\",\n",
    "        \"Richard\",\n",
    "        \"Richard\",\n",
    "        \"Richard\",\n",
    "        \"Richard\",\n",
    "        \"Richard\",\n",
    "        \"Richard\",\n",
    "        \"Richard\",\n",
    "    ],\n",
    "    \"string2\": [\n",
    "        \"Richard\",\n",
    "        \"ichard\",\n",
    "        \"Richar\",\n",
    "        \"iRchard\",\n",
    "        \"Richadr\",\n",
    "        \"Rich\",\n",
    "        \"Rick\",\n",
    "        \"Ricky\",\n",
    "        \"Dick\",\n",
    "        \"Rico\",\n",
    "        \"Rachael\",\n",
    "        \"Stephen\",\n",
    "    ],\n",
    "    \"error_type\": [\n",
    "        \"None\",\n",
    "        \"Deletion\",\n",
    "        \"Deletion\",\n",
    "        \"Transposition\",\n",
    "        \"Transposition\",\n",
    "        \"Shortening\",\n",
    "        \"Nickname/Alias\",\n",
    "        \"Nickname/Alias\",\n",
    "        \"Nickname/Alias\",\n",
    "        \"Nickname/Alias\",\n",
    "        \"Different Name\",\n",
    "        \"Different Name\",\n",
    "    ],\n",
    "}\n",
    "df = pd.DataFrame(data)\n",
    "df"
   ],
   "outputs": []
  },
  {
   "attachments": {},
   "cell_type": "markdown",
   "metadata": {},
   "source": [
    "The `comparator_score_chart` function allows you to compare two lists of strings and how similar the elements are according to the available string similarity and distance metrics."
   ]
  },
  {
   "cell_type": "code",
   "execution_count": 3,
   "metadata": {},
   "source": [
    "ch.comparator_score_chart(data, \"string1\", \"string2\")"
   ],
   "outputs": []
  },
  {
   "attachments": {},
   "cell_type": "markdown",
   "metadata": {},
   "source": [
    "Here we can see that all of the metrics are fairly sensitive to transcriptions errors (\"Richadr\", \"Richar\", \"iRchard\"). However, considering nicknames/aliases (\"Rick\", \"Ricky\", \"Rico\"), simple metrics such as Jaccard, Levenshtein and Damerau-Levenshtein tend to be less useful. The same can be said for name shortenings (\"Rich\"), but to a lesser extent than more complex nicknames. However, even more subtle metrics like Jaro and Jaro-Winkler still struggle to identify less obvious nicknames/aliases such as \"Dick\". "
   ]
  },
  {
   "attachments": {},
   "cell_type": "markdown",
   "metadata": {},
   "source": [
    "If you would prefer the underlying dataframe instead of the chart, there is the `comparator_score_df` function."
   ]
  },
  {
   "cell_type": "code",
   "execution_count": 4,
   "metadata": {},
   "source": [
    "ch.comparator_score_df(data, \"string1\", \"string2\")"
   ],
   "outputs": []
  },
  {
   "attachments": {},
   "cell_type": "markdown",
   "metadata": {},
   "source": [
    "### Choosing thresholds\n",
    "\n",
    "We can add distance and similarity thresholds to the comparators to see what strings would be included in a given comparison level:"
   ]
  },
  {
   "cell_type": "code",
   "execution_count": 5,
   "metadata": {},
   "source": [
    "ch.comparator_score_threshold_chart(\n",
    "    data, \"string1\", \"string2\", distance_threshold=2, similarity_threshold=0.8\n",
    ")"
   ],
   "outputs": []
  },
  {
   "attachments": {},
   "cell_type": "markdown",
   "metadata": {},
   "source": [
    "To class our variations on \"Richard\" in the same `Comparison Level`, a good choice of metric could be Jaro-Winkler with a threshold of 0.8. Lowering the threshold any more could increase the chances for false positives. \n",
    "\n",
    "For example, consider a single Jaro-Winkler `Comparison Level` threshold of 0.7 would lead to \"Rachael\" being considered as providing the same amount evidence for a record matching as \"iRchard\".\n",
    "\n",
    "An alternative way around this is to construct a `Comparison` with multiple levels, each corresponding to a different threshold of Jaro-Winkler similarity. For example, below we construct a `Comparison` using the `Comparison Library` function [jaro_winkler_at_thresholds](../../comparison_library.md#JaroWinklerAtThresholdsBase) with multiple levels for different match thresholds.:"
   ]
  },
  {
   "cell_type": "code",
   "execution_count": 6,
   "metadata": {},
   "source": [
    "import splink.duckdb.comparison_library as cl\n",
    "\n",
    "first_name_comparison = cl.jaro_winkler_at_thresholds(\"first_name\", [0.9, 0.8, 0.7])"
   ],
   "outputs": []
  },
  {
   "attachments": {},
   "cell_type": "markdown",
   "metadata": {},
   "source": [
    "If we print this comparison as a dictionary we can see the underlying SQL."
   ]
  },
  {
   "cell_type": "code",
   "execution_count": 7,
   "metadata": {},
   "source": [
    "first_name_comparison.as_dict()"
   ],
   "outputs": []
  },
  {
   "attachments": {},
   "cell_type": "markdown",
   "metadata": {},
   "source": [
    "Where:  \n",
    "\n",
    "* Exact Match level will catch perfect matches (\"Richard\").  \n",
    "* The 0.9 threshold will catch Shortenings and Typos (\"ichard\", \"Richar\", \"iRchard\", \"Richadr\",  \"Rich\").  \n",
    "* The 0.8 threshold will catch simple Nicknames/Aliases (\"Rick\", \"Rico\").  \n",
    "* The 0.7 threshold will catch more complex Nicknames/Aliases (\"Ricky\"), but will also include less relevant names (e.g. \"Rachael\"). However, this should not be a concern as the model should give less predictive power (i.e. Match Weight) to this level of evidence.  \n",
    "* All other comparisons will end up in the \"Else\" level  "
   ]
  },
  {
   "attachments": {},
   "cell_type": "markdown",
   "metadata": {},
   "source": [
    "## Phonetic Matching \n",
    "\n",
    "There are similar functions available within splink to help users get familiar with phonetic transformations. You can create similar visualisations to string comparators.\n",
    "\n",
    "To see the phonetic transformations for a single string, there is the `phonetic_transform` function:"
   ]
  },
  {
   "cell_type": "code",
   "execution_count": 8,
   "metadata": {},
   "source": [
    "import splink.comparison_helpers\n",
    "\n",
    "ch.phonetic_transform(\"Richard\")"
   ],
   "outputs": []
  },
  {
   "cell_type": "code",
   "execution_count": 9,
   "metadata": {},
   "source": [
    "ch.phonetic_transform(\"Steven\")"
   ],
   "outputs": []
  },
  {
   "attachments": {},
   "cell_type": "markdown",
   "metadata": {},
   "source": [
    "Now consider a collection of common variations of the name \"Stephen\". Which phonetic transforms will consider these as sufficiently similar to \"Stephen\"?"
   ]
  },
  {
   "cell_type": "code",
   "execution_count": 10,
   "metadata": {},
   "source": [
    "data = {\n",
    "    \"string1\": [\n",
    "        \"Stephen\",\n",
    "        \"Stephen\",\n",
    "        \"Stephen\",\n",
    "        \"Stephen\",\n",
    "        \"Stephen\",\n",
    "        \"Stephen\",\n",
    "        \"Stephen\",\n",
    "        \"Stephen\",\n",
    "        \"Stephen\",\n",
    "        \"Stephen\",\n",
    "        \"Stephen\",\n",
    "    ],\n",
    "    \"string2\": [\n",
    "        \"Stephen\",\n",
    "        \"Steven\",\n",
    "        \"Stephan\",\n",
    "        \"Steve\",\n",
    "        \"Stehpen\",\n",
    "        \"tSephen\",\n",
    "        \"Stephne\",\n",
    "        \"Stphen\",\n",
    "        \"Stepheb\",\n",
    "        \"Stephanie\",\n",
    "        \"Richard\",\n",
    "    ],\n",
    "    \"error_type\": [\n",
    "        \"None\",\n",
    "        \"Spelling Variation\",\n",
    "        \"Spelling Variation/Similar Name\",\n",
    "        \"Nickname/Alias\",\n",
    "        \"Transposition\",\n",
    "        \"Transposition\",\n",
    "        \"Transposition\",\n",
    "        \"Deletion\",\n",
    "        \"Replacement\",\n",
    "        \"Different Name\",\n",
    "        \"Different Name\",\n",
    "    ],\n",
    "}\n",
    "\n",
    "df = pd.DataFrame(data)\n",
    "df"
   ],
   "outputs": []
  },
  {
   "attachments": {},
   "cell_type": "markdown",
   "metadata": {},
   "source": [
    "The `phonetic_match_chart` function allows you to compare two lists of strings and how similar the elements are according to the available string similarity and distance metrics."
   ]
  },
  {
   "cell_type": "code",
   "execution_count": 11,
   "metadata": {},
   "source": [
    "ch.phonetic_match_chart(data, \"string1\", \"string2\")"
   ],
   "outputs": []
  },
  {
   "attachments": {},
   "cell_type": "markdown",
   "metadata": {},
   "source": [
    "Here we can see that all of the algorithms recognise simple phonetically similar names (\"Stephen\", \"Steven\"). However, there is some variation when it comes to transposition errors (\"Stehpen\", \"Stephne\") with soundex and metaphone-esque giving different results. There is also different behaviour considering different names (\"Stephanie\").\n",
    "\n",
    "Given there is no clear winner that captures all of the similar names, it is recommended that phonetic matches are used as a single `Comparison Level` within in a `Comparison` which also includes [string comparators](#comparators) in the other levels. To see an example of this, see the [Combining String scores and Phonetic matching](#combining-string-scores-and-phonetic-matching) section of this topic guide."
   ]
  },
  {
   "attachments": {},
   "cell_type": "markdown",
   "metadata": {},
   "source": [
    "If you would prefer the underlying dataframe instead of the chart, there is the `phonetic_transform_df` function."
   ]
  },
  {
   "cell_type": "code",
   "execution_count": 12,
   "metadata": {},
   "source": [
    "ch.phonetic_transform_df(data, \"string1\", \"string2\")"
   ],
   "outputs": []
  },
  {
   "attachments": {},
   "cell_type": "markdown",
   "metadata": {},
   "source": [
    "## Combining String scores and Phonetic matching\n",
    "\n",
    "Once you have considered all of the string comparators and phonetic transforms for a given column, you may decide that you would like to have multiple comparison levels including a combination of options.\n",
    "\n",
    "For this you can construct a custom comparison to catch all of the edge cases you want. For example, if you decide that the comparison for `first_name` in the model should consider:\n",
    "\n",
    "1. A `Dmetaphone` level for phonetic similarity\n",
    "2. A `Levenshtein` level with distance of 2 for typos\n",
    "3. A `Jaro-Winkler` level with similarity 0.8 for fuzzy matching\n",
    "\n",
    "The [name_comparison](../../comparison_template_library.md#NameComparisonBase) function from the `Comparison Template Library` can be configured as follows:"
   ]
  },
  {
   "cell_type": "code",
   "execution_count": 13,
   "metadata": {},
   "source": [
    "import splink.duckdb.comparison_template_library as ctl\n",
    "\n",
    "first_name_comparison = ctl.name_comparison(\n",
    "    \"first_name\",\n",
    "    phonetic_col_name=\"first_name_dm\",\n",
    "    damerau_levenshtein_thresholds=[],\n",
    "    levenshtein_thresholds=[2],\n",
    "    jaro_winkler_thresholds=[0.8],\n",
    ")\n",
    "\n",
    "first_name_comparison.as_dict()"
   ],
   "outputs": []
  },
  {
   "attachments": {},
   "cell_type": "markdown",
   "metadata": {},
   "source": [
    "where `first_name_dm` refers to a column in the dataset which has been created during the [feature engineering](../data_preparation/feature_engineering.md#phonetic-transformations) step to give the `Dmetaphone` transform of `first_name`."
   ]
  }
 ],
 "metadata": {
  "kernelspec": {
   "display_name": "base",
   "language": "python",
   "name": "python3"
  },
  "language_info": {
   "codemirror_mode": {
    "name": "ipython",
    "version": 3
   },
   "file_extension": ".py",
   "mimetype": "text/x-python",
   "name": "python",
   "nbconvert_exporter": "python",
   "pygments_lexer": "ipython3",
   "version": "3.9.12"
  },
  "orig_nbformat": 4
 },
 "nbformat": 4,
 "nbformat_minor": 2
}
