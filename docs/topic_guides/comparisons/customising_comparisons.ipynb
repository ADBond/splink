{
 "cells": [
  {
   "attachments": {},
   "cell_type": "markdown",
   "metadata": {},
   "source": [
    "# Defining and customising how record comparisons are made\n",
    "\n",
    "A key feature of Splink is the ability to customise how record comparisons are made - that is, how similarity is defined for different data types.  For example, the definition of similarity that is appropriate for a date of birth field is different than for a first name field.\n",
    "\n",
    "By tailoring the definitions of similarity, linking models are more effectively able to distinguish between different gradations of similarity, leading to more accurate data linking models.\n",
    "\n",
    "For more detail, see [the article on Comparison and ComparisonLevels](./comparisons_and_comparison_levels.html)\n",
    "\n",
    "\n",
    "## `Comparisons`, `ComparisonTemplates` and `ComparisonLevels`\n",
    "\n",
    "A Splink model contains a collection of `Comparisons` and `ComparisonLevels` organised in a hierarchy.  An example is as follows:\n",
    "\n",
    "```\n",
    "Data Linking Model\n",
    "├─-- Comparison: Date of birth\n",
    "│    ├─-- ComparisonLevel: Exact match\n",
    "│    ├─-- ComparisonLevel: Up to one character difference\n",
    "│    ├─-- ComparisonLevel: Up to three character difference\n",
    "│    ├─-- ComparisonLevel: All other\n",
    "├─-- Comparison: Name\n",
    "│    ├─-- ComparisonLevel: Exact match on first name and surname\n",
    "│    ├─-- ComparisonLevel: Exact match on first name\n",
    "│    ├─-- etc.\n",
    "```\n",
    "\n",
    "A fuller description of `Comparison`s and `ComparisonLevel`s can be found [here](https://moj-analytical-services.github.io/splink/comparisons_and_comparison_levels.html).\n",
    "\n",
    "\n",
    "How are these comparisons specified?\n",
    "\n"
   ]
  },
  {
   "attachments": {},
   "cell_type": "markdown",
   "metadata": {},
   "source": [
    "### Three ways of specifying Comparisons\n",
    "\n",
    "In Splink, there are three ways of specifying `Comparisons`:\n",
    "\n",
    "- Using pre-baked comparisons from a backend's `ComparisonLibrary` or `ComparisonTemplateLibrary`.   (Most simple/succinct)\n",
    "- Composing pre-defined `ComparisonLevels` from a backend's `ComparisonLevelLibrary`\n",
    "- Writing a full spec of a `Comparison` by hand (most verbose/flexible)"
   ]
  },
  {
   "attachments": {},
   "cell_type": "markdown",
   "metadata": {},
   "source": [
    "<hr>"
   ]
  },
  {
   "attachments": {},
   "cell_type": "markdown",
   "metadata": {},
   "source": [
    "## Method 1: Using the `ComparisonLibrary` or `ComparisonTemplateLibrary`\n",
    "\n",
    "The `ComparisonLibrary` and `ComparisonTemplateLibrary` contains pre-baked similarity functions that cover many common use cases.\n",
    "\n",
    "These functions generate an entire `Comparison`, composed of several `ComparisonLevels`\n",
    "\n",
    "The following provides an example of using the `ExactMatch` `Comparison`, and producing the description (with associated SQL) for the `duckdb` backend:"
   ]
  },
  {
   "cell_type": "code",
   "execution_count": 8,
   "metadata": {},
   "outputs": [
    {
     "name": "stdout",
     "output_type": "stream",
     "text": [
      "Comparison 'Exact match 'first_name' vs. anything else' of \"first_name\".\n",
      "Similarity is assessed using the following ComparisonLevels:\n",
      "    - 'first_name is NULL' with SQL rule: \"first_name_l\" IS NULL OR \"first_name_r\" IS NULL\n",
      "    - 'Exact match on first_name' with SQL rule: \"first_name_l\" = \"first_name_r\"\n",
      "    - 'All other comparisons' with SQL rule: ELSE\n",
      "\n"
     ]
    }
   ],
   "source": [
    "import splink.comparison_library as cl\n",
    "\n",
    "first_name_comparison = cl.ExactMatch(\"first_name\")\n",
    "print(first_name_comparison.get_comparison(\"duckdb\").human_readable_description)"
   ]
  },
  {
   "attachments": {},
   "cell_type": "markdown",
   "metadata": {},
   "source": [
    "Note that, under the hood, these functions generate a Python dictionary, which conforms to the underlying `.json` specification of a model:"
   ]
  },
  {
   "cell_type": "code",
   "execution_count": 21,
   "metadata": {},
   "outputs": [
    {
     "data": {
      "text/plain": [
       "{'output_column_name': 'first_name',\n",
       " 'comparison_levels': [{'sql_condition': '\"first_name_l\" IS NULL OR \"first_name_r\" IS NULL',\n",
       "   'label_for_charts': 'first_name is NULL',\n",
       "   'is_null_level': True},\n",
       "  {'sql_condition': '\"first_name_l\" = \"first_name_r\"',\n",
       "   'label_for_charts': 'Exact match on first_name'},\n",
       "  {'sql_condition': 'ELSE', 'label_for_charts': 'All other comparisons'}],\n",
       " 'comparison_description': \"Exact match 'first_name' vs. anything else\"}"
      ]
     },
     "execution_count": 21,
     "metadata": {},
     "output_type": "execute_result"
    }
   ],
   "source": [
    "first_name_comparison.get_comparison(\"duckdb\").as_dict()"
   ]
  },
  {
   "attachments": {},
   "cell_type": "markdown",
   "metadata": {},
   "source": [
    "We can now generate a second, more complex comparison:"
   ]
  },
  {
   "cell_type": "code",
   "execution_count": 22,
   "metadata": {},
   "outputs": [
    {
     "name": "stdout",
     "output_type": "stream",
     "text": [
      "Comparison 'Exact match 'dob' vs. Levenshtein distance at thresholds 1, 2 vs. anything else' of \"dob\".\n",
      "Similarity is assessed using the following ComparisonLevels:\n",
      "    - 'dob is NULL' with SQL rule: \"dob_l\" IS NULL OR \"dob_r\" IS NULL\n",
      "    - 'Exact match on dob' with SQL rule: \"dob_l\" = \"dob_r\"\n",
      "    - 'Levenshtein distance of dob <= 1' with SQL rule: levenshtein(\"dob_l\", \"dob_r\") <= 1\n",
      "    - 'Levenshtein distance of dob <= 2' with SQL rule: levenshtein(\"dob_l\", \"dob_r\") <= 2\n",
      "    - 'All other comparisons' with SQL rule: ELSE\n",
      "\n"
     ]
    }
   ],
   "source": [
    "dob_comparison = cl.LevenshteinAtThresholds(\"dob\", [1, 2])\n",
    "print(dob_comparison.get_comparison(\"duckdb\").human_readable_description)"
   ]
  },
  {
   "attachments": {},
   "cell_type": "markdown",
   "metadata": {},
   "source": [
    "These `Comparisons` can be specified in a data linking model as follows:"
   ]
  },
  {
   "cell_type": "code",
   "execution_count": 14,
   "metadata": {},
   "outputs": [],
   "source": [
    "from splink import SettingsCreator, block_on\n",
    "\n",
    "settings = SettingsCreator(\n",
    "    link_type=\"dedupe_only\",\n",
    "    blocking_rules_to_generate_predictions=[\n",
    "        block_on(\"first_name\"),\n",
    "        block_on(\"surname\"),\n",
    "    ],\n",
    "    comparison_columns=[\n",
    "        cl.ExactMatch(\"first_name\"),\n",
    "        cl.LevenshteinAtThresholds(\"dob\", [1, 2]),\n",
    "    ],\n",
    ")"
   ]
  },
  {
   "cell_type": "markdown",
   "metadata": {},
   "source": [
    "You can find a listing of all available `Comparison`s in the `ComparisonLibrary` [here](../../api_docs/comparison_template_library.html)"
   ]
  },
  {
   "cell_type": "markdown",
   "metadata": {},
   "source": [
    "The `ComparisonTemplateLibrary` is very similar to the `ComparisonLibrary`, except that it contains out-of-the box functions appropriate for certain specific column types, such as names, email addresses and so on."
   ]
  },
  {
   "cell_type": "code",
   "execution_count": 26,
   "metadata": {},
   "outputs": [
    {
     "name": "stdout",
     "output_type": "stream",
     "text": [
      "Comparison 'jaro_winkler on username at threshold 0.88 vs. anything else' of \"email_address\".\n",
      "Similarity is assessed using the following ComparisonLevels:\n",
      "    - 'email_address is NULL' with SQL rule: \"email_address_l\" IS NULL OR \"email_address_r\" IS NULL\n",
      "    - 'Exact match on email_address' with SQL rule: \"email_address_l\" = \"email_address_r\"\n",
      "    - 'Exact match on transformed email_address' with SQL rule: NULLIF(regexp_extract(\"email_address_l\", '^[^@]+', 0), '') = NULLIF(regexp_extract(\"email_address_r\", '^[^@]+', 0), '')\n",
      "    - 'Jaro-Winkler distance of email_address >= 0.88' with SQL rule: jaro_winkler_similarity(\"email_address_l\", \"email_address_r\") >= 0.88\n",
      "    - 'Jaro-Winkler distance of transformed email_address >= 0.88' with SQL rule: jaro_winkler_similarity(NULLIF(regexp_extract(\"email_address_l\", '^[^@]+', 0), ''), NULLIF(regexp_extract(\"email_address_r\", '^[^@]+', 0), '')) >= 0.88\n",
      "    - 'All other comparisons' with SQL rule: ELSE\n",
      "\n"
     ]
    }
   ],
   "source": [
    "from splink import comparison_template_library as ctl\n",
    "\n",
    "print(\n",
    "    ctl.EmailComparison(\"email_address\")\n",
    "    .get_comparison(\"duckdb\")\n",
    "    .human_readable_description\n",
    ")"
   ]
  },
  {
   "cell_type": "markdown",
   "metadata": {
    "tags": [
     "Remove_cell"
    ]
   },
   "source": [
    "You can find a listing of all available `ComparisonTemplates` in the `ComparisonTemplateLibrary` [here](../../api_docs/comparison_template_library.html)\n",
    "\n",
    "For a deep dive on Comparison Templates, see the dedicated [topic guide](./comparison_templates.ipynb).\n",
    "\n"
   ]
  },
  {
   "attachments": {},
   "cell_type": "markdown",
   "metadata": {},
   "source": [
    "## Method 2: `ComparisonLevels`\n",
    "\n",
    "The `ComparisonLevels` API provides a lower-level API that allows you to compose your own comparisons.\n",
    "\n",
    "For example, the user may wish to specify a comparison that has levels for a match on dmetaphone and jaro_winkler of the `first_name` field.  \n",
    "\n",
    "The below example assumes the user has derived a column `dmeta_first_name` which contains the dmetaphone of the first name."
   ]
  },
  {
   "cell_type": "code",
   "execution_count": 3,
   "metadata": {},
   "outputs": [
    {
     "name": "stdout",
     "output_type": "stream",
     "text": [
      "Comparison 'First name jaro dmeta' of \"first_name\" and \"dmeta_first_name\".\n",
      "Similarity is assessed using the following ComparisonLevels:\n",
      "    - 'first_name is NULL' with SQL rule: \"first_name_l\" IS NULL OR \"first_name_r\" IS NULL\n",
      "    - 'Exact match on first_name' with SQL rule: \"first_name_l\" = \"first_name_r\"\n",
      "    - 'Exact match on dmeta_first_name' with SQL rule: \"dmeta_first_name_l\" = \"dmeta_first_name_r\"\n",
      "    - 'All other comparisons' with SQL rule: ELSE\n",
      "\n"
     ]
    }
   ],
   "source": [
    "from splink.comparison_library import CustomComparison\n",
    "import splink.comparison_level_library as cll\n",
    "\n",
    "custom_name_comparison = CustomComparison(\n",
    "    output_column_name=\"first_name\",\n",
    "    comparison_description=\"First name jaro dmeta\",\n",
    "    comparison_levels=[\n",
    "        cll.NullLevel(\"first_name\"),\n",
    "        cll.ExactMatchLevel(\"first_name\").configure(tf_adjustment_column=\"first_name\"),\n",
    "        cll.ExactMatchLevel(\"dmeta_first_name\").configure(\n",
    "            tf_adjustment_column=\"dmeta_first_name\"\n",
    "        ),\n",
    "        cll.ElseLevel(),\n",
    "    ],\n",
    ")\n",
    "\n",
    "print(custom_name_comparison.get_comparison(\"duckdb\").human_readable_description)"
   ]
  },
  {
   "attachments": {},
   "cell_type": "markdown",
   "metadata": {},
   "source": [
    "This can now be specified in the settings dictionary as follows:"
   ]
  },
  {
   "cell_type": "code",
   "execution_count": 18,
   "metadata": {},
   "outputs": [],
   "source": [
    "settings = SettingsCreator(\n",
    "    link_type=\"dedupe_only\",\n",
    "    blocking_rules_to_generate_predictions=[\n",
    "        block_on(\"first_name\"),\n",
    "        block_on(\"surname\"),\n",
    "    ],\n",
    "    comparisons=[\n",
    "        custom_name_comparison,\n",
    "        cl.LevenshteinAtThresholds(\"dob\", [1, 2]),\n",
    "    ],\n",
    ")"
   ]
  },
  {
   "cell_type": "markdown",
   "metadata": {},
   "source": [
    "To inspect the custom comparison as a dictionary, you can call `custom_name_comparison.get_comparison(\"duckdb\").as_dict()`"
   ]
  },
  {
   "attachments": {},
   "cell_type": "markdown",
   "metadata": {},
   "source": [
    "<hr>"
   ]
  },
  {
   "attachments": {},
   "cell_type": "markdown",
   "metadata": {},
   "source": [
    "## Method 3: Providing the spec as a dictionary\n",
    "\n",
    "Behind the scenes in Splink, all `Comparisons` are eventually turned into a dictionary which conforms to [the formal `jsonschema` specification of the settings dictionary](https://github.com/moj-analytical-services/splink/blob/master/splink/files/settings_jsonschema.json) and [here](https://moj-analytical-services.github.io/splink/).\n",
    "\n",
    "The library functions described above are convenience functions that provide a shorthand way to produce valid dictionaries.\n",
    "\n",
    "For maximum control over your settings, you can specify your comparisons as a dictionary."
   ]
  },
  {
   "cell_type": "code",
   "execution_count": 19,
   "metadata": {},
   "outputs": [],
   "source": [
    "comparison_first_name = {\n",
    "    \"output_column_name\": \"first_name\",\n",
    "    \"comparison_description\": \"First name jaro dmeta\",\n",
    "    \"comparison_levels\": [\n",
    "        {\n",
    "            \"sql_condition\": \"first_name_l IS NULL OR first_name_r IS NULL\",\n",
    "            \"label_for_charts\": \"Null\",\n",
    "            \"is_null_level\": True,\n",
    "        },\n",
    "        {\n",
    "            \"sql_condition\": \"first_name_l = first_name_r\",\n",
    "            \"label_for_charts\": \"Exact match\",\n",
    "            \"tf_adjustment_column\": \"first_name\",\n",
    "            \"tf_adjustment_weight\": 1.0,\n",
    "            \"tf_minimum_u_value\": 0.001,\n",
    "        },\n",
    "        {\n",
    "            \"sql_condition\": \"dmeta_first_name_l = dmeta_first_name_r\",\n",
    "            \"label_for_charts\": \"Exact match\",\n",
    "            \"tf_adjustment_column\": \"dmeta_first_name\",\n",
    "            \"tf_adjustment_weight\": 1.0,\n",
    "        },\n",
    "        {\n",
    "            \"sql_condition\": \"jaro_winkler_sim(first_name_l, first_name_r) > 0.8\",\n",
    "            \"label_for_charts\": \"Exact match\",\n",
    "            \"tf_adjustment_column\": \"first_name\",\n",
    "            \"tf_adjustment_weight\": 0.5,\n",
    "            \"tf_minimum_u_value\": 0.001,\n",
    "        },\n",
    "        {\"sql_condition\": \"ELSE\", \"label_for_charts\": \"All other comparisons\"},\n",
    "    ],\n",
    "}\n",
    "\n",
    "SettingsCreator(\n",
    "    link_type=\"dedupe_only\",\n",
    "    blocking_rules_to_generate_predictions=[\n",
    "        block_on(\"first_name\"),\n",
    "        block_on(\"surname\"),\n",
    "    ],\n",
    "    comparisons=[\n",
    "        comparison_first_name,\n",
    "        cl.LevenshteinAtThresholds(\"dob\", [1, 2]),\n",
    "    ],\n",
    ")\n"
   ]
  },
  {
   "attachments": {},
   "cell_type": "markdown",
   "metadata": {},
   "source": [
    "<hr>"
   ]
  },
  {
   "attachments": {},
   "cell_type": "markdown",
   "metadata": {},
   "source": [
    "## Examples\n",
    "\n",
    "Below are some examples of how you can define the same comparison, but through different methods."
   ]
  },
  {
   "attachments": {},
   "cell_type": "markdown",
   "metadata": {},
   "source": [
    "\n",
    "### Exact match Comparison with Term-Frequency Adjustments\n",
    "\n",
    "???+ example \n",
    "\n",
    "    ===+ \"Comparison Library\"\n",
    "\n",
    "        ```py\n",
    "        import splink.comparison_library as cl\n",
    "\n",
    "        first_name_comparison = cl.ExactMatch(\"first_name\").configure(\n",
    "            term_frequency_adjustments=True\n",
    "        )\n",
    "        ```\n",
    "\n",
    "    === \"Comparison Level Library\"\n",
    "\n",
    "        ```py\n",
    "        import splink.duckdb.comparison_level_library as cll\n",
    "\n",
    "        first_name_comparison = cl.CustomComparison(\n",
    "            output_column_name=\"first_name\",\n",
    "            comparison_description=\"Exact match vs. anything else\",\n",
    "            comparison_levels=[\n",
    "                cll.NullLevel(\"first_name\"),\n",
    "                cll.ExactMatchLevel(\"first_name\").configure(tf_adjustment_column=\"first_name\"),\n",
    "                cll.ElseLevel(),\n",
    "            ],\n",
    "        )\n",
    "        ```\n",
    "        \n",
    "    === \"Settings Dictionary\"\n",
    "\n",
    "        ```py\n",
    "        first_name_comparison = {\n",
    "            'output_column_name': 'first_name',\n",
    "            'comparison_levels': [\n",
    "                {\n",
    "                    'sql_condition': '\"first_name_l\" IS NULL OR \"first_name_r\" IS NULL',\n",
    "                    'label_for_charts': 'Null',\n",
    "                    'is_null_level': True\n",
    "                },\n",
    "                {\n",
    "                    'sql_condition': '\"first_name_l\" = \"first_name_r\"',\n",
    "                    'label_for_charts': 'Exact match',\n",
    "                    'tf_adjustment_column': 'first_name',\n",
    "                    'tf_adjustment_weight': 1.0\n",
    "                },\n",
    "                {\n",
    "                    'sql_condition': 'ELSE', \n",
    "                    'label_for_charts': 'All other comparisons'\n",
    "                }],\n",
    "            'comparison_description': 'Exact match vs. anything else'\n",
    "        }\n",
    "\n",
    "        ```\n",
    "    Each of which gives\n",
    "\n",
    "    ```json\n",
    "    {\n",
    "        'output_column_name': 'first_name',\n",
    "        'comparison_levels': [\n",
    "            {\n",
    "                'sql_condition': '\"first_name_l\" IS NULL OR \"first_name_r\" IS NULL',\n",
    "                'label_for_charts': 'Null',\n",
    "                'is_null_level': True\n",
    "            },\n",
    "            {\n",
    "                'sql_condition': '\"first_name_l\" = \"first_name_r\"',\n",
    "                'label_for_charts': 'Exact match',\n",
    "                'tf_adjustment_column': 'first_name',\n",
    "                'tf_adjustment_weight': 1.0\n",
    "            },\n",
    "            {\n",
    "                'sql_condition': 'ELSE', \n",
    "                'label_for_charts': 'All other comparisons'\n",
    "            }],\n",
    "        'comparison_description': 'Exact match vs. anything else'\n",
    "    }\n",
    "    ```\n",
    "    in your settings dictionary."
   ]
  },
  {
   "attachments": {},
   "cell_type": "markdown",
   "metadata": {},
   "source": [
    "### Levenshtein Comparison\n",
    "\n",
    "??? example\n",
    "\n",
    "    ===+ \"Comparison Library\"\n",
    "\n",
    "        ```py\n",
    "        import splink.comparison_library as cl\n",
    "\n",
    "        email_comparison = cl.LevenshteinAtThresholds(\"email\", [2, 4])\n",
    "        ```\n",
    "\n",
    "    === \"Comparison Level Library\"\n",
    "\n",
    "        ```py\n",
    "        import splink.comparison_library as cl\n",
    "        import splink.comparison_level_library as cll\n",
    "\n",
    "        email_comparison = cl.CustomComparison(\n",
    "            output_column_name=\"email\",\n",
    "            comparison_description=\"Exact match vs. Email within levenshtein thresholds 2, 4 vs. anything else\",\n",
    "            comparison_levels=[\n",
    "                cll.NullLevel(\"email\"),\n",
    "                cll.LevenshteinLevel(\"email\", distance_threshold=2),\n",
    "                cll.LevenshteinLevel(\"email\", distance_threshold=4),\n",
    "                cll.ElseLevel(),\n",
    "            ],\n",
    "        )\n",
    "        ```\n",
    "\n",
    "    === \"Settings Dictionary\"\n",
    "\n",
    "        ```py\n",
    "        email_comparison = {\n",
    "            'output_column_name': 'email',\n",
    "            'comparison_levels': [{'sql_condition': '\"email_l\" IS NULL OR \"email_r\" IS NULL',\n",
    "            'label_for_charts': 'Null',\n",
    "            'is_null_level': True},\n",
    "            {\n",
    "                'sql_condition': '\"email_l\" = \"email_r\"',\n",
    "                'label_for_charts': 'Exact match'\n",
    "            },\n",
    "            {\n",
    "                'sql_condition': 'levenshtein(\"email_l\", \"email_r\") <= 2',\n",
    "                'label_for_charts': 'Levenshtein <= 2'\n",
    "            },\n",
    "            {\n",
    "                'sql_condition': 'levenshtein(\"email_l\", \"email_r\") <= 4',\n",
    "                'label_for_charts': 'Levenshtein <= 4'\n",
    "            },\n",
    "            {\n",
    "                'sql_condition': 'ELSE', \n",
    "                'label_for_charts': 'All other comparisons'\n",
    "            }],\n",
    "            'comparison_description': 'Exact match vs. Email within levenshtein thresholds 2, 4 vs. anything else'}\n",
    "        ```\n",
    "\n",
    "    Each of which gives\n",
    "\n",
    "    ```json\n",
    "    {\n",
    "        'output_column_name': 'email',\n",
    "        'comparison_levels': [\n",
    "            {\n",
    "                'sql_condition': '\"email_l\" IS NULL OR \"email_r\" IS NULL',\n",
    "                'label_for_charts': 'Null',\n",
    "                'is_null_level': True},\n",
    "            {\n",
    "                'sql_condition': '\"email_l\" = \"email_r\"',\n",
    "                'label_for_charts': 'Exact match'\n",
    "            },\n",
    "            {\n",
    "                'sql_condition': 'levenshtein(\"email_l\", \"email_r\") <= 2',\n",
    "                'label_for_charts': 'Levenshtein <= 2'\n",
    "            },\n",
    "            {\n",
    "                'sql_condition': 'levenshtein(\"email_l\", \"email_r\") <= 4',\n",
    "                'label_for_charts': 'Levenshtein <= 4'\n",
    "            },\n",
    "            {\n",
    "                'sql_condition': 'ELSE', \n",
    "                'label_for_charts': 'All other comparisons'\n",
    "            }],\n",
    "        'comparison_description': 'Exact match vs. Email within levenshtein thresholds 2, 4 vs. anything else'\n",
    "    }\n",
    "    ```\n",
    "\n",
    "    in your settings dictionary."
   ]
  }
 ],
 "metadata": {
  "kernelspec": {
   "display_name": "Python 3.9.2 ('splink-venv': venv)",
   "language": "python",
   "name": "python3"
  },
  "language_info": {
   "codemirror_mode": {
    "name": "ipython",
    "version": 3
   },
   "file_extension": ".py",
   "mimetype": "text/x-python",
   "name": "python",
   "nbconvert_exporter": "python",
   "pygments_lexer": "ipython3",
   "version": "3.10.8"
  },
  "vscode": {
   "interpreter": {
    "hash": "a48c72d7d87a1a03872c2328bc7c3d312b8461ea67915604a878c0e034a87923"
   }
  }
 },
 "nbformat": 4,
 "nbformat_minor": 4
}
