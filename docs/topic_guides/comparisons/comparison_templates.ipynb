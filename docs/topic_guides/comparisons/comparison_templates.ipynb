{
 "cells": [
  {
   "attachments": {},
   "cell_type": "markdown",
   "metadata": {},
   "source": [
    "# Out-of-the-box Comparisons for specific data types\n",
    "\n",
    "Similarity is defined differently for types of data (e.g. names, dates of birth, postcodes, addresses, ids). The [Comparison Template Library](customising_comparisons.ipynb#method-2-using-the-comparisontemplatelibrary) contains functions to generate ready-made comparisons for a variety of data types.\n",
    "\n",
    "Below are examples of how to structure comparisons for a variety of data types.\n",
    "\n",
    "<hr>"
   ]
  },
  {
   "attachments": {},
   "cell_type": "markdown",
   "metadata": {},
   "source": [
    "## Date Comparisons\n",
    "\n",
    "Date comparisons are generally structured as: \n",
    "\n",
    "- Null level  \n",
    "- Exact match  \n",
    "- Fuzzy match ([using metric of choice](./comparators.md))  \n",
    "- Interval match (within X days/months/years)  \n",
    "- Else level\n",
    "\n",
    "The [comparison_template_library](../../comparison_template_library.md#splink.comparison_template_library) contains the [date_comparison](../../comparison_template_library.md##splink.comparison_template_library.DateComparisonBase) function which gives this structure, with some pre-defined parameters, out-of-the-box."
   ]
  },
  {
   "cell_type": "code",
   "execution_count": 1,
   "metadata": {},
   "source": [
    "from splink.duckdb.comparison_template_library import date_comparison\n",
    "\n",
    "date_of_birth_comparison = date_comparison(\"date_of_birth\")"
   ],
   "outputs": []
  },
  {
   "attachments": {},
   "cell_type": "markdown",
   "metadata": {},
   "source": [
    "Gives a comparison structured as follows:\n",
    "\n",
    "```\n",
    "Comparison: Date of birth\n",
    "├─-- ComparisonLevel: Exact match\n",
    "├─-- ComparisonLevel: Up to one character difference\n",
    "├─-- ComparisonLevel: Dates within 1 month of each other\n",
    "├─-- ComparisonLevel: Dates within 1 year of each other\n",
    "├─-- ComparisonLevel: Dates within 10 years of each other\n",
    "├─-- ComparisonLevel: All other\n",
    "```\n",
    "\n",
    "Or, using `human_readable_description` to generate automatically from `date_of_birth_comparison`:"
   ]
  },
  {
   "cell_type": "code",
   "execution_count": 2,
   "metadata": {},
   "source": [
    "print(date_of_birth_comparison.human_readable_description)"
   ],
   "outputs": []
  },
  {
   "attachments": {},
   "cell_type": "markdown",
   "metadata": {},
   "source": [
    "The [date_comparison](../../comparison_template_library.md##splink.comparison_template_library.DateComparisonBase) function also allows the user flexibility to change the parameters and/or fuzzy matching comparison levels.\n",
    "\n",
    "For example:"
   ]
  },
  {
   "cell_type": "code",
   "execution_count": 3,
   "metadata": {},
   "source": [
    "date_of_birth_comparison = date_comparison(\n",
    "    \"date_of_birth\",\n",
    "    levenshtein_thresholds=[2],\n",
    "    damerau_levenshtein_thresholds=[],\n",
    "    datediff_thresholds=[7, 1, 1],\n",
    "    datediff_metrics=[\"day\", \"month\", \"year\"],\n",
    ")\n",
    "print(date_of_birth_comparison.human_readable_description)"
   ],
   "outputs": []
  },
  {
   "attachments": {},
   "cell_type": "markdown",
   "metadata": {},
   "source": [
    "To see this as a specifications dictionary you can call"
   ]
  },
  {
   "cell_type": "code",
   "execution_count": 4,
   "metadata": {},
   "source": [
    "date_of_birth_comparison.as_dict()"
   ],
   "outputs": []
  },
  {
   "attachments": {},
   "cell_type": "markdown",
   "metadata": {},
   "source": [
    "which can be used as the basis for a more custom comparison, as shown in the [Defining and Customising Comparisons topic guide ](customising_comparisons.ipynb#method-4-providing-the-spec-as-a-dictionary), if desired.\n",
    "\n",
    "<hr>"
   ]
  },
  {
   "attachments": {},
   "cell_type": "markdown",
   "metadata": {},
   "source": [
    "## Name Comparisons\n",
    "\n",
    "Name comparisons for an individual name column (e.g. forename, surname) are generally structured as: \n",
    "\n",
    "- Null level  \n",
    "- Exact match  \n",
    "- Fuzzy match ([using metric of choice](comparators.md))  \n",
    "- Else level\n",
    "\n",
    "The [comparison_template_library](../../comparison_template_library.md##splink.comparison_template_library) contains the [name_comparison](../../comparison_template_library.md#splink.comparison_template_library.NameComparisonBase) function which gives this structure, with some pre-defined parameters, out-of-the-box."
   ]
  },
  {
   "cell_type": "code",
   "execution_count": 5,
   "metadata": {},
   "source": [
    "from splink.duckdb.comparison_template_library import name_comparison\n",
    "\n",
    "first_name_comparison = name_comparison(\"first_name\")"
   ],
   "outputs": []
  },
  {
   "attachments": {},
   "cell_type": "markdown",
   "metadata": {},
   "source": [
    "Gives a comparison structured as follows:\n",
    "\n",
    "```\n",
    "Comparison: First Name\n",
    "├─-- ComparisonLevel: Exact match\n",
    "├─-- ComparisonLevel: Up to one character difference\n",
    "├─-- ComparisonLevel: First Names with Jaro-Winkler similarity of 0.9 or greater \n",
    "├─-- ComparisonLevel: First Names with Jaro-Winkler similarity of 0.8 or greater\n",
    "├─-- ComparisonLevel: All other\n",
    "```\n",
    "\n",
    "Or, using `human_readable_description` to generate automatically from `first_name_comparison`:"
   ]
  },
  {
   "cell_type": "code",
   "execution_count": 6,
   "metadata": {},
   "source": [
    "print(first_name_comparison.human_readable_description)"
   ],
   "outputs": []
  },
  {
   "attachments": {},
   "cell_type": "markdown",
   "metadata": {},
   "source": [
    "The [name_comparison](../../comparison_template_library.md#splink.comparison_template_library.NameComparisonBase) function also allows flexibility to change the parameters and/or fuzzy matching comparison levels.\n",
    "\n",
    "For example:"
   ]
  },
  {
   "cell_type": "code",
   "execution_count": 7,
   "metadata": {},
   "source": [
    "surname_comparison = name_comparison(\n",
    "    \"surname\",\n",
    "    phonetic_col_name=\"surname_dm\",\n",
    "    term_frequency_adjustments=True,\n",
    "    levenshtein_thresholds=[2],\n",
    "    damerau_levenshtein_thresholds=[],\n",
    "    jaro_winkler_thresholds=[],\n",
    "    jaccard_thresholds=[1],\n",
    ")\n",
    "print(surname_comparison.human_readable_description)"
   ],
   "outputs": []
  },
  {
   "attachments": {},
   "cell_type": "markdown",
   "metadata": {},
   "source": [
    "Where `surname_dm` refers to a column which has used the DoubleMetaphone algorithm on `surname` to give a phonetic spelling. This helps to catch names which sounds the same but have different spellings (e.g. Stephens vs Stevens). For more on Phonetic Transformations, see the [topic guide](phonetic.md)."
   ]
  },
  {
   "attachments": {},
   "cell_type": "markdown",
   "metadata": {},
   "source": [
    "To see this as a specifications dictionary you can call"
   ]
  },
  {
   "cell_type": "code",
   "execution_count": 8,
   "metadata": {},
   "source": [
    "surname_comparison.as_dict()"
   ],
   "outputs": []
  },
  {
   "attachments": {},
   "cell_type": "markdown",
   "metadata": {},
   "source": [
    "which can be used as the basis for a more custom comparison, as shown in the [Defining and Customising Comparisons topic guide ](customising_comparisons.ipynb#method-4-providing-the-spec-as-a-dictionary), if desired.\n",
    "\n",
    "<hr>"
   ]
  },
  {
   "attachments": {},
   "cell_type": "markdown",
   "metadata": {},
   "source": [
    "## Forename and Surname Comparisons\n",
    "\n",
    "It can be helpful to construct a single comparison for for comparing the forename and surname of two records as:\n",
    "\n",
    "1. The Fellegi-Sunter model **assumes that comparisons are independent**. We know that forename and surname are usually correlated given the regional variation of names etc, so considering then in a single comparison can help to create better models.\n",
    "\n",
    "2. **Term-frequencies** of individual forename and surname individually does not necessarily reflect how common the combination of forename and surname are. \n",
    "For example, in the UK population “Mohammed Khan” is a relatively common full name despite neither name occurring frequently. For more information on term-frequencies, see the dedicated [topic guide](term-frequency.md).\n",
    "Addressing forename and surname in a single comparison can allows the model to consider the joint term-frequency as well as individual.\n",
    "\n",
    "3. It is common for some records to have **swapped forename and surname by mistake**. Addressing forename and surname in a single comparison can allows the model to consider these name inversions.\n",
    "\n",
    "\n",
    "Forename and Surname comparisons for an individual name column (e.g. forename, surname) are generally structured as: \n",
    "\n",
    "- Null level  \n",
    "- Exact match Forename and Surname\n",
    "- Exact match Forename and Surname swapped\n",
    "- Exact match Surname\n",
    "- Exact match Forename\n",
    "- Fuzzy match Surname ([using metric of choice](comparators.md))\n",
    "- Fuzzy match Forename ([using metric of choice](comparators.md))\n",
    "- Else level\n",
    "\n",
    "The [comparison_template_library](#method-2-using-the-comparisontemplatelibrary) contains the [forename_surname_comparison](../../comparison_template_library.md#splink.comparison_template_library.NameComparisonBase) function which gives this structure, with some pre-defined parameters, out-of-the-box."
   ]
  },
  {
   "cell_type": "code",
   "execution_count": 9,
   "metadata": {},
   "source": [
    "from splink.duckdb.comparison_template_library import forename_surname_comparison\n",
    "\n",
    "name_comparison = forename_surname_comparison(\"forename\", \"surname\")"
   ],
   "outputs": []
  },
  {
   "attachments": {},
   "cell_type": "markdown",
   "metadata": {},
   "source": [
    "Gives a comparison structured as follows:\n",
    "\n",
    "```\n",
    "Comparison: First Name\n",
    "├─-- ComparisonLevel: Exact match Forename and Surname\n",
    "├─-- ComparisonLevel: Exact match Forename and Surname swapped\n",
    "├─-- ComparisonLevel: Exact match Surname\n",
    "├─-- ComparisonLevel: Exact match Forename\n",
    "├─-- ComparisonLevel: Surnames with Jaro-Winkler similarity greater than 0.88\n",
    "├─-- ComparisonLevel: Forenames with Jaro-Winkler similarity greater than 0.88\n",
    "├─-- ComparisonLevel: All other\n",
    "```\n",
    "\n",
    "Or, using `human_readable_description` to generate automatically from `first_name_comparison`:"
   ]
  },
  {
   "cell_type": "code",
   "execution_count": 10,
   "metadata": {},
   "source": [
    "print(name_comparison.human_readable_description)"
   ],
   "outputs": []
  },
  {
   "attachments": {},
   "cell_type": "markdown",
   "metadata": {},
   "source": [
    "The [forename_surname_comparison](../../comparison_template_library.md#splink.comparison_template_library.ForenameSurnameComparisonBase) function also allows flexibility to change the parameters and/or fuzzy matching comparison levels.\n",
    "\n",
    "For example:"
   ]
  },
  {
   "cell_type": "code",
   "execution_count": 11,
   "metadata": {},
   "source": [
    "full_name_comparison = forename_surname_comparison(\n",
    "    \"forename\",\n",
    "    \"surname\",\n",
    "    term_frequency_adjustments=True,\n",
    "    tf_adjustment_col_forename_and_surname=\"full_name\",\n",
    "    phonetic_forename_col_name=\"forename_dm\",\n",
    "    phonetic_surname_col_name=\"surname_dm\",\n",
    "    levenshtein_thresholds=[2],\n",
    "    jaro_winkler_thresholds=[],\n",
    "    jaccard_thresholds=[1],\n",
    ")\n",
    "print(full_name_comparison.human_readable_description)"
   ],
   "outputs": []
  },
  {
   "attachments": {},
   "cell_type": "markdown",
   "metadata": {},
   "source": [
    "Where:\n",
    "\n",
    "- `forename_dm` and `surname_dm` refer to columns which have used the DoubleMetaphone algorithm on `forename` and `surname` to give a phonetic spelling. This helps to catch names which sounds the same but have different spellings (e.g. Stephens vs Stevens). For more on Phonetic Transformations, see the [topic guide](phonetic.md). These columns will have to already exist in the dataset, or be created in the [feature engineering](../data_preparation/feature_engineering.md#phonetic-transformations) stage when preparing datasets for linking.\n",
    "\n",
    "- `full_name` is a column containing `forename` and `surname` so that the model can consider the term-frequency of the full name, as well as `forename` and `surname` individually. These columns will have to already exist in the dataset, or be created in the [feature engineering](../data_preparation/feature_engineering.md#full-name) stage when preparing datasets for linking."
   ]
  },
  {
   "attachments": {},
   "cell_type": "markdown",
   "metadata": {},
   "source": [
    "To see this as a specifications dictionary you can call"
   ]
  },
  {
   "cell_type": "code",
   "execution_count": 12,
   "metadata": {},
   "source": [
    "full_name_comparison.as_dict()"
   ],
   "outputs": []
  },
  {
   "attachments": {},
   "cell_type": "markdown",
   "metadata": {},
   "source": [
    "Which can be used as the basis for a more custom comparison, as shown in the [Defining and Customising Comparisons topic guide ](customising_comparisons.ipynb#method-4-providing-the-spec-as-a-dictionary), if desired."
   ]
  },
  {
   "attachments": {},
   "cell_type": "markdown",
   "metadata": {},
   "source": [
    "<hr>"
   ]
  },
  {
   "attachments": {},
   "cell_type": "markdown",
   "metadata": {},
   "source": [
    "## Postcode Comparisons\n",
    "\n",
    "The [comparison_template_library](../../comparison_template_library.md##splink.comparison_template_library) contains the [postcode_comparison](../../comparison_template_library.md##splink.comparison_template_library.PostcodeComparisonBase) function which provides a sensible approach to comparing postcodes in terms of their constituent components, out-of-the-box. See [Feature Engineering](../data_preparation/feature_engineering.md) for more details."
   ]
  },
  {
   "cell_type": "code",
   "execution_count": 13,
   "metadata": {},
   "source": [
    "from splink.duckdb.comparison_template_library import postcode_comparison\n",
    "\n",
    "pc_comparison = postcode_comparison(\"postcode\")"
   ],
   "outputs": []
  },
  {
   "attachments": {},
   "cell_type": "markdown",
   "metadata": {},
   "source": [
    "Gives a comparison structured as follows:\n",
    "\n",
    "```\n",
    "Comparison: Postcode\n",
    "├─-- ComparisonLevel: Exact match\n",
    "├─-- ComparisonLevel: Exact match on sector\n",
    "├─-- ComparisonLevel: Exact match on district\n",
    "├─-- ComparisonLevel: Exact match on area\n",
    "├─-- ComparisonLevel: All other\n",
    "```\n",
    "\n",
    "Or, using `human_readable_description` to generate automatically from `pc_comparison`:"
   ]
  },
  {
   "cell_type": "code",
   "execution_count": 14,
   "metadata": {},
   "source": [
    "print(pc_comparison.human_readable_description)"
   ],
   "outputs": []
  },
  {
   "attachments": {},
   "cell_type": "markdown",
   "metadata": {},
   "source": [
    "where individual postcode components are extracted under-the-hood using the `regex_extract` argument.\n",
    "\n",
    "Note that the 'Exact match Postcode District' level also captures matches on subdistricts where they exist in the data."
   ]
  },
  {
   "attachments": {},
   "cell_type": "markdown",
   "metadata": {},
   "source": [
    "Performing comparisons based on substrings alone doesn't always give the best sense of whether two postcodes are close together since locations which are geographically close can be in different postcode regions e.g. London postcodes starting 'N' vs 'SW'. Given this, the [postcode_comparison](../../comparison_template_library.md##splink.comparison_template_library.PostcodeComparisonBase) function also allows the user flexibility to include [cll.distance_in_km_level()](../../comparison_level_library.md#splink.comparison_level_library.DistanceFunctionLevelBase) by supplying `lat_col`, `long_col` and `km_thresholds` arguments. This can help to improve results. (See [Feature Enginnering](../data_preparation/feature_engineering.md) for more details.)\n",
    "\n",
    "Users also have the option to set `invalid_postcodes_as_null` to `True`. If `True`, postcodes that do not adhere to a valid postcode format as determined by `valid_postcode_regex` will be included in the null level. `valid_postcode_regex` defaults to `\"^[A-Z]{1,2}[0-9][A-Z0-9]? [0-9][A-Z]{2}$\"`.\n",
    "\n",
    "For example:"
   ]
  },
  {
   "cell_type": "code",
   "execution_count": 15,
   "metadata": {},
   "source": [
    "pc_comparison = postcode_comparison(\n",
    "    \"postcode\",\n",
    "    invalid_postcodes_as_null=True,\n",
    "    lat_col=\"lat\",\n",
    "    long_col=\"long\",\n",
    "    km_thresholds=[1, 10, 50]\n",
    ")\n",
    "print(pc_comparison.human_readable_description)"
   ],
   "outputs": []
  },
  {
   "attachments": {},
   "cell_type": "markdown",
   "metadata": {},
   "source": [
    "To see this as a specifications dictionary you can call"
   ]
  },
  {
   "cell_type": "code",
   "execution_count": 16,
   "metadata": {},
   "source": [
    "pc_comparison.as_dict()"
   ],
   "outputs": []
  },
  {
   "attachments": {},
   "cell_type": "markdown",
   "metadata": {},
   "source": [
    "which can be used as the basis for a more custom comparison, as shown in the [Defining and Customising Comparisons topic guide ](customising_comparisons.ipynb#method-4-providing-the-spec-as-a-dictionary), if desired."
   ]
  },
  {
   "attachments": {},
   "cell_type": "markdown",
   "metadata": {},
   "source": [
    "<hr>"
   ]
  },
  {
   "attachments": {},
   "cell_type": "markdown",
   "metadata": {},
   "source": [
    "## Email Comparisons\n",
    "\n",
    "Email comparisons are generally structured as:\n",
    "\n",
    "* Null Level\n",
    "* Exact match on email address\n",
    "* Exact match on username\n",
    "* Fuzzy match on email address\n",
    "* Fuzzy match on username\n",
    "* All other comparisons\n",
    "\n",
    "The [comparison_template_library](../../comparison_template_library.md##splink.comparison_template_library) contains the [email_comparison](../../comparison_template_library.md##splink.comparison_template_library.EmailComparisonBase) function which provides a sensible approach to comparing emails out-of-the-box."
   ]
  },
  {
   "cell_type": "code",
   "execution_count": 17,
   "metadata": {},
   "source": [
    "from splink.duckdb.comparison_template_library import email_comparison\n",
    "\n",
    "standard_email_comparison = email_comparison(\"email\")"
   ],
   "outputs": []
  },
  {
   "attachments": {},
   "cell_type": "markdown",
   "metadata": {},
   "source": [
    "Gives a comparison structured as follows:\n",
    "\n",
    "```\n",
    "Comparison: Email\n",
    "├─-- ComparisonLevel: Exact match\n",
    "├─-- ComparisonLevel: Exact match on username with different domain\n",
    "├─-- ComparisonLevel: Fuzzy match on email using Jaro-Winkler\n",
    "├─-- ComparisonLevel: Fuzzy match on username using Jaro-Winkler\n",
    "├─-- ComparisonLevel: All other comparisons\n",
    "```\n",
    "\n",
    "Or, using `human_readable_description` to generate automatically from `email_comparison`:"
   ]
  },
  {
   "cell_type": "code",
   "execution_count": 18,
   "metadata": {},
   "source": [
    "print(standard_email_comparison.human_readable_description)"
   ],
   "outputs": []
  },
  {
   "attachments": {},
   "cell_type": "markdown",
   "metadata": {},
   "source": [
    "where individual email components are extracted under-the-hood using the `regex_extract` argument."
   ]
  },
  {
   "attachments": {},
   "cell_type": "markdown",
   "metadata": {},
   "source": [
    "By default, the fuzzy matching is done using Jaro-Winkler thresholds. This will bias the start of a string, specifically the first four characters, which may not be appropriate for all emails. The `email_comparison` function is flexible and allows a number of other string fuzzy matching functions.\n",
    "\n",
    "Users also have the option to set `invalid_emails_as_null` to `True`. If `True`, postcodes that do not adhere to a valid email format as determined by `valid_email_regex` will be included in the null level. `valid_email_regex` defaults to `\"^[a-zA-Z0-9._%+-]+@[a-zA-Z0-9.-]+[.][a-zA-Z]{2,}$\"`.\n",
    "\n",
    "For example:"
   ]
  },
  {
   "cell_type": "code",
   "execution_count": 19,
   "metadata": {},
   "source": [
    "bespoke_email_comparison = email_comparison(\n",
    "    \"email\",\n",
    "    jaro_winkler_thresholds=[],\n",
    "    jaro_thresholds=[0.8],\n",
    "    include_username_match_level=False,\n",
    "    include_domain_match_level=True,\n",
    "    invalid_emails_as_null=True,\n",
    ")\n",
    "print(bespoke_email_comparison.human_readable_description)"
   ],
   "outputs": []
  },
  {
   "attachments": {},
   "cell_type": "markdown",
   "metadata": {},
   "source": [
    "To see this as a specifications dictionary you can call"
   ]
  },
  {
   "cell_type": "code",
   "execution_count": 20,
   "metadata": {},
   "source": [
    "bespoke_email_comparison.as_dict()"
   ],
   "outputs": []
  },
  {
   "attachments": {},
   "cell_type": "markdown",
   "metadata": {},
   "source": [
    "which can be used as the basis for a more custom comparison, as shown in the [Defining and Customising Comparisons topic guide ](customising_comparisons.ipynb#method-4-providing-the-spec-as-a-dictionary), if desired."
   ]
  }
 ],
 "metadata": {
  "kernelspec": {
   "display_name": "base",
   "language": "python",
   "name": "python3"
  },
  "language_info": {
   "codemirror_mode": {
    "name": "ipython",
    "version": 3
   },
   "file_extension": ".py",
   "mimetype": "text/x-python",
   "name": "python",
   "nbconvert_exporter": "python",
   "pygments_lexer": "ipython3",
   "version": "3.9.12"
  },
  "orig_nbformat": 4
 },
 "nbformat": 4,
 "nbformat_minor": 2
}
