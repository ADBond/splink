{
 "cells": [
  {
   "attachments": {},
   "cell_type": "markdown",
   "metadata": {},
   "source": [
    "# Blocking Rules for Splink Predictions\n",
    "\n",
    "The purpose of these blocking rules is to try and ensure that pairwise record comparisons are generated for all true matches."
   ]
  },
  {
   "attachments": {},
   "cell_type": "markdown",
   "metadata": {},
   "source": [
    "## Using Prediction Blocking Rules in Splink\n",
    "\n",
    "Blocking Rules for Prediction are defined through the `blocking_rules_to_generate_predictions` parameter in the Settings dictionary of a model. For example:\n",
    "\n",
    "``` py hl_lines=\"3-6\"\n",
    "settings = {\n",
    "    \"link_type\": \"dedupe_only\",\n",
    "    \"blocking_rules_to_generate_predictions\": [\n",
    "        \"l.first_name = r.first_name\",\n",
    "        \"l.surname = r.surname\",\n",
    "    ],\n",
    "    \"comparisons\": [\n",
    "        ctl.name_comparison(\"first_name\"),\n",
    "        ctl.name_comparison(\"surname\"),\n",
    "        ctl.date_comparison(\"dob\", cast_strings_to_date=True),\n",
    "        cl.exact_match(\"city\", term_frequency_adjustments=True),\n",
    "        ctl.email_comparison(\"email\"),\n",
    "    ],\n",
    "}\n",
    "```\n",
    "\n",
    "will generate comparisons for all true matches where names match. But it would miss a true match where there was a typo in (say) the first name.\n",
    "\n",
    "In general, it is usually impossible to find a single rule which both:\n",
    "\n",
    "- Reduces the number of comparisons generated to a computatally tractable number\n",
    "\n",
    "- Ensures comparisons are generated for all true matches\n",
    "\n",
    "This is why `blocking_rules_to_generate_predictions` is a list. Suppose we also block on `postcode`:\n",
    "\n",
    "```python\n",
    "settings_example = {\n",
    "    \"blocking_rules_to_generate_predictions\" [\n",
    "        \"l.first_name = r.first_name and l.surname = r.surname\",\n",
    "        \"l.postcode = r.postcode\"\n",
    "        ]\n",
    "}\n",
    "```\n",
    "\n",
    "We will now generate a pairwise comparison for the record where there was a typo in the first name, so long as there isn't also a difference in the postcode.\n",
    "\n",
    "By specifying a variety of `blocking_rules_to_generate_predictions`, it becomes unlikely that a truly matching record would not be captured by at least one of the rules.\n",
    "\n",
    "Note that Splink automatically deduplicates the record comparisons it generates. So, in the example above, the `\"l.postcode = r.postcode\"` blocking rule generates only records comparisons that were not already captured by the `first_name` and `surname` rule."
   ]
  },
  {
   "attachments": {},
   "cell_type": "markdown",
   "metadata": {},
   "source": [
    "## Choosing Prediction Blocking Rules\n",
    "\n",
    "When defining blocking rules it is important to "
   ]
  },
  {
   "cell_type": "code",
   "execution_count": null,
   "metadata": {},
   "outputs": [],
   "source": []
  }
 ],
 "metadata": {
  "kernelspec": {
   "display_name": "base",
   "language": "python",
   "name": "python3"
  },
  "language_info": {
   "name": "python",
   "version": "3.9.12"
  },
  "orig_nbformat": 4
 },
 "nbformat": 4,
 "nbformat_minor": 2
}
