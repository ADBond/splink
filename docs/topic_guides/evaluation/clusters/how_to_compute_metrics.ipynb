{
 "cells": [
  {
   "cell_type": "markdown",
   "metadata": {},
   "source": [
    "# How to compute graph metrics with Splink"
   ]
  },
  {
   "cell_type": "markdown",
   "metadata": {},
   "source": [
    "## Introduction to the `compute_graph_metrics()` method"
   ]
  },
  {
   "cell_type": "markdown",
   "metadata": {},
   "source": [
    "To enable users to calculate a variety of graph metrics for their linked data, Splink provides the `compute_graph_metrics()` method.\n",
    "\n",
    "The method is called on the `linker` like so:\n",
    "\n",
    "```\n",
    "linker.computer_graph_metrics(df_predict, df_clustered, threshold_match_probability=0.95)\n",
    "```\n",
    "with arguments\n",
    "\n",
    "    Args:\n",
    "        df_predict (SplinkDataFrame): The results of `linker.predict()`\n",
    "        df_clustered (SplinkDataFrame): The outputs of\n",
    "            `linker.cluster_pairwise_predictions_at_threshold()`\n",
    "        threshold_match_probability (float): Filter the pairwise match predictions\n",
    "            to include only pairwise comparisons with a match_probability at or\n",
    "            above this threshold.\n",
    "\n",
    "!!! warning\n",
    "\n",
    "    `threshold_match_probability` should be the same as the clustering threshold passed to `cluster_pairwise_predictions_at_threshold()`. If this information is available to Splink then it will be passed automatically, otherwise the user will have to provide it themselves and take care to ensure that threshold values align.\n",
    "\n",
    "The method generates tables containing graph metrics (for nodes, edges and clusters), and returns a data class of [Splink dataframes](../../../SplinkDataFrame.md). The individual Splink dataframes containing node, edge and cluster metrics can be accessed as follows:\n",
    "\n",
    "```\n",
    "compute_graph_metrics.nodes for node metrics\n",
    "compute_graph_metrics.edges for edge metrics\n",
    "compute_graph_metrics.clusters for cluster metrics\n",
    "```\n",
    "\n",
    "The metrics computed by `compute_graph_metrics()` include all those mentioned in the [Graph metrics](./graph_metrics.md) chapter, namely:\n",
    "\n",
    "* Node degree\n",
    "* 'Is bridge'\n",
    "* Cluster size\n",
    "* Cluster density\n",
    "* Cluster centrality\n",
    "\n",
    "All of these metrics are calculated by default. If you are unable to install the `igraph` package required for 'is bridge', this metric won't be calculated, however all other metrics will still be generated.\n",
    "\n",
    "This topic guide is a work in progress and we welcome any feedback."
   ]
  },
  {
   "cell_type": "markdown",
   "metadata": {},
   "source": [
    "## Full code example"
   ]
  },
  {
   "cell_type": "markdown",
   "metadata": {},
   "source": [
    "This code snippet computes graph metrics for a simple Splink dedupe model. A pandas dataframe of cluster metrics is displayed as the final output."
   ]
  },
  {
   "cell_type": "code",
   "execution_count": 1,
   "metadata": {},
   "source": [
    "import splink.duckdb.comparison_library as cl\n",
    "from splink.datasets import splink_datasets\n",
    "from splink.duckdb.blocking_rule_library import block_on\n",
    "from splink.duckdb.linker import DuckDBLinker\n",
    "\n",
    "import ssl\n",
    "\n",
    "ssl._create_default_https_context = ssl._create_unverified_context\n",
    "\n",
    "df = splink_datasets.historical_50k\n",
    "\n",
    "settings_dict = {\n",
    "    \"link_type\": \"dedupe_only\",\n",
    "    \"blocking_rules_to_generate_predictions\": [\n",
    "        block_on([\"postcode_fake\", \"first_name\"]),\n",
    "        block_on([\"first_name\", \"surname\"]),\n",
    "        block_on([\"dob\", \"substr(postcode_fake,1,2)\"]),\n",
    "        block_on([\"postcode_fake\", \"substr(dob,1,3)\"]),\n",
    "        block_on([\"postcode_fake\", \"substr(dob,4,5)\"]),\n",
    "    ],\n",
    "    \"comparisons\": [\n",
    "        cl.exact_match(\n",
    "            \"first_name\",\n",
    "            term_frequency_adjustments=True,\n",
    "        ),\n",
    "        cl.jaro_winkler_at_thresholds(\n",
    "            \"surname\", distance_threshold_or_thresholds=[0.9, 0.8]\n",
    "        ),\n",
    "        cl.levenshtein_at_thresholds(\n",
    "            \"postcode_fake\", distance_threshold_or_thresholds=[1, 2]\n",
    "        ),\n",
    "    ],\n",
    "    \"retain_intermediate_calculation_columns\": True,\n",
    "}\n",
    "\n",
    "\n",
    "linker = DuckDBLinker(df, settings_dict)\n",
    "\n",
    "linker.estimate_u_using_random_sampling(target_rows=1e6)\n",
    "\n",
    "linker.estimate_parameters_using_expectation_maximisation(\n",
    "    block_on([\"first_name\", \"surname\"])\n",
    ")\n",
    "\n",
    "linker.estimate_parameters_using_expectation_maximisation(\n",
    "    block_on([\"dob\", \"substr(postcode_fake, 1,3)\"])\n",
    ")\n",
    "\n",
    "df_predict = linker.predict()\n",
    "df_clustered = linker.cluster_pairwise_predictions_at_threshold(df_predict, 0.95)\n",
    "\n",
    "graph_metrics = linker.compute_graph_metrics(df_predict, df_clustered)\n",
    "\n",
    "graph_metrics.clusters.as_pandas_dataframe()"
   ],
   "outputs": []
  }
 ],
 "metadata": {
  "kernelspec": {
   "display_name": "splink-bxsLLt4m",
   "language": "python",
   "name": "python3"
  },
  "language_info": {
   "codemirror_mode": {
    "name": "ipython",
    "version": 3
   },
   "file_extension": ".py",
   "mimetype": "text/x-python",
   "name": "python",
   "nbconvert_exporter": "python",
   "pygments_lexer": "ipython3",
   "version": "3.9.6"
  }
 },
 "nbformat": 4,
 "nbformat_minor": 2
}
