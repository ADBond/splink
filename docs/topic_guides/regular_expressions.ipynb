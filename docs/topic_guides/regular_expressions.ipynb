{
 "cells": [
  {
   "attachments": {},
   "cell_type": "markdown",
   "metadata": {},
   "source": [
    "# Regular expressions (regex)"
   ]
  },
  {
   "attachments": {},
   "cell_type": "markdown",
   "metadata": {},
   "source": [
    "It can sometimes be useful to make comparisons based on substrings of column values. For example, a sensible approach to comparing postcodes can be to consider their constituent components (e.g. area, district, etc) by extracting them as substrings of the full postcode (see postcode comparison template for more details).\n",
    "\n",
    "The `regex_extract` option allows users to do just this by defining a regular expression pattern on which to to evaluate a match. It is available for all(?) string comparisons and levels including exact match (see examples below).\n",
    "\n",
    "Further regex functionality is provided in the form of the `valid_string_regex` option. This is a feature of the null comparison and level. It allows users to provide a regular expression pattern defining a valid string format that if not matched will result in the column being treated as a null (see example below). "
   ]
  },
  {
   "attachments": {},
   "cell_type": "markdown",
   "metadata": {},
   "source": [
    "## Examples of using `regex_extract`"
   ]
  },
  {
   "attachments": {},
   "cell_type": "markdown",
   "metadata": {},
   "source": [
    "An example of using `regex_extract` with an exact match comparison on a postcode column. Here the area part of the postcode is being extracted and then compared on.\n",
    "Show what is extracted, the result of extracting and the comparison being made under the hood"
   ]
  },
  {
   "cell_type": "code",
   "execution_count": null,
   "metadata": {
    "vscode": {
     "languageId": "plaintext"
    }
   },
   "outputs": [],
   "source": [
    "import splink.duckdb.duckdb_comparison_library as cl\n",
    "\n",
    "pc_comparison = cl.exact_match(\"postcode\", regex_extract=\"\")\n",
    "print(pc_comparison.human_readable_description)"
   ]
  },
  {
   "cell_type": "code",
   "execution_count": null,
   "metadata": {
    "vscode": {
     "languageId": "plaintext"
    }
   },
   "outputs": [],
   "source": [
    "An example of using `regex_extract` with a Jaro-Winkler comparison on a name column."
   ]
  },
  {
   "cell_type": "code",
   "execution_count": null,
   "metadata": {
    "vscode": {
     "languageId": "plaintext"
    }
   },
   "outputs": [],
   "source": [
    "import splink.duckdb.duckdb_comparison_library as cl\n",
    "\n",
    "name_comparison = cl.jaro_winkler(\"name\", regex_extract=\"\")\n",
    "print(name_comparison.human_readable_description)"
   ]
  },
  {
   "attachments": {},
   "cell_type": "markdown",
   "metadata": {
    "vscode": {
     "languageId": "plaintext"
    }
   },
   "source": [
    "An example using Levenshtein..."
   ]
  },
  {
   "cell_type": "code",
   "execution_count": null,
   "metadata": {
    "vscode": {
     "languageId": "plaintext"
    }
   },
   "outputs": [],
   "source": [
    "import splink.duckdb.duckdb_comparison_library as cl\n",
    "\n",
    "name_comparison = cl.jaro_winkler(\"name\", regex_extract=\"\")\n",
    "print(name_comparison.human_readable_description)"
   ]
  },
  {
   "attachments": {},
   "cell_type": "markdown",
   "metadata": {},
   "source": [
    "The postcode comparison template provides an example of a comparison which makes use of both the `regex_extract` option in multiple exact match levels to build a comparison with levels of increasing “looseness”"
   ]
  },
  {
   "attachments": {},
   "cell_type": "markdown",
   "metadata": {},
   "source": [
    "## Example of using `valid_regex_string`"
   ]
  },
  {
   "attachments": {},
   "cell_type": "markdown",
   "metadata": {},
   "source": [
    "A simple comparison including a null level featuring the `valid_regex_string` option. Here an exact match o the postcode column is being performed with the..."
   ]
  },
  {
   "cell_type": "code",
   "execution_count": null,
   "metadata": {
    "vscode": {
     "languageId": "plaintext"
    }
   },
   "outputs": [],
   "source": [
    "import splink.duckdb.duckdb_comparison_library as cl\n",
    "\n",
    "name_comparison = cl.jaro_winkler(\"name\", regex_extract=\"\")\n",
    "print(name_comparison.human_readable_description)"
   ]
  },
  {
   "cell_type": "code",
   "execution_count": null,
   "metadata": {
    "vscode": {
     "languageId": "plaintext"
    }
   },
   "outputs": [],
   "source": []
  }
 ],
 "metadata": {
  "language_info": {
   "name": "python"
  },
  "orig_nbformat": 4
 },
 "nbformat": 4,
 "nbformat_minor": 2
}
