{
 "cells": [
  {
   "cell_type": "code",
   "execution_count": 1,
   "metadata": {},
   "outputs": [],
   "source": [
    "# !pip install -e /Users/rosskennedy/splink"
   ]
  },
  {
   "attachments": {},
   "cell_type": "markdown",
   "metadata": {},
   "source": [
    "# Choosing String Comparators\n",
    "\n",
    "When building a Splink model, one of the most important aspects is defining the [`Comparisons`](../comparison.md) and [`Comparison Levels`](../comparison_level.md). When defining `Comparisons` and `Comparison Levels` it is helpful to consider string fuzzy matching.\n",
    "\n",
    "This guide is intended to show how Splink's string comparators performs in different situations in order to help choosing the most appropriate comparator for a given column as well as the most appropriate threshold (or thresholds)."
   ]
  },
  {
   "attachments": {},
   "cell_type": "markdown",
   "metadata": {},
   "source": [
    "## What options are available when comparing strings?\n",
    "\n",
    "There are three main classes of string comparator that are considered within Splink:\n",
    "1. **String Similarity Scores**\n",
    "2. **String Distance Scores**\n",
    "3. **Phonetic Matching**\n",
    "\n",
    "where  \n",
    "**String Similarity Scores** are scores between 0 and 1 indicating how similar two strings are. 0 represents two completely dissimilar strings and 1 represents identical strings. E.g. [Jaro-Winkler Similarity](comparators.md#jaro-winkler-similarity).  \n",
    "\n",
    "**String Distance Scores** are integer distances, counting the number of operations to convert one string into another. A lower string distance indicates more similar strings. E.g. [Levenshtein Distance](comparators.md#levenshtein-distance).  \n",
    "\n",
    "**Phonetic Matching** is whether two strings are phonetically similar. The two strings are passed through a [phonetic transformation algorithm](phonetic.md) and then the resulting phonetic codes are matched. E.g. [Double Metaphone](phonetic.md#double-metaphone)."
   ]
  },
  {
   "attachments": {},
   "cell_type": "markdown",
   "metadata": {},
   "source": [
    "## Comparing String Similarity and Distance Scores\n",
    "\n",
    "Splink contains a `comparison_helpers` module which includes some helper functions for comparing the string similarity and distance scores that can help when choosing the most appropriate fuzzy matching function.\n",
    "\n",
    "For comparing two strings the `get_comparator_score` function returns the scores for all of the available comparators. E.g. consider a simple inversion \"Richard\" vs \"iRchard\":"
   ]
  },
  {
   "cell_type": "code",
   "execution_count": 2,
   "metadata": {},
   "outputs": [
    {
     "data": {
      "text/plain": [
       "{'levenshtein_distance': 2,\n",
       " 'damerau_levenshtein_distance': 1,\n",
       " 'jaro_similarity': 0.952,\n",
       " 'jaro_winkler_similarity': 0.952,\n",
       " 'jaccard_similarity': 1.0}"
      ]
     },
     "execution_count": 2,
     "metadata": {},
     "output_type": "execute_result"
    }
   ],
   "source": [
    "import splink.comparison_helpers as ch\n",
    "\n",
    "ch.comparator_score(\"Richard\", \"iRchard\")"
   ]
  },
  {
   "attachments": {},
   "cell_type": "markdown",
   "metadata": {},
   "source": [
    "Now consider a collection of common variations of the name \"Richard\" - which comparators will catch these as the same?"
   ]
  },
  {
   "cell_type": "code",
   "execution_count": 3,
   "metadata": {},
   "outputs": [
    {
     "data": {
      "text/html": [
       "<div>\n",
       "<style scoped>\n",
       "    .dataframe tbody tr th:only-of-type {\n",
       "        vertical-align: middle;\n",
       "    }\n",
       "\n",
       "    .dataframe tbody tr th {\n",
       "        vertical-align: top;\n",
       "    }\n",
       "\n",
       "    .dataframe thead th {\n",
       "        text-align: right;\n",
       "    }\n",
       "</style>\n",
       "<table border=\"1\" class=\"dataframe\">\n",
       "  <thead>\n",
       "    <tr style=\"text-align: right;\">\n",
       "      <th></th>\n",
       "      <th>string1</th>\n",
       "      <th>string2</th>\n",
       "      <th>error_type</th>\n",
       "    </tr>\n",
       "  </thead>\n",
       "  <tbody>\n",
       "    <tr>\n",
       "      <th>0</th>\n",
       "      <td>Richard</td>\n",
       "      <td>Richard</td>\n",
       "      <td>None</td>\n",
       "    </tr>\n",
       "    <tr>\n",
       "      <th>1</th>\n",
       "      <td>Richard</td>\n",
       "      <td>ichard</td>\n",
       "      <td>Deletion</td>\n",
       "    </tr>\n",
       "    <tr>\n",
       "      <th>2</th>\n",
       "      <td>Richard</td>\n",
       "      <td>Richar</td>\n",
       "      <td>Deletion</td>\n",
       "    </tr>\n",
       "    <tr>\n",
       "      <th>3</th>\n",
       "      <td>Richard</td>\n",
       "      <td>iRchard</td>\n",
       "      <td>Transposition</td>\n",
       "    </tr>\n",
       "    <tr>\n",
       "      <th>4</th>\n",
       "      <td>Richard</td>\n",
       "      <td>Richadr</td>\n",
       "      <td>Transposition</td>\n",
       "    </tr>\n",
       "    <tr>\n",
       "      <th>5</th>\n",
       "      <td>Richard</td>\n",
       "      <td>Rich</td>\n",
       "      <td>Shortening</td>\n",
       "    </tr>\n",
       "    <tr>\n",
       "      <th>6</th>\n",
       "      <td>Richard</td>\n",
       "      <td>Rick</td>\n",
       "      <td>Alias</td>\n",
       "    </tr>\n",
       "    <tr>\n",
       "      <th>7</th>\n",
       "      <td>Richard</td>\n",
       "      <td>Ricky</td>\n",
       "      <td>Alias</td>\n",
       "    </tr>\n",
       "    <tr>\n",
       "      <th>8</th>\n",
       "      <td>Richard</td>\n",
       "      <td>Dick</td>\n",
       "      <td>Alias</td>\n",
       "    </tr>\n",
       "    <tr>\n",
       "      <th>9</th>\n",
       "      <td>Richard</td>\n",
       "      <td>Rico</td>\n",
       "      <td>Alias</td>\n",
       "    </tr>\n",
       "  </tbody>\n",
       "</table>\n",
       "</div>"
      ],
      "text/plain": [
       "   string1  string2     error_type\n",
       "0  Richard  Richard           None\n",
       "1  Richard   ichard       Deletion\n",
       "2  Richard   Richar       Deletion\n",
       "3  Richard  iRchard  Transposition\n",
       "4  Richard  Richadr  Transposition\n",
       "5  Richard     Rich     Shortening\n",
       "6  Richard     Rick          Alias\n",
       "7  Richard    Ricky          Alias\n",
       "8  Richard     Dick          Alias\n",
       "9  Richard     Rico          Alias"
      ]
     },
     "execution_count": 3,
     "metadata": {},
     "output_type": "execute_result"
    }
   ],
   "source": [
    "import pandas as pd\n",
    "data = {'string1': ['Richard', 'Richard', 'Richard', 'Richard', 'Richard', 'Richard', 'Richard', 'Richard', 'Richard', 'Richard'],\n",
    "        'string2': ['Richard', 'ichard', 'Richar','iRchard', 'Richadr',  'Rich', 'Rick', 'Ricky', 'Dick', 'Rico'],\n",
    "        'error_type': ['None', 'Deletion', 'Deletion', 'Transposition', 'Transposition', 'Shortening', 'Alias', 'Alias', 'Alias', 'Alias']}\n",
    "df = pd.DataFrame(data)\n",
    "df"
   ]
  },
  {
   "cell_type": "code",
   "execution_count": 4,
   "metadata": {},
   "outputs": [
    {
     "data": {
      "text/html": [
       "<div>\n",
       "<style scoped>\n",
       "    .dataframe tbody tr th:only-of-type {\n",
       "        vertical-align: middle;\n",
       "    }\n",
       "\n",
       "    .dataframe tbody tr th {\n",
       "        vertical-align: top;\n",
       "    }\n",
       "\n",
       "    .dataframe thead th {\n",
       "        text-align: right;\n",
       "    }\n",
       "</style>\n",
       "<table border=\"1\" class=\"dataframe\">\n",
       "  <thead>\n",
       "    <tr style=\"text-align: right;\">\n",
       "      <th></th>\n",
       "      <th>string1</th>\n",
       "      <th>string2</th>\n",
       "      <th>levenshtein_distance</th>\n",
       "      <th>damerau_levenshtein_distance</th>\n",
       "      <th>jaro_similarity</th>\n",
       "      <th>jaro_winkler_similarity</th>\n",
       "      <th>jaccard_similarity</th>\n",
       "    </tr>\n",
       "  </thead>\n",
       "  <tbody>\n",
       "    <tr>\n",
       "      <th>0</th>\n",
       "      <td>Richard</td>\n",
       "      <td>Richard</td>\n",
       "      <td>0</td>\n",
       "      <td>0</td>\n",
       "      <td>1.000</td>\n",
       "      <td>1.000</td>\n",
       "      <td>1.000</td>\n",
       "    </tr>\n",
       "    <tr>\n",
       "      <th>1</th>\n",
       "      <td>Richard</td>\n",
       "      <td>ichard</td>\n",
       "      <td>1</td>\n",
       "      <td>1</td>\n",
       "      <td>0.952</td>\n",
       "      <td>0.952</td>\n",
       "      <td>0.857</td>\n",
       "    </tr>\n",
       "    <tr>\n",
       "      <th>2</th>\n",
       "      <td>Richard</td>\n",
       "      <td>Richar</td>\n",
       "      <td>1</td>\n",
       "      <td>1</td>\n",
       "      <td>0.952</td>\n",
       "      <td>0.971</td>\n",
       "      <td>0.857</td>\n",
       "    </tr>\n",
       "    <tr>\n",
       "      <th>3</th>\n",
       "      <td>Richard</td>\n",
       "      <td>iRchard</td>\n",
       "      <td>2</td>\n",
       "      <td>1</td>\n",
       "      <td>0.952</td>\n",
       "      <td>0.952</td>\n",
       "      <td>1.000</td>\n",
       "    </tr>\n",
       "    <tr>\n",
       "      <th>4</th>\n",
       "      <td>Richard</td>\n",
       "      <td>Richadr</td>\n",
       "      <td>2</td>\n",
       "      <td>1</td>\n",
       "      <td>0.952</td>\n",
       "      <td>0.971</td>\n",
       "      <td>1.000</td>\n",
       "    </tr>\n",
       "    <tr>\n",
       "      <th>5</th>\n",
       "      <td>Richard</td>\n",
       "      <td>Rich</td>\n",
       "      <td>3</td>\n",
       "      <td>3</td>\n",
       "      <td>0.857</td>\n",
       "      <td>0.914</td>\n",
       "      <td>0.571</td>\n",
       "    </tr>\n",
       "    <tr>\n",
       "      <th>6</th>\n",
       "      <td>Richard</td>\n",
       "      <td>Rick</td>\n",
       "      <td>4</td>\n",
       "      <td>4</td>\n",
       "      <td>0.726</td>\n",
       "      <td>0.808</td>\n",
       "      <td>0.375</td>\n",
       "    </tr>\n",
       "    <tr>\n",
       "      <th>7</th>\n",
       "      <td>Richard</td>\n",
       "      <td>Ricky</td>\n",
       "      <td>4</td>\n",
       "      <td>4</td>\n",
       "      <td>0.676</td>\n",
       "      <td>0.676</td>\n",
       "      <td>0.333</td>\n",
       "    </tr>\n",
       "    <tr>\n",
       "      <th>8</th>\n",
       "      <td>Richard</td>\n",
       "      <td>Dick</td>\n",
       "      <td>5</td>\n",
       "      <td>5</td>\n",
       "      <td>0.595</td>\n",
       "      <td>0.595</td>\n",
       "      <td>0.222</td>\n",
       "    </tr>\n",
       "    <tr>\n",
       "      <th>9</th>\n",
       "      <td>Richard</td>\n",
       "      <td>Rico</td>\n",
       "      <td>4</td>\n",
       "      <td>4</td>\n",
       "      <td>0.726</td>\n",
       "      <td>0.808</td>\n",
       "      <td>0.375</td>\n",
       "    </tr>\n",
       "  </tbody>\n",
       "</table>\n",
       "</div>"
      ],
      "text/plain": [
       "   string1  string2  levenshtein_distance  damerau_levenshtein_distance  \\\n",
       "0  Richard  Richard                     0                             0   \n",
       "1  Richard   ichard                     1                             1   \n",
       "2  Richard   Richar                     1                             1   \n",
       "3  Richard  iRchard                     2                             1   \n",
       "4  Richard  Richadr                     2                             1   \n",
       "5  Richard     Rich                     3                             3   \n",
       "6  Richard     Rick                     4                             4   \n",
       "7  Richard    Ricky                     4                             4   \n",
       "8  Richard     Dick                     5                             5   \n",
       "9  Richard     Rico                     4                             4   \n",
       "\n",
       "   jaro_similarity  jaro_winkler_similarity  jaccard_similarity  \n",
       "0            1.000                    1.000               1.000  \n",
       "1            0.952                    0.952               0.857  \n",
       "2            0.952                    0.971               0.857  \n",
       "3            0.952                    0.952               1.000  \n",
       "4            0.952                    0.971               1.000  \n",
       "5            0.857                    0.914               0.571  \n",
       "6            0.726                    0.808               0.375  \n",
       "7            0.676                    0.676               0.333  \n",
       "8            0.595                    0.595               0.222  \n",
       "9            0.726                    0.808               0.375  "
      ]
     },
     "execution_count": 4,
     "metadata": {},
     "output_type": "execute_result"
    }
   ],
   "source": [
    "ch.comparator_score_df(df, \"string1\", \"string2\")"
   ]
  },
  {
   "attachments": {},
   "cell_type": "markdown",
   "metadata": {},
   "source": [
    "Or, in a slightly more visual way"
   ]
  },
  {
   "cell_type": "code",
   "execution_count": 5,
   "metadata": {},
   "outputs": [
    {
     "data": {
      "text/html": [
       "\n",
       "<div id=\"altair-viz-391d7816ab6242fe96bf3b468253eb84\"></div>\n",
       "<script type=\"text/javascript\">\n",
       "  var VEGA_DEBUG = (typeof VEGA_DEBUG == \"undefined\") ? {} : VEGA_DEBUG;\n",
       "  (function(spec, embedOpt){\n",
       "    let outputDiv = document.currentScript.previousElementSibling;\n",
       "    if (outputDiv.id !== \"altair-viz-391d7816ab6242fe96bf3b468253eb84\") {\n",
       "      outputDiv = document.getElementById(\"altair-viz-391d7816ab6242fe96bf3b468253eb84\");\n",
       "    }\n",
       "    const paths = {\n",
       "      \"vega\": \"https://cdn.jsdelivr.net/npm//vega@5?noext\",\n",
       "      \"vega-lib\": \"https://cdn.jsdelivr.net/npm//vega-lib?noext\",\n",
       "      \"vega-lite\": \"https://cdn.jsdelivr.net/npm//vega-lite@4.17.0?noext\",\n",
       "      \"vega-embed\": \"https://cdn.jsdelivr.net/npm//vega-embed@6?noext\",\n",
       "    };\n",
       "\n",
       "    function maybeLoadScript(lib, version) {\n",
       "      var key = `${lib.replace(\"-\", \"\")}_version`;\n",
       "      return (VEGA_DEBUG[key] == version) ?\n",
       "        Promise.resolve(paths[lib]) :\n",
       "        new Promise(function(resolve, reject) {\n",
       "          var s = document.createElement('script');\n",
       "          document.getElementsByTagName(\"head\")[0].appendChild(s);\n",
       "          s.async = true;\n",
       "          s.onload = () => {\n",
       "            VEGA_DEBUG[key] = version;\n",
       "            return resolve(paths[lib]);\n",
       "          };\n",
       "          s.onerror = () => reject(`Error loading script: ${paths[lib]}`);\n",
       "          s.src = paths[lib];\n",
       "        });\n",
       "    }\n",
       "\n",
       "    function showError(err) {\n",
       "      outputDiv.innerHTML = `<div class=\"error\" style=\"color:red;\">${err}</div>`;\n",
       "      throw err;\n",
       "    }\n",
       "\n",
       "    function displayChart(vegaEmbed) {\n",
       "      vegaEmbed(outputDiv, spec, embedOpt)\n",
       "        .catch(err => showError(`Javascript Error: ${err.message}<br>This usually means there's a typo in your chart specification. See the javascript console for the full traceback.`));\n",
       "    }\n",
       "\n",
       "    if(typeof define === \"function\" && define.amd) {\n",
       "      requirejs.config({paths});\n",
       "      require([\"vega-embed\"], displayChart, err => showError(`Error loading script: ${err.message}`));\n",
       "    } else {\n",
       "      maybeLoadScript(\"vega\", \"5\")\n",
       "        .then(() => maybeLoadScript(\"vega-lite\", \"4.17.0\"))\n",
       "        .then(() => maybeLoadScript(\"vega-embed\", \"6\"))\n",
       "        .catch(showError)\n",
       "        .then(() => displayChart(vegaEmbed));\n",
       "    }\n",
       "  })({\"config\": {\"view\": {\"continuousWidth\": 400, \"continuousHeight\": 300}}, \"hconcat\": [{\"layer\": [{\"mark\": \"rect\", \"encoding\": {\"color\": {\"field\": \"score\", \"scale\": {\"domain\": [0, 1], \"range\": [\"red\", \"green\"]}, \"type\": \"quantitative\"}, \"x\": {\"field\": \"comparator\", \"type\": \"ordinal\"}, \"y\": {\"field\": \"strings_to_compare\", \"type\": \"ordinal\"}}, \"height\": 300, \"title\": \"Heatmap of Similarity Scores\", \"width\": 500}, {\"mark\": {\"type\": \"text\", \"baseline\": \"middle\"}, \"encoding\": {\"color\": {\"condition\": {\"value\": \"white\", \"test\": \"(datum.quantity > 3)\"}, \"value\": \"black\"}, \"text\": {\"field\": \"score\", \"format\": \".2f\", \"type\": \"quantitative\"}, \"x\": {\"field\": \"comparator\", \"type\": \"ordinal\"}, \"y\": {\"field\": \"strings_to_compare\", \"type\": \"ordinal\"}}, \"height\": 300, \"title\": \"Heatmap of Similarity Scores\", \"width\": 500}], \"data\": {\"name\": \"data-66c75c3bd0e1a04c2a52c086fa5ad05b\"}}, {\"layer\": [{\"mark\": \"rect\", \"encoding\": {\"color\": {\"field\": \"score\", \"scale\": {\"domain\": [0, 5], \"range\": [\"green\", \"red\"]}, \"type\": \"quantitative\"}, \"x\": {\"field\": \"comparator\", \"type\": \"ordinal\"}, \"y\": {\"field\": \"strings_to_compare\", \"type\": \"ordinal\"}}, \"height\": 300, \"title\": \"Heatmap of Distance Scores\", \"width\": 500}, {\"mark\": {\"type\": \"text\", \"baseline\": \"middle\"}, \"encoding\": {\"color\": {\"condition\": {\"value\": \"white\", \"test\": \"(datum.quantity > 3)\"}, \"value\": \"black\"}, \"text\": {\"field\": \"score\", \"type\": \"quantitative\"}, \"x\": {\"field\": \"comparator\", \"type\": \"ordinal\"}, \"y\": {\"field\": \"strings_to_compare\", \"type\": \"ordinal\"}}, \"height\": 300, \"title\": \"Heatmap of Distance Scores\", \"width\": 500}], \"data\": {\"name\": \"data-11e620a14e4e8d3ddf3d4a56261de891\"}}], \"resolve\": {\"scale\": {\"color\": \"independent\"}}, \"$schema\": \"https://vega.github.io/schema/vega-lite/v4.17.0.json\", \"datasets\": {\"data-66c75c3bd0e1a04c2a52c086fa5ad05b\": [{\"strings_to_compare\": \"Richard, Richard\", \"comparator\": \"jaro_similarity\", \"score\": 1.0}, {\"strings_to_compare\": \"Richard, ichard\", \"comparator\": \"jaro_similarity\", \"score\": 0.952}, {\"strings_to_compare\": \"Richard, Richar\", \"comparator\": \"jaro_similarity\", \"score\": 0.952}, {\"strings_to_compare\": \"Richard, iRchard\", \"comparator\": \"jaro_similarity\", \"score\": 0.952}, {\"strings_to_compare\": \"Richard, Richadr\", \"comparator\": \"jaro_similarity\", \"score\": 0.952}, {\"strings_to_compare\": \"Richard, Rich\", \"comparator\": \"jaro_similarity\", \"score\": 0.857}, {\"strings_to_compare\": \"Richard, Rick\", \"comparator\": \"jaro_similarity\", \"score\": 0.726}, {\"strings_to_compare\": \"Richard, Ricky\", \"comparator\": \"jaro_similarity\", \"score\": 0.676}, {\"strings_to_compare\": \"Richard, Dick\", \"comparator\": \"jaro_similarity\", \"score\": 0.595}, {\"strings_to_compare\": \"Richard, Rico\", \"comparator\": \"jaro_similarity\", \"score\": 0.726}, {\"strings_to_compare\": \"Richard, Richard\", \"comparator\": \"jaro_winkler_similarity\", \"score\": 1.0}, {\"strings_to_compare\": \"Richard, ichard\", \"comparator\": \"jaro_winkler_similarity\", \"score\": 0.952}, {\"strings_to_compare\": \"Richard, Richar\", \"comparator\": \"jaro_winkler_similarity\", \"score\": 0.971}, {\"strings_to_compare\": \"Richard, iRchard\", \"comparator\": \"jaro_winkler_similarity\", \"score\": 0.952}, {\"strings_to_compare\": \"Richard, Richadr\", \"comparator\": \"jaro_winkler_similarity\", \"score\": 0.971}, {\"strings_to_compare\": \"Richard, Rich\", \"comparator\": \"jaro_winkler_similarity\", \"score\": 0.914}, {\"strings_to_compare\": \"Richard, Rick\", \"comparator\": \"jaro_winkler_similarity\", \"score\": 0.808}, {\"strings_to_compare\": \"Richard, Ricky\", \"comparator\": \"jaro_winkler_similarity\", \"score\": 0.676}, {\"strings_to_compare\": \"Richard, Dick\", \"comparator\": \"jaro_winkler_similarity\", \"score\": 0.595}, {\"strings_to_compare\": \"Richard, Rico\", \"comparator\": \"jaro_winkler_similarity\", \"score\": 0.808}, {\"strings_to_compare\": \"Richard, Richard\", \"comparator\": \"jaccard_similarity\", \"score\": 1.0}, {\"strings_to_compare\": \"Richard, ichard\", \"comparator\": \"jaccard_similarity\", \"score\": 0.857}, {\"strings_to_compare\": \"Richard, Richar\", \"comparator\": \"jaccard_similarity\", \"score\": 0.857}, {\"strings_to_compare\": \"Richard, iRchard\", \"comparator\": \"jaccard_similarity\", \"score\": 1.0}, {\"strings_to_compare\": \"Richard, Richadr\", \"comparator\": \"jaccard_similarity\", \"score\": 1.0}, {\"strings_to_compare\": \"Richard, Rich\", \"comparator\": \"jaccard_similarity\", \"score\": 0.571}, {\"strings_to_compare\": \"Richard, Rick\", \"comparator\": \"jaccard_similarity\", \"score\": 0.375}, {\"strings_to_compare\": \"Richard, Ricky\", \"comparator\": \"jaccard_similarity\", \"score\": 0.333}, {\"strings_to_compare\": \"Richard, Dick\", \"comparator\": \"jaccard_similarity\", \"score\": 0.222}, {\"strings_to_compare\": \"Richard, Rico\", \"comparator\": \"jaccard_similarity\", \"score\": 0.375}], \"data-11e620a14e4e8d3ddf3d4a56261de891\": [{\"strings_to_compare\": \"Richard, Richard\", \"comparator\": \"levenshtein_distance\", \"score\": 0.0}, {\"strings_to_compare\": \"Richard, ichard\", \"comparator\": \"levenshtein_distance\", \"score\": 1.0}, {\"strings_to_compare\": \"Richard, Richar\", \"comparator\": \"levenshtein_distance\", \"score\": 1.0}, {\"strings_to_compare\": \"Richard, iRchard\", \"comparator\": \"levenshtein_distance\", \"score\": 2.0}, {\"strings_to_compare\": \"Richard, Richadr\", \"comparator\": \"levenshtein_distance\", \"score\": 2.0}, {\"strings_to_compare\": \"Richard, Rich\", \"comparator\": \"levenshtein_distance\", \"score\": 3.0}, {\"strings_to_compare\": \"Richard, Rick\", \"comparator\": \"levenshtein_distance\", \"score\": 4.0}, {\"strings_to_compare\": \"Richard, Ricky\", \"comparator\": \"levenshtein_distance\", \"score\": 4.0}, {\"strings_to_compare\": \"Richard, Dick\", \"comparator\": \"levenshtein_distance\", \"score\": 5.0}, {\"strings_to_compare\": \"Richard, Rico\", \"comparator\": \"levenshtein_distance\", \"score\": 4.0}, {\"strings_to_compare\": \"Richard, Richard\", \"comparator\": \"damerau_levenshtein_distance\", \"score\": 0.0}, {\"strings_to_compare\": \"Richard, ichard\", \"comparator\": \"damerau_levenshtein_distance\", \"score\": 1.0}, {\"strings_to_compare\": \"Richard, Richar\", \"comparator\": \"damerau_levenshtein_distance\", \"score\": 1.0}, {\"strings_to_compare\": \"Richard, iRchard\", \"comparator\": \"damerau_levenshtein_distance\", \"score\": 1.0}, {\"strings_to_compare\": \"Richard, Richadr\", \"comparator\": \"damerau_levenshtein_distance\", \"score\": 1.0}, {\"strings_to_compare\": \"Richard, Rich\", \"comparator\": \"damerau_levenshtein_distance\", \"score\": 3.0}, {\"strings_to_compare\": \"Richard, Rick\", \"comparator\": \"damerau_levenshtein_distance\", \"score\": 4.0}, {\"strings_to_compare\": \"Richard, Ricky\", \"comparator\": \"damerau_levenshtein_distance\", \"score\": 4.0}, {\"strings_to_compare\": \"Richard, Dick\", \"comparator\": \"damerau_levenshtein_distance\", \"score\": 5.0}, {\"strings_to_compare\": \"Richard, Rico\", \"comparator\": \"damerau_levenshtein_distance\", \"score\": 4.0}]}}, {\"mode\": \"vega-lite\"});\n",
       "</script>"
      ],
      "text/plain": [
       "alt.HConcatChart(...)"
      ]
     },
     "execution_count": 5,
     "metadata": {},
     "output_type": "execute_result"
    }
   ],
   "source": [
    "ch.comparator_score_heatmap(df, \"string1\", \"string2\")"
   ]
  },
  {
   "attachments": {},
   "cell_type": "markdown",
   "metadata": {},
   "source": [
    "## Choosing thresholds\n",
    "\n",
    "We can add distance and similarity thresholds to the comparators to see what strings would be included in a given comparison level:"
   ]
  },
  {
   "cell_type": "code",
   "execution_count": 6,
   "metadata": {},
   "outputs": [
    {
     "data": {
      "text/html": [
       "<div>\n",
       "<style scoped>\n",
       "    .dataframe tbody tr th:only-of-type {\n",
       "        vertical-align: middle;\n",
       "    }\n",
       "\n",
       "    .dataframe tbody tr th {\n",
       "        vertical-align: top;\n",
       "    }\n",
       "\n",
       "    .dataframe thead th {\n",
       "        text-align: right;\n",
       "    }\n",
       "</style>\n",
       "<table border=\"1\" class=\"dataframe\">\n",
       "  <thead>\n",
       "    <tr style=\"text-align: right;\">\n",
       "      <th></th>\n",
       "      <th>string1</th>\n",
       "      <th>string2</th>\n",
       "      <th>levenshtein_distance</th>\n",
       "      <th>damerau_levenshtein_distance</th>\n",
       "      <th>jaro_similarity</th>\n",
       "      <th>jaro_winkler_similarity</th>\n",
       "      <th>jaccard_similarity</th>\n",
       "    </tr>\n",
       "  </thead>\n",
       "  <tbody>\n",
       "    <tr>\n",
       "      <th>0</th>\n",
       "      <td>Richard</td>\n",
       "      <td>Richard</td>\n",
       "      <td>0</td>\n",
       "      <td>0</td>\n",
       "      <td>1.000</td>\n",
       "      <td>1.000</td>\n",
       "      <td>1.000</td>\n",
       "    </tr>\n",
       "    <tr>\n",
       "      <th>1</th>\n",
       "      <td>Richard</td>\n",
       "      <td>ichard</td>\n",
       "      <td>1</td>\n",
       "      <td>1</td>\n",
       "      <td>0.952</td>\n",
       "      <td>0.952</td>\n",
       "      <td>0.857</td>\n",
       "    </tr>\n",
       "    <tr>\n",
       "      <th>2</th>\n",
       "      <td>Richard</td>\n",
       "      <td>Richar</td>\n",
       "      <td>1</td>\n",
       "      <td>1</td>\n",
       "      <td>0.952</td>\n",
       "      <td>0.971</td>\n",
       "      <td>0.857</td>\n",
       "    </tr>\n",
       "    <tr>\n",
       "      <th>3</th>\n",
       "      <td>Richard</td>\n",
       "      <td>iRchard</td>\n",
       "      <td>2</td>\n",
       "      <td>1</td>\n",
       "      <td>0.952</td>\n",
       "      <td>0.952</td>\n",
       "      <td>1.000</td>\n",
       "    </tr>\n",
       "    <tr>\n",
       "      <th>4</th>\n",
       "      <td>Richard</td>\n",
       "      <td>Richadr</td>\n",
       "      <td>2</td>\n",
       "      <td>1</td>\n",
       "      <td>0.952</td>\n",
       "      <td>0.971</td>\n",
       "      <td>1.000</td>\n",
       "    </tr>\n",
       "    <tr>\n",
       "      <th>5</th>\n",
       "      <td>Richard</td>\n",
       "      <td>Rich</td>\n",
       "      <td>3</td>\n",
       "      <td>3</td>\n",
       "      <td>0.857</td>\n",
       "      <td>0.914</td>\n",
       "      <td>0.571</td>\n",
       "    </tr>\n",
       "    <tr>\n",
       "      <th>6</th>\n",
       "      <td>Richard</td>\n",
       "      <td>Rick</td>\n",
       "      <td>4</td>\n",
       "      <td>4</td>\n",
       "      <td>0.726</td>\n",
       "      <td>0.808</td>\n",
       "      <td>0.375</td>\n",
       "    </tr>\n",
       "    <tr>\n",
       "      <th>7</th>\n",
       "      <td>Richard</td>\n",
       "      <td>Ricky</td>\n",
       "      <td>4</td>\n",
       "      <td>4</td>\n",
       "      <td>0.676</td>\n",
       "      <td>0.676</td>\n",
       "      <td>0.333</td>\n",
       "    </tr>\n",
       "    <tr>\n",
       "      <th>8</th>\n",
       "      <td>Richard</td>\n",
       "      <td>Dick</td>\n",
       "      <td>5</td>\n",
       "      <td>5</td>\n",
       "      <td>0.595</td>\n",
       "      <td>0.595</td>\n",
       "      <td>0.222</td>\n",
       "    </tr>\n",
       "    <tr>\n",
       "      <th>9</th>\n",
       "      <td>Richard</td>\n",
       "      <td>Rico</td>\n",
       "      <td>4</td>\n",
       "      <td>4</td>\n",
       "      <td>0.726</td>\n",
       "      <td>0.808</td>\n",
       "      <td>0.375</td>\n",
       "    </tr>\n",
       "  </tbody>\n",
       "</table>\n",
       "</div>"
      ],
      "text/plain": [
       "   string1  string2  levenshtein_distance  damerau_levenshtein_distance  \\\n",
       "0  Richard  Richard                     0                             0   \n",
       "1  Richard   ichard                     1                             1   \n",
       "2  Richard   Richar                     1                             1   \n",
       "3  Richard  iRchard                     2                             1   \n",
       "4  Richard  Richadr                     2                             1   \n",
       "5  Richard     Rich                     3                             3   \n",
       "6  Richard     Rick                     4                             4   \n",
       "7  Richard    Ricky                     4                             4   \n",
       "8  Richard     Dick                     5                             5   \n",
       "9  Richard     Rico                     4                             4   \n",
       "\n",
       "   jaro_similarity  jaro_winkler_similarity  jaccard_similarity  \n",
       "0            1.000                    1.000               1.000  \n",
       "1            0.952                    0.952               0.857  \n",
       "2            0.952                    0.971               0.857  \n",
       "3            0.952                    0.952               1.000  \n",
       "4            0.952                    0.971               1.000  \n",
       "5            0.857                    0.914               0.571  \n",
       "6            0.726                    0.808               0.375  \n",
       "7            0.676                    0.676               0.333  \n",
       "8            0.595                    0.595               0.222  \n",
       "9            0.726                    0.808               0.375  "
      ]
     },
     "execution_count": 6,
     "metadata": {},
     "output_type": "execute_result"
    }
   ],
   "source": [
    "ch.comparator_score_df(df, \"string1\", \"string2\")"
   ]
  },
  {
   "cell_type": "code",
   "execution_count": 7,
   "metadata": {},
   "outputs": [
    {
     "data": {
      "text/html": [
       "\n",
       "<div id=\"altair-viz-2faecb0777654a0ca2eaac5992cc171f\"></div>\n",
       "<script type=\"text/javascript\">\n",
       "  var VEGA_DEBUG = (typeof VEGA_DEBUG == \"undefined\") ? {} : VEGA_DEBUG;\n",
       "  (function(spec, embedOpt){\n",
       "    let outputDiv = document.currentScript.previousElementSibling;\n",
       "    if (outputDiv.id !== \"altair-viz-2faecb0777654a0ca2eaac5992cc171f\") {\n",
       "      outputDiv = document.getElementById(\"altair-viz-2faecb0777654a0ca2eaac5992cc171f\");\n",
       "    }\n",
       "    const paths = {\n",
       "      \"vega\": \"https://cdn.jsdelivr.net/npm//vega@5?noext\",\n",
       "      \"vega-lib\": \"https://cdn.jsdelivr.net/npm//vega-lib?noext\",\n",
       "      \"vega-lite\": \"https://cdn.jsdelivr.net/npm//vega-lite@4.17.0?noext\",\n",
       "      \"vega-embed\": \"https://cdn.jsdelivr.net/npm//vega-embed@6?noext\",\n",
       "    };\n",
       "\n",
       "    function maybeLoadScript(lib, version) {\n",
       "      var key = `${lib.replace(\"-\", \"\")}_version`;\n",
       "      return (VEGA_DEBUG[key] == version) ?\n",
       "        Promise.resolve(paths[lib]) :\n",
       "        new Promise(function(resolve, reject) {\n",
       "          var s = document.createElement('script');\n",
       "          document.getElementsByTagName(\"head\")[0].appendChild(s);\n",
       "          s.async = true;\n",
       "          s.onload = () => {\n",
       "            VEGA_DEBUG[key] = version;\n",
       "            return resolve(paths[lib]);\n",
       "          };\n",
       "          s.onerror = () => reject(`Error loading script: ${paths[lib]}`);\n",
       "          s.src = paths[lib];\n",
       "        });\n",
       "    }\n",
       "\n",
       "    function showError(err) {\n",
       "      outputDiv.innerHTML = `<div class=\"error\" style=\"color:red;\">${err}</div>`;\n",
       "      throw err;\n",
       "    }\n",
       "\n",
       "    function displayChart(vegaEmbed) {\n",
       "      vegaEmbed(outputDiv, spec, embedOpt)\n",
       "        .catch(err => showError(`Javascript Error: ${err.message}<br>This usually means there's a typo in your chart specification. See the javascript console for the full traceback.`));\n",
       "    }\n",
       "\n",
       "    if(typeof define === \"function\" && define.amd) {\n",
       "      requirejs.config({paths});\n",
       "      require([\"vega-embed\"], displayChart, err => showError(`Error loading script: ${err.message}`));\n",
       "    } else {\n",
       "      maybeLoadScript(\"vega\", \"5\")\n",
       "        .then(() => maybeLoadScript(\"vega-lite\", \"4.17.0\"))\n",
       "        .then(() => maybeLoadScript(\"vega-embed\", \"6\"))\n",
       "        .catch(showError)\n",
       "        .then(() => displayChart(vegaEmbed));\n",
       "    }\n",
       "  })({\"config\": {\"view\": {\"continuousWidth\": 400, \"continuousHeight\": 300}}, \"layer\": [{\"mark\": \"rect\", \"encoding\": {\"color\": {\"field\": \"threshold_match\", \"scale\": {\"range\": [\"red\", \"green\"]}, \"type\": \"ordinal\"}, \"x\": {\"field\": \"comparator\", \"type\": \"ordinal\"}, \"y\": {\"field\": \"strings_to_compare\", \"type\": \"ordinal\"}}, \"height\": 300, \"title\": \"Heatmap of Matches for distance_threshold = 2,similarity_threshold = 0.9\", \"width\": 500}, {\"mark\": {\"type\": \"text\", \"baseline\": \"middle\"}, \"encoding\": {\"color\": {\"condition\": {\"value\": \"white\", \"test\": \"(datum.quantity > 3)\"}, \"value\": \"black\"}, \"text\": {\"field\": \"score\", \"type\": \"ordinal\"}, \"x\": {\"field\": \"comparator\", \"type\": \"ordinal\"}, \"y\": {\"field\": \"strings_to_compare\", \"type\": \"ordinal\"}}, \"height\": 300, \"title\": \"Heatmap of Matches for distance_threshold = 2,similarity_threshold = 0.9\", \"width\": 500}], \"data\": {\"name\": \"data-935a7d2e3f15e6e66bb876c903493cf7\"}, \"$schema\": \"https://vega.github.io/schema/vega-lite/v4.17.0.json\", \"datasets\": {\"data-935a7d2e3f15e6e66bb876c903493cf7\": [{\"strings_to_compare\": \"Richard, Richard\", \"comparator\": \"jaro_similarity\", \"score\": 1.0, \"threshold_match\": true}, {\"strings_to_compare\": \"Richard, ichard\", \"comparator\": \"jaro_similarity\", \"score\": 0.952, \"threshold_match\": true}, {\"strings_to_compare\": \"Richard, Richar\", \"comparator\": \"jaro_similarity\", \"score\": 0.952, \"threshold_match\": true}, {\"strings_to_compare\": \"Richard, iRchard\", \"comparator\": \"jaro_similarity\", \"score\": 0.952, \"threshold_match\": true}, {\"strings_to_compare\": \"Richard, Richadr\", \"comparator\": \"jaro_similarity\", \"score\": 0.952, \"threshold_match\": true}, {\"strings_to_compare\": \"Richard, Rich\", \"comparator\": \"jaro_similarity\", \"score\": 0.857, \"threshold_match\": false}, {\"strings_to_compare\": \"Richard, Rick\", \"comparator\": \"jaro_similarity\", \"score\": 0.726, \"threshold_match\": false}, {\"strings_to_compare\": \"Richard, Ricky\", \"comparator\": \"jaro_similarity\", \"score\": 0.676, \"threshold_match\": false}, {\"strings_to_compare\": \"Richard, Dick\", \"comparator\": \"jaro_similarity\", \"score\": 0.595, \"threshold_match\": false}, {\"strings_to_compare\": \"Richard, Rico\", \"comparator\": \"jaro_similarity\", \"score\": 0.726, \"threshold_match\": false}, {\"strings_to_compare\": \"Richard, Richard\", \"comparator\": \"jaro_winkler_similarity\", \"score\": 1.0, \"threshold_match\": true}, {\"strings_to_compare\": \"Richard, ichard\", \"comparator\": \"jaro_winkler_similarity\", \"score\": 0.952, \"threshold_match\": true}, {\"strings_to_compare\": \"Richard, Richar\", \"comparator\": \"jaro_winkler_similarity\", \"score\": 0.971, \"threshold_match\": true}, {\"strings_to_compare\": \"Richard, iRchard\", \"comparator\": \"jaro_winkler_similarity\", \"score\": 0.952, \"threshold_match\": true}, {\"strings_to_compare\": \"Richard, Richadr\", \"comparator\": \"jaro_winkler_similarity\", \"score\": 0.971, \"threshold_match\": true}, {\"strings_to_compare\": \"Richard, Rich\", \"comparator\": \"jaro_winkler_similarity\", \"score\": 0.914, \"threshold_match\": true}, {\"strings_to_compare\": \"Richard, Rick\", \"comparator\": \"jaro_winkler_similarity\", \"score\": 0.808, \"threshold_match\": false}, {\"strings_to_compare\": \"Richard, Ricky\", \"comparator\": \"jaro_winkler_similarity\", \"score\": 0.676, \"threshold_match\": false}, {\"strings_to_compare\": \"Richard, Dick\", \"comparator\": \"jaro_winkler_similarity\", \"score\": 0.595, \"threshold_match\": false}, {\"strings_to_compare\": \"Richard, Rico\", \"comparator\": \"jaro_winkler_similarity\", \"score\": 0.808, \"threshold_match\": false}, {\"strings_to_compare\": \"Richard, Richard\", \"comparator\": \"jaccard_similarity\", \"score\": 1.0, \"threshold_match\": true}, {\"strings_to_compare\": \"Richard, ichard\", \"comparator\": \"jaccard_similarity\", \"score\": 0.857, \"threshold_match\": false}, {\"strings_to_compare\": \"Richard, Richar\", \"comparator\": \"jaccard_similarity\", \"score\": 0.857, \"threshold_match\": false}, {\"strings_to_compare\": \"Richard, iRchard\", \"comparator\": \"jaccard_similarity\", \"score\": 1.0, \"threshold_match\": true}, {\"strings_to_compare\": \"Richard, Richadr\", \"comparator\": \"jaccard_similarity\", \"score\": 1.0, \"threshold_match\": true}, {\"strings_to_compare\": \"Richard, Rich\", \"comparator\": \"jaccard_similarity\", \"score\": 0.571, \"threshold_match\": false}, {\"strings_to_compare\": \"Richard, Rick\", \"comparator\": \"jaccard_similarity\", \"score\": 0.375, \"threshold_match\": false}, {\"strings_to_compare\": \"Richard, Ricky\", \"comparator\": \"jaccard_similarity\", \"score\": 0.333, \"threshold_match\": false}, {\"strings_to_compare\": \"Richard, Dick\", \"comparator\": \"jaccard_similarity\", \"score\": 0.222, \"threshold_match\": false}, {\"strings_to_compare\": \"Richard, Rico\", \"comparator\": \"jaccard_similarity\", \"score\": 0.375, \"threshold_match\": false}, {\"strings_to_compare\": \"Richard, Richard\", \"comparator\": \"levenshtein_distance\", \"score\": 0.0, \"threshold_match\": true}, {\"strings_to_compare\": \"Richard, ichard\", \"comparator\": \"levenshtein_distance\", \"score\": 1.0, \"threshold_match\": true}, {\"strings_to_compare\": \"Richard, Richar\", \"comparator\": \"levenshtein_distance\", \"score\": 1.0, \"threshold_match\": true}, {\"strings_to_compare\": \"Richard, iRchard\", \"comparator\": \"levenshtein_distance\", \"score\": 2.0, \"threshold_match\": true}, {\"strings_to_compare\": \"Richard, Richadr\", \"comparator\": \"levenshtein_distance\", \"score\": 2.0, \"threshold_match\": true}, {\"strings_to_compare\": \"Richard, Rich\", \"comparator\": \"levenshtein_distance\", \"score\": 3.0, \"threshold_match\": false}, {\"strings_to_compare\": \"Richard, Rick\", \"comparator\": \"levenshtein_distance\", \"score\": 4.0, \"threshold_match\": false}, {\"strings_to_compare\": \"Richard, Ricky\", \"comparator\": \"levenshtein_distance\", \"score\": 4.0, \"threshold_match\": false}, {\"strings_to_compare\": \"Richard, Dick\", \"comparator\": \"levenshtein_distance\", \"score\": 5.0, \"threshold_match\": false}, {\"strings_to_compare\": \"Richard, Rico\", \"comparator\": \"levenshtein_distance\", \"score\": 4.0, \"threshold_match\": false}, {\"strings_to_compare\": \"Richard, Richard\", \"comparator\": \"damerau_levenshtein_distance\", \"score\": 0.0, \"threshold_match\": true}, {\"strings_to_compare\": \"Richard, ichard\", \"comparator\": \"damerau_levenshtein_distance\", \"score\": 1.0, \"threshold_match\": true}, {\"strings_to_compare\": \"Richard, Richar\", \"comparator\": \"damerau_levenshtein_distance\", \"score\": 1.0, \"threshold_match\": true}, {\"strings_to_compare\": \"Richard, iRchard\", \"comparator\": \"damerau_levenshtein_distance\", \"score\": 1.0, \"threshold_match\": true}, {\"strings_to_compare\": \"Richard, Richadr\", \"comparator\": \"damerau_levenshtein_distance\", \"score\": 1.0, \"threshold_match\": true}, {\"strings_to_compare\": \"Richard, Rich\", \"comparator\": \"damerau_levenshtein_distance\", \"score\": 3.0, \"threshold_match\": false}, {\"strings_to_compare\": \"Richard, Rick\", \"comparator\": \"damerau_levenshtein_distance\", \"score\": 4.0, \"threshold_match\": false}, {\"strings_to_compare\": \"Richard, Ricky\", \"comparator\": \"damerau_levenshtein_distance\", \"score\": 4.0, \"threshold_match\": false}, {\"strings_to_compare\": \"Richard, Dick\", \"comparator\": \"damerau_levenshtein_distance\", \"score\": 5.0, \"threshold_match\": false}, {\"strings_to_compare\": \"Richard, Rico\", \"comparator\": \"damerau_levenshtein_distance\", \"score\": 4.0, \"threshold_match\": false}]}}, {\"mode\": \"vega-lite\"});\n",
       "</script>"
      ],
      "text/plain": [
       "alt.LayerChart(...)"
      ]
     },
     "execution_count": 7,
     "metadata": {},
     "output_type": "execute_result"
    }
   ],
   "source": [
    "ch.comparator_score_threshold_heatmap(df, \"string1\", \"string2\", \n",
    "                    distance_threshold = 2, \n",
    "                    similarity_threshold = 0.9)"
   ]
  },
  {
   "attachments": {},
   "cell_type": "markdown",
   "metadata": {},
   "source": [
    "### Phonetic Matching \n",
    "\n",
    "There are similar functions available within splink to help users get familiar with phonetic transformations. You can create similar visualisations to string comparators.\n",
    "\n",
    "To see the phonetic transformations for a single string, there is the `phonetic_transform` function:"
   ]
  },
  {
   "cell_type": "code",
   "execution_count": 8,
   "metadata": {},
   "outputs": [
    {
     "data": {
      "text/plain": [
       "{'soundex': 'R02063', 'metaphone': 'RXRT', 'dmetaphone': ('RXRT', 'RKRT')}"
      ]
     },
     "execution_count": 8,
     "metadata": {},
     "output_type": "execute_result"
    }
   ],
   "source": [
    "import splink.comparison_helpers\n",
    "\n",
    "ch.phonetic_transform(\"Richard\")"
   ]
  },
  {
   "cell_type": "code",
   "execution_count": 9,
   "metadata": {},
   "outputs": [
    {
     "data": {
      "text/plain": [
       "{'soundex': 'R01063', 'metaphone': 'RPRT', 'dmetaphone': ('RPRT', '')}"
      ]
     },
     "execution_count": 9,
     "metadata": {},
     "output_type": "execute_result"
    }
   ],
   "source": [
    "ch.phonetic_transform(\"Robert\")"
   ]
  },
  {
   "attachments": {},
   "cell_type": "markdown",
   "metadata": {},
   "source": [
    "Or, for comparing two strings for phonetic similarity:"
   ]
  },
  {
   "cell_type": "code",
   "execution_count": 10,
   "metadata": {},
   "outputs": [
    {
     "data": {
      "text/plain": [
       "[True, True, True]"
      ]
     },
     "execution_count": 10,
     "metadata": {},
     "output_type": "execute_result"
    }
   ],
   "source": [
    "ch.phonetic_match(\"Stephen\", \"Steven\")"
   ]
  },
  {
   "attachments": {},
   "cell_type": "markdown",
   "metadata": {},
   "source": [
    "Consider a dataframe, similar to above:"
   ]
  },
  {
   "cell_type": "code",
   "execution_count": 11,
   "metadata": {},
   "outputs": [
    {
     "data": {
      "text/html": [
       "<div>\n",
       "<style scoped>\n",
       "    .dataframe tbody tr th:only-of-type {\n",
       "        vertical-align: middle;\n",
       "    }\n",
       "\n",
       "    .dataframe tbody tr th {\n",
       "        vertical-align: top;\n",
       "    }\n",
       "\n",
       "    .dataframe thead th {\n",
       "        text-align: right;\n",
       "    }\n",
       "</style>\n",
       "<table border=\"1\" class=\"dataframe\">\n",
       "  <thead>\n",
       "    <tr style=\"text-align: right;\">\n",
       "      <th></th>\n",
       "      <th>string1</th>\n",
       "      <th>string2</th>\n",
       "    </tr>\n",
       "  </thead>\n",
       "  <tbody>\n",
       "    <tr>\n",
       "      <th>0</th>\n",
       "      <td>Stephen</td>\n",
       "      <td>Stephen</td>\n",
       "    </tr>\n",
       "    <tr>\n",
       "      <th>1</th>\n",
       "      <td>Stephen</td>\n",
       "      <td>Steven</td>\n",
       "    </tr>\n",
       "    <tr>\n",
       "      <th>2</th>\n",
       "      <td>Stephen</td>\n",
       "      <td>Stephan</td>\n",
       "    </tr>\n",
       "    <tr>\n",
       "      <th>3</th>\n",
       "      <td>Aidan</td>\n",
       "      <td>Hayden</td>\n",
       "    </tr>\n",
       "    <tr>\n",
       "      <th>4</th>\n",
       "      <td>Lily</td>\n",
       "      <td>Billy</td>\n",
       "    </tr>\n",
       "  </tbody>\n",
       "</table>\n",
       "</div>"
      ],
      "text/plain": [
       "   string1  string2\n",
       "0  Stephen  Stephen\n",
       "1  Stephen   Steven\n",
       "2  Stephen  Stephan\n",
       "3    Aidan   Hayden\n",
       "4     Lily    Billy"
      ]
     },
     "execution_count": 11,
     "metadata": {},
     "output_type": "execute_result"
    }
   ],
   "source": [
    "df = pd.DataFrame({'string1': ['Stephen', 'Stephen', 'Stephen', 'Stephen' 'Aidan', 'Lily', 'Caleb', 'Emma', 'Jason', 'Maya', 'Ryan', 'Ava', 'Leila', 'Oliver'],\n",
    "                'string2': ['Stephen', 'Steven', 'Stephan', 'Steve', 'Hayden', 'Billy', 'Kaleb', 'Gemma', 'Mason', 'Kaya', 'Brian', 'Ada', 'Lila', 'Alexander']})\n",
    "\n",
    "df.head()"
   ]
  },
  {
   "cell_type": "code",
   "execution_count": 12,
   "metadata": {},
   "outputs": [
    {
     "name": "stdout",
     "output_type": "stream",
     "text": [
      "Stephen Stephen\n",
      "[True, True, True]\n"
     ]
    },
    {
     "ename": "TypeError",
     "evalue": "list indices must be integers or slices, not str",
     "output_type": "error",
     "traceback": [
      "\u001b[0;31m---------------------------------------------------------------------------\u001b[0m",
      "\u001b[0;31mTypeError\u001b[0m                                 Traceback (most recent call last)",
      "\u001b[1;32m/Users/rosskennedy/splink/docs/topic_guides/choosing_comparators.ipynb Cell 21\u001b[0m in \u001b[0;36m1\n\u001b[0;32m----> <a href='vscode-notebook-cell:/Users/rosskennedy/splink/docs/topic_guides/choosing_comparators.ipynb#X26sZmlsZQ%3D%3D?line=0'>1</a>\u001b[0m ch\u001b[39m.\u001b[39mphonetic_match_df(df, \u001b[39m\"\u001b[39m\u001b[39mstring1\u001b[39m\u001b[39m\"\u001b[39m, \u001b[39m\"\u001b[39m\u001b[39mstring2\u001b[39m\u001b[39m\"\u001b[39m)\n",
      "File \u001b[0;32m~/splink/splink/comparison_helpers.py:312\u001b[0m, in \u001b[0;36mphonetic_match_df\u001b[0;34m(df, col1, col2)\u001b[0m\n\u001b[1;32m    310\u001b[0m row_matches \u001b[39m=\u001b[39m phonetic_match(str1, str2)\n\u001b[1;32m    311\u001b[0m \u001b[39mprint\u001b[39m(row_matches)\n\u001b[0;32m--> 312\u001b[0m row_matches[\u001b[39m\"\u001b[39;49m\u001b[39mstring1\u001b[39;49m\u001b[39m\"\u001b[39;49m] \u001b[39m=\u001b[39m str1\n\u001b[1;32m    313\u001b[0m row_matches[\u001b[39m\"\u001b[39m\u001b[39mstring2\u001b[39m\u001b[39m\"\u001b[39m] \u001b[39m=\u001b[39m str2\n\u001b[1;32m    314\u001b[0m matches\u001b[39m.\u001b[39mappend(row_matches)\n",
      "\u001b[0;31mTypeError\u001b[0m: list indices must be integers or slices, not str"
     ]
    }
   ],
   "source": [
    "ch.phonetic_match_df(df, \"string1\", \"string2\")"
   ]
  },
  {
   "cell_type": "code",
   "execution_count": null,
   "metadata": {},
   "outputs": [],
   "source": []
  }
 ],
 "metadata": {
  "kernelspec": {
   "display_name": "base",
   "language": "python",
   "name": "python3"
  },
  "language_info": {
   "codemirror_mode": {
    "name": "ipython",
    "version": 3
   },
   "file_extension": ".py",
   "mimetype": "text/x-python",
   "name": "python",
   "nbconvert_exporter": "python",
   "pygments_lexer": "ipython3",
   "version": "3.9.12"
  },
  "orig_nbformat": 4
 },
 "nbformat": 4,
 "nbformat_minor": 2
}
