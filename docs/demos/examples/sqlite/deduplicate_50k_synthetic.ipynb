{
  "cells": [
    {
      "attachments": {},
      "cell_type": "markdown",
      "metadata": {},
      "source": [
        "## Linking a dataset of real historical persons\n",
        "\n",
        "In this example, we deduplicate a more realistic dataset. The data is based on historical persons scraped from wikidata. Duplicate records are introduced with a variety of errors introduced.\n",
        "\n",
        "Note, as explained in the [backends topic guide](https://moj-analytical-services.github.io/splink/topic_guides/backends.html#sqlite), SQLite does not natively support string fuzzy matching functions such as `damareau-levenshtein` and `jaro-winkler` (as used in this example). Instead, these have been imported as python User Defined Functions (UDFs). One drawback of python UDFs is that they are considerably slower than native-SQL comparisons. As such, if you are hitting issues with large run times, consider switching to DuckDB (or some other backend).\n"
      ]
    },
    {
      "cell_type": "markdown",
      "metadata": {},
      "source": [
        "<a target=\"_blank\" href=\"https://colab.research.google.com/github/moj-analytical-services/splink/blob/splink4_dev/docs/demos/examples/sqlite/deduplicate_50k_synthetic.ipynb\">\n",
        "  <img src=\"https://colab.research.google.com/assets/colab-badge.svg\" alt=\"Open In Colab\"/>\n",
        "</a>"
      ]
    },
    {
      "cell_type": "code",
      "execution_count": 1,
      "metadata": {
        "execution": {
          "iopub.execute_input": "2024-05-15T18:41:30.610213Z",
          "iopub.status.busy": "2024-05-15T18:41:30.609846Z",
          "iopub.status.idle": "2024-05-15T18:41:30.615335Z",
          "shell.execute_reply": "2024-05-15T18:41:30.614566Z"
        }
      },
      "outputs": [],
      "source": [
        "# Uncomment and run this cell if you're running in Google Colab.\n",
        "# !pip install git+https://github.com/moj-analytical-services/splink.git@splink4_dev\n",
        "# !pip install rapidfuzz"
      ]
    },
    {
      "cell_type": "code",
      "execution_count": 2,
      "metadata": {
        "execution": {
          "iopub.execute_input": "2024-05-15T18:41:30.619046Z",
          "iopub.status.busy": "2024-05-15T18:41:30.618760Z",
          "iopub.status.idle": "2024-05-15T18:41:31.933775Z",
          "shell.execute_reply": "2024-05-15T18:41:31.932989Z"
        }
      },
      "outputs": [],
      "source": [
        "import pandas as pd\n",
        "\n",
        "from splink import splink_datasets\n",
        "\n",
        "pd.options.display.max_rows = 1000\n",
        "# reduce size of dataset to make things run faster\n",
        "df = splink_datasets.historical_50k.sample(5000)"
      ]
    },
    {
      "cell_type": "code",
      "execution_count": 3,
      "metadata": {
        "execution": {
          "iopub.execute_input": "2024-05-15T18:41:31.938051Z",
          "iopub.status.busy": "2024-05-15T18:41:31.937677Z",
          "iopub.status.idle": "2024-05-15T18:41:32.856954Z",
          "shell.execute_reply": "2024-05-15T18:41:32.856284Z"
        }
      },
      "outputs": [],
      "source": [
        "from splink.backends.sqlite import SQLiteAPI\n",
        "from splink.exploratory import profile_columns\n",
        "\n",
        "db_api = SQLiteAPI()\n",
        "profile_columns(\n",
        "    df, db_api, column_expressions=[\"first_name\", \"postcode_fake\", \"substr(dob, 1,4)\"]\n",
        ")"
      ]
    },
    {
      "cell_type": "code",
      "execution_count": 4,
      "metadata": {
        "execution": {
          "iopub.execute_input": "2024-05-15T18:41:32.900620Z",
          "iopub.status.busy": "2024-05-15T18:41:32.900280Z",
          "iopub.status.idle": "2024-05-15T18:41:33.193607Z",
          "shell.execute_reply": "2024-05-15T18:41:33.192963Z"
        }
      },
      "outputs": [],
      "source": [
        "from splink import block_on\n",
        "from splink.blocking_analysis import (\n",
        "    cumulative_comparisons_to_be_scored_from_blocking_rules_chart,\n",
        ")\n",
        "\n",
        "blocking_rules =  [block_on(\"first_name\", \"surname\"),\n",
        "        block_on(\"surname\", \"dob\"),\n",
        "        block_on(\"first_name\", \"dob\"),\n",
        "        block_on(\"postcode_fake\", \"first_name\")]\n",
        "\n",
        "db_api = SQLiteAPI()\n",
        "\n",
        "cumulative_comparisons_to_be_scored_from_blocking_rules_chart(\n",
        "    table_or_tables=df,\n",
        "    blocking_rules=blocking_rules,\n",
        "    db_api=db_api,\n",
        "    link_type=\"dedupe_only\"\n",
        ")"
      ]
    },
    {
      "cell_type": "code",
      "execution_count": 5,
      "metadata": {
        "execution": {
          "iopub.execute_input": "2024-05-15T18:41:33.197015Z",
          "iopub.status.busy": "2024-05-15T18:41:33.196743Z",
          "iopub.status.idle": "2024-05-15T18:41:33.330331Z",
          "shell.execute_reply": "2024-05-15T18:41:33.329671Z"
        }
      },
      "outputs": [],
      "source": [
        "import splink.comparison_library as cl\n",
        "import splink.comparison_template_library as ctl\n",
        "from splink import Linker\n",
        "\n",
        "settings = {\n",
        "    \"link_type\": \"dedupe_only\",\n",
        "    \"blocking_rules_to_generate_predictions\": [\n",
        "        block_on(\"first_name\", \"surname\"),\n",
        "        block_on(\"surname\", \"dob\"),\n",
        "        block_on(\"first_name\", \"dob\"),\n",
        "        block_on(\"postcode_fake\", \"first_name\"),\n",
        "\n",
        "    ],\n",
        "    \"comparisons\": [\n",
        "        ctl.NameComparison(\"first_name\", fuzzy_thresholds=[0.9]).configure(\n",
        "            term_frequency_adjustments=True\n",
        "        ),\n",
        "        ctl.NameComparison(\"surname\", fuzzy_thresholds=[0.9]).configure(\n",
        "            term_frequency_adjustments=True\n",
        "        ),\n",
        "        cl.DamerauLevenshteinAtThresholds(\"dob\", [1, 2]).configure(\n",
        "            term_frequency_adjustments=True\n",
        "        ),\n",
        "        cl.DamerauLevenshteinAtThresholds(\"postcode_fake\", [1, 2]),\n",
        "        cl.ExactMatch(\"birth_place\").configure(term_frequency_adjustments=True),\n",
        "        cl.ExactMatch(\n",
        "            \"occupation\",\n",
        "        ).configure(term_frequency_adjustments=True),\n",
        "    ],\n",
        "    \"retain_matching_columns\": True,\n",
        "    \"retain_intermediate_calculation_columns\": True,\n",
        "    \"max_iterations\": 10,\n",
        "    \"em_convergence\": 0.01,\n",
        "}\n",
        "\n",
        "linker = Linker(df, settings, database_api=db_api)"
      ]
    },
    {
      "cell_type": "code",
      "execution_count": 6,
      "metadata": {
        "execution": {
          "iopub.execute_input": "2024-05-15T18:41:33.334300Z",
          "iopub.status.busy": "2024-05-15T18:41:33.333988Z",
          "iopub.status.idle": "2024-05-15T18:41:33.488238Z",
          "shell.execute_reply": "2024-05-15T18:41:33.487555Z"
        }
      },
      "outputs": [],
      "source": [
        "linker.training.estimate_probability_two_random_records_match(\n",
        "    [\n",
        "        \"l.first_name = r.first_name and l.surname = r.surname and l.dob = r.dob\",\n",
        "        \"substr(l.first_name,1,2) = substr(r.first_name,1,2) and l.surname = r.surname and substr(l.postcode_fake,1,2) = substr(r.postcode_fake,1,2)\",\n",
        "        \"l.dob = r.dob and l.postcode_fake = r.postcode_fake\",\n",
        "    ],\n",
        "    recall=0.6,\n",
        ")"
      ]
    },
    {
      "cell_type": "code",
      "execution_count": 7,
      "metadata": {
        "execution": {
          "iopub.execute_input": "2024-05-15T18:41:33.491551Z",
          "iopub.status.busy": "2024-05-15T18:41:33.491328Z",
          "iopub.status.idle": "2024-05-15T18:41:41.469753Z",
          "shell.execute_reply": "2024-05-15T18:41:41.469157Z"
        }
      },
      "outputs": [],
      "source": [
        "linker.training.estimate_u_using_random_sampling(max_pairs=1e6)"
      ]
    },
    {
      "cell_type": "code",
      "execution_count": 8,
      "metadata": {
        "execution": {
          "iopub.execute_input": "2024-05-15T18:41:41.473301Z",
          "iopub.status.busy": "2024-05-15T18:41:41.473009Z",
          "iopub.status.idle": "2024-05-15T18:41:41.683463Z",
          "shell.execute_reply": "2024-05-15T18:41:41.682843Z"
        }
      },
      "outputs": [],
      "source": [
        "training_blocking_rule = \"l.first_name = r.first_name and l.surname = r.surname\"\n",
        "training_session_names = linker.training.estimate_parameters_using_expectation_maximisation(\n",
        "    training_blocking_rule, estimate_without_term_frequencies=True\n",
        ")"
      ]
    },
    {
      "cell_type": "code",
      "execution_count": 9,
      "metadata": {
        "execution": {
          "iopub.execute_input": "2024-05-15T18:41:41.686951Z",
          "iopub.status.busy": "2024-05-15T18:41:41.686683Z",
          "iopub.status.idle": "2024-05-15T18:41:41.926273Z",
          "shell.execute_reply": "2024-05-15T18:41:41.925689Z"
        }
      },
      "outputs": [],
      "source": [
        "training_blocking_rule = \"l.dob = r.dob\"\n",
        "training_session_dob = linker.training.estimate_parameters_using_expectation_maximisation(\n",
        "    training_blocking_rule, estimate_without_term_frequencies=True\n",
        ")"
      ]
    },
    {
      "attachments": {},
      "cell_type": "markdown",
      "metadata": {},
      "source": [
        "The final match weights can be viewed in the match weights chart:\n"
      ]
    },
    {
      "cell_type": "code",
      "execution_count": 10,
      "metadata": {
        "execution": {
          "iopub.execute_input": "2024-05-15T18:41:41.929306Z",
          "iopub.status.busy": "2024-05-15T18:41:41.929078Z",
          "iopub.status.idle": "2024-05-15T18:41:42.230106Z",
          "shell.execute_reply": "2024-05-15T18:41:42.229484Z"
        }
      },
      "outputs": [],
      "source": [
        "linker.visualisations.match_weights_chart()"
      ]
    },
    {
      "cell_type": "code",
      "execution_count": 11,
      "metadata": {
        "execution": {
          "iopub.execute_input": "2024-05-15T18:41:42.233172Z",
          "iopub.status.busy": "2024-05-15T18:41:42.232933Z",
          "iopub.status.idle": "2024-05-15T18:41:42.813828Z",
          "shell.execute_reply": "2024-05-15T18:41:42.813043Z"
        }
      },
      "outputs": [],
      "source": [
        "linker.evaluation.unlinkables_chart()"
      ]
    },
    {
      "cell_type": "code",
      "execution_count": 12,
      "metadata": {
        "execution": {
          "iopub.execute_input": "2024-05-15T18:41:42.817975Z",
          "iopub.status.busy": "2024-05-15T18:41:42.817397Z",
          "iopub.status.idle": "2024-05-15T18:41:43.292311Z",
          "shell.execute_reply": "2024-05-15T18:41:43.291620Z"
        }
      },
      "outputs": [],
      "source": [
        "df_predict = linker.inference.predict()\n",
        "df_e = df_predict.as_pandas_dataframe(limit=5)\n",
        "df_e"
      ]
    },
    {
      "attachments": {},
      "cell_type": "markdown",
      "metadata": {},
      "source": [
        "You can also view rows in this dataset as a waterfall chart as follows:\n"
      ]
    },
    {
      "cell_type": "code",
      "execution_count": 13,
      "metadata": {
        "execution": {
          "iopub.execute_input": "2024-05-15T18:41:43.296030Z",
          "iopub.status.busy": "2024-05-15T18:41:43.295753Z",
          "iopub.status.idle": "2024-05-15T18:41:43.969119Z",
          "shell.execute_reply": "2024-05-15T18:41:43.968521Z"
        }
      },
      "outputs": [],
      "source": [
        "\n",
        "records_to_plot = df_e.to_dict(orient=\"records\")\n",
        "linker.visualisations.waterfall_chart(records_to_plot, filter_nulls=False)"
      ]
    },
    {
      "cell_type": "code",
      "execution_count": 14,
      "metadata": {
        "execution": {
          "iopub.execute_input": "2024-05-15T18:41:43.972219Z",
          "iopub.status.busy": "2024-05-15T18:41:43.971787Z",
          "iopub.status.idle": "2024-05-15T18:41:44.116709Z",
          "shell.execute_reply": "2024-05-15T18:41:44.115993Z"
        }
      },
      "outputs": [],
      "source": [
        "clusters = linker.clustering.cluster_pairwise_predictions_at_threshold(\n",
        "    df_predict, threshold_match_probability=0.95\n",
        ")"
      ]
    },
    {
      "cell_type": "code",
      "execution_count": 15,
      "metadata": {
        "execution": {
          "iopub.execute_input": "2024-05-15T18:41:44.120162Z",
          "iopub.status.busy": "2024-05-15T18:41:44.119922Z",
          "iopub.status.idle": "2024-05-15T18:41:44.180152Z",
          "shell.execute_reply": "2024-05-15T18:41:44.179445Z"
        }
      },
      "outputs": [],
      "source": [
        "linker.visualisations.cluster_studio_dashboard(\n",
        "    df_predict,\n",
        "    clusters,\n",
        "    \"dashboards/50k_cluster.html\",\n",
        "    sampling_method=\"by_cluster_size\",\n",
        "    overwrite=True,\n",
        ")\n",
        "\n",
        "from IPython.display import IFrame\n",
        "\n",
        "IFrame(src=\"./dashboards/50k_cluster.html\", width=\"100%\", height=1200)"
      ]
    },
    {
      "cell_type": "code",
      "execution_count": 16,
      "metadata": {
        "execution": {
          "iopub.execute_input": "2024-05-15T18:41:44.184020Z",
          "iopub.status.busy": "2024-05-15T18:41:44.183710Z",
          "iopub.status.idle": "2024-05-15T18:41:46.543532Z",
          "shell.execute_reply": "2024-05-15T18:41:46.542614Z"
        }
      },
      "outputs": [],
      "source": [
        "linker.accuracy_analysis_from_labels_column(\n",
        "    \"cluster\", output_type=\"roc\", match_weight_round_to_nearest=0.02\n",
        ")"
      ]
    },
    {
      "cell_type": "code",
      "execution_count": 17,
      "metadata": {
        "execution": {
          "iopub.execute_input": "2024-05-15T18:41:46.557696Z",
          "iopub.status.busy": "2024-05-15T18:41:46.557395Z",
          "iopub.status.idle": "2024-05-15T18:41:47.295019Z",
          "shell.execute_reply": "2024-05-15T18:41:47.294474Z"
        }
      },
      "outputs": [],
      "source": [
        "records = linker.inference.prediction_errors_from_labels_column(\n",
        "    \"cluster\",\n",
        "    threshold=0.999,\n",
        "    include_false_negatives=False,\n",
        "    include_false_positives=True,\n",
        ").as_record_dict()\n",
        "linker.visualisations.waterfall_chart(records)"
      ]
    },
    {
      "cell_type": "code",
      "execution_count": 18,
      "metadata": {
        "execution": {
          "iopub.execute_input": "2024-05-15T18:41:47.298555Z",
          "iopub.status.busy": "2024-05-15T18:41:47.298310Z",
          "iopub.status.idle": "2024-05-15T18:41:50.039196Z",
          "shell.execute_reply": "2024-05-15T18:41:50.038400Z"
        }
      },
      "outputs": [],
      "source": [
        "# Some of the false negatives will be because they weren't detected by the blocking rules\n",
        "records = linker.inference.prediction_errors_from_labels_column(\n",
        "    \"cluster\",\n",
        "    threshold=0.5,\n",
        "    include_false_negatives=True,\n",
        "    include_false_positives=False,\n",
        ").as_record_dict(limit=50)\n",
        "\n",
        "linker.visualisations.waterfall_chart(records)"
      ]
    }
  ],
  "metadata": {
    "kernelspec": {
      "display_name": "Python 3 (ipykernel)",
      "language": "python",
      "name": "python3"
    },
    "language_info": {
      "codemirror_mode": {
        "name": "ipython",
        "version": 3
      },
      "file_extension": ".py",
      "mimetype": "text/x-python",
      "name": "python",
      "nbconvert_exporter": "python",
      "pygments_lexer": "ipython3",
      "version": "3.10.8"
    }
  },
  "nbformat": 4,
  "nbformat_minor": 4
}