{
 "cells": [
  {
   "cell_type": "markdown",
   "metadata": {},
   "source": [
    "## Deduplicating the febrl3 dataset\n",
    "\n",
    "See A.2 [here](https://arxiv.org/pdf/2008.04443.pdf) and [here](https://recordlinkage.readthedocs.io/en/latest/ref-datasets.html) for the source of this data\n"
   ]
  },
  {
   "cell_type": "markdown",
   "metadata": {},
   "source": [
    "<a target=\"_blank\" href=\"https://colab.research.google.com/github/moj-analytical-services/splink/blob/splink4_dev/docs/demos/examples/duckdb/febrl3.ipynb\">\n",
    "  <img src=\"https://colab.research.google.com/assets/colab-badge.svg\" alt=\"Open In Colab\"/>\n",
    "</a>\n"
   ]
  },
  {
   "cell_type": "code",
   "execution_count": 1,
   "metadata": {
    "execution": {
     "iopub.execute_input": "2024-05-15T15:50:53.970752Z",
     "iopub.status.busy": "2024-05-15T15:50:53.970419Z",
     "iopub.status.idle": "2024-05-15T15:50:53.975673Z",
     "shell.execute_reply": "2024-05-15T15:50:53.974958Z"
    }
   },
   "outputs": [],
   "source": [
    "# Uncomment and run this cell if you're running in Google Colab.\n",
    "# !pip install git+https://github.com/moj-analytical-services/splink.git@splink4_dev"
   ]
  },
  {
   "cell_type": "code",
   "execution_count": 2,
   "metadata": {
    "execution": {
     "iopub.execute_input": "2024-05-15T15:50:53.979321Z",
     "iopub.status.busy": "2024-05-15T15:50:53.979040Z",
     "iopub.status.idle": "2024-05-15T15:50:55.403280Z",
     "shell.execute_reply": "2024-05-15T15:50:55.402512Z"
    }
   },
   "outputs": [],
   "source": [
    "from splink.datasets import splink_datasets\n",
    "\n",
    "df = splink_datasets.febrl3\n",
    "df = df.rename(columns=lambda x: x.strip())\n",
    "\n",
    "df[\"cluster\"] = df[\"rec_id\"].apply(lambda x: \"-\".join(x.split(\"-\")[:2]))\n",
    "\n",
    "df[\"date_of_birth\"] = df[\"date_of_birth\"].astype(str).str.strip()\n",
    "df[\"soc_sec_id\"] = df[\"soc_sec_id\"].astype(str).str.strip()\n",
    "\n",
    "df.head(2)"
   ]
  },
  {
   "cell_type": "code",
   "execution_count": 3,
   "metadata": {
    "execution": {
     "iopub.execute_input": "2024-05-15T15:50:55.445888Z",
     "iopub.status.busy": "2024-05-15T15:50:55.445564Z",
     "iopub.status.idle": "2024-05-15T15:50:55.453559Z",
     "shell.execute_reply": "2024-05-15T15:50:55.452728Z"
    }
   },
   "outputs": [],
   "source": [
    "df[\"date_of_birth\"] = df[\"date_of_birth\"].astype(str).str.strip()\n",
    "df[\"soc_sec_id\"] = df[\"soc_sec_id\"].astype(str).str.strip()"
   ]
  },
  {
   "cell_type": "code",
   "execution_count": 4,
   "metadata": {
    "execution": {
     "iopub.execute_input": "2024-05-15T15:50:55.457023Z",
     "iopub.status.busy": "2024-05-15T15:50:55.456741Z",
     "iopub.status.idle": "2024-05-15T15:50:55.464209Z",
     "shell.execute_reply": "2024-05-15T15:50:55.463386Z"
    }
   },
   "outputs": [],
   "source": [
    "df[\"date_of_birth\"] = df[\"date_of_birth\"].astype(str).str.strip()\n",
    "df[\"soc_sec_id\"] = df[\"soc_sec_id\"].astype(str).str.strip()"
   ]
  },
  {
   "cell_type": "code",
   "execution_count": 5,
   "metadata": {
    "execution": {
     "iopub.execute_input": "2024-05-15T15:50:55.467779Z",
     "iopub.status.busy": "2024-05-15T15:50:55.467486Z",
     "iopub.status.idle": "2024-05-15T15:50:55.617978Z",
     "shell.execute_reply": "2024-05-15T15:50:55.617331Z"
    }
   },
   "outputs": [],
   "source": [
    "from splink import DuckDBAPI, Linker, SettingsCreator\n",
    "\n",
    "# TODO:  Allow missingness to be analysed without a linker\n",
    "settings = SettingsCreator(\n",
    "    unique_id_column_name=\"rec_id\",\n",
    "    link_type=\"dedupe_only\",\n",
    ")\n",
    "\n",
    "linker = Linker(df, settings, database_api=DuckDBAPI())"
   ]
  },
  {
   "cell_type": "markdown",
   "metadata": {},
   "source": [
    "It's usually a good idea to perform exploratory analysis on your data so you understand what's in each column and how often it's missing:\n"
   ]
  },
  {
   "cell_type": "code",
   "execution_count": 6,
   "metadata": {
    "execution": {
     "iopub.execute_input": "2024-05-15T15:50:55.621604Z",
     "iopub.status.busy": "2024-05-15T15:50:55.621314Z",
     "iopub.status.idle": "2024-05-15T15:50:55.930689Z",
     "shell.execute_reply": "2024-05-15T15:50:55.929809Z"
    }
   },
   "outputs": [],
   "source": [
    "from splink.exploratory import completeness_chart\n",
    "\n",
    "completeness_chart(df, db_api=DuckDBAPI())"
   ]
  },
  {
   "cell_type": "code",
   "execution_count": 7,
   "metadata": {
    "execution": {
     "iopub.execute_input": "2024-05-15T15:50:55.933815Z",
     "iopub.status.busy": "2024-05-15T15:50:55.933588Z",
     "iopub.status.idle": "2024-05-15T15:50:56.393881Z",
     "shell.execute_reply": "2024-05-15T15:50:56.393363Z"
    }
   },
   "outputs": [],
   "source": [
    "from splink.exploratory import profile_columns\n",
    "\n",
    "profile_columns(df, db_api=DuckDBAPI(), column_expressions=[\"given_name\", \"surname\"])"
   ]
  },
  {
   "cell_type": "code",
   "execution_count": 8,
   "metadata": {
    "execution": {
     "iopub.execute_input": "2024-05-15T15:50:56.397337Z",
     "iopub.status.busy": "2024-05-15T15:50:56.396993Z",
     "iopub.status.idle": "2024-05-15T15:50:56.749566Z",
     "shell.execute_reply": "2024-05-15T15:50:56.748922Z"
    }
   },
   "outputs": [],
   "source": [
    "from splink import DuckDBAPI, block_on\n",
    "from splink.blocking_analysis import (\n",
    "    cumulative_comparisons_to_be_scored_from_blocking_rules_chart,\n",
    ")\n",
    "\n",
    "blocking_rules = [\n",
    "    block_on(\"soc_sec_id\"),\n",
    "    block_on(\"given_name\"),\n",
    "    block_on(\"surname\"),\n",
    "    block_on(\"date_of_birth\"),\n",
    "    block_on(\"postcode\"),\n",
    "]\n",
    "\n",
    "db_api = DuckDBAPI()\n",
    "cumulative_comparisons_to_be_scored_from_blocking_rules_chart(\n",
    "    table_or_tables=df,\n",
    "    blocking_rules=blocking_rules,\n",
    "    db_api=db_api,\n",
    "    link_type=\"dedupe_only\",\n",
    "    unique_id_column_name=\"rec_id\",\n",
    ")"
   ]
  },
  {
   "cell_type": "code",
   "execution_count": 9,
   "metadata": {
    "execution": {
     "iopub.execute_input": "2024-05-15T15:50:56.752854Z",
     "iopub.status.busy": "2024-05-15T15:50:56.752596Z",
     "iopub.status.idle": "2024-05-15T15:50:56.907514Z",
     "shell.execute_reply": "2024-05-15T15:50:56.906772Z"
    }
   },
   "outputs": [],
   "source": [
    "import splink.comparison_library as cl\n",
    "import splink.comparison_template_library as ctl\n",
    "from splink import Linker\n",
    "\n",
    "settings = SettingsCreator(\n",
    "    unique_id_column_name=\"rec_id\",\n",
    "    link_type=\"dedupe_only\",\n",
    "    blocking_rules_to_generate_predictions=blocking_rules,\n",
    "    comparisons=[\n",
    "        ctl.NameComparison(\"given_name\").configure(term_frequency_adjustments=True),\n",
    "        ctl.NameComparison(\"surname\").configure(term_frequency_adjustments=True),\n",
    "        ctl.DateComparison(\n",
    "            \"date_of_birth\",\n",
    "            input_is_string=True,\n",
    "            datetime_format=\"%Y%m%d\",\n",
    "            invalid_dates_as_null=True,\n",
    "            datetime_metrics=[\"month\", \"year\", \"year\"],\n",
    "            datetime_thresholds=[1, 1, 10],\n",
    "        ),\n",
    "        cl.LevenshteinAtThresholds(\"soc_sec_id\", [2]),\n",
    "        cl.ExactMatch(\"street_number\").configure(term_frequency_adjustments=True),\n",
    "        cl.ExactMatch(\"postcode\").configure(term_frequency_adjustments=True),\n",
    "    ],\n",
    "    retain_intermediate_calculation_columns=True,\n",
    ")\n",
    "\n",
    "linker = Linker(df, settings, database_api=DuckDBAPI())"
   ]
  },
  {
   "cell_type": "code",
   "execution_count": 10,
   "metadata": {
    "execution": {
     "iopub.execute_input": "2024-05-15T15:50:56.910709Z",
     "iopub.status.busy": "2024-05-15T15:50:56.910470Z",
     "iopub.status.idle": "2024-05-15T15:50:57.119744Z",
     "shell.execute_reply": "2024-05-15T15:50:57.119133Z"
    }
   },
   "outputs": [],
   "source": [
    "from splink import block_on\n",
    "\n",
    "deterministic_rules = [\n",
    "    block_on(\"soc_sec_id\"),\n",
    "    block_on(\"given_name\", \"surname\", \"date_of_birth\"),\n",
    "    \"l.given_name = r.surname and l.surname = r.given_name and l.date_of_birth = r.date_of_birth\",\n",
    "]\n",
    "\n",
    "linker.estimate_probability_two_random_records_match(deterministic_rules, recall=0.9)"
   ]
  },
  {
   "cell_type": "code",
   "execution_count": 11,
   "metadata": {
    "execution": {
     "iopub.execute_input": "2024-05-15T15:50:57.122905Z",
     "iopub.status.busy": "2024-05-15T15:50:57.122623Z",
     "iopub.status.idle": "2024-05-15T15:51:01.161828Z",
     "shell.execute_reply": "2024-05-15T15:51:01.161251Z"
    }
   },
   "outputs": [],
   "source": [
    "linker.estimate_u_using_random_sampling(max_pairs=1e6)"
   ]
  },
  {
   "cell_type": "code",
   "execution_count": 12,
   "metadata": {
    "execution": {
     "iopub.execute_input": "2024-05-15T15:51:01.165539Z",
     "iopub.status.busy": "2024-05-15T15:51:01.165298Z",
     "iopub.status.idle": "2024-05-15T15:51:01.704281Z",
     "shell.execute_reply": "2024-05-15T15:51:01.703690Z"
    }
   },
   "outputs": [],
   "source": [
    "em_blocking_rule_1 = block_on(\"date_of_birth\")\n",
    "session_dob = linker.estimate_parameters_using_expectation_maximisation(\n",
    "    em_blocking_rule_1\n",
    ")"
   ]
  },
  {
   "cell_type": "code",
   "execution_count": 13,
   "metadata": {
    "execution": {
     "iopub.execute_input": "2024-05-15T15:51:01.707325Z",
     "iopub.status.busy": "2024-05-15T15:51:01.707114Z",
     "iopub.status.idle": "2024-05-15T15:51:02.290513Z",
     "shell.execute_reply": "2024-05-15T15:51:02.290020Z"
    }
   },
   "outputs": [],
   "source": [
    "em_blocking_rule_2 = block_on(\"postcode\")\n",
    "session_postcode = linker.estimate_parameters_using_expectation_maximisation(\n",
    "    em_blocking_rule_2\n",
    ")"
   ]
  },
  {
   "cell_type": "code",
   "execution_count": 14,
   "metadata": {
    "execution": {
     "iopub.execute_input": "2024-05-15T15:51:02.294783Z",
     "iopub.status.busy": "2024-05-15T15:51:02.294498Z",
     "iopub.status.idle": "2024-05-15T15:51:02.665651Z",
     "shell.execute_reply": "2024-05-15T15:51:02.665073Z"
    }
   },
   "outputs": [],
   "source": [
    "linker.match_weights_chart()"
   ]
  },
  {
   "cell_type": "code",
   "execution_count": 15,
   "metadata": {
    "execution": {
     "iopub.execute_input": "2024-05-15T15:51:02.668752Z",
     "iopub.status.busy": "2024-05-15T15:51:02.668512Z",
     "iopub.status.idle": "2024-05-15T15:51:09.240685Z",
     "shell.execute_reply": "2024-05-15T15:51:09.240109Z"
    }
   },
   "outputs": [],
   "source": [
    "results = linker.predict(threshold_match_probability=0.2)"
   ]
  },
  {
   "cell_type": "code",
   "execution_count": 16,
   "metadata": {
    "execution": {
     "iopub.execute_input": "2024-05-15T15:51:09.243955Z",
     "iopub.status.busy": "2024-05-15T15:51:09.243667Z",
     "iopub.status.idle": "2024-05-15T15:51:11.811265Z",
     "shell.execute_reply": "2024-05-15T15:51:11.810638Z"
    }
   },
   "outputs": [],
   "source": [
    "linker.accuracy_analysis_from_labels_column(\n",
    "    \"cluster\", match_weight_round_to_nearest=0.1, output_type=\"roc\"\n",
    ")"
   ]
  },
  {
   "cell_type": "code",
   "execution_count": 17,
   "metadata": {
    "execution": {
     "iopub.execute_input": "2024-05-15T15:51:11.820946Z",
     "iopub.status.busy": "2024-05-15T15:51:11.820644Z",
     "iopub.status.idle": "2024-05-15T15:51:12.084284Z",
     "shell.execute_reply": "2024-05-15T15:51:12.083443Z"
    }
   },
   "outputs": [],
   "source": [
    "pred_errors_df = linker.prediction_errors_from_labels_column(\n",
    "    \"cluster\"\n",
    ").as_pandas_dataframe()\n",
    "len(pred_errors_df)\n",
    "pred_errors_df.head()"
   ]
  },
  {
   "cell_type": "code",
   "execution_count": 18,
   "metadata": {
    "execution": {
     "iopub.execute_input": "2024-05-15T15:51:12.087291Z",
     "iopub.status.busy": "2024-05-15T15:51:12.087021Z",
     "iopub.status.idle": "2024-05-15T15:51:13.092062Z",
     "shell.execute_reply": "2024-05-15T15:51:13.091503Z"
    }
   },
   "outputs": [],
   "source": [
    "records = linker.prediction_errors_from_labels_column(\"cluster\").as_record_dict(\n",
    "    limit=10\n",
    ")\n",
    "linker.waterfall_chart(records)"
   ]
  }
 ],
 "metadata": {
  "kernelspec": {
   "display_name": ".venv",
   "language": "python",
   "name": "python3"
  },
  "language_info": {
   "codemirror_mode": {
    "name": "ipython",
    "version": 3
   },
   "file_extension": ".py",
   "mimetype": "text/x-python",
   "name": "python",
   "nbconvert_exporter": "python",
   "pygments_lexer": "ipython3",
   "version": "3.10.8"
  },
  "widgets": {
   "application/vnd.jupyter.widget-state+json": {
    "state": {
     "94aaeff2f888492ea321d4e4492526ff": {
      "model_module": "@jupyter-widgets/controls",
      "model_module_version": "2.0.0",
      "model_name": "FloatProgressModel",
      "state": {
       "_dom_classes": [],
       "_model_module": "@jupyter-widgets/controls",
       "_model_module_version": "2.0.0",
       "_model_name": "FloatProgressModel",
       "_view_count": null,
       "_view_module": "@jupyter-widgets/controls",
       "_view_module_version": "2.0.0",
       "_view_name": "ProgressView",
       "bar_style": "",
       "description": "",
       "description_allow_html": false,
       "layout": "IPY_MODEL_bdf3a462cd3d48bda4269ac1cc8ed9ef",
       "max": 100,
       "min": 0,
       "orientation": "horizontal",
       "style": "IPY_MODEL_e05a7090510949ac956ea05719a3b8c2",
       "tabbable": null,
       "tooltip": null,
       "value": 100
      }
     },
     "b179423ef9d24cb1ac973b4b55daa86c": {
      "model_module": "@jupyter-widgets/base",
      "model_module_version": "2.0.0",
      "model_name": "LayoutModel",
      "state": {
       "_model_module": "@jupyter-widgets/base",
       "_model_module_version": "2.0.0",
       "_model_name": "LayoutModel",
       "_view_count": null,
       "_view_module": "@jupyter-widgets/base",
       "_view_module_version": "2.0.0",
       "_view_name": "LayoutView",
       "align_content": null,
       "align_items": null,
       "align_self": null,
       "border_bottom": null,
       "border_left": null,
       "border_right": null,
       "border_top": null,
       "bottom": null,
       "display": null,
       "flex": null,
       "flex_flow": null,
       "grid_area": null,
       "grid_auto_columns": null,
       "grid_auto_flow": null,
       "grid_auto_rows": null,
       "grid_column": null,
       "grid_gap": null,
       "grid_row": null,
       "grid_template_areas": null,
       "grid_template_columns": null,
       "grid_template_rows": null,
       "height": null,
       "justify_content": null,
       "justify_items": null,
       "left": null,
       "margin": null,
       "max_height": null,
       "max_width": null,
       "min_height": null,
       "min_width": null,
       "object_fit": null,
       "object_position": null,
       "order": null,
       "overflow": null,
       "padding": null,
       "right": null,
       "top": null,
       "visibility": null,
       "width": "auto"
      }
     },
     "bdf3a462cd3d48bda4269ac1cc8ed9ef": {
      "model_module": "@jupyter-widgets/base",
      "model_module_version": "2.0.0",
      "model_name": "LayoutModel",
      "state": {
       "_model_module": "@jupyter-widgets/base",
       "_model_module_version": "2.0.0",
       "_model_name": "LayoutModel",
       "_view_count": null,
       "_view_module": "@jupyter-widgets/base",
       "_view_module_version": "2.0.0",
       "_view_name": "LayoutView",
       "align_content": null,
       "align_items": null,
       "align_self": null,
       "border_bottom": null,
       "border_left": null,
       "border_right": null,
       "border_top": null,
       "bottom": null,
       "display": null,
       "flex": null,
       "flex_flow": null,
       "grid_area": null,
       "grid_auto_columns": null,
       "grid_auto_flow": null,
       "grid_auto_rows": null,
       "grid_column": null,
       "grid_gap": null,
       "grid_row": null,
       "grid_template_areas": null,
       "grid_template_columns": null,
       "grid_template_rows": null,
       "height": null,
       "justify_content": null,
       "justify_items": null,
       "left": null,
       "margin": null,
       "max_height": null,
       "max_width": null,
       "min_height": null,
       "min_width": null,
       "object_fit": null,
       "object_position": null,
       "order": null,
       "overflow": null,
       "padding": null,
       "right": null,
       "top": null,
       "visibility": null,
       "width": "auto"
      }
     },
     "db3fd6bdb9884f5a88fd4cf5d39330d4": {
      "model_module": "@jupyter-widgets/controls",
      "model_module_version": "2.0.0",
      "model_name": "ProgressStyleModel",
      "state": {
       "_model_module": "@jupyter-widgets/controls",
       "_model_module_version": "2.0.0",
       "_model_name": "ProgressStyleModel",
       "_view_count": null,
       "_view_module": "@jupyter-widgets/base",
       "_view_module_version": "2.0.0",
       "_view_name": "StyleView",
       "bar_color": "black",
       "description_width": ""
      }
     },
     "e05a7090510949ac956ea05719a3b8c2": {
      "model_module": "@jupyter-widgets/controls",
      "model_module_version": "2.0.0",
      "model_name": "ProgressStyleModel",
      "state": {
       "_model_module": "@jupyter-widgets/controls",
       "_model_module_version": "2.0.0",
       "_model_name": "ProgressStyleModel",
       "_view_count": null,
       "_view_module": "@jupyter-widgets/base",
       "_view_module_version": "2.0.0",
       "_view_name": "StyleView",
       "bar_color": "black",
       "description_width": ""
      }
     },
     "e181cb7618b74e4bbf9f2e144b68b87e": {
      "model_module": "@jupyter-widgets/controls",
      "model_module_version": "2.0.0",
      "model_name": "FloatProgressModel",
      "state": {
       "_dom_classes": [],
       "_model_module": "@jupyter-widgets/controls",
       "_model_module_version": "2.0.0",
       "_model_name": "FloatProgressModel",
       "_view_count": null,
       "_view_module": "@jupyter-widgets/controls",
       "_view_module_version": "2.0.0",
       "_view_name": "ProgressView",
       "bar_style": "",
       "description": "",
       "description_allow_html": false,
       "layout": "IPY_MODEL_b179423ef9d24cb1ac973b4b55daa86c",
       "max": 100,
       "min": 0,
       "orientation": "horizontal",
       "style": "IPY_MODEL_db3fd6bdb9884f5a88fd4cf5d39330d4",
       "tabbable": null,
       "tooltip": null,
       "value": 100
      }
     }
    },
    "version_major": 2,
    "version_minor": 0
   }
  }
 },
 "nbformat": 4,
 "nbformat_minor": 4
}
