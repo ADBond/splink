{
  "cells": [
    {
      "cell_type": "markdown",
      "metadata": {},
      "source": [
        "## Evaluation when you have fully labelled data\n",
        "\n",
        "In this example, our data contains a fully-populated ground-truth column called `cluster` that enables us to perform accuracy analysis of the final model\n"
      ]
    },
    {
      "cell_type": "markdown",
      "metadata": {},
      "source": [
        "<a target=\"_blank\" href=\"https://colab.research.google.com/github/moj-analytical-services/splink/blob/splink4_dev/docs/demos/examples/duckdb/accuracy_analysis_from_labels_column.ipynb\">\n",
        "  <img src=\"https://colab.research.google.com/assets/colab-badge.svg\" alt=\"Open In Colab\"/>\n",
        "</a>\n"
      ]
    },
    {
      "cell_type": "code",
      "execution_count": 1,
      "metadata": {
        "execution": {
          "iopub.execute_input": "2024-03-27T15:10:53.238834Z",
          "iopub.status.busy": "2024-03-27T15:10:53.238466Z",
          "iopub.status.idle": "2024-03-27T15:10:53.243675Z",
          "shell.execute_reply": "2024-03-27T15:10:53.243004Z"
        }
      },
      "source": [
        "# Uncomment and run this cell if you're running in Google Colab.\n",
        "# !pip install git+https://github.com/moj-analytical-services/splink.git@splink4_dev"
      ],
      "outputs": []
    },
    {
      "cell_type": "code",
      "execution_count": 2,
      "metadata": {
        "execution": {
          "iopub.execute_input": "2024-03-27T15:10:53.247564Z",
          "iopub.status.busy": "2024-03-27T15:10:53.247269Z",
          "iopub.status.idle": "2024-03-27T15:10:55.196205Z",
          "shell.execute_reply": "2024-03-27T15:10:55.195428Z"
        }
      },
      "source": [
        "from splink import splink_datasets\n",
        "\n",
        "df = splink_datasets.fake_1000\n",
        "df.head(2)"
      ],
      "outputs": []
    },
    {
      "cell_type": "code",
      "execution_count": 3,
      "metadata": {
        "execution": {
          "iopub.execute_input": "2024-03-27T15:10:55.242600Z",
          "iopub.status.busy": "2024-03-27T15:10:55.242267Z",
          "iopub.status.idle": "2024-03-27T15:10:55.601924Z",
          "shell.execute_reply": "2024-03-27T15:10:55.601113Z"
        }
      },
      "source": [
        "from splink import SettingsCreator, Linker, block_on, DuckDBAPI\n",
        "import splink.comparison_template_library as ctl\n",
        "import splink.comparison_library as cl\n",
        "\n",
        "settings = SettingsCreator(\n",
        "    link_type=\"dedupe_only\",\n",
        "    blocking_rules_to_generate_predictions=[\n",
        "        block_on(\"first_name\"),\n",
        "        block_on(\"surname\"),\n",
        "    ],\n",
        "    comparisons=[\n",
        "        ctl.NameComparison(\"first_name\"),\n",
        "        ctl.NameComparison(\"surname\"),\n",
        "        ctl.DateComparison(\n",
        "            \"dob\",\n",
        "            input_is_string=True,\n",
        "            datetime_metrics=[\"month\", \"year\", \"year\"],\n",
        "            datetime_thresholds=[1, 1, 10],\n",
        "        ),\n",
        "        cl.ExactMatch(\"city\").configure(term_frequency_adjustments=True),\n",
        "        ctl.EmailComparison(\"email\", include_username_fuzzy_level=False),\n",
        "    ],\n",
        "    retain_intermediate_calculation_columns=True,\n",
        ")"
      ],
      "outputs": []
    },
    {
      "cell_type": "code",
      "execution_count": 4,
      "metadata": {
        "execution": {
          "iopub.execute_input": "2024-03-27T15:10:55.606354Z",
          "iopub.status.busy": "2024-03-27T15:10:55.606011Z",
          "iopub.status.idle": "2024-03-27T15:10:55.966147Z",
          "shell.execute_reply": "2024-03-27T15:10:55.965434Z"
        }
      },
      "source": [
        "db_api = DuckDBAPI()\n",
        "linker = Linker(df, settings, database_api=db_api)\n",
        "deterministic_rules = [\n",
        "    \"l.first_name = r.first_name and levenshtein(r.dob, l.dob) <= 1\",\n",
        "    \"l.surname = r.surname and levenshtein(r.dob, l.dob) <= 1\",\n",
        "    \"l.first_name = r.first_name and levenshtein(r.surname, l.surname) <= 2\",\n",
        "    \"l.email = r.email\",\n",
        "]\n",
        "\n",
        "linker.training.estimate_probability_two_random_records_match(deterministic_rules, recall=0.7)"
      ],
      "outputs": []
    },
    {
      "cell_type": "code",
      "execution_count": 5,
      "metadata": {
        "execution": {
          "iopub.execute_input": "2024-03-27T15:10:55.970182Z",
          "iopub.status.busy": "2024-03-27T15:10:55.969667Z",
          "iopub.status.idle": "2024-03-27T15:10:57.008471Z",
          "shell.execute_reply": "2024-03-27T15:10:57.007360Z"
        }
      },
      "source": [
        "linker.training.estimate_u_using_random_sampling(max_pairs=1e6, seed=5)"
      ],
      "outputs": []
    },
    {
      "cell_type": "code",
      "execution_count": 6,
      "metadata": {
        "execution": {
          "iopub.execute_input": "2024-03-27T15:10:57.012299Z",
          "iopub.status.busy": "2024-03-27T15:10:57.012041Z",
          "iopub.status.idle": "2024-03-27T15:10:58.591902Z",
          "shell.execute_reply": "2024-03-27T15:10:58.591381Z"
        }
      },
      "source": [
        "session_dob = linker.training.estimate_parameters_using_expectation_maximisation(block_on(\"dob\"))\n",
        "session_email = linker.training.estimate_parameters_using_expectation_maximisation(\n",
        "    block_on(\"email\")\n",
        ")"
      ],
      "outputs": []
    },
    {
      "cell_type": "code",
      "execution_count": 7,
      "metadata": {
        "execution": {
          "iopub.execute_input": "2024-03-27T15:10:58.594711Z",
          "iopub.status.busy": "2024-03-27T15:10:58.594499Z",
          "iopub.status.idle": "2024-03-27T15:10:58.945354Z",
          "shell.execute_reply": "2024-03-27T15:10:58.944711Z"
        }
      },
      "source": [
        "linker.accuracy_analysis_from_labels_column(\n",
        "    \"cluster\", output_type=\"table\"\n",
        ").as_pandas_dataframe(limit=5)"
      ],
      "outputs": []
    },
    {
      "cell_type": "code",
      "execution_count": 8,
      "metadata": {
        "execution": {
          "iopub.execute_input": "2024-03-27T15:10:58.948920Z",
          "iopub.status.busy": "2024-03-27T15:10:58.948640Z",
          "iopub.status.idle": "2024-03-27T15:11:01.154581Z",
          "shell.execute_reply": "2024-03-27T15:11:01.153881Z"
        }
      },
      "source": [
        "linker.accuracy_analysis_from_labels_column(\"cluster\", output_type=\"roc\")"
      ],
      "outputs": []
    },
    {
      "cell_type": "code",
      "execution_count": 9,
      "metadata": {
        "execution": {
          "iopub.execute_input": "2024-03-27T15:11:01.168311Z",
          "iopub.status.busy": "2024-03-27T15:11:01.167847Z",
          "iopub.status.idle": "2024-03-27T15:11:03.812090Z",
          "shell.execute_reply": "2024-03-27T15:11:03.811329Z"
        }
      },
      "source": [
        "linker.accuracy_analysis_from_labels_column(\n",
        "    \"cluster\",\n",
        "    output_type=\"threshold_selection\",\n",
        "    threshold_actual=0.5,\n",
        "    add_metrics=[\"f1\"],\n",
        ")"
      ],
      "outputs": []
    },
    {
      "cell_type": "code",
      "execution_count": 10,
      "metadata": {
        "execution": {
          "iopub.execute_input": "2024-03-27T15:11:03.822254Z",
          "iopub.status.busy": "2024-03-27T15:11:03.821939Z",
          "iopub.status.idle": "2024-03-27T15:11:04.205976Z",
          "shell.execute_reply": "2024-03-27T15:11:04.205179Z"
        }
      },
      "source": [
        "# Plot some false positives\n",
        "linker.inference.prediction_errors_from_labels_column(\n",
        "    \"cluster\", include_false_negatives=True, include_false_positives=True\n",
        ").as_pandas_dataframe(limit=5)"
      ],
      "outputs": []
    },
    {
      "cell_type": "code",
      "execution_count": 11,
      "metadata": {
        "execution": {
          "iopub.execute_input": "2024-03-27T15:11:04.209998Z",
          "iopub.status.busy": "2024-03-27T15:11:04.209676Z",
          "iopub.status.idle": "2024-03-27T15:11:05.510086Z",
          "shell.execute_reply": "2024-03-27T15:11:05.509348Z"
        }
      },
      "source": [
        "records = linker.inference.prediction_errors_from_labels_column(\n",
        "    \"cluster\", include_false_negatives=True, include_false_positives=True\n",
        ").as_record_dict(limit=5)\n",
        "\n",
        "linker.visualisations.waterfall_chart(records)"
      ],
      "outputs": []
    }
  ],
  "metadata": {
    "kernelspec": {
      "display_name": ".venv",
      "language": "python",
      "name": "python3"
    },
    "language_info": {
      "codemirror_mode": {
        "name": "ipython",
        "version": 3
      },
      "file_extension": ".py",
      "mimetype": "text/x-python",
      "name": "python",
      "nbconvert_exporter": "python",
      "pygments_lexer": "ipython3",
      "version": "3.10.8"
    }
  },
  "nbformat": 4,
  "nbformat_minor": 4
}