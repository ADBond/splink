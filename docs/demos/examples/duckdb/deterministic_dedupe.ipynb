{
 "cells": [
  {
   "attachments": {},
   "cell_type": "markdown",
   "metadata": {},
   "source": [
    "## Linking a dataset of real historical persons with Deterrministic Rules\n",
    "\n",
    "While Splink is primarily a tool for probabilistic records linkage, it includes functionality to perform deterministic (i.e. rules based) linkage.\n",
    "\n",
    "Significant work has gone into optimising the performance of rules based matching, so Splink is likely to be significantly faster than writing the basic SQL by hand.\n",
    "\n",
    "In this example, we deduplicate a 50k row dataset based on historical persons scraped from wikidata. Duplicate records are introduced with a variety of errors introduced. The probabilistic dedupe of the same dataset can be found at `Deduplicate 50k rows historical persons`.\n"
   ]
  },
  {
   "cell_type": "markdown",
   "metadata": {},
   "source": [
    "<a target=\"_blank\" href=\"https://colab.research.google.com/github/moj-analytical-services/splink/blob/splink4_dev/docs/demos/examples/duckdb/deterministic_dedupe.ipynb\">\n",
    "  <img src=\"https://colab.research.google.com/assets/colab-badge.svg\" alt=\"Open In Colab\"/>\n",
    "</a>\n"
   ]
  },
  {
   "cell_type": "code",
   "execution_count": 1,
   "metadata": {
    "execution": {
     "iopub.execute_input": "2024-03-27T15:12:09.320146Z",
     "iopub.status.busy": "2024-03-27T15:12:09.319803Z",
     "iopub.status.idle": "2024-03-27T15:12:09.339855Z",
     "shell.execute_reply": "2024-03-27T15:12:09.338824Z"
    }
   },
   "outputs": [],
   "source": [
    "# Uncomment and run this cell if you're running in Google Colab.\n",
    "# !pip install git+https://github.com/moj-analytical-services/splink.git@splink4_dev"
   ]
  },
  {
   "cell_type": "code",
   "execution_count": 2,
   "metadata": {
    "execution": {
     "iopub.execute_input": "2024-03-27T15:12:09.344009Z",
     "iopub.status.busy": "2024-03-27T15:12:09.343689Z",
     "iopub.status.idle": "2024-03-27T15:12:11.300032Z",
     "shell.execute_reply": "2024-03-27T15:12:11.299171Z"
    }
   },
   "outputs": [
    {
     "data": {
      "text/html": [
       "<div>\n",
       "<style scoped>\n",
       "    .dataframe tbody tr th:only-of-type {\n",
       "        vertical-align: middle;\n",
       "    }\n",
       "\n",
       "    .dataframe tbody tr th {\n",
       "        vertical-align: top;\n",
       "    }\n",
       "\n",
       "    .dataframe thead th {\n",
       "        text-align: right;\n",
       "    }\n",
       "</style>\n",
       "<table border=\"1\" class=\"dataframe\">\n",
       "  <thead>\n",
       "    <tr style=\"text-align: right;\">\n",
       "      <th></th>\n",
       "      <th>unique_id</th>\n",
       "      <th>cluster</th>\n",
       "      <th>full_name</th>\n",
       "      <th>first_and_surname</th>\n",
       "      <th>first_name</th>\n",
       "      <th>surname</th>\n",
       "      <th>dob</th>\n",
       "      <th>birth_place</th>\n",
       "      <th>postcode_fake</th>\n",
       "      <th>gender</th>\n",
       "      <th>occupation</th>\n",
       "    </tr>\n",
       "  </thead>\n",
       "  <tbody>\n",
       "    <tr>\n",
       "      <th>0</th>\n",
       "      <td>Q2296770-1</td>\n",
       "      <td>Q2296770</td>\n",
       "      <td>thomas clifford, 1st baron clifford of chudleigh</td>\n",
       "      <td>thomas chudleigh</td>\n",
       "      <td>thomas</td>\n",
       "      <td>chudleigh</td>\n",
       "      <td>1630-08-01</td>\n",
       "      <td>devon</td>\n",
       "      <td>tq13 8df</td>\n",
       "      <td>male</td>\n",
       "      <td>politician</td>\n",
       "    </tr>\n",
       "    <tr>\n",
       "      <th>1</th>\n",
       "      <td>Q2296770-2</td>\n",
       "      <td>Q2296770</td>\n",
       "      <td>thomas of chudleigh</td>\n",
       "      <td>thomas chudleigh</td>\n",
       "      <td>thomas</td>\n",
       "      <td>chudleigh</td>\n",
       "      <td>1630-08-01</td>\n",
       "      <td>devon</td>\n",
       "      <td>tq13 8df</td>\n",
       "      <td>male</td>\n",
       "      <td>politician</td>\n",
       "    </tr>\n",
       "    <tr>\n",
       "      <th>2</th>\n",
       "      <td>Q2296770-3</td>\n",
       "      <td>Q2296770</td>\n",
       "      <td>tom 1st baron clifford of chudleigh</td>\n",
       "      <td>tom chudleigh</td>\n",
       "      <td>tom</td>\n",
       "      <td>chudleigh</td>\n",
       "      <td>1630-08-01</td>\n",
       "      <td>devon</td>\n",
       "      <td>tq13 8df</td>\n",
       "      <td>male</td>\n",
       "      <td>politician</td>\n",
       "    </tr>\n",
       "    <tr>\n",
       "      <th>3</th>\n",
       "      <td>Q2296770-4</td>\n",
       "      <td>Q2296770</td>\n",
       "      <td>thomas 1st chudleigh</td>\n",
       "      <td>thomas chudleigh</td>\n",
       "      <td>thomas</td>\n",
       "      <td>chudleigh</td>\n",
       "      <td>1630-08-01</td>\n",
       "      <td>devon</td>\n",
       "      <td>tq13 8hu</td>\n",
       "      <td>None</td>\n",
       "      <td>politician</td>\n",
       "    </tr>\n",
       "    <tr>\n",
       "      <th>4</th>\n",
       "      <td>Q2296770-5</td>\n",
       "      <td>Q2296770</td>\n",
       "      <td>thomas clifford, 1st baron chudleigh</td>\n",
       "      <td>thomas chudleigh</td>\n",
       "      <td>thomas</td>\n",
       "      <td>chudleigh</td>\n",
       "      <td>1630-08-01</td>\n",
       "      <td>devon</td>\n",
       "      <td>tq13 8df</td>\n",
       "      <td>None</td>\n",
       "      <td>politician</td>\n",
       "    </tr>\n",
       "  </tbody>\n",
       "</table>\n",
       "</div>"
      ],
      "text/plain": [
       "    unique_id   cluster                                         full_name  \\\n",
       "0  Q2296770-1  Q2296770  thomas clifford, 1st baron clifford of chudleigh   \n",
       "1  Q2296770-2  Q2296770                               thomas of chudleigh   \n",
       "2  Q2296770-3  Q2296770               tom 1st baron clifford of chudleigh   \n",
       "3  Q2296770-4  Q2296770                              thomas 1st chudleigh   \n",
       "4  Q2296770-5  Q2296770              thomas clifford, 1st baron chudleigh   \n",
       "\n",
       "  first_and_surname first_name    surname         dob birth_place  \\\n",
       "0  thomas chudleigh     thomas  chudleigh  1630-08-01       devon   \n",
       "1  thomas chudleigh     thomas  chudleigh  1630-08-01       devon   \n",
       "2     tom chudleigh        tom  chudleigh  1630-08-01       devon   \n",
       "3  thomas chudleigh     thomas  chudleigh  1630-08-01       devon   \n",
       "4  thomas chudleigh     thomas  chudleigh  1630-08-01       devon   \n",
       "\n",
       "  postcode_fake gender  occupation  \n",
       "0      tq13 8df   male  politician  \n",
       "1      tq13 8df   male  politician  \n",
       "2      tq13 8df   male  politician  \n",
       "3      tq13 8hu   None  politician  \n",
       "4      tq13 8df   None  politician  "
      ]
     },
     "execution_count": 2,
     "metadata": {},
     "output_type": "execute_result"
    }
   ],
   "source": [
    "import pandas as pd\n",
    "from splink import splink_datasets\n",
    "\n",
    "pd.options.display.max_rows = 1000\n",
    "df = splink_datasets.historical_50k\n",
    "df.head()"
   ]
  },
  {
   "attachments": {},
   "cell_type": "markdown",
   "metadata": {},
   "source": [
    "When defining the settings object, specity your deterministic rules in the `blocking_rules_to_generate_predictions` key.\n",
    "\n",
    "For a deterministic linkage, the linkage methodology is based solely on these rules, so there is no need to define `comparisons` nor any other parameters required for model training in a probabilistic model.\n"
   ]
  },
  {
   "cell_type": "code",
   "execution_count": 3,
   "metadata": {
    "execution": {
     "iopub.execute_input": "2024-03-27T15:12:11.304361Z",
     "iopub.status.busy": "2024-03-27T15:12:11.303971Z",
     "iopub.status.idle": "2024-03-27T15:12:11.689500Z",
     "shell.execute_reply": "2024-03-27T15:12:11.688634Z"
    }
   },
   "outputs": [],
   "source": [
    "from splink import SettingsCreator, Linker, block_on, DuckDBAPI\n",
    "\n",
    "settings = SettingsCreator(\n",
    "    link_type=\"dedupe_only\",\n",
    "    blocking_rules_to_generate_predictions=[\n",
    "        block_on(\"first_name\", \"surname\", \"dob\"),\n",
    "        block_on(\"surname\", \"dob\", \"postcode_fake\"),\n",
    "        block_on(\"first_name\", \"dob\", \"occupation\"),\n",
    "    ],\n",
    "    retain_intermediate_calculation_columns=True,\n",
    ")\n",
    "\n",
    "linker = Linker(df, settings, database_api=DuckDBAPI())\n"
   ]
  },
  {
   "attachments": {},
   "cell_type": "markdown",
   "metadata": {},
   "source": [
    "Prior to running the linkage, it's usually a good idea to check how many record comparisons will be generated by your deterministic rules:\n"
   ]
  },
  {
   "cell_type": "code",
   "execution_count": 4,
   "metadata": {
    "execution": {
     "iopub.execute_input": "2024-03-27T15:12:11.693856Z",
     "iopub.status.busy": "2024-03-27T15:12:11.693452Z",
     "iopub.status.idle": "2024-03-27T15:12:12.001948Z",
     "shell.execute_reply": "2024-03-27T15:12:12.001186Z"
    }
   },
   "outputs": [
    {
     "data": {
      "text/html": [
       "\n",
       "<style>\n",
       "  #altair-viz-50c221fe0bbb40e9b6300839455607d3.vega-embed {\n",
       "    width: 100%;\n",
       "    display: flex;\n",
       "  }\n",
       "\n",
       "  #altair-viz-50c221fe0bbb40e9b6300839455607d3.vega-embed details,\n",
       "  #altair-viz-50c221fe0bbb40e9b6300839455607d3.vega-embed details summary {\n",
       "    position: relative;\n",
       "  }\n",
       "</style>\n",
       "<div id=\"altair-viz-50c221fe0bbb40e9b6300839455607d3\"></div>\n",
       "<script type=\"text/javascript\">\n",
       "  var VEGA_DEBUG = (typeof VEGA_DEBUG == \"undefined\") ? {} : VEGA_DEBUG;\n",
       "  (function(spec, embedOpt){\n",
       "    let outputDiv = document.currentScript.previousElementSibling;\n",
       "    if (outputDiv.id !== \"altair-viz-50c221fe0bbb40e9b6300839455607d3\") {\n",
       "      outputDiv = document.getElementById(\"altair-viz-50c221fe0bbb40e9b6300839455607d3\");\n",
       "    }\n",
       "    const paths = {\n",
       "      \"vega\": \"https://cdn.jsdelivr.net/npm/vega@5?noext\",\n",
       "      \"vega-lib\": \"https://cdn.jsdelivr.net/npm/vega-lib?noext\",\n",
       "      \"vega-lite\": \"https://cdn.jsdelivr.net/npm/vega-lite@5.17.0?noext\",\n",
       "      \"vega-embed\": \"https://cdn.jsdelivr.net/npm/vega-embed@6?noext\",\n",
       "    };\n",
       "\n",
       "    function maybeLoadScript(lib, version) {\n",
       "      var key = `${lib.replace(\"-\", \"\")}_version`;\n",
       "      return (VEGA_DEBUG[key] == version) ?\n",
       "        Promise.resolve(paths[lib]) :\n",
       "        new Promise(function(resolve, reject) {\n",
       "          var s = document.createElement('script');\n",
       "          document.getElementsByTagName(\"head\")[0].appendChild(s);\n",
       "          s.async = true;\n",
       "          s.onload = () => {\n",
       "            VEGA_DEBUG[key] = version;\n",
       "            return resolve(paths[lib]);\n",
       "          };\n",
       "          s.onerror = () => reject(`Error loading script: ${paths[lib]}`);\n",
       "          s.src = paths[lib];\n",
       "        });\n",
       "    }\n",
       "\n",
       "    function showError(err) {\n",
       "      outputDiv.innerHTML = `<div class=\"error\" style=\"color:red;\">${err}</div>`;\n",
       "      throw err;\n",
       "    }\n",
       "\n",
       "    function displayChart(vegaEmbed) {\n",
       "      vegaEmbed(outputDiv, spec, embedOpt)\n",
       "        .catch(err => showError(`Javascript Error: ${err.message}<br>This usually means there's a typo in your chart specification. See the javascript console for the full traceback.`));\n",
       "    }\n",
       "\n",
       "    if(typeof define === \"function\" && define.amd) {\n",
       "      requirejs.config({paths});\n",
       "      require([\"vega-embed\"], displayChart, err => showError(`Error loading script: ${err.message}`));\n",
       "    } else {\n",
       "      maybeLoadScript(\"vega\", \"5\")\n",
       "        .then(() => maybeLoadScript(\"vega-lite\", \"5.17.0\"))\n",
       "        .then(() => maybeLoadScript(\"vega-embed\", \"6\"))\n",
       "        .catch(showError)\n",
       "        .then(() => displayChart(vegaEmbed));\n",
       "    }\n",
       "  })({\"config\": {\"view\": {\"continuousWidth\": 300, \"continuousHeight\": 300}}, \"data\": {\"name\": \"data-7bcb2a423b4cb0a6d4b51dfd7ecaaf58\"}, \"mark\": \"bar\", \"encoding\": {\"color\": {\"field\": \"rule\", \"legend\": null, \"scale\": {\"scheme\": \"category20c\"}}, \"order\": {\"field\": \"cumulative_rows\"}, \"tooltip\": [{\"field\": \"rule\", \"title\": \"SQL Condition\", \"type\": \"nominal\"}, {\"field\": \"row_count\", \"format\": \",\", \"title\": \"Comparisons Generated\", \"type\": \"quantitative\"}, {\"field\": \"cumulative_rows\", \"format\": \",\", \"title\": \"Cumulative Comparisons\", \"type\": \"quantitative\"}, {\"field\": \"cartesian\", \"format\": \",\", \"title\": \"Cartesian Product of Input Data\", \"type\": \"quantitative\"}, {\"field\": \"reduction_ratio\", \"title\": \"Reduction Ratio (cumulative rows/cartesian product)\", \"type\": \"nominal\"}], \"x\": {\"field\": \"start\", \"title\": \"Comparisons Generated by Rule(s)\", \"type\": \"quantitative\"}, \"x2\": {\"field\": \"cumulative_rows\"}, \"y\": {\"field\": \"rule\", \"sort\": [\"-x2\"], \"title\": \"SQL Blocking Rule\"}}, \"height\": {\"step\": 20}, \"title\": {\"text\": \"Count of Additional Comparisons Generated by Each Blocking Rule\", \"subtitle\": \"(Counts exclude comparisons already generated by previous rules)\"}, \"width\": 450, \"$schema\": \"https://vega.github.io/schema/vega-lite/v5.9.3.json\", \"datasets\": {\"data-7bcb2a423b4cb0a6d4b51dfd7ecaaf58\": [{\"row_count\": 37852, \"rule\": \"(l.\\\"first_name\\\" = r.\\\"first_name\\\") AND (l.\\\"surname\\\" = r.\\\"surname\\\") AND (l.\\\"dob\\\" = r.\\\"dob\\\")\", \"cumulative_rows\": 37852, \"cartesian\": 1279041753, \"reduction_ratio\": \"The rolling reduction ratio with your given blocking rule(s) is 0.99997. This represents the reduction in the total number of comparisons due to your rule(s).\", \"start\": 0}, {\"row_count\": 9568, \"rule\": \"(l.\\\"surname\\\" = r.\\\"surname\\\") AND (l.\\\"dob\\\" = r.\\\"dob\\\") AND (l.\\\"postcode_fake\\\" = r.\\\"postcode_fake\\\")\", \"cumulative_rows\": 47420, \"cartesian\": 1279041753, \"reduction_ratio\": \"The rolling reduction ratio with your given blocking rule(s) is 0.999963. This represents the reduction in the total number of comparisons due to your rule(s).\", \"start\": 37852}, {\"row_count\": 4306, \"rule\": \"(l.\\\"first_name\\\" = r.\\\"first_name\\\") AND (l.\\\"dob\\\" = r.\\\"dob\\\") AND (l.\\\"occupation\\\" = r.\\\"occupation\\\")\", \"cumulative_rows\": 51726, \"cartesian\": 1279041753, \"reduction_ratio\": \"The rolling reduction ratio with your given blocking rule(s) is 0.99996. This represents the reduction in the total number of comparisons due to your rule(s).\", \"start\": 47420}]}}, {\"mode\": \"vega-lite\"});\n",
       "</script>"
      ],
      "text/plain": [
       "alt.Chart(...)"
      ]
     },
     "execution_count": 4,
     "metadata": {},
     "output_type": "execute_result"
    }
   ],
   "source": [
    "linker.cumulative_num_comparisons_from_blocking_rules_chart()"
   ]
  },
  {
   "attachments": {},
   "cell_type": "markdown",
   "metadata": {},
   "source": [
    "The results of the linkage can be viewed with the `deterministic_link` function.\n"
   ]
  },
  {
   "cell_type": "code",
   "execution_count": 5,
   "metadata": {
    "execution": {
     "iopub.execute_input": "2024-03-27T15:12:12.006736Z",
     "iopub.status.busy": "2024-03-27T15:12:12.006382Z",
     "iopub.status.idle": "2024-03-27T15:12:12.499798Z",
     "shell.execute_reply": "2024-03-27T15:12:12.499040Z"
    }
   },
   "outputs": [
    {
     "data": {
      "text/html": [
       "<div>\n",
       "<style scoped>\n",
       "    .dataframe tbody tr th:only-of-type {\n",
       "        vertical-align: middle;\n",
       "    }\n",
       "\n",
       "    .dataframe tbody tr th {\n",
       "        vertical-align: top;\n",
       "    }\n",
       "\n",
       "    .dataframe thead th {\n",
       "        text-align: right;\n",
       "    }\n",
       "</style>\n",
       "<table border=\"1\" class=\"dataframe\">\n",
       "  <thead>\n",
       "    <tr style=\"text-align: right;\">\n",
       "      <th></th>\n",
       "      <th>unique_id_l</th>\n",
       "      <th>unique_id_r</th>\n",
       "      <th>dob_l</th>\n",
       "      <th>dob_r</th>\n",
       "      <th>surname_l</th>\n",
       "      <th>surname_r</th>\n",
       "      <th>postcode_fake_l</th>\n",
       "      <th>postcode_fake_r</th>\n",
       "      <th>first_name_l</th>\n",
       "      <th>first_name_r</th>\n",
       "      <th>occupation_l</th>\n",
       "      <th>occupation_r</th>\n",
       "      <th>match_key</th>\n",
       "      <th>match_probability</th>\n",
       "    </tr>\n",
       "  </thead>\n",
       "  <tbody>\n",
       "    <tr>\n",
       "      <th>0</th>\n",
       "      <td>Q55455287-12</td>\n",
       "      <td>Q55455287-2</td>\n",
       "      <td>1836-01-01</td>\n",
       "      <td>1836-01-01</td>\n",
       "      <td>morata</td>\n",
       "      <td>morata</td>\n",
       "      <td>ta4 2ug</td>\n",
       "      <td>ta4 2uu</td>\n",
       "      <td>jaido</td>\n",
       "      <td>jaido</td>\n",
       "      <td>None</td>\n",
       "      <td>writer</td>\n",
       "      <td>0</td>\n",
       "      <td>1.0</td>\n",
       "    </tr>\n",
       "    <tr>\n",
       "      <th>1</th>\n",
       "      <td>Q55455287-12</td>\n",
       "      <td>Q55455287-3</td>\n",
       "      <td>1836-01-01</td>\n",
       "      <td>1836-01-01</td>\n",
       "      <td>morata</td>\n",
       "      <td>morata</td>\n",
       "      <td>ta4 2ug</td>\n",
       "      <td>ta4 2uu</td>\n",
       "      <td>jaido</td>\n",
       "      <td>jaido</td>\n",
       "      <td>None</td>\n",
       "      <td>writer</td>\n",
       "      <td>0</td>\n",
       "      <td>1.0</td>\n",
       "    </tr>\n",
       "    <tr>\n",
       "      <th>2</th>\n",
       "      <td>Q55455287-12</td>\n",
       "      <td>Q55455287-4</td>\n",
       "      <td>1836-01-01</td>\n",
       "      <td>1836-01-01</td>\n",
       "      <td>morata</td>\n",
       "      <td>morata</td>\n",
       "      <td>ta4 2ug</td>\n",
       "      <td>ta4 2sz</td>\n",
       "      <td>jaido</td>\n",
       "      <td>jaido</td>\n",
       "      <td>None</td>\n",
       "      <td>writer</td>\n",
       "      <td>0</td>\n",
       "      <td>1.0</td>\n",
       "    </tr>\n",
       "    <tr>\n",
       "      <th>3</th>\n",
       "      <td>Q55455287-12</td>\n",
       "      <td>Q55455287-5</td>\n",
       "      <td>1836-01-01</td>\n",
       "      <td>1836-01-01</td>\n",
       "      <td>morata</td>\n",
       "      <td>morata</td>\n",
       "      <td>ta4 2ug</td>\n",
       "      <td>ta4 2ug</td>\n",
       "      <td>jaido</td>\n",
       "      <td>jaido</td>\n",
       "      <td>None</td>\n",
       "      <td>None</td>\n",
       "      <td>0</td>\n",
       "      <td>1.0</td>\n",
       "    </tr>\n",
       "    <tr>\n",
       "      <th>4</th>\n",
       "      <td>Q55455287-12</td>\n",
       "      <td>Q55455287-6</td>\n",
       "      <td>1836-01-01</td>\n",
       "      <td>1836-01-01</td>\n",
       "      <td>morata</td>\n",
       "      <td>morata</td>\n",
       "      <td>ta4 2ug</td>\n",
       "      <td>None</td>\n",
       "      <td>jaido</td>\n",
       "      <td>jaido</td>\n",
       "      <td>None</td>\n",
       "      <td>writer</td>\n",
       "      <td>0</td>\n",
       "      <td>1.0</td>\n",
       "    </tr>\n",
       "  </tbody>\n",
       "</table>\n",
       "</div>"
      ],
      "text/plain": [
       "    unique_id_l  unique_id_r       dob_l       dob_r surname_l surname_r  \\\n",
       "0  Q55455287-12  Q55455287-2  1836-01-01  1836-01-01    morata    morata   \n",
       "1  Q55455287-12  Q55455287-3  1836-01-01  1836-01-01    morata    morata   \n",
       "2  Q55455287-12  Q55455287-4  1836-01-01  1836-01-01    morata    morata   \n",
       "3  Q55455287-12  Q55455287-5  1836-01-01  1836-01-01    morata    morata   \n",
       "4  Q55455287-12  Q55455287-6  1836-01-01  1836-01-01    morata    morata   \n",
       "\n",
       "  postcode_fake_l postcode_fake_r first_name_l first_name_r occupation_l  \\\n",
       "0         ta4 2ug         ta4 2uu        jaido        jaido         None   \n",
       "1         ta4 2ug         ta4 2uu        jaido        jaido         None   \n",
       "2         ta4 2ug         ta4 2sz        jaido        jaido         None   \n",
       "3         ta4 2ug         ta4 2ug        jaido        jaido         None   \n",
       "4         ta4 2ug            None        jaido        jaido         None   \n",
       "\n",
       "  occupation_r match_key  match_probability  \n",
       "0       writer         0                1.0  \n",
       "1       writer         0                1.0  \n",
       "2       writer         0                1.0  \n",
       "3         None         0                1.0  \n",
       "4       writer         0                1.0  "
      ]
     },
     "execution_count": 5,
     "metadata": {},
     "output_type": "execute_result"
    }
   ],
   "source": [
    "df_predict = linker.deterministic_link()\n",
    "df_predict.as_pandas_dataframe().head()"
   ]
  },
  {
   "attachments": {},
   "cell_type": "markdown",
   "metadata": {},
   "source": [
    "Which can be used to generate clusters.\n",
    "\n",
    "Note, for deterministic linkage, each comparison has been assigned a match probability of 1, so to generate clusters, set `threshold_match_probability=1` in the `cluster_pairwise_predictions_at_threshold` function.\n"
   ]
  },
  {
   "cell_type": "code",
   "execution_count": 6,
   "metadata": {
    "execution": {
     "iopub.execute_input": "2024-03-27T15:12:12.504846Z",
     "iopub.status.busy": "2024-03-27T15:12:12.504476Z",
     "iopub.status.idle": "2024-03-27T15:12:13.239528Z",
     "shell.execute_reply": "2024-03-27T15:12:13.237906Z"
    }
   },
   "outputs": [
    {
     "name": "stderr",
     "output_type": "stream",
     "text": [
      "Completed iteration 1, root rows count 94\n"
     ]
    },
    {
     "name": "stderr",
     "output_type": "stream",
     "text": [
      "Completed iteration 2, root rows count 10\n"
     ]
    },
    {
     "name": "stderr",
     "output_type": "stream",
     "text": [
      "Completed iteration 3, root rows count 0\n"
     ]
    }
   ],
   "source": [
    "clusters = linker.cluster_pairwise_predictions_at_threshold(\n",
    "    df_predict, threshold_match_probability=1\n",
    ")"
   ]
  },
  {
   "cell_type": "code",
   "execution_count": 7,
   "metadata": {
    "execution": {
     "iopub.execute_input": "2024-03-27T15:12:13.244396Z",
     "iopub.status.busy": "2024-03-27T15:12:13.243774Z",
     "iopub.status.idle": "2024-03-27T15:12:13.271453Z",
     "shell.execute_reply": "2024-03-27T15:12:13.269458Z"
    }
   },
   "outputs": [
    {
     "data": {
      "text/html": [
       "<div>\n",
       "<style scoped>\n",
       "    .dataframe tbody tr th:only-of-type {\n",
       "        vertical-align: middle;\n",
       "    }\n",
       "\n",
       "    .dataframe tbody tr th {\n",
       "        vertical-align: top;\n",
       "    }\n",
       "\n",
       "    .dataframe thead th {\n",
       "        text-align: right;\n",
       "    }\n",
       "</style>\n",
       "<table border=\"1\" class=\"dataframe\">\n",
       "  <thead>\n",
       "    <tr style=\"text-align: right;\">\n",
       "      <th></th>\n",
       "      <th>cluster_id</th>\n",
       "      <th>unique_id</th>\n",
       "      <th>cluster</th>\n",
       "      <th>full_name</th>\n",
       "      <th>first_and_surname</th>\n",
       "      <th>first_name</th>\n",
       "      <th>surname</th>\n",
       "      <th>dob</th>\n",
       "      <th>birth_place</th>\n",
       "      <th>postcode_fake</th>\n",
       "      <th>gender</th>\n",
       "      <th>occupation</th>\n",
       "      <th>__splink_salt</th>\n",
       "    </tr>\n",
       "  </thead>\n",
       "  <tbody>\n",
       "    <tr>\n",
       "      <th>0</th>\n",
       "      <td>Q505697-1</td>\n",
       "      <td>Q505697-15</td>\n",
       "      <td>Q505697</td>\n",
       "      <td>tom moon</td>\n",
       "      <td>tom moon</td>\n",
       "      <td>tom</td>\n",
       "      <td>moon</td>\n",
       "      <td>1571-06-17</td>\n",
       "      <td>westminster</td>\n",
       "      <td>None</td>\n",
       "      <td>None</td>\n",
       "      <td>None</td>\n",
       "      <td>0.792742</td>\n",
       "    </tr>\n",
       "    <tr>\n",
       "      <th>1</th>\n",
       "      <td>Q8017455-1</td>\n",
       "      <td>Q8017455-12</td>\n",
       "      <td>Q8017455</td>\n",
       "      <td>william reeve</td>\n",
       "      <td>william reeve</td>\n",
       "      <td>william</td>\n",
       "      <td>reeve</td>\n",
       "      <td>1815-03-16</td>\n",
       "      <td>thurrock</td>\n",
       "      <td>rm16 6de</td>\n",
       "      <td>male</td>\n",
       "      <td>None</td>\n",
       "      <td>0.791402</td>\n",
       "    </tr>\n",
       "    <tr>\n",
       "      <th>2</th>\n",
       "      <td>Q84562127-1</td>\n",
       "      <td>Q84562127-12</td>\n",
       "      <td>Q84562127</td>\n",
       "      <td>elsie browne</td>\n",
       "      <td>elsie browne</td>\n",
       "      <td>elsie</td>\n",
       "      <td>browne</td>\n",
       "      <td>1853-01-01</td>\n",
       "      <td>central swindon north</td>\n",
       "      <td>sn2 8dh</td>\n",
       "      <td>male</td>\n",
       "      <td>None</td>\n",
       "      <td>0.227872</td>\n",
       "    </tr>\n",
       "    <tr>\n",
       "      <th>3</th>\n",
       "      <td>Q1474478-1</td>\n",
       "      <td>Q654096-3</td>\n",
       "      <td>Q654096</td>\n",
       "      <td>thomas ebrill</td>\n",
       "      <td>thomas ebrill</td>\n",
       "      <td>thomas</td>\n",
       "      <td>ebrill</td>\n",
       "      <td>1750-01-01</td>\n",
       "      <td>bolton</td>\n",
       "      <td>bl7 9rj</td>\n",
       "      <td>None</td>\n",
       "      <td>None</td>\n",
       "      <td>0.618269</td>\n",
       "    </tr>\n",
       "    <tr>\n",
       "      <th>4</th>\n",
       "      <td>Q55595689-1</td>\n",
       "      <td>Q55595689-13</td>\n",
       "      <td>Q55595689</td>\n",
       "      <td>felice leigh</td>\n",
       "      <td>felice leigh</td>\n",
       "      <td>felice</td>\n",
       "      <td>leigh</td>\n",
       "      <td>1853-01-01</td>\n",
       "      <td>None</td>\n",
       "      <td>chy6 2jl</td>\n",
       "      <td>None</td>\n",
       "      <td>writer</td>\n",
       "      <td>0.943111</td>\n",
       "    </tr>\n",
       "  </tbody>\n",
       "</table>\n",
       "</div>"
      ],
      "text/plain": [
       "    cluster_id     unique_id    cluster      full_name first_and_surname  \\\n",
       "0    Q505697-1    Q505697-15    Q505697       tom moon          tom moon   \n",
       "1   Q8017455-1   Q8017455-12   Q8017455  william reeve     william reeve   \n",
       "2  Q84562127-1  Q84562127-12  Q84562127   elsie browne      elsie browne   \n",
       "3   Q1474478-1     Q654096-3    Q654096  thomas ebrill     thomas ebrill   \n",
       "4  Q55595689-1  Q55595689-13  Q55595689   felice leigh      felice leigh   \n",
       "\n",
       "  first_name surname         dob            birth_place postcode_fake gender  \\\n",
       "0        tom    moon  1571-06-17            westminster          None   None   \n",
       "1    william   reeve  1815-03-16               thurrock      rm16 6de   male   \n",
       "2      elsie  browne  1853-01-01  central swindon north       sn2 8dh   male   \n",
       "3     thomas  ebrill  1750-01-01                 bolton       bl7 9rj   None   \n",
       "4     felice   leigh  1853-01-01                   None      chy6 2jl   None   \n",
       "\n",
       "  occupation  __splink_salt  \n",
       "0       None       0.792742  \n",
       "1       None       0.791402  \n",
       "2       None       0.227872  \n",
       "3       None       0.618269  \n",
       "4     writer       0.943111  "
      ]
     },
     "execution_count": 7,
     "metadata": {},
     "output_type": "execute_result"
    }
   ],
   "source": [
    "clusters.as_pandas_dataframe(limit=5)"
   ]
  },
  {
   "attachments": {},
   "cell_type": "markdown",
   "metadata": {},
   "source": [
    "These results can then be passed into the `Cluster Studio Dashboard`.\n"
   ]
  },
  {
   "cell_type": "code",
   "execution_count": 8,
   "metadata": {
    "execution": {
     "iopub.execute_input": "2024-03-27T15:12:13.278623Z",
     "iopub.status.busy": "2024-03-27T15:12:13.277265Z",
     "iopub.status.idle": "2024-03-27T15:12:13.404047Z",
     "shell.execute_reply": "2024-03-27T15:12:13.403097Z"
    }
   },
   "outputs": [
    {
     "data": {
      "text/html": [
       "\n",
       "        <iframe\n",
       "            width=\"100%\"\n",
       "            height=\"1200\"\n",
       "            src=\"./dashboards/50k_deterministic_cluster.html\"\n",
       "            frameborder=\"0\"\n",
       "            allowfullscreen\n",
       "            \n",
       "        ></iframe>\n",
       "        "
      ],
      "text/plain": [
       "<IPython.lib.display.IFrame at 0x12c732980>"
      ]
     },
     "execution_count": 8,
     "metadata": {},
     "output_type": "execute_result"
    }
   ],
   "source": [
    "linker.cluster_studio_dashboard(\n",
    "    df_predict,\n",
    "    clusters,\n",
    "    \"dashboards/50k_deterministic_cluster.html\",\n",
    "    sampling_method=\"by_cluster_size\",\n",
    "    overwrite=True,\n",
    ")\n",
    "\n",
    "from IPython.display import IFrame\n",
    "\n",
    "IFrame(src=\"./dashboards/50k_deterministic_cluster.html\", width=\"100%\", height=1200)"
   ]
  }
 ],
 "metadata": {
  "kernelspec": {
   "display_name": "Python 3 (ipykernel)",
   "language": "python",
   "name": "python3"
  },
  "language_info": {
   "codemirror_mode": {
    "name": "ipython",
    "version": 3
   },
   "file_extension": ".py",
   "mimetype": "text/x-python",
   "name": "python",
   "nbconvert_exporter": "python",
   "pygments_lexer": "ipython3",
   "version": "3.10.8"
  }
 },
 "nbformat": 4,
 "nbformat_minor": 4
}
