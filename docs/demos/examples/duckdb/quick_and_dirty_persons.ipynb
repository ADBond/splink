{
  "cells": [
    {
      "attachments": {},
      "cell_type": "markdown",
      "metadata": {},
      "source": [
        "## Historical people: Quick and dirty\n",
        "\n",
        "This example shows how to get some initial record linkage results as quickly as possible.\n",
        "\n",
        "There are many ways to improve the accuracy of this model. But this may be a good place to start if you just want to give Splink a try and see what it's capable of.\n"
      ]
    },
    {
      "cell_type": "markdown",
      "metadata": {},
      "source": [
        "<a target=\"_blank\" href=\"https://colab.research.google.com/github/moj-analytical-services/splink/blob/splink4_dev/docs/demos/examples/duckdb/quick_and_dirty_persons.ipynb\">\n",
        "  <img src=\"https://colab.research.google.com/assets/colab-badge.svg\" alt=\"Open In Colab\"/>\n",
        "</a>\n"
      ]
    },
    {
      "cell_type": "code",
      "execution_count": 1,
      "metadata": {
        "execution": {
          "iopub.execute_input": "2024-03-27T15:15:01.166130Z",
          "iopub.status.busy": "2024-03-27T15:15:01.165782Z",
          "iopub.status.idle": "2024-03-27T15:15:01.171295Z",
          "shell.execute_reply": "2024-03-27T15:15:01.170553Z"
        }
      },
      "source": [
        "# Uncomment and run this cell if you're running in Google Colab.\n",
        "# !pip install git+https://github.com/moj-analytical-services/splink.git@splink4_dev"
      ],
      "outputs": []
    },
    {
      "cell_type": "code",
      "execution_count": 2,
      "metadata": {
        "execution": {
          "iopub.execute_input": "2024-03-27T15:15:01.174969Z",
          "iopub.status.busy": "2024-03-27T15:15:01.174678Z",
          "iopub.status.idle": "2024-03-27T15:15:02.750516Z",
          "shell.execute_reply": "2024-03-27T15:15:02.749785Z"
        }
      },
      "source": [
        "from splink.datasets import splink_datasets\n",
        "\n",
        "df = splink_datasets.historical_50k\n",
        "df.head(5)"
      ],
      "outputs": []
    },
    {
      "cell_type": "code",
      "execution_count": 3,
      "metadata": {
        "execution": {
          "iopub.execute_input": "2024-03-27T15:15:02.754599Z",
          "iopub.status.busy": "2024-03-27T15:15:02.754204Z",
          "iopub.status.idle": "2024-03-27T15:15:02.762053Z",
          "shell.execute_reply": "2024-03-27T15:15:02.761258Z"
        }
      },
      "source": [
        "from splink import block_on, SettingsCreator\n",
        "import splink.comparison_library as cl\n",
        "import splink.comparison_template_library as ctl\n",
        "\n",
        "\n",
        "settings = SettingsCreator(\n",
        "    link_type=\"dedupe_only\",\n",
        "    blocking_rules_to_generate_predictions=[\n",
        "        block_on(\"full_name\"),\n",
        "        block_on(\"substr(full_name,1,6)\", \"dob\", \"birth_place\"),\n",
        "        block_on(\"dob\", \"birth_place\"),\n",
        "        block_on(\"postcode_fake\"),\n",
        "    ],\n",
        "    comparisons=[\n",
        "        cl.JaroWinklerAtThresholds(\"full_name\", [0.9, 0.7]).configure(\n",
        "            term_frequency_adjustments=True\n",
        "        ),\n",
        "        ctl.DateComparison(\n",
        "            \"dob\",\n",
        "            input_is_string=True,\n",
        "            datetime_metrics=[\"day\", \"month\", \"year\"],\n",
        "            datetime_thresholds=[5, 1, 5],\n",
        "        ),\n",
        "        cl.LevenshteinAtThresholds(\"postcode_fake\", 2),\n",
        "        cl.JaroWinklerAtThresholds(\"birth_place\", 0.9).configure(\n",
        "            term_frequency_adjustments=True\n",
        "        ),\n",
        "        cl.ExactMatch(\"occupation\").configure(term_frequency_adjustments=True),\n",
        "    ],\n",
        ")"
      ],
      "outputs": []
    },
    {
      "cell_type": "code",
      "execution_count": 4,
      "metadata": {
        "execution": {
          "iopub.execute_input": "2024-03-27T15:15:02.766456Z",
          "iopub.status.busy": "2024-03-27T15:15:02.766123Z",
          "iopub.status.idle": "2024-03-27T15:15:03.425993Z",
          "shell.execute_reply": "2024-03-27T15:15:03.424984Z"
        }
      },
      "source": [
        "from splink import Linker, DuckDBAPI\n",
        "\n",
        "\n",
        "linker = Linker(df, settings, database_api=DuckDBAPI(), set_up_basic_logging=False)\n",
        "deterministic_rules = [\n",
        "    \"l.full_name = r.full_name\",\n",
        "    \"l.postcode_fake = r.postcode_fake and l.dob = r.dob\",\n",
        "]\n",
        "\n",
        "linker.training.estimate_probability_two_random_records_match(deterministic_rules, recall=0.6)"
      ],
      "outputs": []
    },
    {
      "cell_type": "code",
      "execution_count": 5,
      "metadata": {
        "execution": {
          "iopub.execute_input": "2024-03-27T15:15:03.430749Z",
          "iopub.status.busy": "2024-03-27T15:15:03.430387Z",
          "iopub.status.idle": "2024-03-27T15:15:07.041399Z",
          "shell.execute_reply": "2024-03-27T15:15:07.040743Z"
        }
      },
      "source": [
        "linker.training.estimate_u_using_random_sampling(max_pairs=2e6)"
      ],
      "outputs": []
    },
    {
      "cell_type": "code",
      "execution_count": 6,
      "metadata": {
        "execution": {
          "iopub.execute_input": "2024-03-27T15:15:07.045995Z",
          "iopub.status.busy": "2024-03-27T15:15:07.045404Z",
          "iopub.status.idle": "2024-03-27T15:15:09.400752Z",
          "shell.execute_reply": "2024-03-27T15:15:09.400029Z"
        }
      },
      "source": [
        "results = linker.inference.predict(threshold_match_probability=0.9)"
      ],
      "outputs": []
    },
    {
      "cell_type": "code",
      "execution_count": 7,
      "metadata": {
        "execution": {
          "iopub.execute_input": "2024-03-27T15:15:09.404703Z",
          "iopub.status.busy": "2024-03-27T15:15:09.404377Z",
          "iopub.status.idle": "2024-03-27T15:15:09.428537Z",
          "shell.execute_reply": "2024-03-27T15:15:09.427244Z"
        }
      },
      "source": [
        "results.as_pandas_dataframe(limit=5)"
      ],
      "outputs": []
    }
  ],
  "metadata": {
    "kernelspec": {
      "display_name": "Python 3 (ipykernel)",
      "language": "python",
      "name": "python3"
    },
    "language_info": {
      "codemirror_mode": {
        "name": "ipython",
        "version": 3
      },
      "file_extension": ".py",
      "mimetype": "text/x-python",
      "name": "python",
      "nbconvert_exporter": "python",
      "pygments_lexer": "ipython3",
      "version": "3.10.8"
    },
    "widgets": {
      "application/vnd.jupyter.widget-state+json": {
        "state": {
          "6b84d4a42f1a479ca6d8e1b02ccd8eda": {
            "model_module": "@jupyter-widgets/base",
            "model_module_version": "2.0.0",
            "model_name": "LayoutModel",
            "state": {
              "_model_module": "@jupyter-widgets/base",
              "_model_module_version": "2.0.0",
              "_model_name": "LayoutModel",
              "_view_count": null,
              "_view_module": "@jupyter-widgets/base",
              "_view_module_version": "2.0.0",
              "_view_name": "LayoutView",
              "align_content": null,
              "align_items": null,
              "align_self": null,
              "border_bottom": null,
              "border_left": null,
              "border_right": null,
              "border_top": null,
              "bottom": null,
              "display": null,
              "flex": null,
              "flex_flow": null,
              "grid_area": null,
              "grid_auto_columns": null,
              "grid_auto_flow": null,
              "grid_auto_rows": null,
              "grid_column": null,
              "grid_gap": null,
              "grid_row": null,
              "grid_template_areas": null,
              "grid_template_columns": null,
              "grid_template_rows": null,
              "height": null,
              "justify_content": null,
              "justify_items": null,
              "left": null,
              "margin": null,
              "max_height": null,
              "max_width": null,
              "min_height": null,
              "min_width": null,
              "object_fit": null,
              "object_position": null,
              "order": null,
              "overflow": null,
              "padding": null,
              "right": null,
              "top": null,
              "visibility": null,
              "width": "auto"
            }
          },
          "df640bcb35b2441a904ae87dc47249f9": {
            "model_module": "@jupyter-widgets/controls",
            "model_module_version": "2.0.0",
            "model_name": "FloatProgressModel",
            "state": {
              "_dom_classes": [],
              "_model_module": "@jupyter-widgets/controls",
              "_model_module_version": "2.0.0",
              "_model_name": "FloatProgressModel",
              "_view_count": null,
              "_view_module": "@jupyter-widgets/controls",
              "_view_module_version": "2.0.0",
              "_view_name": "ProgressView",
              "bar_style": "",
              "description": "",
              "description_allow_html": false,
              "layout": "IPY_MODEL_6b84d4a42f1a479ca6d8e1b02ccd8eda",
              "max": 100.0,
              "min": 0.0,
              "orientation": "horizontal",
              "style": "IPY_MODEL_e2e4b97696234790991bc2a5ca2e731a",
              "tabbable": null,
              "tooltip": null,
              "value": 100.0
            }
          },
          "e2e4b97696234790991bc2a5ca2e731a": {
            "model_module": "@jupyter-widgets/controls",
            "model_module_version": "2.0.0",
            "model_name": "ProgressStyleModel",
            "state": {
              "_model_module": "@jupyter-widgets/controls",
              "_model_module_version": "2.0.0",
              "_model_name": "ProgressStyleModel",
              "_view_count": null,
              "_view_module": "@jupyter-widgets/base",
              "_view_module_version": "2.0.0",
              "_view_name": "StyleView",
              "bar_color": "black",
              "description_width": ""
            }
          }
        },
        "version_major": 2,
        "version_minor": 0
      }
    }
  },
  "nbformat": 4,
  "nbformat_minor": 4
}