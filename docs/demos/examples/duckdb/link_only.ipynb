{
 "cells": [
  {
   "attachments": {},
   "cell_type": "markdown",
   "metadata": {},
   "source": [
    "## Linking without deduplication\n",
    "\n",
    "A simple record linkage model using the `link_only` [link type](https://moj-analytical-services.github.io/splink/settings_dict_guide.html#link_type).\n",
    "\n",
    "With `link_only`, only between-dataset record comparisons are generated. No within-dataset record comparisons are created, meaning that the model does not attempt to find within-dataset duplicates.\n"
   ]
  },
  {
   "cell_type": "markdown",
   "metadata": {},
   "source": [
    "<a target=\"_blank\" href=\"https://colab.research.google.com/github/moj-analytical-services/splink/blob/splink4_dev/docs/demos/examples/duckdb/link_only.ipynb\">\n",
    "  <img src=\"https://colab.research.google.com/assets/colab-badge.svg\" alt=\"Open In Colab\"/>\n",
    "</a>\n"
   ]
  },
  {
   "cell_type": "code",
   "execution_count": 1,
   "metadata": {
    "execution": {
     "iopub.execute_input": "2024-03-27T15:14:43.284619Z",
     "iopub.status.busy": "2024-03-27T15:14:43.284336Z",
     "iopub.status.idle": "2024-03-27T15:14:43.289588Z",
     "shell.execute_reply": "2024-03-27T15:14:43.288971Z"
    }
   },
   "source": [
    "# Uncomment and run this cell if you're running in Google Colab.\n",
    "# !pip install git+https://github.com/moj-analytical-services/splink.git@splink4_dev"
   ],
   "outputs": []
  },
  {
   "cell_type": "code",
   "execution_count": 2,
   "metadata": {
    "execution": {
     "iopub.execute_input": "2024-03-27T15:14:43.293314Z",
     "iopub.status.busy": "2024-03-27T15:14:43.293026Z",
     "iopub.status.idle": "2024-03-27T15:14:45.144216Z",
     "shell.execute_reply": "2024-03-27T15:14:45.143259Z"
    }
   },
   "source": [
    "from splink import splink_datasets\n",
    "\n",
    "df = splink_datasets.fake_1000\n",
    "\n",
    "# Split a simple dataset into two, separate datasets which can be linked together.\n",
    "df_l = df.sample(frac=0.5)\n",
    "df_r = df.drop(df_l.index)\n",
    "\n",
    "df_l.head(2)"
   ],
   "outputs": []
  },
  {
   "cell_type": "code",
   "execution_count": 3,
   "metadata": {
    "execution": {
     "iopub.execute_input": "2024-03-27T15:14:45.149667Z",
     "iopub.status.busy": "2024-03-27T15:14:45.149322Z",
     "iopub.status.idle": "2024-03-27T15:14:45.584636Z",
     "shell.execute_reply": "2024-03-27T15:14:45.583909Z"
    }
   },
   "source": [
    "from splink import Linker, DuckDBAPI, block_on, SettingsCreator\n",
    "import splink.comparison_library as cl\n",
    "import splink.comparison_template_library as ctl\n",
    "\n",
    "settings = SettingsCreator(\n",
    "    link_type=\"link_only\",\n",
    "    blocking_rules_to_generate_predictions=[\n",
    "        block_on(\"first_name\"),\n",
    "        block_on(\"surname\"),\n",
    "    ],\n",
    "    comparisons=[\n",
    "        ctl.NameComparison(\n",
    "            \"first_name\",\n",
    "        ),\n",
    "        ctl.NameComparison(\"surname\"),\n",
    "        ctl.DateComparison(\n",
    "            \"dob\",\n",
    "            input_is_string=True,\n",
    "            invalid_dates_as_null=True,\n",
    "            datetime_metrics=[\"month\", \"year\", \"year\"],\n",
    "            datetime_thresholds=[1, 1, 10],\n",
    "        ),\n",
    "        cl.ExactMatch(\"city\").configure(term_frequency_adjustments=True),\n",
    "        ctl.EmailComparison(\"email\", include_username_fuzzy_level=False),\n",
    "    ],\n",
    ")\n",
    "\n",
    "linker = Linker(\n",
    "    [df_l, df_r],\n",
    "    settings,\n",
    "    database_api=DuckDBAPI(),\n",
    "    input_table_aliases=[\"df_left\", \"df_right\"],\n",
    ")"
   ],
   "outputs": []
  },
  {
   "cell_type": "code",
   "execution_count": 4,
   "metadata": {
    "execution": {
     "iopub.execute_input": "2024-03-27T15:14:45.588957Z",
     "iopub.status.busy": "2024-03-27T15:14:45.588354Z",
     "iopub.status.idle": "2024-03-27T15:14:46.120692Z",
     "shell.execute_reply": "2024-03-27T15:14:46.119623Z"
    }
   },
   "source": [
    "from splink.exploratory import completeness_chart\n",
    "\n",
    "completeness_chart(\n",
    "    [df_l, df_r],\n",
    "    cols=[\"first_name\", \"surname\", \"dob\", \"city\", \"email\"],\n",
    "    db_api=DuckDBAPI(),\n",
    "    table_names_for_chart=[\"df_left\", \"df_right\"],\n",
    ")"
   ],
   "outputs": []
  },
  {
   "cell_type": "code",
   "execution_count": 5,
   "metadata": {
    "execution": {
     "iopub.execute_input": "2024-03-27T15:14:46.124880Z",
     "iopub.status.busy": "2024-03-27T15:14:46.124449Z",
     "iopub.status.idle": "2024-03-27T15:14:46.333422Z",
     "shell.execute_reply": "2024-03-27T15:14:46.332477Z"
    }
   },
   "source": [
    "from splink.blocking_rule_library import BlockingRuleCreator\n",
    "\n",
    "deterministic_rules = [\n",
    "    \"l.first_name = r.first_name and levenshtein(r.dob, l.dob) <= 1\",\n",
    "    \"l.surname = r.surname and levenshtein(r.dob, l.dob) <= 1\",\n",
    "    \"l.first_name = r.first_name and levenshtein(r.surname, l.surname) <= 2\",\n",
    "    block_on(\"email\"),\n",
    "]\n",
    "\n",
    "\n",
    "linker.estimate_probability_two_random_records_match(deterministic_rules, recall=0.7)"
   ],
   "outputs": []
  },
  {
   "cell_type": "code",
   "execution_count": 6,
   "metadata": {
    "execution": {
     "iopub.execute_input": "2024-03-27T15:14:46.337604Z",
     "iopub.status.busy": "2024-03-27T15:14:46.337231Z",
     "iopub.status.idle": "2024-03-27T15:14:47.729876Z",
     "shell.execute_reply": "2024-03-27T15:14:47.728440Z"
    }
   },
   "source": [
    "linker.estimate_u_using_random_sampling(max_pairs=1e6, seed=1)"
   ],
   "outputs": []
  },
  {
   "cell_type": "code",
   "execution_count": 7,
   "metadata": {
    "execution": {
     "iopub.execute_input": "2024-03-27T15:14:47.735185Z",
     "iopub.status.busy": "2024-03-27T15:14:47.734598Z",
     "iopub.status.idle": "2024-03-27T15:14:49.944190Z",
     "shell.execute_reply": "2024-03-27T15:14:49.943452Z"
    }
   },
   "source": [
    "session_dob = linker.estimate_parameters_using_expectation_maximisation(block_on(\"dob\"))\n",
    "session_email = linker.estimate_parameters_using_expectation_maximisation(\n",
    "    block_on(\"email\")\n",
    ")\n",
    "session_first_name = linker.estimate_parameters_using_expectation_maximisation(\n",
    "    block_on(\"first_name\")\n",
    ")"
   ],
   "outputs": []
  },
  {
   "cell_type": "code",
   "execution_count": 8,
   "metadata": {
    "execution": {
     "iopub.execute_input": "2024-03-27T15:14:49.948346Z",
     "iopub.status.busy": "2024-03-27T15:14:49.948058Z",
     "iopub.status.idle": "2024-03-27T15:14:50.272696Z",
     "shell.execute_reply": "2024-03-27T15:14:50.271981Z"
    }
   },
   "source": [
    "results = linker.predict(threshold_match_probability=0.9)"
   ],
   "outputs": []
  },
  {
   "cell_type": "code",
   "execution_count": 9,
   "metadata": {
    "execution": {
     "iopub.execute_input": "2024-03-27T15:14:50.276802Z",
     "iopub.status.busy": "2024-03-27T15:14:50.276415Z",
     "iopub.status.idle": "2024-03-27T15:14:50.299341Z",
     "shell.execute_reply": "2024-03-27T15:14:50.298407Z"
    }
   },
   "source": [
    "results.as_pandas_dataframe(limit=5)"
   ],
   "outputs": []
  }
 ],
 "metadata": {
  "kernelspec": {
   "display_name": "Python 3 (ipykernel)",
   "language": "python",
   "name": "python3"
  },
  "language_info": {
   "codemirror_mode": {
    "name": "ipython",
    "version": 3
   },
   "file_extension": ".py",
   "mimetype": "text/x-python",
   "name": "python",
   "nbconvert_exporter": "python",
   "pygments_lexer": "ipython3",
   "version": "3.10.8"
  }
 },
 "nbformat": 4,
 "nbformat_minor": 4
}
