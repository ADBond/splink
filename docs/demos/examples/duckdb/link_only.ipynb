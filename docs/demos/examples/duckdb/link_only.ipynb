{
 "cells": [
  {
   "attachments": {},
   "cell_type": "markdown",
   "metadata": {},
   "source": [
    "## Linking without deduplication\n",
    "\n",
    "A simple record linkage model using the `link_only` [link type](https://moj-analytical-services.github.io/splink/settings_dict_guide.html#link_type).\n",
    "\n",
    "With `link_only`, only between-dataset record comparisons are generated. No within-dataset record comparisons are created, meaning that the model does not attempt to find within-dataset duplicates.\n"
   ]
  },
  {
   "cell_type": "markdown",
   "metadata": {},
   "source": [
    "<a target=\"_blank\" href=\"https://colab.research.google.com/github/moj-analytical-services/splink/blob/splink4_dev/docs/demos/examples/duckdb/link_only.ipynb\">\n",
    "  <img src=\"https://colab.research.google.com/assets/colab-badge.svg\" alt=\"Open In Colab\"/>\n",
    "</a>\n"
   ]
  },
  {
   "cell_type": "code",
   "execution_count": 1,
   "metadata": {
    "execution": {
     "iopub.execute_input": "2024-03-27T15:14:43.284619Z",
     "iopub.status.busy": "2024-03-27T15:14:43.284336Z",
     "iopub.status.idle": "2024-03-27T15:14:43.289588Z",
     "shell.execute_reply": "2024-03-27T15:14:43.288971Z"
    }
   },
   "outputs": [],
   "source": [
    "# Uncomment and run this cell if you're running in Google Colab.\n",
    "# !pip install git+https://github.com/moj-analytical-services/splink.git@splink4_dev"
   ]
  },
  {
   "cell_type": "code",
   "execution_count": 2,
   "metadata": {
    "execution": {
     "iopub.execute_input": "2024-03-27T15:14:43.293314Z",
     "iopub.status.busy": "2024-03-27T15:14:43.293026Z",
     "iopub.status.idle": "2024-03-27T15:14:45.144216Z",
     "shell.execute_reply": "2024-03-27T15:14:45.143259Z"
    }
   },
   "outputs": [
    {
     "data": {
      "text/html": [
       "<div>\n",
       "<style scoped>\n",
       "    .dataframe tbody tr th:only-of-type {\n",
       "        vertical-align: middle;\n",
       "    }\n",
       "\n",
       "    .dataframe tbody tr th {\n",
       "        vertical-align: top;\n",
       "    }\n",
       "\n",
       "    .dataframe thead th {\n",
       "        text-align: right;\n",
       "    }\n",
       "</style>\n",
       "<table border=\"1\" class=\"dataframe\">\n",
       "  <thead>\n",
       "    <tr style=\"text-align: right;\">\n",
       "      <th></th>\n",
       "      <th>unique_id</th>\n",
       "      <th>first_name</th>\n",
       "      <th>surname</th>\n",
       "      <th>dob</th>\n",
       "      <th>city</th>\n",
       "      <th>email</th>\n",
       "      <th>cluster</th>\n",
       "    </tr>\n",
       "  </thead>\n",
       "  <tbody>\n",
       "    <tr>\n",
       "      <th>554</th>\n",
       "      <td>554</td>\n",
       "      <td>Clark</td>\n",
       "      <td>Violet</td>\n",
       "      <td>2020-02-11</td>\n",
       "      <td>London</td>\n",
       "      <td>NaN</td>\n",
       "      <td>136</td>\n",
       "    </tr>\n",
       "    <tr>\n",
       "      <th>740</th>\n",
       "      <td>740</td>\n",
       "      <td>Ahmed</td>\n",
       "      <td>Oscar</td>\n",
       "      <td>2005-09-18</td>\n",
       "      <td>NaN</td>\n",
       "      <td>oa14@lee.coom</td>\n",
       "      <td>187</td>\n",
       "    </tr>\n",
       "  </tbody>\n",
       "</table>\n",
       "</div>"
      ],
      "text/plain": [
       "     unique_id first_name surname         dob    city          email  cluster\n",
       "554        554      Clark  Violet  2020-02-11  London            NaN      136\n",
       "740        740      Ahmed   Oscar  2005-09-18     NaN  oa14@lee.coom      187"
      ]
     },
     "execution_count": 2,
     "metadata": {},
     "output_type": "execute_result"
    }
   ],
   "source": [
    "from splink import splink_datasets\n",
    "\n",
    "df = splink_datasets.fake_1000\n",
    "\n",
    "# Split a simple dataset into two, separate datasets which can be linked together.\n",
    "df_l = df.sample(frac=0.5)\n",
    "df_r = df.drop(df_l.index)\n",
    "\n",
    "df_l.head(2)"
   ]
  },
  {
   "cell_type": "code",
   "execution_count": 3,
   "metadata": {
    "execution": {
     "iopub.execute_input": "2024-03-27T15:14:45.149667Z",
     "iopub.status.busy": "2024-03-27T15:14:45.149322Z",
     "iopub.status.idle": "2024-03-27T15:14:45.584636Z",
     "shell.execute_reply": "2024-03-27T15:14:45.583909Z"
    }
   },
   "outputs": [],
   "source": [
    "from splink import Linker, DuckDBAPI, block_on, SettingsCreator\n",
    "import splink.comparison_library as cl\n",
    "import splink.comparison_template_library as ctl\n",
    "\n",
    "settings = SettingsCreator(\n",
    "    link_type=\"link_only\",\n",
    "    blocking_rules_to_generate_predictions=[\n",
    "        block_on(\"first_name\"),\n",
    "        block_on(\"surname\"),\n",
    "    ],\n",
    "    comparisons=[\n",
    "        ctl.NameComparison(\n",
    "            \"first_name\",\n",
    "        ),\n",
    "        ctl.NameComparison(\"surname\"),\n",
    "        ctl.DateComparison(\n",
    "            \"dob\",\n",
    "            input_is_string=True,\n",
    "            invalid_dates_as_null=True,\n",
    "            datetime_metrics=[\"month\", \"year\", \"year\"],\n",
    "            datetime_thresholds=[1, 1, 10],\n",
    "        ),\n",
    "        cl.ExactMatch(\"city\").configure(term_frequency_adjustments=True),\n",
    "        ctl.EmailComparison(\"email\", include_username_fuzzy_level=False),\n",
    "    ],\n",
    ")\n",
    "\n",
    "linker = Linker(\n",
    "    [df_l, df_r],\n",
    "    settings,\n",
    "    database_api=DuckDBAPI(),\n",
    "    input_table_aliases=[\"df_left\", \"df_right\"],\n",
    ")"
   ]
  },
  {
   "cell_type": "code",
   "execution_count": 4,
   "metadata": {
    "execution": {
     "iopub.execute_input": "2024-03-27T15:14:45.588957Z",
     "iopub.status.busy": "2024-03-27T15:14:45.588354Z",
     "iopub.status.idle": "2024-03-27T15:14:46.120692Z",
     "shell.execute_reply": "2024-03-27T15:14:46.119623Z"
    }
   },
   "outputs": [
    {
     "data": {
      "text/html": [
       "\n",
       "<style>\n",
       "  #altair-viz-6c104431717f40d2ad6d5ffd2e52491a.vega-embed {\n",
       "    width: 100%;\n",
       "    display: flex;\n",
       "  }\n",
       "\n",
       "  #altair-viz-6c104431717f40d2ad6d5ffd2e52491a.vega-embed details,\n",
       "  #altair-viz-6c104431717f40d2ad6d5ffd2e52491a.vega-embed details summary {\n",
       "    position: relative;\n",
       "  }\n",
       "</style>\n",
       "<div id=\"altair-viz-6c104431717f40d2ad6d5ffd2e52491a\"></div>\n",
       "<script type=\"text/javascript\">\n",
       "  var VEGA_DEBUG = (typeof VEGA_DEBUG == \"undefined\") ? {} : VEGA_DEBUG;\n",
       "  (function(spec, embedOpt){\n",
       "    let outputDiv = document.currentScript.previousElementSibling;\n",
       "    if (outputDiv.id !== \"altair-viz-6c104431717f40d2ad6d5ffd2e52491a\") {\n",
       "      outputDiv = document.getElementById(\"altair-viz-6c104431717f40d2ad6d5ffd2e52491a\");\n",
       "    }\n",
       "    const paths = {\n",
       "      \"vega\": \"https://cdn.jsdelivr.net/npm/vega@5?noext\",\n",
       "      \"vega-lib\": \"https://cdn.jsdelivr.net/npm/vega-lib?noext\",\n",
       "      \"vega-lite\": \"https://cdn.jsdelivr.net/npm/vega-lite@5.17.0?noext\",\n",
       "      \"vega-embed\": \"https://cdn.jsdelivr.net/npm/vega-embed@6?noext\",\n",
       "    };\n",
       "\n",
       "    function maybeLoadScript(lib, version) {\n",
       "      var key = `${lib.replace(\"-\", \"\")}_version`;\n",
       "      return (VEGA_DEBUG[key] == version) ?\n",
       "        Promise.resolve(paths[lib]) :\n",
       "        new Promise(function(resolve, reject) {\n",
       "          var s = document.createElement('script');\n",
       "          document.getElementsByTagName(\"head\")[0].appendChild(s);\n",
       "          s.async = true;\n",
       "          s.onload = () => {\n",
       "            VEGA_DEBUG[key] = version;\n",
       "            return resolve(paths[lib]);\n",
       "          };\n",
       "          s.onerror = () => reject(`Error loading script: ${paths[lib]}`);\n",
       "          s.src = paths[lib];\n",
       "        });\n",
       "    }\n",
       "\n",
       "    function showError(err) {\n",
       "      outputDiv.innerHTML = `<div class=\"error\" style=\"color:red;\">${err}</div>`;\n",
       "      throw err;\n",
       "    }\n",
       "\n",
       "    function displayChart(vegaEmbed) {\n",
       "      vegaEmbed(outputDiv, spec, embedOpt)\n",
       "        .catch(err => showError(`Javascript Error: ${err.message}<br>This usually means there's a typo in your chart specification. See the javascript console for the full traceback.`));\n",
       "    }\n",
       "\n",
       "    if(typeof define === \"function\" && define.amd) {\n",
       "      requirejs.config({paths});\n",
       "      require([\"vega-embed\"], displayChart, err => showError(`Error loading script: ${err.message}`));\n",
       "    } else {\n",
       "      maybeLoadScript(\"vega\", \"5\")\n",
       "        .then(() => maybeLoadScript(\"vega-lite\", \"5.17.0\"))\n",
       "        .then(() => maybeLoadScript(\"vega-embed\", \"6\"))\n",
       "        .catch(showError)\n",
       "        .then(() => displayChart(vegaEmbed));\n",
       "    }\n",
       "  })({\"config\": {\"view\": {\"continuousWidth\": 400, \"continuousHeight\": 300}}, \"layer\": [{\"mark\": \"rect\", \"encoding\": {\"color\": {\"field\": \"completeness\", \"legend\": null, \"scale\": {\"scheme\": \"darkred\", \"zero\": true}, \"type\": \"quantitative\"}, \"tooltip\": [{\"field\": \"source_dataset\", \"title\": \"Source dataset\", \"type\": \"nominal\"}, {\"field\": \"total_rows_inc_nulls\", \"format\": \",\", \"title\": \"# of records\", \"type\": \"quantitative\"}, {\"field\": \"column_name\", \"title\": \"Column name\", \"type\": \"nominal\"}, {\"field\": \"total_null_rows\", \"format\": \",\", \"title\": \"# of nulls\", \"type\": \"quantitative\"}, {\"field\": \"completeness\", \"format\": \".1%\", \"type\": \"quantitative\"}], \"x\": {\"axis\": {\"labelAngle\": 20}, \"field\": \"column_name\", \"sort\": {\"field\": \"mean_comp\", \"order\": \"descending\"}, \"title\": \"Column name\", \"type\": \"nominal\"}, \"y\": {\"field\": \"source_dataset\", \"title\": \"Source dataset\", \"type\": \"nominal\"}}, \"title\": \"Column completeness by source dataset\", \"transform\": [{\"joinaggregate\": [{\"op\": \"mean\", \"field\": \"completeness\", \"as\": \"mean_comp\"}], \"groupby\": [\"column_name\"]}]}, {\"mark\": {\"type\": \"text\"}, \"encoding\": {\"color\": {\"condition\": {\"test\": \"datum['completeness'] < 0.5\", \"value\": \"white\"}, \"value\": \"black\"}, \"text\": {\"field\": \"completeness\", \"format\": \".0%\", \"type\": \"quantitative\"}, \"x\": {\"axis\": {\"labelAngle\": 0}, \"field\": \"column_name\", \"sort\": {\"field\": \"mean_comp\", \"order\": \"descending\"}, \"type\": \"nominal\"}, \"y\": {\"field\": \"source_dataset\", \"type\": \"nominal\"}}, \"transform\": [{\"joinaggregate\": [{\"op\": \"mean\", \"field\": \"completeness\", \"as\": \"mean_comp\"}], \"groupby\": [\"column_name\"]}]}], \"data\": {\"name\": \"data-172c5abb83fd47028c1bf00ecd673aed\"}, \"height\": {\"step\": 40}, \"width\": {\"step\": 40}, \"$schema\": \"https://vega.github.io/schema/vega-lite/v5.9.3.json\", \"datasets\": {\"data-172c5abb83fd47028c1bf00ecd673aed\": [{\"source_dataset\": \"df_right\", \"column_name\": \"first_name\", \"total_null_rows\": 80, \"total_rows_inc_nulls\": 500, \"completeness\": 0.8399999737739563}, {\"source_dataset\": \"df_left\", \"column_name\": \"first_name\", \"total_null_rows\": 89, \"total_rows_inc_nulls\": 500, \"completeness\": 0.8220000267028809}, {\"source_dataset\": \"df_left\", \"column_name\": \"surname\", \"total_null_rows\": 94, \"total_rows_inc_nulls\": 500, \"completeness\": 0.8119999766349792}, {\"source_dataset\": \"df_right\", \"column_name\": \"surname\", \"total_null_rows\": 87, \"total_rows_inc_nulls\": 500, \"completeness\": 0.8259999752044678}, {\"source_dataset\": \"df_left\", \"column_name\": \"dob\", \"total_null_rows\": 0, \"total_rows_inc_nulls\": 500, \"completeness\": 1.0}, {\"source_dataset\": \"df_right\", \"column_name\": \"dob\", \"total_null_rows\": 0, \"total_rows_inc_nulls\": 500, \"completeness\": 1.0}, {\"source_dataset\": \"df_left\", \"column_name\": \"city\", \"total_null_rows\": 105, \"total_rows_inc_nulls\": 500, \"completeness\": 0.7900000214576721}, {\"source_dataset\": \"df_right\", \"column_name\": \"city\", \"total_null_rows\": 82, \"total_rows_inc_nulls\": 500, \"completeness\": 0.8360000252723694}, {\"source_dataset\": \"df_right\", \"column_name\": \"email\", \"total_null_rows\": 109, \"total_rows_inc_nulls\": 500, \"completeness\": 0.7820000052452087}, {\"source_dataset\": \"df_left\", \"column_name\": \"email\", \"total_null_rows\": 102, \"total_rows_inc_nulls\": 500, \"completeness\": 0.7960000038146973}]}}, {\"mode\": \"vega-lite\"});\n",
       "</script>"
      ],
      "text/plain": [
       "alt.LayerChart(...)"
      ]
     },
     "execution_count": 4,
     "metadata": {},
     "output_type": "execute_result"
    }
   ],
   "source": [
    "from splink.exploratory import completeness_chart\n",
    "\n",
    "completeness_chart(\n",
    "    [df_l, df_r],\n",
    "    cols=[\"first_name\", \"surname\", \"dob\", \"city\", \"email\"],\n",
    "    db_api=DuckDBAPI(),\n",
    "    table_names_for_chart=[\"df_left\", \"df_right\"],\n",
    ")"
   ]
  },
  {
   "cell_type": "code",
   "execution_count": 5,
   "metadata": {
    "execution": {
     "iopub.execute_input": "2024-03-27T15:14:46.124880Z",
     "iopub.status.busy": "2024-03-27T15:14:46.124449Z",
     "iopub.status.idle": "2024-03-27T15:14:46.333422Z",
     "shell.execute_reply": "2024-03-27T15:14:46.332477Z"
    }
   },
   "outputs": [
    {
     "name": "stderr",
     "output_type": "stream",
     "text": [
      "Probability two random records match is estimated to be  0.00318.\n",
      "This means that amongst all possible pairwise record comparisons, one in 314.18 are expected to match.  With 250,000 total possible comparisons, we expect a total of around 795.71 matching pairs\n"
     ]
    }
   ],
   "source": [
    "from splink.blocking_rule_library import BlockingRuleCreator\n",
    "\n",
    "deterministic_rules = [\n",
    "    \"l.first_name = r.first_name and levenshtein(r.dob, l.dob) <= 1\",\n",
    "    \"l.surname = r.surname and levenshtein(r.dob, l.dob) <= 1\",\n",
    "    \"l.first_name = r.first_name and levenshtein(r.surname, l.surname) <= 2\",\n",
    "    block_on(\"email\"),\n",
    "]\n",
    "\n",
    "\n",
    "linker.estimate_probability_two_random_records_match(deterministic_rules, recall=0.7)"
   ]
  },
  {
   "cell_type": "code",
   "execution_count": 6,
   "metadata": {
    "execution": {
     "iopub.execute_input": "2024-03-27T15:14:46.337604Z",
     "iopub.status.busy": "2024-03-27T15:14:46.337231Z",
     "iopub.status.idle": "2024-03-27T15:14:47.729876Z",
     "shell.execute_reply": "2024-03-27T15:14:47.728440Z"
    }
   },
   "outputs": [
    {
     "name": "stderr",
     "output_type": "stream",
     "text": [
      "----- Estimating u probabilities using random sampling -----\n"
     ]
    },
    {
     "name": "stderr",
     "output_type": "stream",
     "text": [
      "\n",
      "Estimated u probabilities using random sampling\n"
     ]
    },
    {
     "name": "stderr",
     "output_type": "stream",
     "text": [
      "\n",
      "Your model is not yet fully trained. Missing estimates for:\n",
      "    - first_name (no m values are trained).\n",
      "    - surname (no m values are trained).\n",
      "    - dob (no m values are trained).\n",
      "    - city (no m values are trained).\n",
      "    - email (no m values are trained).\n"
     ]
    }
   ],
   "source": [
    "linker.estimate_u_using_random_sampling(max_pairs=1e6, seed=1)"
   ]
  },
  {
   "cell_type": "code",
   "execution_count": 7,
   "metadata": {
    "execution": {
     "iopub.execute_input": "2024-03-27T15:14:47.735185Z",
     "iopub.status.busy": "2024-03-27T15:14:47.734598Z",
     "iopub.status.idle": "2024-03-27T15:14:49.944190Z",
     "shell.execute_reply": "2024-03-27T15:14:49.943452Z"
    }
   },
   "outputs": [
    {
     "name": "stderr",
     "output_type": "stream",
     "text": [
      "\n",
      "----- Starting EM training session -----\n",
      "\n"
     ]
    },
    {
     "name": "stderr",
     "output_type": "stream",
     "text": [
      "Estimating the m probabilities of the model by blocking on:\n",
      "l.\"dob\" = r.\"dob\"\n",
      "\n",
      "Parameter estimates will be made for the following comparison(s):\n",
      "    - first_name\n",
      "    - surname\n",
      "    - city\n",
      "    - email\n",
      "\n",
      "Parameter estimates cannot be made for the following comparison(s) since they are used in the blocking rules: \n",
      "    - dob\n"
     ]
    },
    {
     "name": "stderr",
     "output_type": "stream",
     "text": [
      "\n"
     ]
    },
    {
     "name": "stderr",
     "output_type": "stream",
     "text": [
      "Iteration 1: Largest change in params was -0.408 in the m_probability of surname, level `Exact match on surname`\n"
     ]
    },
    {
     "name": "stderr",
     "output_type": "stream",
     "text": [
      "Iteration 2: Largest change in params was 0.131 in probability_two_random_records_match\n"
     ]
    },
    {
     "name": "stderr",
     "output_type": "stream",
     "text": [
      "Iteration 3: Largest change in params was 0.0372 in probability_two_random_records_match\n"
     ]
    },
    {
     "name": "stderr",
     "output_type": "stream",
     "text": [
      "Iteration 4: Largest change in params was 0.0132 in probability_two_random_records_match\n"
     ]
    },
    {
     "name": "stderr",
     "output_type": "stream",
     "text": [
      "Iteration 5: Largest change in params was 0.00555 in probability_two_random_records_match\n"
     ]
    },
    {
     "name": "stderr",
     "output_type": "stream",
     "text": [
      "Iteration 6: Largest change in params was 0.00251 in probability_two_random_records_match\n"
     ]
    },
    {
     "name": "stderr",
     "output_type": "stream",
     "text": [
      "Iteration 7: Largest change in params was 0.00118 in probability_two_random_records_match\n"
     ]
    },
    {
     "name": "stderr",
     "output_type": "stream",
     "text": [
      "Iteration 8: Largest change in params was 0.00056 in probability_two_random_records_match\n"
     ]
    },
    {
     "name": "stderr",
     "output_type": "stream",
     "text": [
      "Iteration 9: Largest change in params was 0.000269 in probability_two_random_records_match\n"
     ]
    },
    {
     "name": "stderr",
     "output_type": "stream",
     "text": [
      "Iteration 10: Largest change in params was 0.000129 in probability_two_random_records_match\n"
     ]
    },
    {
     "name": "stderr",
     "output_type": "stream",
     "text": [
      "Iteration 11: Largest change in params was 6.24e-05 in probability_two_random_records_match\n"
     ]
    },
    {
     "name": "stderr",
     "output_type": "stream",
     "text": [
      "\n",
      "EM converged after 11 iterations\n"
     ]
    },
    {
     "name": "stderr",
     "output_type": "stream",
     "text": [
      "\n",
      "Your model is not yet fully trained. Missing estimates for:\n",
      "    - dob (no m values are trained).\n"
     ]
    },
    {
     "name": "stderr",
     "output_type": "stream",
     "text": [
      "\n",
      "----- Starting EM training session -----\n",
      "\n"
     ]
    },
    {
     "name": "stderr",
     "output_type": "stream",
     "text": [
      "Estimating the m probabilities of the model by blocking on:\n",
      "l.\"email\" = r.\"email\"\n",
      "\n",
      "Parameter estimates will be made for the following comparison(s):\n",
      "    - first_name\n",
      "    - surname\n",
      "    - dob\n",
      "    - city\n",
      "\n",
      "Parameter estimates cannot be made for the following comparison(s) since they are used in the blocking rules: \n",
      "    - email\n"
     ]
    },
    {
     "name": "stderr",
     "output_type": "stream",
     "text": [
      "\n"
     ]
    },
    {
     "name": "stderr",
     "output_type": "stream",
     "text": [
      "Iteration 1: Largest change in params was -0.433 in the m_probability of dob, level `Exact match on dob`\n"
     ]
    },
    {
     "name": "stderr",
     "output_type": "stream",
     "text": [
      "Iteration 2: Largest change in params was 0.0892 in probability_two_random_records_match\n"
     ]
    },
    {
     "name": "stderr",
     "output_type": "stream",
     "text": [
      "Iteration 3: Largest change in params was 0.0184 in probability_two_random_records_match\n"
     ]
    },
    {
     "name": "stderr",
     "output_type": "stream",
     "text": [
      "Iteration 4: Largest change in params was 0.00597 in probability_two_random_records_match\n"
     ]
    },
    {
     "name": "stderr",
     "output_type": "stream",
     "text": [
      "Iteration 5: Largest change in params was 0.0023 in probability_two_random_records_match\n"
     ]
    },
    {
     "name": "stderr",
     "output_type": "stream",
     "text": [
      "Iteration 6: Largest change in params was 0.000962 in probability_two_random_records_match\n"
     ]
    },
    {
     "name": "stderr",
     "output_type": "stream",
     "text": [
      "Iteration 7: Largest change in params was 0.000416 in probability_two_random_records_match\n"
     ]
    },
    {
     "name": "stderr",
     "output_type": "stream",
     "text": [
      "Iteration 8: Largest change in params was 0.000183 in probability_two_random_records_match\n"
     ]
    },
    {
     "name": "stderr",
     "output_type": "stream",
     "text": [
      "Iteration 9: Largest change in params was 8.09e-05 in probability_two_random_records_match\n"
     ]
    },
    {
     "name": "stderr",
     "output_type": "stream",
     "text": [
      "\n",
      "EM converged after 9 iterations\n"
     ]
    },
    {
     "name": "stderr",
     "output_type": "stream",
     "text": [
      "\n",
      "Your model is fully trained. All comparisons have at least one estimate for their m and u values\n"
     ]
    },
    {
     "name": "stderr",
     "output_type": "stream",
     "text": [
      "\n",
      "----- Starting EM training session -----\n",
      "\n"
     ]
    },
    {
     "name": "stderr",
     "output_type": "stream",
     "text": [
      "Estimating the m probabilities of the model by blocking on:\n",
      "l.\"first_name\" = r.\"first_name\"\n",
      "\n",
      "Parameter estimates will be made for the following comparison(s):\n",
      "    - surname\n",
      "    - dob\n",
      "    - city\n",
      "    - email\n",
      "\n",
      "Parameter estimates cannot be made for the following comparison(s) since they are used in the blocking rules: \n",
      "    - first_name\n"
     ]
    },
    {
     "name": "stderr",
     "output_type": "stream",
     "text": [
      "\n"
     ]
    },
    {
     "name": "stderr",
     "output_type": "stream",
     "text": [
      "Iteration 1: Largest change in params was 0.206 in the m_probability of surname, level `Exact match on surname`\n"
     ]
    },
    {
     "name": "stderr",
     "output_type": "stream",
     "text": [
      "Iteration 2: Largest change in params was -0.0109 in the m_probability of surname, level `All other comparisons`\n"
     ]
    },
    {
     "name": "stderr",
     "output_type": "stream",
     "text": [
      "Iteration 3: Largest change in params was -0.00191 in the m_probability of surname, level `All other comparisons`\n"
     ]
    },
    {
     "name": "stderr",
     "output_type": "stream",
     "text": [
      "Iteration 4: Largest change in params was -0.000419 in the m_probability of surname, level `All other comparisons`\n"
     ]
    },
    {
     "name": "stderr",
     "output_type": "stream",
     "text": [
      "Iteration 5: Largest change in params was -9.87e-05 in the m_probability of surname, level `All other comparisons`\n"
     ]
    },
    {
     "name": "stderr",
     "output_type": "stream",
     "text": [
      "\n",
      "EM converged after 5 iterations\n"
     ]
    },
    {
     "name": "stderr",
     "output_type": "stream",
     "text": [
      "\n",
      "Your model is fully trained. All comparisons have at least one estimate for their m and u values\n"
     ]
    }
   ],
   "source": [
    "session_dob = linker.estimate_parameters_using_expectation_maximisation(block_on(\"dob\"))\n",
    "session_email = linker.estimate_parameters_using_expectation_maximisation(\n",
    "    block_on(\"email\")\n",
    ")\n",
    "session_first_name = linker.estimate_parameters_using_expectation_maximisation(\n",
    "    block_on(\"first_name\")\n",
    ")"
   ]
  },
  {
   "cell_type": "code",
   "execution_count": 8,
   "metadata": {
    "execution": {
     "iopub.execute_input": "2024-03-27T15:14:49.948346Z",
     "iopub.status.busy": "2024-03-27T15:14:49.948058Z",
     "iopub.status.idle": "2024-03-27T15:14:50.272696Z",
     "shell.execute_reply": "2024-03-27T15:14:50.271981Z"
    }
   },
   "outputs": [],
   "source": [
    "results = linker.predict(threshold_match_probability=0.9)"
   ]
  },
  {
   "cell_type": "code",
   "execution_count": 9,
   "metadata": {
    "execution": {
     "iopub.execute_input": "2024-03-27T15:14:50.276802Z",
     "iopub.status.busy": "2024-03-27T15:14:50.276415Z",
     "iopub.status.idle": "2024-03-27T15:14:50.299341Z",
     "shell.execute_reply": "2024-03-27T15:14:50.298407Z"
    }
   },
   "outputs": [
    {
     "data": {
      "text/html": [
       "<div>\n",
       "<style scoped>\n",
       "    .dataframe tbody tr th:only-of-type {\n",
       "        vertical-align: middle;\n",
       "    }\n",
       "\n",
       "    .dataframe tbody tr th {\n",
       "        vertical-align: top;\n",
       "    }\n",
       "\n",
       "    .dataframe thead th {\n",
       "        text-align: right;\n",
       "    }\n",
       "</style>\n",
       "<table border=\"1\" class=\"dataframe\">\n",
       "  <thead>\n",
       "    <tr style=\"text-align: right;\">\n",
       "      <th></th>\n",
       "      <th>match_weight</th>\n",
       "      <th>match_probability</th>\n",
       "      <th>source_dataset_l</th>\n",
       "      <th>source_dataset_r</th>\n",
       "      <th>unique_id_l</th>\n",
       "      <th>unique_id_r</th>\n",
       "      <th>first_name_l</th>\n",
       "      <th>first_name_r</th>\n",
       "      <th>gamma_first_name</th>\n",
       "      <th>surname_l</th>\n",
       "      <th>...</th>\n",
       "      <th>dob_l</th>\n",
       "      <th>dob_r</th>\n",
       "      <th>gamma_dob</th>\n",
       "      <th>city_l</th>\n",
       "      <th>city_r</th>\n",
       "      <th>gamma_city</th>\n",
       "      <th>email_l</th>\n",
       "      <th>email_r</th>\n",
       "      <th>gamma_email</th>\n",
       "      <th>match_key</th>\n",
       "    </tr>\n",
       "  </thead>\n",
       "  <tbody>\n",
       "    <tr>\n",
       "      <th>0</th>\n",
       "      <td>3.239624</td>\n",
       "      <td>0.904265</td>\n",
       "      <td>df_left</td>\n",
       "      <td>df_right</td>\n",
       "      <td>542</td>\n",
       "      <td>541</td>\n",
       "      <td>Harry</td>\n",
       "      <td>Harry</td>\n",
       "      <td>3</td>\n",
       "      <td>wnddreAs</td>\n",
       "      <td>...</td>\n",
       "      <td>2019-04-15</td>\n",
       "      <td>2019-03-16</td>\n",
       "      <td>3</td>\n",
       "      <td>None</td>\n",
       "      <td>York</td>\n",
       "      <td>-1</td>\n",
       "      <td>harryandrews@woods.bz</td>\n",
       "      <td>None</td>\n",
       "      <td>-1</td>\n",
       "      <td>0</td>\n",
       "    </tr>\n",
       "    <tr>\n",
       "      <th>1</th>\n",
       "      <td>3.239624</td>\n",
       "      <td>0.904265</td>\n",
       "      <td>df_left</td>\n",
       "      <td>df_right</td>\n",
       "      <td>525</td>\n",
       "      <td>526</td>\n",
       "      <td>George</td>\n",
       "      <td>George</td>\n",
       "      <td>3</td>\n",
       "      <td>None</td>\n",
       "      <td>...</td>\n",
       "      <td>1980-06-29</td>\n",
       "      <td>1980-06-30</td>\n",
       "      <td>3</td>\n",
       "      <td>None</td>\n",
       "      <td>Lndon</td>\n",
       "      <td>-1</td>\n",
       "      <td>None</td>\n",
       "      <td>go94@brndshaw-saaders.com</td>\n",
       "      <td>-1</td>\n",
       "      <td>0</td>\n",
       "    </tr>\n",
       "    <tr>\n",
       "      <th>2</th>\n",
       "      <td>3.270123</td>\n",
       "      <td>0.906079</td>\n",
       "      <td>df_left</td>\n",
       "      <td>df_right</td>\n",
       "      <td>297</td>\n",
       "      <td>296</td>\n",
       "      <td>None</td>\n",
       "      <td>David</td>\n",
       "      <td>-1</td>\n",
       "      <td>Banks</td>\n",
       "      <td>...</td>\n",
       "      <td>1987-06-12</td>\n",
       "      <td>1986-06-12</td>\n",
       "      <td>4</td>\n",
       "      <td>Birimnham</td>\n",
       "      <td>BirmBaghnm</td>\n",
       "      <td>0</td>\n",
       "      <td>david.banks26@thomas-bell.com</td>\n",
       "      <td>None</td>\n",
       "      <td>-1</td>\n",
       "      <td>1</td>\n",
       "    </tr>\n",
       "    <tr>\n",
       "      <th>3</th>\n",
       "      <td>3.284361</td>\n",
       "      <td>0.906916</td>\n",
       "      <td>df_left</td>\n",
       "      <td>df_right</td>\n",
       "      <td>774</td>\n",
       "      <td>778</td>\n",
       "      <td>Armstrong</td>\n",
       "      <td>Armstrong</td>\n",
       "      <td>3</td>\n",
       "      <td>Eva</td>\n",
       "      <td>...</td>\n",
       "      <td>2027-04-21</td>\n",
       "      <td>2017-04-23</td>\n",
       "      <td>1</td>\n",
       "      <td>Peterborouhg</td>\n",
       "      <td>Peterbotrough</td>\n",
       "      <td>0</td>\n",
       "      <td>e.armstrong16odonnell.info</td>\n",
       "      <td>None</td>\n",
       "      <td>-1</td>\n",
       "      <td>0</td>\n",
       "    </tr>\n",
       "    <tr>\n",
       "      <th>4</th>\n",
       "      <td>3.284361</td>\n",
       "      <td>0.906916</td>\n",
       "      <td>df_left</td>\n",
       "      <td>df_right</td>\n",
       "      <td>874</td>\n",
       "      <td>875</td>\n",
       "      <td>Bradley</td>\n",
       "      <td>Bradley</td>\n",
       "      <td>3</td>\n",
       "      <td>Freddie</td>\n",
       "      <td>...</td>\n",
       "      <td>2020-06-23</td>\n",
       "      <td>2019-05-23</td>\n",
       "      <td>1</td>\n",
       "      <td>Liverpool</td>\n",
       "      <td>Lioerpovl</td>\n",
       "      <td>0</td>\n",
       "      <td>fb@nelson.com</td>\n",
       "      <td>None</td>\n",
       "      <td>-1</td>\n",
       "      <td>0</td>\n",
       "    </tr>\n",
       "  </tbody>\n",
       "</table>\n",
       "<p>5 rows × 22 columns</p>\n",
       "</div>"
      ],
      "text/plain": [
       "   match_weight  match_probability source_dataset_l source_dataset_r  \\\n",
       "0      3.239624           0.904265          df_left         df_right   \n",
       "1      3.239624           0.904265          df_left         df_right   \n",
       "2      3.270123           0.906079          df_left         df_right   \n",
       "3      3.284361           0.906916          df_left         df_right   \n",
       "4      3.284361           0.906916          df_left         df_right   \n",
       "\n",
       "   unique_id_l  unique_id_r first_name_l first_name_r  gamma_first_name  \\\n",
       "0          542          541        Harry        Harry                 3   \n",
       "1          525          526       George       George                 3   \n",
       "2          297          296         None        David                -1   \n",
       "3          774          778    Armstrong    Armstrong                 3   \n",
       "4          874          875      Bradley      Bradley                 3   \n",
       "\n",
       "  surname_l  ...       dob_l       dob_r gamma_dob        city_l  \\\n",
       "0  wnddreAs  ...  2019-04-15  2019-03-16         3          None   \n",
       "1      None  ...  1980-06-29  1980-06-30         3          None   \n",
       "2     Banks  ...  1987-06-12  1986-06-12         4     Birimnham   \n",
       "3       Eva  ...  2027-04-21  2017-04-23         1  Peterborouhg   \n",
       "4   Freddie  ...  2020-06-23  2019-05-23         1     Liverpool   \n",
       "\n",
       "          city_r gamma_city                        email_l  \\\n",
       "0           York         -1          harryandrews@woods.bz   \n",
       "1          Lndon         -1                           None   \n",
       "2     BirmBaghnm          0  david.banks26@thomas-bell.com   \n",
       "3  Peterbotrough          0     e.armstrong16odonnell.info   \n",
       "4      Lioerpovl          0                  fb@nelson.com   \n",
       "\n",
       "                     email_r gamma_email match_key  \n",
       "0                       None          -1         0  \n",
       "1  go94@brndshaw-saaders.com          -1         0  \n",
       "2                       None          -1         1  \n",
       "3                       None          -1         0  \n",
       "4                       None          -1         0  \n",
       "\n",
       "[5 rows x 22 columns]"
      ]
     },
     "execution_count": 9,
     "metadata": {},
     "output_type": "execute_result"
    }
   ],
   "source": [
    "results.as_pandas_dataframe(limit=5)"
   ]
  }
 ],
 "metadata": {
  "kernelspec": {
   "display_name": "Python 3 (ipykernel)",
   "language": "python",
   "name": "python3"
  },
  "language_info": {
   "codemirror_mode": {
    "name": "ipython",
    "version": 3
   },
   "file_extension": ".py",
   "mimetype": "text/x-python",
   "name": "python",
   "nbconvert_exporter": "python",
   "pygments_lexer": "ipython3",
   "version": "3.10.8"
  }
 },
 "nbformat": 4,
 "nbformat_minor": 4
}
