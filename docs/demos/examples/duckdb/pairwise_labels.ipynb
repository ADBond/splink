{
  "cells": [
    {
      "attachments": {},
      "cell_type": "markdown",
      "metadata": {},
      "source": [
        "## Estimating m from a sample of pairwise labels\n",
        "\n",
        "In this example, we estimate the m probabilities of the model from a table containing pairwise record comparisons which we know are 'true' matches. For example, these may be the result of work by a clerical team who have manually labelled a sample of matches.\n",
        "\n",
        "The table must be in the following format:\n",
        "\n",
        "| source_dataset_l | unique_id_l | source_dataset_r | unique_id_r |\n",
        "| ---------------- | ----------- | ---------------- | ----------- |\n",
        "| df_1             | 1           | df_2             | 2           |\n",
        "| df_1             | 1           | df_2             | 3           |\n",
        "\n",
        "It is assumed that every record in the table represents a certain match.\n",
        "\n",
        "Note that the column names above are the defaults. They should correspond to the values you've set for [`unique_id_column_name`](https://moj-analytical-services.github.io/splink/settings_dict_guide.html#unique_id_column_name) and [`source_dataset_column_name`](https://moj-analytical-services.github.io/splink/settings_dict_guide.html#source_dataset_column_name), if you've chosen custom values.\n"
      ]
    },
    {
      "cell_type": "markdown",
      "metadata": {},
      "source": [
        "<a target=\"_blank\" href=\"https://colab.research.google.com/github/moj-analytical-services/splink/blob/splink4_dev/docs/demos/examples/duckdb/pairwise_labels.ipynb\">\n",
        "  <img src=\"https://colab.research.google.com/assets/colab-badge.svg\" alt=\"Open In Colab\"/>\n",
        "</a>\n"
      ]
    },
    {
      "cell_type": "code",
      "execution_count": 1,
      "metadata": {
        "execution": {
          "iopub.execute_input": "2024-03-27T15:14:53.117258Z",
          "iopub.status.busy": "2024-03-27T15:14:53.116906Z",
          "iopub.status.idle": "2024-03-27T15:14:53.122096Z",
          "shell.execute_reply": "2024-03-27T15:14:53.121308Z"
        }
      },
      "outputs": [],
      "source": [
        "# Uncomment and run this cell if you're running in Google Colab.\n",
        "# !pip install git+https://github.com/moj-analytical-services/splink.git@splink4_dev"
      ]
    },
    {
      "cell_type": "code",
      "execution_count": 2,
      "metadata": {
        "execution": {
          "iopub.execute_input": "2024-03-27T15:14:53.126249Z",
          "iopub.status.busy": "2024-03-27T15:14:53.125905Z",
          "iopub.status.idle": "2024-03-27T15:14:54.649822Z",
          "shell.execute_reply": "2024-03-27T15:14:54.649099Z"
        }
      },
      "outputs": [],
      "source": [
        "from splink.datasets import splink_dataset_labels\n",
        "\n",
        "pairwise_labels = splink_dataset_labels.fake_1000_labels\n",
        "\n",
        "# Choose labels indicating a match\n",
        "pairwise_labels = pairwise_labels[pairwise_labels[\"clerical_match_score\"] == 1]\n",
        "pairwise_labels"
      ]
    },
    {
      "attachments": {},
      "cell_type": "markdown",
      "metadata": {},
      "source": [
        "We now proceed to estimate the Fellegi Sunter model:\n"
      ]
    },
    {
      "cell_type": "code",
      "execution_count": 3,
      "metadata": {
        "execution": {
          "iopub.execute_input": "2024-03-27T15:14:54.653768Z",
          "iopub.status.busy": "2024-03-27T15:14:54.653468Z",
          "iopub.status.idle": "2024-03-27T15:14:54.668003Z",
          "shell.execute_reply": "2024-03-27T15:14:54.667271Z"
        }
      },
      "outputs": [],
      "source": [
        "from splink import splink_datasets\n",
        "\n",
        "df = splink_datasets.fake_1000\n",
        "df.head(2)"
      ]
    },
    {
      "cell_type": "code",
      "execution_count": 4,
      "metadata": {
        "execution": {
          "iopub.execute_input": "2024-03-27T15:14:54.671717Z",
          "iopub.status.busy": "2024-03-27T15:14:54.671406Z",
          "iopub.status.idle": "2024-03-27T15:14:54.912700Z",
          "shell.execute_reply": "2024-03-27T15:14:54.911624Z"
        }
      },
      "outputs": [],
      "source": [
        "import splink.comparison_library as cl\n",
        "import splink.comparison_template_library as ctl\n",
        "from splink import DuckDBAPI, Linker, SettingsCreator, block_on\n",
        "\n",
        "settings = SettingsCreator(\n",
        "    link_type=\"dedupe_only\",\n",
        "    blocking_rules_to_generate_predictions=[\n",
        "        block_on(\"first_name\"),\n",
        "        block_on(\"surname\"),\n",
        "    ],\n",
        "    comparisons=[\n",
        "        ctl.NameComparison(\"first_name\"),\n",
        "        ctl.NameComparison(\"surname\"),\n",
        "        ctl.DateComparison(\n",
        "            \"dob\",\n",
        "            input_is_string=True,\n",
        "            invalid_dates_as_null=True,\n",
        "            datetime_metrics=[\"month\", \"year\", \"year\"],\n",
        "            datetime_thresholds=[1, 1, 10],\n",
        "        ),\n",
        "        cl.LevenshteinAtThresholds(\"dob\", [2]),\n",
        "        cl.ExactMatch(\"city\").configure(term_frequency_adjustments=True),\n",
        "        ctl.EmailComparison(\"email\", include_username_fuzzy_level=False),\n",
        "    ],\n",
        "    retain_intermediate_calculation_columns=True,\n",
        ")"
      ]
    },
    {
      "cell_type": "code",
      "execution_count": 5,
      "metadata": {
        "execution": {
          "iopub.execute_input": "2024-03-27T15:14:54.917049Z",
          "iopub.status.busy": "2024-03-27T15:14:54.916681Z",
          "iopub.status.idle": "2024-03-27T15:14:55.221629Z",
          "shell.execute_reply": "2024-03-27T15:14:55.220884Z"
        }
      },
      "outputs": [],
      "source": [
        "linker = Linker(df, settings, database_api=DuckDBAPI(), set_up_basic_logging=False)\n",
        "deterministic_rules = [\n",
        "    \"l.first_name = r.first_name and levenshtein(r.dob, l.dob) <= 1\",\n",
        "    \"l.surname = r.surname and levenshtein(r.dob, l.dob) <= 1\",\n",
        "    \"l.first_name = r.first_name and levenshtein(r.surname, l.surname) <= 2\",\n",
        "    \"l.email = r.email\",\n",
        "]\n",
        "\n",
        "linker.training.estimate_probability_two_random_records_match(deterministic_rules, recall=0.7)"
      ]
    },
    {
      "cell_type": "code",
      "execution_count": 6,
      "metadata": {
        "execution": {
          "iopub.execute_input": "2024-03-27T15:14:55.224831Z",
          "iopub.status.busy": "2024-03-27T15:14:55.224593Z",
          "iopub.status.idle": "2024-03-27T15:14:57.430946Z",
          "shell.execute_reply": "2024-03-27T15:14:57.430131Z"
        }
      },
      "outputs": [],
      "source": [
        "linker.training.estimate_u_using_random_sampling(max_pairs=1e6)"
      ]
    },
    {
      "cell_type": "code",
      "execution_count": 7,
      "metadata": {
        "execution": {
          "iopub.execute_input": "2024-03-27T15:14:57.434534Z",
          "iopub.status.busy": "2024-03-27T15:14:57.434260Z",
          "iopub.status.idle": "2024-03-27T15:14:57.657154Z",
          "shell.execute_reply": "2024-03-27T15:14:57.656336Z"
        }
      },
      "outputs": [],
      "source": [
        "# Register the pairwise labels table with the database, and then use it to estimate the m values\n",
        "labels_df = linker.table_management.register_labels_table(pairwise_labels, overwrite=True)\n",
        "linker.estimate_m_from_pairwise_labels(labels_df)\n",
        "\n",
        "\n",
        "# If the labels table already existing in the dataset you could run\n",
        "# linker.estimate_m_from_pairwise_labels(\"labels_tablename_here\")"
      ]
    },
    {
      "cell_type": "code",
      "execution_count": 8,
      "metadata": {
        "execution": {
          "iopub.execute_input": "2024-03-27T15:14:57.662065Z",
          "iopub.status.busy": "2024-03-27T15:14:57.661552Z",
          "iopub.status.idle": "2024-03-27T15:14:58.144518Z",
          "shell.execute_reply": "2024-03-27T15:14:58.143799Z"
        }
      },
      "outputs": [],
      "source": [
        "training_blocking_rule = block_on(\"first_name\")\n",
        "linker.training.estimate_parameters_using_expectation_maximisation(training_blocking_rule)"
      ]
    },
    {
      "cell_type": "code",
      "execution_count": 9,
      "metadata": {
        "execution": {
          "iopub.execute_input": "2024-03-27T15:14:58.149118Z",
          "iopub.status.busy": "2024-03-27T15:14:58.148820Z",
          "iopub.status.idle": "2024-03-27T15:14:58.295802Z",
          "shell.execute_reply": "2024-03-27T15:14:58.294855Z"
        }
      },
      "outputs": [],
      "source": [
        "linker.parameter_estimate_comparisons_chart()"
      ]
    },
    {
      "cell_type": "code",
      "execution_count": 10,
      "metadata": {
        "execution": {
          "iopub.execute_input": "2024-03-27T15:14:58.299160Z",
          "iopub.status.busy": "2024-03-27T15:14:58.298915Z",
          "iopub.status.idle": "2024-03-27T15:14:58.605413Z",
          "shell.execute_reply": "2024-03-27T15:14:58.604766Z"
        }
      },
      "outputs": [],
      "source": [
        "linker.visualisations.match_weights_chart()"
      ]
    },
    {
      "cell_type": "code",
      "execution_count": null,
      "metadata": {},
      "outputs": [],
      "source": []
    },
    {
      "cell_type": "code",
      "execution_count": null,
      "metadata": {},
      "outputs": [],
      "source": []
    }
  ],
  "metadata": {
    "kernelspec": {
      "display_name": "Python 3 (ipykernel)",
      "language": "python",
      "name": "python3"
    },
    "language_info": {
      "codemirror_mode": {
        "name": "ipython",
        "version": 3
      },
      "file_extension": ".py",
      "mimetype": "text/x-python",
      "name": "python",
      "nbconvert_exporter": "python",
      "pygments_lexer": "ipython3",
      "version": "3.10.8"
    },
    "widgets": {
      "application/vnd.jupyter.widget-state+json": {
        "state": {
          "54186cece08b4f6fa03f33cc282f36a6": {
            "model_module": "@jupyter-widgets/controls",
            "model_module_version": "2.0.0",
            "model_name": "FloatProgressModel",
            "state": {
              "_dom_classes": [],
              "_model_module": "@jupyter-widgets/controls",
              "_model_module_version": "2.0.0",
              "_model_name": "FloatProgressModel",
              "_view_count": null,
              "_view_module": "@jupyter-widgets/controls",
              "_view_module_version": "2.0.0",
              "_view_name": "ProgressView",
              "bar_style": "",
              "description": "",
              "description_allow_html": false,
              "layout": "IPY_MODEL_8863bef4905c44fc9705add5d5165a71",
              "max": 100,
              "min": 0,
              "orientation": "horizontal",
              "style": "IPY_MODEL_ce7ee37dfbeb4d26ae9171f7f3b857e7",
              "tabbable": null,
              "tooltip": null,
              "value": 100
            }
          },
          "8863bef4905c44fc9705add5d5165a71": {
            "model_module": "@jupyter-widgets/base",
            "model_module_version": "2.0.0",
            "model_name": "LayoutModel",
            "state": {
              "_model_module": "@jupyter-widgets/base",
              "_model_module_version": "2.0.0",
              "_model_name": "LayoutModel",
              "_view_count": null,
              "_view_module": "@jupyter-widgets/base",
              "_view_module_version": "2.0.0",
              "_view_name": "LayoutView",
              "align_content": null,
              "align_items": null,
              "align_self": null,
              "border_bottom": null,
              "border_left": null,
              "border_right": null,
              "border_top": null,
              "bottom": null,
              "display": null,
              "flex": null,
              "flex_flow": null,
              "grid_area": null,
              "grid_auto_columns": null,
              "grid_auto_flow": null,
              "grid_auto_rows": null,
              "grid_column": null,
              "grid_gap": null,
              "grid_row": null,
              "grid_template_areas": null,
              "grid_template_columns": null,
              "grid_template_rows": null,
              "height": null,
              "justify_content": null,
              "justify_items": null,
              "left": null,
              "margin": null,
              "max_height": null,
              "max_width": null,
              "min_height": null,
              "min_width": null,
              "object_fit": null,
              "object_position": null,
              "order": null,
              "overflow": null,
              "padding": null,
              "right": null,
              "top": null,
              "visibility": null,
              "width": "auto"
            }
          },
          "ce7ee37dfbeb4d26ae9171f7f3b857e7": {
            "model_module": "@jupyter-widgets/controls",
            "model_module_version": "2.0.0",
            "model_name": "ProgressStyleModel",
            "state": {
              "_model_module": "@jupyter-widgets/controls",
              "_model_module_version": "2.0.0",
              "_model_name": "ProgressStyleModel",
              "_view_count": null,
              "_view_module": "@jupyter-widgets/base",
              "_view_module_version": "2.0.0",
              "_view_name": "StyleView",
              "bar_color": "black",
              "description_width": ""
            }
          }
        },
        "version_major": 2,
        "version_minor": 0
      }
    }
  },
  "nbformat": 4,
  "nbformat_minor": 4
}