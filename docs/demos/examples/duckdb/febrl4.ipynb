{
 "cells": [
  {
   "cell_type": "markdown",
   "id": "b624dcc9-a6be-4996-8f78-1568568c2e6a",
   "metadata": {},
   "source": [
    "## Linking the febrl4 datasets\n",
    "\n",
    "See A.2 [here](https://arxiv.org/pdf/2008.04443.pdf) and [here](https://recordlinkage.readthedocs.io/en/latest/ref-datasets.html) for the source of this data.\n",
    "\n",
    "It consists of two datasets, A and B, of 5000 records each, with each record in dataset A having a corresponding record in dataset B. The aim will be to capture as many of those 5000 true links as possible, with minimal false linkages.\n",
    "\n",
    "It is worth noting that we should not necessarily expect to capture _all_ links. There are some links that although we know they _do_ correspond to the same person, the data is so mismatched between them that we would not reasonably expect a model to link them, and indeed should a model do so may indicate that we have overengineered things using our knowledge of true links, which will not be a helpful reference in situations where we attempt to link unlabelled data, as will usually be the case.\n"
   ]
  },
  {
   "cell_type": "markdown",
   "id": "32963faf",
   "metadata": {},
   "source": [
    "<a target=\"_blank\" href=\"https://colab.research.google.com/github/moj-analytical-services/splink/blob/splink4_dev/docs/demos/examples/duckdb/febrl4.ipynb\">\n",
    "  <img src=\"https://colab.research.google.com/assets/colab-badge.svg\" alt=\"Open In Colab\"/>\n",
    "</a>\n"
   ]
  },
  {
   "cell_type": "code",
   "execution_count": 1,
   "id": "9c2be649",
   "metadata": {
    "execution": {
     "iopub.execute_input": "2024-05-15T15:56:42.115992Z",
     "iopub.status.busy": "2024-05-15T15:56:42.115623Z",
     "iopub.status.idle": "2024-05-15T15:56:42.138818Z",
     "shell.execute_reply": "2024-05-15T15:56:42.137554Z"
    }
   },
   "source": [
    "# Uncomment and run this cell if you're running in Google Colab.\n",
    "# !pip install git+https://github.com/moj-analytical-services/splink.git@splink4_dev"
   ],
   "outputs": []
  },
  {
   "cell_type": "markdown",
   "id": "3547f018-c884-4b9e-a042-3df09a576582",
   "metadata": {},
   "source": [
    "### Exploring data and defining model\n"
   ]
  },
  {
   "cell_type": "markdown",
   "id": "05a3c2d4-6da8-48d5-89c8-db24702783c7",
   "metadata": {},
   "source": [
    "Firstly let's read in the data and have a little look at it\n"
   ]
  },
  {
   "cell_type": "code",
   "execution_count": 2,
   "id": "832113c9-13b2-43b7-86d0-6051a9db79e8",
   "metadata": {
    "execution": {
     "iopub.execute_input": "2024-05-15T15:56:42.144735Z",
     "iopub.status.busy": "2024-05-15T15:56:42.144299Z",
     "iopub.status.idle": "2024-05-15T15:56:44.123585Z",
     "shell.execute_reply": "2024-05-15T15:56:44.122726Z"
    }
   },
   "source": [
    "from splink import splink_datasets\n",
    "\n",
    "df_a = splink_datasets.febrl4a\n",
    "df_b = splink_datasets.febrl4b\n",
    "\n",
    "\n",
    "def prepare_data(data):\n",
    "    data = data.rename(columns=lambda x: x.strip())\n",
    "    data[\"cluster\"] = data[\"rec_id\"].apply(lambda x: \"-\".join(x.split(\"-\")[:2]))\n",
    "    data[\"date_of_birth\"] = data[\"date_of_birth\"].astype(str).str.strip()\n",
    "    data[\"soc_sec_id\"] = data[\"soc_sec_id\"].astype(str).str.strip()\n",
    "    data[\"postcode\"] = data[\"postcode\"].astype(str).str.strip()\n",
    "    return data\n",
    "\n",
    "\n",
    "dfs = [prepare_data(dataset) for dataset in [df_a, df_b]]\n",
    "\n",
    "display(dfs[0].head(2))\n",
    "display(dfs[1].head(2))"
   ],
   "outputs": []
  },
  {
   "cell_type": "markdown",
   "id": "8aebb0dd-28c1-44b8-9e12-e872b97f7583",
   "metadata": {},
   "source": [
    "Next, to better understand which variables will prove useful in linking, we have a look at how populated each column is, as well as the distribution of unique values within each\n"
   ]
  },
  {
   "cell_type": "code",
   "execution_count": 3,
   "id": "3233c3e1-3e6b-4abc-8bed-c26e8b463c2a",
   "metadata": {
    "execution": {
     "iopub.execute_input": "2024-05-15T15:56:44.128064Z",
     "iopub.status.busy": "2024-05-15T15:56:44.127470Z",
     "iopub.status.idle": "2024-05-15T15:56:44.412449Z",
     "shell.execute_reply": "2024-05-15T15:56:44.410927Z"
    }
   },
   "source": [
    "from splink import DuckDBAPI, Linker, SettingsCreator\n",
    "\n",
    "basic_settings = SettingsCreator(\n",
    "    unique_id_column_name=\"rec_id\",\n",
    "    link_type=\"link_only\",\n",
    "    # NB as we are linking one-one, we know the probability that a random pair will be a match\n",
    "    # hence we could set:\n",
    "    # \"probability_two_random_records_match\": 1/5000,\n",
    "    # however we will not specify this here, as we will use this as a check that\n",
    "    # our estimation procedure returns something sensible\n",
    ")\n",
    "\n",
    "linker = Linker(dfs, basic_settings, database_api=DuckDBAPI())"
   ],
   "outputs": []
  },
  {
   "cell_type": "markdown",
   "id": "c540f670",
   "metadata": {},
   "source": [
    "It's usually a good idea to perform exploratory analysis on your data so you understand what's in each column and how often it's missing\n"
   ]
  },
  {
   "cell_type": "code",
   "execution_count": 4,
   "id": "319ffdbc-7853-40a9-b331-e635d96b6fdc",
   "metadata": {
    "execution": {
     "iopub.execute_input": "2024-05-15T15:56:44.418048Z",
     "iopub.status.busy": "2024-05-15T15:56:44.417174Z",
     "iopub.status.idle": "2024-05-15T15:56:45.018140Z",
     "shell.execute_reply": "2024-05-15T15:56:45.017233Z"
    }
   },
   "source": [
    "from splink.exploratory import completeness_chart\n",
    "\n",
    "completeness_chart(dfs, db_api=DuckDBAPI())"
   ],
   "outputs": []
  },
  {
   "cell_type": "code",
   "execution_count": 5,
   "id": "dff8dfca-57c8-42bf-878c-da9dd23d2682",
   "metadata": {
    "execution": {
     "iopub.execute_input": "2024-05-15T15:56:45.022368Z",
     "iopub.status.busy": "2024-05-15T15:56:45.021805Z",
     "iopub.status.idle": "2024-05-15T15:56:45.760354Z",
     "shell.execute_reply": "2024-05-15T15:56:45.759671Z"
    }
   },
   "source": [
    "from splink.exploratory import profile_columns\n",
    "\n",
    "profile_columns(dfs, db_api=DuckDBAPI(), column_expressions=[\"given_name\", \"surname\"])"
   ],
   "outputs": []
  },
  {
   "cell_type": "markdown",
   "id": "935fc769-8678-494b-96d9-f499c34ae061",
   "metadata": {},
   "source": [
    "Next let's come up with some candidate blocking rules, which define which record comparisons are generated, and have a look at how many comparisons each will generate.\n",
    "\n",
    "For blocking rules that we use in prediction, our aim is to have the union of all rules cover all true matches, whilst avoiding generating so many comparisons that it becomes computationally intractable - i.e. each true match should have at least _one_ of the following conditions holding.\n"
   ]
  },
  {
   "cell_type": "code",
   "execution_count": 6,
   "id": "e745280e-fe2f-4563-bd7e-6e4c70d0c9de",
   "metadata": {
    "execution": {
     "iopub.execute_input": "2024-05-15T15:56:45.764541Z",
     "iopub.status.busy": "2024-05-15T15:56:45.764220Z",
     "iopub.status.idle": "2024-05-15T15:56:46.595508Z",
     "shell.execute_reply": "2024-05-15T15:56:46.594573Z"
    }
   },
   "source": [
    "from splink import DuckDBAPI, block_on\n",
    "from splink.blocking_analysis import (\n",
    "    cumulative_comparisons_to_be_scored_from_blocking_rules_chart,\n",
    ")\n",
    "\n",
    "blocking_rules = [\n",
    "    block_on(\"given_name\", \"surname\"),\n",
    "    # A blocking rule can also be an aribtrary SQL expression\n",
    "    \"l.given_name = r.surname and l.surname = r.given_name\",\n",
    "    block_on(\"date_of_birth\"),\n",
    "    block_on(\"soc_sec_id\"),\n",
    "    block_on(\"state\", \"address_1\"),\n",
    "    block_on(\"street_number\", \"address_1\"),\n",
    "    block_on(\"postcode\"),\n",
    "]\n",
    "\n",
    "\n",
    "db_api = DuckDBAPI()\n",
    "cumulative_comparisons_to_be_scored_from_blocking_rules_chart(\n",
    "    table_or_tables=dfs,\n",
    "    blocking_rules=blocking_rules,\n",
    "    db_api=db_api,\n",
    "    link_type=\"link_only\",\n",
    "    unique_id_column_name=\"rec_id\",\n",
    "    source_dataset_column_name=\"source_dataset\",\n",
    ")"
   ],
   "outputs": []
  },
  {
   "cell_type": "markdown",
   "id": "c91c8946-94e3-4ee0-b43f-2d9675339ac9",
   "metadata": {},
   "source": [
    "The broadest rule, having a matching postcode, unsurpisingly gives the largest number of comparisons.\n",
    "For this small dataset we still have a very manageable number, but if it was larger we might have needed to include a further `AND` condition with it to break the number of comparisons further.\n"
   ]
  },
  {
   "cell_type": "markdown",
   "id": "8fe64895-9292-4c86-983e-2ec3f140d12c",
   "metadata": {},
   "source": [
    "Now we get the full settings by including the blocking rules, as well as deciding the actual comparisons we will be including in our model.\n",
    "\n",
    "We will define two models, each with a separate linker with different settings, so that we can compare performance. One will be a very basic model, whilst the other will include a lot more detail.\n"
   ]
  },
  {
   "cell_type": "code",
   "execution_count": 7,
   "id": "f6360b69-2d52-4f1a-9199-2edf2339ec63",
   "metadata": {
    "execution": {
     "iopub.execute_input": "2024-05-15T15:56:46.600071Z",
     "iopub.status.busy": "2024-05-15T15:56:46.599766Z",
     "iopub.status.idle": "2024-05-15T15:56:47.112399Z",
     "shell.execute_reply": "2024-05-15T15:56:47.111220Z"
    }
   },
   "source": [
    "import splink.comparison_level_library as cll\n",
    "import splink.comparison_library as cl\n",
    "import splink.comparison_template_library as ctl\n",
    "\n",
    "# the simple model only considers a few columns, and only two comparison levels for each\n",
    "simple_model_settings = SettingsCreator(\n",
    "    unique_id_column_name=\"rec_id\",\n",
    "    link_type=\"link_only\",\n",
    "    blocking_rules_to_generate_predictions=blocking_rules,\n",
    "    comparisons=[\n",
    "        cl.ExactMatch(\"given_name\").configure(term_frequency_adjustments=True),\n",
    "        cl.ExactMatch(\"surname\").configure(term_frequency_adjustments=True),\n",
    "        cl.ExactMatch(\"street_number\").configure(term_frequency_adjustments=True),\n",
    "    ],\n",
    "    retain_intermediate_calculation_columns=True,\n",
    ")\n",
    "\n",
    "# the detailed model considers more columns, using the information we saw in the exploratory phase\n",
    "# we also include further comparison levels to account for typos and other differences\n",
    "detailed_model_settings = SettingsCreator(\n",
    "    unique_id_column_name=\"rec_id\",\n",
    "    link_type=\"link_only\",\n",
    "    blocking_rules_to_generate_predictions=blocking_rules,\n",
    "    comparisons=[\n",
    "        ctl.NameComparison(\"given_name\").configure(term_frequency_adjustments=True),\n",
    "        ctl.NameComparison(\"surname\").configure(term_frequency_adjustments=True),\n",
    "        ctl.DateComparison(\n",
    "            \"date_of_birth\",\n",
    "            input_is_string=True,\n",
    "            datetime_format=\"%Y%m%d\",\n",
    "            invalid_dates_as_null=True,\n",
    "            datetime_metrics=[\"month\", \"year\", \"year\"],\n",
    "            datetime_thresholds=[1, 1, 10],\n",
    "        ),\n",
    "        cl.DamerauLevenshteinAtThresholds(\"soc_sec_id\", [1, 2]),\n",
    "        cl.ExactMatch(\"street_number\").configure(term_frequency_adjustments=True),\n",
    "        cl.DamerauLevenshteinAtThresholds(\"postcode\", [1, 2]).configure(\n",
    "            term_frequency_adjustments=True\n",
    "        ),\n",
    "        # we don't consider further location columns as they will be strongly correlated with postcode\n",
    "    ],\n",
    "    retain_intermediate_calculation_columns=True,\n",
    ")\n",
    "\n",
    "\n",
    "linker_simple = Linker(dfs, simple_model_settings, database_api=DuckDBAPI())\n",
    "linker_detailed = Linker(dfs, detailed_model_settings, database_api=DuckDBAPI())"
   ],
   "outputs": []
  },
  {
   "cell_type": "markdown",
   "id": "4b151420-f53b-4dab-9d80-238892cffd53",
   "metadata": {},
   "source": [
    "### Estimating model parameters\n"
   ]
  },
  {
   "cell_type": "markdown",
   "id": "27f4d86a-3ec0-4d31-a8c7-eae2952e76a4",
   "metadata": {},
   "source": [
    "We need to furnish our models with parameter estimates so that we can generate results. We will focus on the detailed model, generating the values for the simple model at the end\n"
   ]
  },
  {
   "cell_type": "markdown",
   "id": "3684d83f-44ce-46af-b3bd-0725f001b8d4",
   "metadata": {},
   "source": [
    "We can instead estimate the probability two random records match, and compare with the known value of 1/5000 = 0.0002, to see how well our estimation procedure works.\n",
    "\n",
    "To do this we come up with some deterministic rules - the aim here is that we generate very few false positives (i.e. we expect that the majority of records with at least one of these conditions holding are true matches), whilst also capturing the majority of matches - our guess here is that these two rules should capture 80% of all matches.\n"
   ]
  },
  {
   "cell_type": "code",
   "execution_count": 8,
   "id": "7ad48419-4eda-4fe5-b00f-2ec9f798e0e8",
   "metadata": {
    "execution": {
     "iopub.execute_input": "2024-05-15T15:56:47.118143Z",
     "iopub.status.busy": "2024-05-15T15:56:47.117804Z",
     "iopub.status.idle": "2024-05-15T15:56:47.491169Z",
     "shell.execute_reply": "2024-05-15T15:56:47.489974Z"
    }
   },
   "source": [
    "deterministic_rules = [\n",
    "    block_on(\"soc_sec_id\"),\n",
    "    block_on(\"given_name\", \"surname\", \"date_of_birth\"),\n",
    "]\n",
    "\n",
    "linker_detailed.estimate_probability_two_random_records_match(\n",
    "    deterministic_rules, recall=0.8\n",
    ")"
   ],
   "outputs": []
  },
  {
   "cell_type": "markdown",
   "id": "0e035592-b1bb-4e27-a5b9-e890810088fb",
   "metadata": {},
   "source": [
    "Even playing around with changing these deterministic rules, or the nominal recall leaves us with an answer which is pretty close to our known value\n"
   ]
  },
  {
   "cell_type": "markdown",
   "id": "bdaaa245-4bd9-476c-9ead-c5f28597aa7e",
   "metadata": {},
   "source": [
    "Next we estimate `u` and `m` values for each comparison, so that we can move to generating predictions\n"
   ]
  },
  {
   "cell_type": "code",
   "execution_count": 9,
   "id": "e40ee288-0c42-4cda-aaf1-3ffb2ea02383",
   "metadata": {
    "execution": {
     "iopub.execute_input": "2024-05-15T15:56:47.497349Z",
     "iopub.status.busy": "2024-05-15T15:56:47.496965Z",
     "iopub.status.idle": "2024-05-15T15:56:59.095072Z",
     "shell.execute_reply": "2024-05-15T15:56:59.094337Z"
    }
   },
   "source": [
    "# We generally recommend setting max pairs higher (e.g. 1e7 or more)\n",
    "# But this will run faster for the purpose of this demo\n",
    "linker_detailed.estimate_u_using_random_sampling(max_pairs=1e6)"
   ],
   "outputs": []
  },
  {
   "cell_type": "markdown",
   "id": "614f6e19-14bb-4d40-9b95-36593b6de9ba",
   "metadata": {},
   "source": [
    "When training the `m` values using expectation maximisation, we need somre more blocking rules to reduce the total number of comparisons. For each rule, we want to ensure that we have neither proportionally too many matches, or too few.\n",
    "\n",
    "We must run this multiple times using different rules so that we can obtain estimates for all comparisons - if we block on e.g. `date_of_birth`, then we cannot compute the `m` values for the `date_of_birth` comparison, as we have only looked at records where these match.\n"
   ]
  },
  {
   "cell_type": "code",
   "execution_count": 10,
   "id": "9ee0f49b-084c-45aa-8c6b-ec5da11c2cc4",
   "metadata": {
    "execution": {
     "iopub.execute_input": "2024-05-15T15:56:59.100504Z",
     "iopub.status.busy": "2024-05-15T15:56:59.100174Z",
     "iopub.status.idle": "2024-05-15T15:57:01.059609Z",
     "shell.execute_reply": "2024-05-15T15:57:01.058521Z"
    }
   },
   "source": [
    "session_dob = linker_detailed.estimate_parameters_using_expectation_maximisation(\n",
    "    block_on(\"date_of_birth\"), estimate_without_term_frequencies=True\n",
    ")\n",
    "session_pc = linker_detailed.estimate_parameters_using_expectation_maximisation(\n",
    "    block_on(\"postcode\"), estimate_without_term_frequencies=True\n",
    ")"
   ],
   "outputs": []
  },
  {
   "cell_type": "markdown",
   "id": "ba8ed5fa-7003-46a9-bc40-4ae7cfb40953",
   "metadata": {},
   "source": [
    "If we wish we can have a look at how our parameter estimates changes over these training sessions\n"
   ]
  },
  {
   "cell_type": "code",
   "execution_count": 11,
   "id": "31ef6844-6be8-4f01-9ff7-5dfebcf12ae1",
   "metadata": {
    "execution": {
     "iopub.execute_input": "2024-05-15T15:57:01.065654Z",
     "iopub.status.busy": "2024-05-15T15:57:01.065325Z",
     "iopub.status.idle": "2024-05-15T15:57:01.389061Z",
     "shell.execute_reply": "2024-05-15T15:57:01.388339Z"
    }
   },
   "source": [
    "session_dob.m_u_values_interactive_history_chart()"
   ],
   "outputs": []
  },
  {
   "cell_type": "markdown",
   "id": "cffd7f8f-6cea-4ef7-87c7-c6a9c1775cf2",
   "metadata": {},
   "source": [
    "For variables that aren't used in the `m`-training blocking rules, we have two estimates --- one from each of the training sessions (see for example `street_number`). We can have a look at how the values compare between them, to ensure that we don't have drastically different values, which may be indicative of an issue.\n"
   ]
  },
  {
   "cell_type": "code",
   "execution_count": 12,
   "id": "8d260a60-a4fa-4c0d-9853-8b8256a24257",
   "metadata": {
    "execution": {
     "iopub.execute_input": "2024-05-15T15:57:01.393145Z",
     "iopub.status.busy": "2024-05-15T15:57:01.392842Z",
     "iopub.status.idle": "2024-05-15T15:57:01.561233Z",
     "shell.execute_reply": "2024-05-15T15:57:01.560475Z"
    }
   },
   "source": [
    "linker_detailed.parameter_estimate_comparisons_chart()"
   ],
   "outputs": []
  },
  {
   "cell_type": "markdown",
   "id": "25e3e343-603a-4aed-a5ac-5de42af5f8ad",
   "metadata": {},
   "source": [
    "We repeat our parameter estimations for the simple model in much the same fashion\n"
   ]
  },
  {
   "cell_type": "code",
   "execution_count": 13,
   "id": "71f2f166-05cd-4038-a289-a053a1f0b5c5",
   "metadata": {
    "execution": {
     "iopub.execute_input": "2024-05-15T15:57:01.565611Z",
     "iopub.status.busy": "2024-05-15T15:57:01.565220Z",
     "iopub.status.idle": "2024-05-15T15:57:04.177024Z",
     "shell.execute_reply": "2024-05-15T15:57:04.176371Z"
    }
   },
   "source": [
    "linker_simple.estimate_probability_two_random_records_match(\n",
    "    deterministic_rules, recall=0.8\n",
    ")\n",
    "linker_simple.estimate_u_using_random_sampling(max_pairs=1e7)\n",
    "session_ssid = linker_simple.estimate_parameters_using_expectation_maximisation(\n",
    "    block_on(\"given_name\"), estimate_without_term_frequencies=True\n",
    ")\n",
    "session_pc = linker_simple.estimate_parameters_using_expectation_maximisation(\n",
    "    block_on(\"street_number\"), estimate_without_term_frequencies=True\n",
    ")\n",
    "linker_simple.parameter_estimate_comparisons_chart()"
   ],
   "outputs": []
  },
  {
   "cell_type": "code",
   "execution_count": 14,
   "id": "3a87cb78-0e97-40a3-b757-6c99bb19d7b1",
   "metadata": {
    "execution": {
     "iopub.execute_input": "2024-05-15T15:57:04.180496Z",
     "iopub.status.busy": "2024-05-15T15:57:04.180247Z",
     "iopub.status.idle": "2024-05-15T15:57:04.183145Z",
     "shell.execute_reply": "2024-05-15T15:57:04.182523Z"
    }
   },
   "source": [
    "# import json\n",
    "# we can have a look at the full settings if we wish, including the values of our estimated parameters:\n",
    "# print(json.dumps(linker_detailed._settings_obj.as_dict(), indent=2))\n",
    "# we can also get a handy summary of of the model in an easily readable format if we wish:\n",
    "# print(linker_detailed._settings_obj.human_readable_description)\n",
    "# (we suppress output here for brevity)"
   ],
   "outputs": []
  },
  {
   "cell_type": "markdown",
   "id": "76f453df-848b-4f06-bbb7-d88ee710ae64",
   "metadata": {},
   "source": [
    "We can now visualise some of the details of our models. We can look at the match weights, which tell us the relative importance for/against a match for each of our comparsion levels.\n",
    "\n",
    "Comparing the two models will show the added benefit we get in the more detailed model --- what in the simple model is classed as 'all other comparisons' is instead broken down further, and we can see that the detail of how this is broken down in fact gives us quite a bit of useful information about the likelihood of a match.\n"
   ]
  },
  {
   "cell_type": "code",
   "execution_count": 15,
   "id": "b17b131c-c83e-4c32-bfad-c12021d2c3b7",
   "metadata": {
    "execution": {
     "iopub.execute_input": "2024-05-15T15:57:04.186220Z",
     "iopub.status.busy": "2024-05-15T15:57:04.185782Z",
     "iopub.status.idle": "2024-05-15T15:57:04.541188Z",
     "shell.execute_reply": "2024-05-15T15:57:04.540169Z"
    }
   },
   "source": [
    "linker_simple.match_weights_chart()"
   ],
   "outputs": []
  },
  {
   "cell_type": "code",
   "execution_count": 16,
   "id": "c095ff2b-405b-427c-849f-1468f6ca98e0",
   "metadata": {
    "execution": {
     "iopub.execute_input": "2024-05-15T15:57:04.545921Z",
     "iopub.status.busy": "2024-05-15T15:57:04.545071Z",
     "iopub.status.idle": "2024-05-15T15:57:04.888788Z",
     "shell.execute_reply": "2024-05-15T15:57:04.887944Z"
    }
   },
   "source": [
    "linker_detailed.match_weights_chart()"
   ],
   "outputs": []
  },
  {
   "cell_type": "markdown",
   "id": "e08287f4-711a-4960-b6e6-3f3d19ca8667",
   "metadata": {},
   "source": [
    "As well as the match weights, which give us an idea of the overall effect of each comparison level, we can also look at the individual `u` and `m` parameter estimates, which tells us about the prevalence of coincidences and mistakes (for further details/explanation about this see [this article](https://www.robinlinacre.com/maths_of_fellegi_sunter/)). We might want to revise aspects of our model based on the information we ascertain here.\n",
    "\n",
    "Note however that some of these values are very small, which is why the match weight chart is often more useful for getting a decent picture of things.\n"
   ]
  },
  {
   "cell_type": "code",
   "execution_count": 17,
   "id": "26e5dbe5-a621-44ab-bdb4-0bcd53b220b6",
   "metadata": {
    "execution": {
     "iopub.execute_input": "2024-05-15T15:57:04.893722Z",
     "iopub.status.busy": "2024-05-15T15:57:04.893207Z",
     "iopub.status.idle": "2024-05-15T15:57:05.067224Z",
     "shell.execute_reply": "2024-05-15T15:57:05.066686Z"
    }
   },
   "source": [
    "# linker_simple.m_u_parameters_chart()\n",
    "linker_detailed.m_u_parameters_chart()"
   ],
   "outputs": []
  },
  {
   "cell_type": "markdown",
   "id": "67321657-d2a0-4f7c-b68a-a906a210547e",
   "metadata": {},
   "source": [
    "It is also useful to have a look at unlinkable records - these are records which do not contain enough information to be linked at some match probability threshold. We can figure this out be seeing whether records are able to be matched with themselves.\n",
    "\n",
    "This is of course relative to the information we have put into the model - we see that in our simple model, at a 99% match threshold nearly 10% of records are unlinkable, as we have not included enough information in the model for distinct records to be adequately distinguished; this is not an issue in our more detailed model.\n"
   ]
  },
  {
   "cell_type": "code",
   "execution_count": 18,
   "id": "149962d6-a2ad-412f-aa05-8697beb12ed0",
   "metadata": {
    "execution": {
     "iopub.execute_input": "2024-05-15T15:57:05.070283Z",
     "iopub.status.busy": "2024-05-15T15:57:05.070040Z",
     "iopub.status.idle": "2024-05-15T15:57:06.960773Z",
     "shell.execute_reply": "2024-05-15T15:57:06.959848Z"
    }
   },
   "source": [
    "linker_simple.unlinkables_chart()"
   ],
   "outputs": []
  },
  {
   "cell_type": "code",
   "execution_count": 19,
   "id": "cac493dd-ea43-4550-8fd4-f758ae90ed75",
   "metadata": {
    "execution": {
     "iopub.execute_input": "2024-05-15T15:57:06.965159Z",
     "iopub.status.busy": "2024-05-15T15:57:06.964863Z",
     "iopub.status.idle": "2024-05-15T15:57:07.337075Z",
     "shell.execute_reply": "2024-05-15T15:57:07.336337Z"
    }
   },
   "source": [
    "linker_detailed.unlinkables_chart()"
   ],
   "outputs": []
  },
  {
   "cell_type": "markdown",
   "id": "66244ba3-7397-466a-889e-c85f90db1e82",
   "metadata": {},
   "source": [
    "Our simple model doesn't do _terribly_, but suffers if we want to have a high match probability --- to be 99% (match weight ~7) certain of matches we have ~10% of records that we will be unable to link.\n",
    "\n",
    "Our detailed model, however, has enough nuance that we can at least self-link records.\n"
   ]
  },
  {
   "cell_type": "markdown",
   "id": "061e1355-557a-457d-92b6-2589b32371da",
   "metadata": {},
   "source": [
    "### Predictions\n",
    "\n",
    "Now that we have had a look into the details of the models, we will focus on only our more detailed model, which should be able to capture more of the genuine links in our data\n"
   ]
  },
  {
   "cell_type": "code",
   "execution_count": 20,
   "id": "03348477-c3c1-42e7-a8af-8f678acc9d58",
   "metadata": {
    "execution": {
     "iopub.execute_input": "2024-05-15T15:57:07.340733Z",
     "iopub.status.busy": "2024-05-15T15:57:07.340494Z",
     "iopub.status.idle": "2024-05-15T15:57:12.239689Z",
     "shell.execute_reply": "2024-05-15T15:57:12.238900Z"
    }
   },
   "source": [
    "predictions = linker_detailed.predict(threshold_match_probability=0.2)\n",
    "df_predictions = predictions.as_pandas_dataframe()\n",
    "df_predictions.head(5)"
   ],
   "outputs": []
  },
  {
   "cell_type": "markdown",
   "id": "fd32d127-5012-42e8-9f69-89237992a793",
   "metadata": {},
   "source": [
    "We can see how our model performs at different probability thresholds, with a couple of options depending on the space we wish to view things\n"
   ]
  },
  {
   "cell_type": "code",
   "execution_count": 21,
   "id": "ce8d409c-7ef5-4485-9ec0-8b539fdecb1f",
   "metadata": {
    "execution": {
     "iopub.execute_input": "2024-05-15T15:57:12.244377Z",
     "iopub.status.busy": "2024-05-15T15:57:12.243938Z",
     "iopub.status.idle": "2024-05-15T15:57:15.174716Z",
     "shell.execute_reply": "2024-05-15T15:57:15.173769Z"
    }
   },
   "source": [
    "linker_detailed.accuracy_analysis_from_labels_column(\n",
    "    \"cluster\", output_type=\"precision_recall\"\n",
    ")"
   ],
   "outputs": []
  },
  {
   "cell_type": "markdown",
   "id": "568b990e-982a-4adc-9629-06ba30f872b0",
   "metadata": {},
   "source": [
    "and we can easily see how many individuals we identify and link by looking at clusters generated at some threshold match probability of interest - in this example 99%\n"
   ]
  },
  {
   "cell_type": "code",
   "execution_count": 22,
   "id": "ade53248-212f-4776-8d7d-4632b1749425",
   "metadata": {
    "execution": {
     "iopub.execute_input": "2024-05-15T15:57:15.183049Z",
     "iopub.status.busy": "2024-05-15T15:57:15.182695Z",
     "iopub.status.idle": "2024-05-15T15:57:15.493444Z",
     "shell.execute_reply": "2024-05-15T15:57:15.492713Z"
    }
   },
   "source": [
    "clusters = linker_detailed.cluster_pairwise_predictions_at_threshold(\n",
    "    predictions, threshold_match_probability=0.99\n",
    ")\n",
    "df_clusters = clusters.as_pandas_dataframe().sort_values(\"cluster_id\")\n",
    "df_clusters.groupby(\"cluster_id\").size().value_counts()"
   ],
   "outputs": []
  },
  {
   "cell_type": "markdown",
   "id": "6f7dbde5-c588-4930-bace-21642f250395",
   "metadata": {},
   "source": [
    "In this case, we happen to know what the true links are, so we can manually inspect the ones that are doing worst to see what our model is not capturing - i.e. where we have false negatives.\n",
    "\n",
    "Similarly, we can look at the non-links which are performing the best, to see whether we have an issue with false positives.\n",
    "\n",
    "Ordinarily we would not have this luxury, and so would need to dig a bit deeper for clues as to how to improve our model, such as manually inspecting records across threshold probabilities,\n"
   ]
  },
  {
   "cell_type": "code",
   "execution_count": 23,
   "id": "ef77a8b1-1119-4cb0-b299-343a4022d65e",
   "metadata": {
    "execution": {
     "iopub.execute_input": "2024-05-15T15:57:15.500107Z",
     "iopub.status.busy": "2024-05-15T15:57:15.499499Z",
     "iopub.status.idle": "2024-05-15T15:57:15.523366Z",
     "shell.execute_reply": "2024-05-15T15:57:15.522625Z"
    }
   },
   "source": [
    "df_predictions[\"cluster_l\"] = df_predictions[\"rec_id_l\"].apply(\n",
    "    lambda x: \"-\".join(x.split(\"-\")[:2])\n",
    ")\n",
    "df_predictions[\"cluster_r\"] = df_predictions[\"rec_id_r\"].apply(\n",
    "    lambda x: \"-\".join(x.split(\"-\")[:2])\n",
    ")\n",
    "df_true_links = df_predictions[\n",
    "    df_predictions[\"cluster_l\"] == df_predictions[\"cluster_r\"]\n",
    "].sort_values(\"match_probability\")"
   ],
   "outputs": []
  },
  {
   "cell_type": "code",
   "execution_count": 24,
   "id": "bc531ca3-fe0d-480d-b059-a7125474fb22",
   "metadata": {
    "execution": {
     "iopub.execute_input": "2024-05-15T15:57:15.527453Z",
     "iopub.status.busy": "2024-05-15T15:57:15.527121Z",
     "iopub.status.idle": "2024-05-15T15:57:16.507088Z",
     "shell.execute_reply": "2024-05-15T15:57:16.506251Z"
    }
   },
   "source": [
    "records_to_view = 3\n",
    "linker_detailed.waterfall_chart(\n",
    "    df_true_links.head(records_to_view).to_dict(orient=\"records\")\n",
    ")"
   ],
   "outputs": []
  },
  {
   "cell_type": "code",
   "execution_count": 25,
   "id": "aacd9042-5672-4bc4-aa98-940d1f5fd28a",
   "metadata": {
    "execution": {
     "iopub.execute_input": "2024-05-15T15:57:16.510992Z",
     "iopub.status.busy": "2024-05-15T15:57:16.510681Z",
     "iopub.status.idle": "2024-05-15T15:57:17.322254Z",
     "shell.execute_reply": "2024-05-15T15:57:17.321456Z"
    }
   },
   "source": [
    "df_non_links = df_predictions[\n",
    "    df_predictions[\"cluster_l\"] != df_predictions[\"cluster_r\"]\n",
    "].sort_values(\"match_probability\", ascending=False)\n",
    "linker_detailed.waterfall_chart(\n",
    "    df_non_links.head(records_to_view).to_dict(orient=\"records\")\n",
    ")"
   ],
   "outputs": []
  },
  {
   "cell_type": "markdown",
   "id": "99abfc68-61a0-4290-be22-7243680b5ee1",
   "metadata": {},
   "source": [
    "## Further refinements\n",
    "\n",
    "Looking at the non-links we have done well in having no false positives at any substantial match probability --- however looking at some of the true links we can see that there are a few that we are not capturing with sufficient match probability.\n",
    "\n",
    "We can see that there are a few features that we are not capturing/weighting appropriately\n",
    "\n",
    "- single-character transpostions, particularly in postcode (which is being lumped in with more 'severe typos'/probable non-matches)\n",
    "- given/sur-names being swapped with typos\n",
    "- given/sur-names being cross-matches on one only, with no match on the other cross\n",
    "\n",
    "We will quickly see if we can incorporate these features into a new model. As we are now going into more detail with the inter-relationship between given name and surname, it is probably no longer sensible to model them as independent comparisons, and so we will need to switch to a combined comparison on full name.\n"
   ]
  },
  {
   "cell_type": "code",
   "execution_count": 26,
   "id": "2a7229da-9f79-4151-a6b1-018d17205f5f",
   "metadata": {
    "execution": {
     "iopub.execute_input": "2024-05-15T15:57:17.327035Z",
     "iopub.status.busy": "2024-05-15T15:57:17.326665Z",
     "iopub.status.idle": "2024-05-15T15:57:17.342204Z",
     "shell.execute_reply": "2024-05-15T15:57:17.341227Z"
    }
   },
   "source": [
    "# we need to append a full name column to our source data frames\n",
    "# so that we can use it for term frequency adjustments\n",
    "dfs[0][\"full_name\"] = dfs[0][\"given_name\"] + \"_\" + dfs[0][\"surname\"]\n",
    "dfs[1][\"full_name\"] = dfs[1][\"given_name\"] + \"_\" + dfs[1][\"surname\"]\n",
    "\n",
    "\n",
    "extended_model_settings = {\n",
    "    \"unique_id_column_name\": \"rec_id\",\n",
    "    \"link_type\": \"link_only\",\n",
    "    \"blocking_rules_to_generate_predictions\": blocking_rules,\n",
    "    \"comparisons\": [\n",
    "        {\n",
    "            \"output_column_name\": \"Full name\",\n",
    "            \"comparison_levels\": [\n",
    "                {\n",
    "                    \"sql_condition\": \"(given_name_l IS NULL OR given_name_r IS NULL) and (surname_l IS NULL OR surname_r IS NULL)\",\n",
    "                    \"label_for_charts\": \"Null\",\n",
    "                    \"is_null_level\": True,\n",
    "                },\n",
    "                # full name match\n",
    "                cll.ExactMatchLevel(\"full_name\", term_frequency_adjustments=True),\n",
    "                # typos - keep levels across full name rather than scoring separately\n",
    "                cll.JaroWinklerLevel(\"full_name\", 0.9),\n",
    "                cll.JaroWinklerLevel(\"full_name\", 0.7),\n",
    "                # name switched\n",
    "                cll.ColumnsReversedLevel(\"given_name\", \"surname\"),\n",
    "                # name switched + typo\n",
    "                {\n",
    "                    \"sql_condition\": \"jaro_winkler_similarity(given_name_l, surname_r) + jaro_winkler_similarity(surname_l, given_name_r) >= 1.8\",\n",
    "                    \"label_for_charts\": \"switched + jaro_winkler_similarity >= 1.8\",\n",
    "                },\n",
    "                {\n",
    "                    \"sql_condition\": \"jaro_winkler_similarity(given_name_l, surname_r) + jaro_winkler_similarity(surname_l, given_name_r) >= 1.4\",\n",
    "                    \"label_for_charts\": \"switched + jaro_winkler_similarity >= 1.4\",\n",
    "                },\n",
    "                # single name match\n",
    "                cll.ExactMatchLevel(\"given_name\", term_frequency_adjustments=True),\n",
    "                cll.ExactMatchLevel(\"surname\", term_frequency_adjustments=True),\n",
    "                # single name cross-match\n",
    "                {\n",
    "                    \"sql_condition\": \"given_name_l = surname_r OR surname_l = given_name_r\",\n",
    "                    \"label_for_charts\": \"single name cross-matches\",\n",
    "                },  # single name typos\n",
    "                cll.JaroWinklerLevel(\"given_name\", 0.9),\n",
    "                cll.JaroWinklerLevel(\"surname\", 0.9),\n",
    "                # the rest\n",
    "                cll.ElseLevel(),\n",
    "            ],\n",
    "        },\n",
    "        ctl.DateComparison(\n",
    "            \"date_of_birth\",\n",
    "            input_is_string=True,\n",
    "            datetime_format=\"%Y%m%d\",\n",
    "            invalid_dates_as_null=True,\n",
    "            datetime_metrics=[\"month\", \"year\", \"year\"],\n",
    "            datetime_thresholds=[1, 1, 10],\n",
    "        ),\n",
    "        {\n",
    "            \"output_column_name\": \"Social security ID\",\n",
    "            \"comparison_levels\": [\n",
    "                cll.NullLevel(\"soc_sec_id\"),\n",
    "                cll.ExactMatchLevel(\"soc_sec_id\", term_frequency_adjustments=True),\n",
    "                cll.DamerauLevenshteinLevel(\"soc_sec_id\", 1),\n",
    "                cll.DamerauLevenshteinLevel(\"soc_sec_id\", 2),\n",
    "                cll.ElseLevel(),\n",
    "            ],\n",
    "        },\n",
    "        {\n",
    "            \"output_column_name\": \"Street number\",\n",
    "            \"comparison_levels\": [\n",
    "                cll.NullLevel(\"street_number\"),\n",
    "                cll.ExactMatchLevel(\"street_number\", term_frequency_adjustments=True),\n",
    "                cll.DamerauLevenshteinLevel(\"street_number\", 1),\n",
    "                cll.ElseLevel(),\n",
    "            ],\n",
    "        },\n",
    "        {\n",
    "            \"output_column_name\": \"Postcode\",\n",
    "            \"comparison_levels\": [\n",
    "                cll.NullLevel(\"postcode\"),\n",
    "                cll.ExactMatchLevel(\"postcode\", term_frequency_adjustments=True),\n",
    "                cll.DamerauLevenshteinLevel(\"postcode\", 1),\n",
    "                cll.DamerauLevenshteinLevel(\"postcode\", 2),\n",
    "                cll.ElseLevel(),\n",
    "            ],\n",
    "        },\n",
    "        # we don't consider further location columns as they will be strongly correlated with postcode\n",
    "    ],\n",
    "    \"retain_intermediate_calculation_columns\": True,\n",
    "}"
   ],
   "outputs": []
  },
  {
   "cell_type": "code",
   "execution_count": 27,
   "id": "1581eeeb-246b-46de-be88-ba4dc821fce7",
   "metadata": {
    "execution": {
     "iopub.execute_input": "2024-05-15T15:57:17.346493Z",
     "iopub.status.busy": "2024-05-15T15:57:17.346091Z",
     "iopub.status.idle": "2024-05-15T15:58:52.238122Z",
     "shell.execute_reply": "2024-05-15T15:58:52.237374Z"
    }
   },
   "source": [
    "# train\n",
    "linker_advanced = Linker(dfs, extended_model_settings, database_api=DuckDBAPI())\n",
    "linker_advanced.estimate_probability_two_random_records_match(\n",
    "    deterministic_rules, recall=0.8\n",
    ")\n",
    "# We recommend increasing target rows to 1e8 improve accuracy for u\n",
    "# values in full name comparison, as we have subdivided the data more finely\n",
    "\n",
    "# Here, 1e7 for speed\n",
    "linker_advanced.estimate_u_using_random_sampling(max_pairs=1e7)"
   ],
   "outputs": []
  },
  {
   "cell_type": "code",
   "execution_count": 28,
   "id": "265f0651",
   "metadata": {
    "execution": {
     "iopub.execute_input": "2024-05-15T15:58:52.244579Z",
     "iopub.status.busy": "2024-05-15T15:58:52.244307Z",
     "iopub.status.idle": "2024-05-15T15:58:53.189566Z",
     "shell.execute_reply": "2024-05-15T15:58:53.188815Z"
    }
   },
   "source": [
    "session_dob = linker_advanced.estimate_parameters_using_expectation_maximisation(\n",
    "    \"l.date_of_birth = r.date_of_birth\", estimate_without_term_frequencies=True\n",
    ")"
   ],
   "outputs": []
  },
  {
   "cell_type": "code",
   "execution_count": 29,
   "id": "ebcb15c8",
   "metadata": {
    "execution": {
     "iopub.execute_input": "2024-05-15T15:58:53.193304Z",
     "iopub.status.busy": "2024-05-15T15:58:53.193012Z",
     "iopub.status.idle": "2024-05-15T15:58:54.287492Z",
     "shell.execute_reply": "2024-05-15T15:58:54.286732Z"
    }
   },
   "source": [
    "session_pc = linker_advanced.estimate_parameters_using_expectation_maximisation(\n",
    "    \"l.postcode = r.postcode\", estimate_without_term_frequencies=True\n",
    ")"
   ],
   "outputs": []
  },
  {
   "cell_type": "code",
   "execution_count": 30,
   "id": "d9d21e85-b89b-435a-8b75-142166ac3f31",
   "metadata": {
    "execution": {
     "iopub.execute_input": "2024-05-15T15:58:54.292571Z",
     "iopub.status.busy": "2024-05-15T15:58:54.292308Z",
     "iopub.status.idle": "2024-05-15T15:58:54.443712Z",
     "shell.execute_reply": "2024-05-15T15:58:54.443023Z"
    }
   },
   "source": [
    "linker_advanced.parameter_estimate_comparisons_chart()"
   ],
   "outputs": []
  },
  {
   "cell_type": "code",
   "execution_count": 31,
   "id": "4a857c18-b0d5-48dc-b7f1-1f6389db5089",
   "metadata": {
    "execution": {
     "iopub.execute_input": "2024-05-15T15:58:54.447134Z",
     "iopub.status.busy": "2024-05-15T15:58:54.446857Z",
     "iopub.status.idle": "2024-05-15T15:58:54.770678Z",
     "shell.execute_reply": "2024-05-15T15:58:54.770024Z"
    }
   },
   "source": [
    "linker_advanced.match_weights_chart()"
   ],
   "outputs": []
  },
  {
   "cell_type": "code",
   "execution_count": 32,
   "id": "e1ee24d9-1def-4b8d-bb85-1c63b595e75e",
   "metadata": {
    "execution": {
     "iopub.execute_input": "2024-05-15T15:58:54.773893Z",
     "iopub.status.busy": "2024-05-15T15:58:54.773655Z",
     "iopub.status.idle": "2024-05-15T15:58:56.607253Z",
     "shell.execute_reply": "2024-05-15T15:58:56.606584Z"
    }
   },
   "source": [
    "predictions_adv = linker_advanced.predict()\n",
    "df_predictions_adv = predictions_adv.as_pandas_dataframe()\n",
    "clusters_adv = linker_advanced.cluster_pairwise_predictions_at_threshold(\n",
    "    predictions_adv, threshold_match_probability=0.99\n",
    ")\n",
    "df_clusters_adv = clusters_adv.as_pandas_dataframe().sort_values(\"cluster_id\")\n",
    "df_clusters_adv.groupby(\"cluster_id\").size().value_counts()"
   ],
   "outputs": []
  },
  {
   "cell_type": "markdown",
   "id": "8db464e7-c57b-48e1-9e7b-c01ce9ccbad9",
   "metadata": {},
   "source": [
    "This is a pretty modest improvement on our previous model - however it is worth re-iterating that we should not necessarily expect to recover _all_ matches, as in several cases it may be unreasonable for a model to have reasonable confidence that two records refer to the same entity.\n",
    "\n",
    "If we wished to improve matters we could iterate on this process - investigating where our model is not performing as we would hope, and seeing how we can adjust these areas to address these shortcomings.\n"
   ]
  }
 ],
 "metadata": {
  "kernelspec": {
   "display_name": "Python 3 (ipykernel)",
   "language": "python",
   "name": "python3"
  },
  "language_info": {
   "codemirror_mode": {
    "name": "ipython",
    "version": 3
   },
   "file_extension": ".py",
   "mimetype": "text/x-python",
   "name": "python",
   "nbconvert_exporter": "python",
   "pygments_lexer": "ipython3",
   "version": "3.10.8"
  },
  "widgets": {
   "application/vnd.jupyter.widget-state+json": {
    "state": {
     "1cd1512b68bf43868e26a4c0fa908d4e": {
      "model_module": "@jupyter-widgets/controls",
      "model_module_version": "2.0.0",
      "model_name": "ProgressStyleModel",
      "state": {
       "_model_module": "@jupyter-widgets/controls",
       "_model_module_version": "2.0.0",
       "_model_name": "ProgressStyleModel",
       "_view_count": null,
       "_view_module": "@jupyter-widgets/base",
       "_view_module_version": "2.0.0",
       "_view_name": "StyleView",
       "bar_color": "black",
       "description_width": ""
      }
     },
     "3540e7572a2e497c8837e9038728b244": {
      "model_module": "@jupyter-widgets/controls",
      "model_module_version": "2.0.0",
      "model_name": "ProgressStyleModel",
      "state": {
       "_model_module": "@jupyter-widgets/controls",
       "_model_module_version": "2.0.0",
       "_model_name": "ProgressStyleModel",
       "_view_count": null,
       "_view_module": "@jupyter-widgets/base",
       "_view_module_version": "2.0.0",
       "_view_name": "StyleView",
       "bar_color": "black",
       "description_width": ""
      }
     },
     "4eab2071171e419a8f9ddbd6a12f12e4": {
      "model_module": "@jupyter-widgets/controls",
      "model_module_version": "2.0.0",
      "model_name": "FloatProgressModel",
      "state": {
       "_dom_classes": [],
       "_model_module": "@jupyter-widgets/controls",
       "_model_module_version": "2.0.0",
       "_model_name": "FloatProgressModel",
       "_view_count": null,
       "_view_module": "@jupyter-widgets/controls",
       "_view_module_version": "2.0.0",
       "_view_name": "ProgressView",
       "bar_style": "",
       "description": "",
       "description_allow_html": false,
       "layout": "IPY_MODEL_d9ed287ce1f146c09c8a0e89a7bd9855",
       "max": 100,
       "min": 0,
       "orientation": "horizontal",
       "style": "IPY_MODEL_9aae753cd7a54a2d94be6496b1812b3c",
       "tabbable": null,
       "tooltip": null,
       "value": 100
      }
     },
     "73555dbfc04c485fb9c6d09bc677f843": {
      "model_module": "@jupyter-widgets/base",
      "model_module_version": "2.0.0",
      "model_name": "LayoutModel",
      "state": {
       "_model_module": "@jupyter-widgets/base",
       "_model_module_version": "2.0.0",
       "_model_name": "LayoutModel",
       "_view_count": null,
       "_view_module": "@jupyter-widgets/base",
       "_view_module_version": "2.0.0",
       "_view_name": "LayoutView",
       "align_content": null,
       "align_items": null,
       "align_self": null,
       "border_bottom": null,
       "border_left": null,
       "border_right": null,
       "border_top": null,
       "bottom": null,
       "display": null,
       "flex": null,
       "flex_flow": null,
       "grid_area": null,
       "grid_auto_columns": null,
       "grid_auto_flow": null,
       "grid_auto_rows": null,
       "grid_column": null,
       "grid_gap": null,
       "grid_row": null,
       "grid_template_areas": null,
       "grid_template_columns": null,
       "grid_template_rows": null,
       "height": null,
       "justify_content": null,
       "justify_items": null,
       "left": null,
       "margin": null,
       "max_height": null,
       "max_width": null,
       "min_height": null,
       "min_width": null,
       "object_fit": null,
       "object_position": null,
       "order": null,
       "overflow": null,
       "padding": null,
       "right": null,
       "top": null,
       "visibility": null,
       "width": "auto"
      }
     },
     "886192be2bdf4a88a1d8808f1db44fb2": {
      "model_module": "@jupyter-widgets/controls",
      "model_module_version": "2.0.0",
      "model_name": "FloatProgressModel",
      "state": {
       "_dom_classes": [],
       "_model_module": "@jupyter-widgets/controls",
       "_model_module_version": "2.0.0",
       "_model_name": "FloatProgressModel",
       "_view_count": null,
       "_view_module": "@jupyter-widgets/controls",
       "_view_module_version": "2.0.0",
       "_view_name": "ProgressView",
       "bar_style": "",
       "description": "",
       "description_allow_html": false,
       "layout": "IPY_MODEL_73555dbfc04c485fb9c6d09bc677f843",
       "max": 100,
       "min": 0,
       "orientation": "horizontal",
       "style": "IPY_MODEL_3540e7572a2e497c8837e9038728b244",
       "tabbable": null,
       "tooltip": null,
       "value": 100
      }
     },
     "8906edf4488846fb908d17be3dc5440f": {
      "model_module": "@jupyter-widgets/base",
      "model_module_version": "2.0.0",
      "model_name": "LayoutModel",
      "state": {
       "_model_module": "@jupyter-widgets/base",
       "_model_module_version": "2.0.0",
       "_model_name": "LayoutModel",
       "_view_count": null,
       "_view_module": "@jupyter-widgets/base",
       "_view_module_version": "2.0.0",
       "_view_name": "LayoutView",
       "align_content": null,
       "align_items": null,
       "align_self": null,
       "border_bottom": null,
       "border_left": null,
       "border_right": null,
       "border_top": null,
       "bottom": null,
       "display": null,
       "flex": null,
       "flex_flow": null,
       "grid_area": null,
       "grid_auto_columns": null,
       "grid_auto_flow": null,
       "grid_auto_rows": null,
       "grid_column": null,
       "grid_gap": null,
       "grid_row": null,
       "grid_template_areas": null,
       "grid_template_columns": null,
       "grid_template_rows": null,
       "height": null,
       "justify_content": null,
       "justify_items": null,
       "left": null,
       "margin": null,
       "max_height": null,
       "max_width": null,
       "min_height": null,
       "min_width": null,
       "object_fit": null,
       "object_position": null,
       "order": null,
       "overflow": null,
       "padding": null,
       "right": null,
       "top": null,
       "visibility": null,
       "width": "auto"
      }
     },
     "9aae753cd7a54a2d94be6496b1812b3c": {
      "model_module": "@jupyter-widgets/controls",
      "model_module_version": "2.0.0",
      "model_name": "ProgressStyleModel",
      "state": {
       "_model_module": "@jupyter-widgets/controls",
       "_model_module_version": "2.0.0",
       "_model_name": "ProgressStyleModel",
       "_view_count": null,
       "_view_module": "@jupyter-widgets/base",
       "_view_module_version": "2.0.0",
       "_view_name": "StyleView",
       "bar_color": "black",
       "description_width": ""
      }
     },
     "cda32ebef57a4bcb9b8d2d531ac2b32a": {
      "model_module": "@jupyter-widgets/controls",
      "model_module_version": "2.0.0",
      "model_name": "FloatProgressModel",
      "state": {
       "_dom_classes": [],
       "_model_module": "@jupyter-widgets/controls",
       "_model_module_version": "2.0.0",
       "_model_name": "FloatProgressModel",
       "_view_count": null,
       "_view_module": "@jupyter-widgets/controls",
       "_view_module_version": "2.0.0",
       "_view_name": "ProgressView",
       "bar_style": "",
       "description": "",
       "description_allow_html": false,
       "layout": "IPY_MODEL_8906edf4488846fb908d17be3dc5440f",
       "max": 100,
       "min": 0,
       "orientation": "horizontal",
       "style": "IPY_MODEL_1cd1512b68bf43868e26a4c0fa908d4e",
       "tabbable": null,
       "tooltip": null,
       "value": 100
      }
     },
     "d9ed287ce1f146c09c8a0e89a7bd9855": {
      "model_module": "@jupyter-widgets/base",
      "model_module_version": "2.0.0",
      "model_name": "LayoutModel",
      "state": {
       "_model_module": "@jupyter-widgets/base",
       "_model_module_version": "2.0.0",
       "_model_name": "LayoutModel",
       "_view_count": null,
       "_view_module": "@jupyter-widgets/base",
       "_view_module_version": "2.0.0",
       "_view_name": "LayoutView",
       "align_content": null,
       "align_items": null,
       "align_self": null,
       "border_bottom": null,
       "border_left": null,
       "border_right": null,
       "border_top": null,
       "bottom": null,
       "display": null,
       "flex": null,
       "flex_flow": null,
       "grid_area": null,
       "grid_auto_columns": null,
       "grid_auto_flow": null,
       "grid_auto_rows": null,
       "grid_column": null,
       "grid_gap": null,
       "grid_row": null,
       "grid_template_areas": null,
       "grid_template_columns": null,
       "grid_template_rows": null,
       "height": null,
       "justify_content": null,
       "justify_items": null,
       "left": null,
       "margin": null,
       "max_height": null,
       "max_width": null,
       "min_height": null,
       "min_width": null,
       "object_fit": null,
       "object_position": null,
       "order": null,
       "overflow": null,
       "padding": null,
       "right": null,
       "top": null,
       "visibility": null,
       "width": "auto"
      }
     }
    },
    "version_major": 2,
    "version_minor": 0
   }
  }
 },
 "nbformat": 4,
 "nbformat_minor": 5
}
