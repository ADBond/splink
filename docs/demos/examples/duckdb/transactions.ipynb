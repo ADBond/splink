{
 "cells": [
  {
   "attachments": {},
   "cell_type": "markdown",
   "metadata": {},
   "source": [
    "## Linking banking transactions\n",
    "\n",
    "This example shows how to perform a one-to-one link on banking transactions.\n",
    "\n",
    "The data is fake data, and was generated has the following features:\n",
    "\n",
    "- Money shows up in the destination account with some time delay\n",
    "- The amount sent and the amount received are not always the same - there are hidden fees and foreign exchange effects\n",
    "- The memo is sometimes truncated and content is sometimes missing\n",
    "\n",
    "Since each origin payment should end up in the destination account, the `probability_two_random_records_match` of the model is known.\n"
   ]
  },
  {
   "cell_type": "markdown",
   "metadata": {},
   "source": [
    "<a target=\"_blank\" href=\"https://colab.research.google.com/github/moj-analytical-services/splink/blob/splink4_dev/docs/demos/examples/duckdb/transactions.ipynb\">\n",
    "  <img src=\"https://colab.research.google.com/assets/colab-badge.svg\" alt=\"Open In Colab\"/>\n",
    "</a>\n"
   ]
  },
  {
   "cell_type": "code",
   "execution_count": 1,
   "metadata": {
    "execution": {
     "iopub.execute_input": "2024-05-16T12:13:14.252200Z",
     "iopub.status.busy": "2024-05-16T12:13:14.251497Z",
     "iopub.status.idle": "2024-05-16T12:13:14.257616Z",
     "shell.execute_reply": "2024-05-16T12:13:14.256908Z"
    }
   },
   "source": [
    "# Uncomment and run this cell if you're running in Google Colab.\n",
    "# !pip install git+https://github.com/moj-analytical-services/splink.git@splink4_dev"
   ],
   "outputs": []
  },
  {
   "cell_type": "code",
   "execution_count": 2,
   "metadata": {
    "execution": {
     "iopub.execute_input": "2024-05-16T12:13:14.261383Z",
     "iopub.status.busy": "2024-05-16T12:13:14.261079Z",
     "iopub.status.idle": "2024-05-16T12:13:16.084252Z",
     "shell.execute_reply": "2024-05-16T12:13:16.083429Z"
    }
   },
   "source": [
    "from splink import DuckDBAPI, Linker, SettingsCreator, block_on, splink_datasets\n",
    "\n",
    "df_origin = splink_datasets.transactions_origin\n",
    "df_destination = splink_datasets.transactions_destination\n",
    "\n",
    "display(df_origin.head(2))\n",
    "display(df_destination.head(2))"
   ],
   "outputs": []
  },
  {
   "attachments": {},
   "cell_type": "markdown",
   "metadata": {},
   "source": [
    "In the following chart, we can see this is a challenging dataset to link:\n",
    "\n",
    "- There are only 151 distinct transaction dates, with strong skew\n",
    "- Some 'memos' are used multiple times (up to 48 times)\n",
    "- There is strong skew in the 'amount' column, with 1,400 transactions of around 60.00\n"
   ]
  },
  {
   "cell_type": "code",
   "execution_count": 3,
   "metadata": {
    "execution": {
     "iopub.execute_input": "2024-05-16T12:13:16.143823Z",
     "iopub.status.busy": "2024-05-16T12:13:16.143431Z",
     "iopub.status.idle": "2024-05-16T12:13:16.849535Z",
     "shell.execute_reply": "2024-05-16T12:13:16.848871Z"
    }
   },
   "source": [
    "from splink.exploratory import profile_columns\n",
    "\n",
    "db_api = DuckDBAPI()\n",
    "profile_columns(\n",
    "    [df_origin, df_destination],\n",
    "    db_api=db_api,\n",
    "    column_expressions=[\n",
    "        \"memo\",\n",
    "        \"transaction_date\",\n",
    "        \"amount\",\n",
    "    ],\n",
    ")"
   ],
   "outputs": []
  },
  {
   "cell_type": "code",
   "execution_count": 4,
   "metadata": {
    "execution": {
     "iopub.execute_input": "2024-05-16T12:13:16.852855Z",
     "iopub.status.busy": "2024-05-16T12:13:16.852594Z",
     "iopub.status.idle": "2024-05-16T12:13:18.407824Z",
     "shell.execute_reply": "2024-05-16T12:13:18.407265Z"
    }
   },
   "source": [
    "from splink import DuckDBAPI, block_on\n",
    "from splink.blocking_analysis import (\n",
    "    cumulative_comparisons_to_be_scored_from_blocking_rules_chart,\n",
    ")\n",
    "\n",
    "# Design blocking rules that allow for differences in transaction date and amounts\n",
    "blocking_rule_date_1 = \"\"\"\n",
    "    strftime(l.transaction_date, '%Y%m') = strftime(r.transaction_date, '%Y%m')\n",
    "    and substr(l.memo, 1,3) = substr(r.memo,1,3)\n",
    "    and l.amount/r.amount > 0.7   and l.amount/r.amount < 1.3\n",
    "\"\"\"\n",
    "\n",
    "# Offset by half a month to ensure we capture case when the dates are e.g. 31st Jan and 1st Feb\n",
    "blocking_rule_date_2 = \"\"\"\n",
    "    strftime(l.transaction_date+15, '%Y%m') = strftime(r.transaction_date, '%Y%m')\n",
    "    and substr(l.memo, 1,3) = substr(r.memo,1,3)\n",
    "    and l.amount/r.amount > 0.7   and l.amount/r.amount < 1.3\n",
    "\"\"\"\n",
    "\n",
    "blocking_rule_memo = block_on(\"substr(memo,1,9)\")\n",
    "\n",
    "blocking_rule_amount_1 = \"\"\"\n",
    "round(l.amount/2,0)*2 = round(r.amount/2,0)*2 and yearweek(r.transaction_date) = yearweek(l.transaction_date)\n",
    "\"\"\"\n",
    "\n",
    "blocking_rule_amount_2 = \"\"\"\n",
    "round(l.amount/2,0)*2 = round((r.amount+1)/2,0)*2 and yearweek(r.transaction_date) = yearweek(l.transaction_date + 4)\n",
    "\"\"\"\n",
    "\n",
    "blocking_rule_cheat = block_on(\"unique_id\")\n",
    "\n",
    "\n",
    "brs = [\n",
    "    blocking_rule_date_1,\n",
    "    blocking_rule_date_2,\n",
    "    blocking_rule_memo,\n",
    "    blocking_rule_amount_1,\n",
    "    blocking_rule_amount_2,\n",
    "    blocking_rule_cheat,\n",
    "]\n",
    "\n",
    "\n",
    "db_api = DuckDBAPI()\n",
    "\n",
    "cumulative_comparisons_to_be_scored_from_blocking_rules_chart(\n",
    "    table_or_tables=[df_origin, df_destination],\n",
    "    blocking_rules=brs,\n",
    "    db_api=db_api,\n",
    "    link_type=\"link_only\"\n",
    ")"
   ],
   "outputs": []
  },
  {
   "cell_type": "code",
   "execution_count": 5,
   "metadata": {
    "execution": {
     "iopub.execute_input": "2024-05-16T12:13:18.411066Z",
     "iopub.status.busy": "2024-05-16T12:13:18.410832Z",
     "iopub.status.idle": "2024-05-16T12:13:18.418094Z",
     "shell.execute_reply": "2024-05-16T12:13:18.416984Z"
    }
   },
   "source": [
    "# Full settings for linking model\n",
    "import splink.comparison_level_library as cll\n",
    "import splink.comparison_library as cl\n",
    "\n",
    "comparison_amount = {\n",
    "    \"output_column_name\": \"amount\",\n",
    "    \"comparison_levels\": [\n",
    "        cll.NullLevel(\"amount\"),\n",
    "        cll.ExactMatchLevel(\"amount\"),\n",
    "        cll.PercentageDifferenceLevel(\"amount\", 0.01),\n",
    "        cll.PercentageDifferenceLevel(\"amount\", 0.03),\n",
    "        cll.PercentageDifferenceLevel(\"amount\", 0.1),\n",
    "        cll.PercentageDifferenceLevel(\"amount\", 0.3),\n",
    "        cll.ElseLevel(),\n",
    "    ],\n",
    "    \"comparison_description\": \"Amount percentage difference\",\n",
    "}\n",
    "\n",
    "# The date distance is one sided becaause transactions should only arrive after they've left\n",
    "# As a result, the comparison_template_library date difference functions are not appropriate\n",
    "within_n_days_template = \"transaction_date_r - transaction_date_l <= {n} and transaction_date_r >= transaction_date_l\"\n",
    "\n",
    "comparison_date = {\n",
    "    \"output_column_name\": \"transaction_date\",\n",
    "    \"comparison_levels\": [\n",
    "        cll.NullLevel(\"transaction_date\"),\n",
    "        {\n",
    "            \"sql_condition\": within_n_days_template.format(n=1),\n",
    "            \"label_for_charts\": \"1 day\",\n",
    "        },\n",
    "        {\n",
    "            \"sql_condition\": within_n_days_template.format(n=4),\n",
    "            \"label_for_charts\": \"<=4 days\",\n",
    "        },\n",
    "        {\n",
    "            \"sql_condition\": within_n_days_template.format(n=10),\n",
    "            \"label_for_charts\": \"<=10 days\",\n",
    "        },\n",
    "        {\n",
    "            \"sql_condition\": within_n_days_template.format(n=30),\n",
    "            \"label_for_charts\": \"<=30 days\",\n",
    "        },\n",
    "        cll.ElseLevel(),\n",
    "    ],\n",
    "    \"comparison_description\": \"Transaction date days apart\",\n",
    "}\n",
    "\n",
    "\n",
    "settings = SettingsCreator(\n",
    "    link_type=\"link_only\",\n",
    "    probability_two_random_records_match=1 / len(df_origin),\n",
    "    blocking_rules_to_generate_predictions=[\n",
    "        blocking_rule_date_1,\n",
    "        blocking_rule_date_2,\n",
    "        blocking_rule_memo,\n",
    "        blocking_rule_amount_1,\n",
    "        blocking_rule_amount_2,\n",
    "        blocking_rule_cheat,\n",
    "    ],\n",
    "    comparisons=[\n",
    "        comparison_amount,\n",
    "        cl.LevenshteinAtThresholds(\"memo\", [2, 6, 10]),\n",
    "        comparison_date,\n",
    "    ],\n",
    "    retain_intermediate_calculation_columns=True,\n",
    ")"
   ],
   "outputs": []
  },
  {
   "cell_type": "code",
   "execution_count": 6,
   "metadata": {
    "execution": {
     "iopub.execute_input": "2024-05-16T12:13:18.421517Z",
     "iopub.status.busy": "2024-05-16T12:13:18.421286Z",
     "iopub.status.idle": "2024-05-16T12:13:18.552970Z",
     "shell.execute_reply": "2024-05-16T12:13:18.552184Z"
    }
   },
   "source": [
    "linker = Linker(\n",
    "    [df_origin, df_destination],\n",
    "    settings,\n",
    "    input_table_aliases=[\"__ori\", \"_dest\"],\n",
    "    database_api=db_api,\n",
    ")"
   ],
   "outputs": []
  },
  {
   "cell_type": "code",
   "execution_count": 7,
   "metadata": {
    "execution": {
     "iopub.execute_input": "2024-05-16T12:13:18.556284Z",
     "iopub.status.busy": "2024-05-16T12:13:18.556053Z",
     "iopub.status.idle": "2024-05-16T12:13:20.529952Z",
     "shell.execute_reply": "2024-05-16T12:13:20.529065Z"
    }
   },
   "source": [
    "linker.estimate_u_using_random_sampling(max_pairs=1e6)"
   ],
   "outputs": []
  },
  {
   "cell_type": "code",
   "execution_count": 8,
   "metadata": {
    "execution": {
     "iopub.execute_input": "2024-05-16T12:13:20.532832Z",
     "iopub.status.busy": "2024-05-16T12:13:20.532606Z",
     "iopub.status.idle": "2024-05-16T12:13:21.867808Z",
     "shell.execute_reply": "2024-05-16T12:13:21.867084Z"
    }
   },
   "source": [
    "linker.estimate_parameters_using_expectation_maximisation(block_on(\"memo\"))"
   ],
   "outputs": []
  },
  {
   "cell_type": "code",
   "execution_count": 9,
   "metadata": {
    "execution": {
     "iopub.execute_input": "2024-05-16T12:13:21.871283Z",
     "iopub.status.busy": "2024-05-16T12:13:21.871004Z",
     "iopub.status.idle": "2024-05-16T12:13:23.094606Z",
     "shell.execute_reply": "2024-05-16T12:13:23.093838Z"
    }
   },
   "source": [
    "session = linker.estimate_parameters_using_expectation_maximisation(block_on(\"amount\"))"
   ],
   "outputs": []
  },
  {
   "cell_type": "code",
   "execution_count": 10,
   "metadata": {
    "execution": {
     "iopub.execute_input": "2024-05-16T12:13:23.097922Z",
     "iopub.status.busy": "2024-05-16T12:13:23.097670Z",
     "iopub.status.idle": "2024-05-16T12:13:23.382589Z",
     "shell.execute_reply": "2024-05-16T12:13:23.382014Z"
    }
   },
   "source": [
    "linker.match_weights_chart()"
   ],
   "outputs": []
  },
  {
   "cell_type": "code",
   "execution_count": 11,
   "metadata": {
    "execution": {
     "iopub.execute_input": "2024-05-16T12:13:23.385651Z",
     "iopub.status.busy": "2024-05-16T12:13:23.385430Z",
     "iopub.status.idle": "2024-05-16T12:13:47.966948Z",
     "shell.execute_reply": "2024-05-16T12:13:47.966113Z"
    }
   },
   "source": [
    "df_predict = linker.predict(threshold_match_probability=0.001)"
   ],
   "outputs": []
  },
  {
   "cell_type": "code",
   "execution_count": 12,
   "metadata": {
    "execution": {
     "iopub.execute_input": "2024-05-16T12:13:47.970901Z",
     "iopub.status.busy": "2024-05-16T12:13:47.970603Z",
     "iopub.status.idle": "2024-05-16T12:13:48.365220Z",
     "shell.execute_reply": "2024-05-16T12:13:48.364442Z"
    }
   },
   "source": [
    "linker.comparison_viewer_dashboard(\n",
    "    df_predict, \"dashboards/comparison_viewer_transactions.html\", overwrite=True\n",
    ")\n",
    "from IPython.display import IFrame\n",
    "\n",
    "IFrame(\n",
    "    src=\"./dashboards/comparison_viewer_transactions.html\", width=\"100%\", height=1200\n",
    ")"
   ],
   "outputs": []
  },
  {
   "cell_type": "code",
   "execution_count": 13,
   "metadata": {
    "execution": {
     "iopub.execute_input": "2024-05-16T12:13:48.369330Z",
     "iopub.status.busy": "2024-05-16T12:13:48.369001Z",
     "iopub.status.idle": "2024-05-16T12:13:54.043730Z",
     "shell.execute_reply": "2024-05-16T12:13:54.043073Z"
    }
   },
   "source": [
    "pred_errors = linker.prediction_errors_from_labels_column(\n",
    "    \"ground_truth\", include_false_positives=True, include_false_negatives=False\n",
    ")\n",
    "linker.waterfall_chart(pred_errors.as_record_dict(limit=5))"
   ],
   "outputs": []
  },
  {
   "cell_type": "code",
   "execution_count": 14,
   "metadata": {
    "execution": {
     "iopub.execute_input": "2024-05-16T12:13:54.047308Z",
     "iopub.status.busy": "2024-05-16T12:13:54.047030Z",
     "iopub.status.idle": "2024-05-16T12:13:54.884355Z",
     "shell.execute_reply": "2024-05-16T12:13:54.883814Z"
    }
   },
   "source": [
    "pred_errors = linker.prediction_errors_from_labels_column(\n",
    "    \"ground_truth\", include_false_positives=False, include_false_negatives=True\n",
    ")\n",
    "linker.waterfall_chart(pred_errors.as_record_dict(limit=5))"
   ],
   "outputs": []
  }
 ],
 "metadata": {
  "kernelspec": {
   "display_name": "Python 3 (ipykernel)",
   "language": "python",
   "name": "python3"
  },
  "language_info": {
   "codemirror_mode": {
    "name": "ipython",
    "version": 3
   },
   "file_extension": ".py",
   "mimetype": "text/x-python",
   "name": "python",
   "nbconvert_exporter": "python",
   "pygments_lexer": "ipython3",
   "version": "3.10.8"
  },
  "widgets": {
   "application/vnd.jupyter.widget-state+json": {
    "state": {
     "0cb4a943a08a42c7841ca32d466f9eed": {
      "model_module": "@jupyter-widgets/controls",
      "model_module_version": "2.0.0",
      "model_name": "FloatProgressModel",
      "state": {
       "_dom_classes": [],
       "_model_module": "@jupyter-widgets/controls",
       "_model_module_version": "2.0.0",
       "_model_name": "FloatProgressModel",
       "_view_count": null,
       "_view_module": "@jupyter-widgets/controls",
       "_view_module_version": "2.0.0",
       "_view_name": "ProgressView",
       "bar_style": "",
       "description": "",
       "description_allow_html": false,
       "layout": "IPY_MODEL_fd157120a2ca488496c737cec882713d",
       "max": 100,
       "min": 0,
       "orientation": "horizontal",
       "style": "IPY_MODEL_ed234594aea94bf98ffb67a51d3811f4",
       "tabbable": null,
       "tooltip": null,
       "value": 100
      }
     },
     "2bae68755fc34e38ac69e792f314ba8e": {
      "model_module": "@jupyter-widgets/controls",
      "model_module_version": "2.0.0",
      "model_name": "ProgressStyleModel",
      "state": {
       "_model_module": "@jupyter-widgets/controls",
       "_model_module_version": "2.0.0",
       "_model_name": "ProgressStyleModel",
       "_view_count": null,
       "_view_module": "@jupyter-widgets/base",
       "_view_module_version": "2.0.0",
       "_view_name": "StyleView",
       "bar_color": "black",
       "description_width": ""
      }
     },
     "4430006dcc174ff092d96adf68c301ff": {
      "model_module": "@jupyter-widgets/controls",
      "model_module_version": "2.0.0",
      "model_name": "FloatProgressModel",
      "state": {
       "_dom_classes": [],
       "_model_module": "@jupyter-widgets/controls",
       "_model_module_version": "2.0.0",
       "_model_name": "FloatProgressModel",
       "_view_count": null,
       "_view_module": "@jupyter-widgets/controls",
       "_view_module_version": "2.0.0",
       "_view_name": "ProgressView",
       "bar_style": "",
       "description": "",
       "description_allow_html": false,
       "layout": "IPY_MODEL_5c32bb2a7a714bd79accac15915b17e5",
       "max": 100,
       "min": 0,
       "orientation": "horizontal",
       "style": "IPY_MODEL_6222247c7cbe45b19cfeb9b182147a18",
       "tabbable": null,
       "tooltip": null,
       "value": 100
      }
     },
     "5c32bb2a7a714bd79accac15915b17e5": {
      "model_module": "@jupyter-widgets/base",
      "model_module_version": "2.0.0",
      "model_name": "LayoutModel",
      "state": {
       "_model_module": "@jupyter-widgets/base",
       "_model_module_version": "2.0.0",
       "_model_name": "LayoutModel",
       "_view_count": null,
       "_view_module": "@jupyter-widgets/base",
       "_view_module_version": "2.0.0",
       "_view_name": "LayoutView",
       "align_content": null,
       "align_items": null,
       "align_self": null,
       "border_bottom": null,
       "border_left": null,
       "border_right": null,
       "border_top": null,
       "bottom": null,
       "display": null,
       "flex": null,
       "flex_flow": null,
       "grid_area": null,
       "grid_auto_columns": null,
       "grid_auto_flow": null,
       "grid_auto_rows": null,
       "grid_column": null,
       "grid_gap": null,
       "grid_row": null,
       "grid_template_areas": null,
       "grid_template_columns": null,
       "grid_template_rows": null,
       "height": null,
       "justify_content": null,
       "justify_items": null,
       "left": null,
       "margin": null,
       "max_height": null,
       "max_width": null,
       "min_height": null,
       "min_width": null,
       "object_fit": null,
       "object_position": null,
       "order": null,
       "overflow": null,
       "padding": null,
       "right": null,
       "top": null,
       "visibility": null,
       "width": "auto"
      }
     },
     "6222247c7cbe45b19cfeb9b182147a18": {
      "model_module": "@jupyter-widgets/controls",
      "model_module_version": "2.0.0",
      "model_name": "ProgressStyleModel",
      "state": {
       "_model_module": "@jupyter-widgets/controls",
       "_model_module_version": "2.0.0",
       "_model_name": "ProgressStyleModel",
       "_view_count": null,
       "_view_module": "@jupyter-widgets/base",
       "_view_module_version": "2.0.0",
       "_view_name": "StyleView",
       "bar_color": "black",
       "description_width": ""
      }
     },
     "63719efff46e49ecba53edb438f35c3f": {
      "model_module": "@jupyter-widgets/controls",
      "model_module_version": "2.0.0",
      "model_name": "FloatProgressModel",
      "state": {
       "_dom_classes": [],
       "_model_module": "@jupyter-widgets/controls",
       "_model_module_version": "2.0.0",
       "_model_name": "FloatProgressModel",
       "_view_count": null,
       "_view_module": "@jupyter-widgets/controls",
       "_view_module_version": "2.0.0",
       "_view_name": "ProgressView",
       "bar_style": "",
       "description": "",
       "description_allow_html": false,
       "layout": "IPY_MODEL_921bb606e07743f7a252c05830098a57",
       "max": 100,
       "min": 0,
       "orientation": "horizontal",
       "style": "IPY_MODEL_2bae68755fc34e38ac69e792f314ba8e",
       "tabbable": null,
       "tooltip": null,
       "value": 100
      }
     },
     "921bb606e07743f7a252c05830098a57": {
      "model_module": "@jupyter-widgets/base",
      "model_module_version": "2.0.0",
      "model_name": "LayoutModel",
      "state": {
       "_model_module": "@jupyter-widgets/base",
       "_model_module_version": "2.0.0",
       "_model_name": "LayoutModel",
       "_view_count": null,
       "_view_module": "@jupyter-widgets/base",
       "_view_module_version": "2.0.0",
       "_view_name": "LayoutView",
       "align_content": null,
       "align_items": null,
       "align_self": null,
       "border_bottom": null,
       "border_left": null,
       "border_right": null,
       "border_top": null,
       "bottom": null,
       "display": null,
       "flex": null,
       "flex_flow": null,
       "grid_area": null,
       "grid_auto_columns": null,
       "grid_auto_flow": null,
       "grid_auto_rows": null,
       "grid_column": null,
       "grid_gap": null,
       "grid_row": null,
       "grid_template_areas": null,
       "grid_template_columns": null,
       "grid_template_rows": null,
       "height": null,
       "justify_content": null,
       "justify_items": null,
       "left": null,
       "margin": null,
       "max_height": null,
       "max_width": null,
       "min_height": null,
       "min_width": null,
       "object_fit": null,
       "object_position": null,
       "order": null,
       "overflow": null,
       "padding": null,
       "right": null,
       "top": null,
       "visibility": null,
       "width": "auto"
      }
     },
     "ed234594aea94bf98ffb67a51d3811f4": {
      "model_module": "@jupyter-widgets/controls",
      "model_module_version": "2.0.0",
      "model_name": "ProgressStyleModel",
      "state": {
       "_model_module": "@jupyter-widgets/controls",
       "_model_module_version": "2.0.0",
       "_model_name": "ProgressStyleModel",
       "_view_count": null,
       "_view_module": "@jupyter-widgets/base",
       "_view_module_version": "2.0.0",
       "_view_name": "StyleView",
       "bar_color": "black",
       "description_width": ""
      }
     },
     "fd157120a2ca488496c737cec882713d": {
      "model_module": "@jupyter-widgets/base",
      "model_module_version": "2.0.0",
      "model_name": "LayoutModel",
      "state": {
       "_model_module": "@jupyter-widgets/base",
       "_model_module_version": "2.0.0",
       "_model_name": "LayoutModel",
       "_view_count": null,
       "_view_module": "@jupyter-widgets/base",
       "_view_module_version": "2.0.0",
       "_view_name": "LayoutView",
       "align_content": null,
       "align_items": null,
       "align_self": null,
       "border_bottom": null,
       "border_left": null,
       "border_right": null,
       "border_top": null,
       "bottom": null,
       "display": null,
       "flex": null,
       "flex_flow": null,
       "grid_area": null,
       "grid_auto_columns": null,
       "grid_auto_flow": null,
       "grid_auto_rows": null,
       "grid_column": null,
       "grid_gap": null,
       "grid_row": null,
       "grid_template_areas": null,
       "grid_template_columns": null,
       "grid_template_rows": null,
       "height": null,
       "justify_content": null,
       "justify_items": null,
       "left": null,
       "margin": null,
       "max_height": null,
       "max_width": null,
       "min_height": null,
       "min_width": null,
       "object_fit": null,
       "object_position": null,
       "order": null,
       "overflow": null,
       "padding": null,
       "right": null,
       "top": null,
       "visibility": null,
       "width": "auto"
      }
     }
    },
    "version_major": 2,
    "version_minor": 0
   }
  }
 },
 "nbformat": 4,
 "nbformat_minor": 4
}
