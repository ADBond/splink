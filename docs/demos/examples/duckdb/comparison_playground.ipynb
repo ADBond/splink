{
 "cells": [
  {
   "cell_type": "code",
   "execution_count": 1,
   "metadata": {},
   "outputs": [],
   "source": [
    "# Uncomment and run this cell if you're running in Google Colab.\n",
    "# !pip install ipywidgets\n",
    "# !pip install splink\n",
    "# !jupyter nbextension enable --py widgetsnbextension"
   ]
  },
  {
   "cell_type": "code",
   "execution_count": 8,
   "metadata": {},
   "outputs": [
    {
     "data": {
      "text/plain": [
       "{'comparison_vector_value': 1, 'label_for_charts': 'Exact match on first_name'}"
      ]
     },
     "execution_count": 8,
     "metadata": {},
     "output_type": "execute_result"
    }
   ],
   "source": [
    "import splink.comparison_library as cl\n",
    "from splink.internals.testing import comparison_vector_value\n",
    "from splink import DuckDBAPI\n",
    "\n",
    "db_api = DuckDBAPI()\n",
    "\n",
    "comparison = cl.ExactMatch(\"first_name\")\n",
    "\n",
    "comparison_vector_value(comparison, {\"first_name_l\": \"Robin\", \"first_name_r\": \"Robin\"}, db_api)"
   ]
  },
  {
   "cell_type": "code",
   "execution_count": 4,
   "metadata": {},
   "outputs": [
    {
     "data": {
      "application/vnd.jupyter.widget-view+json": {
       "model_id": "769f73c62e3a40598ca7d460d4b8a53c",
       "version_major": 2,
       "version_minor": 0
      },
      "text/plain": [
       "VBox(children=(Dropdown(description='Comparison:', options=('ExactMatch', 'LevenshteinAtThresholds', 'JaroAtTh…"
      ]
     },
     "metadata": {},
     "output_type": "display_data"
    }
   ],
   "source": [
    "import splink.comparison_library as cl\n",
    "from splink.internals.testing import comparison_vector_value\n",
    "from splink import DuckDBAPI\n",
    "import ipywidgets as widgets\n",
    "from IPython.display import display, HTML, Markdown\n",
    "\n",
    "def create_comparison_playground(column_name):\n",
    "    db_api = DuckDBAPI()\n",
    "\n",
    "    comparison_types = [\n",
    "        'ExactMatch', 'LevenshteinAtThresholds', 'JaroAtThresholds',\n",
    "        'JaroWinklerAtThresholds', 'DamerauLevenshteinAtThresholds',\n",
    "        'CosineSimilarityAtThresholds', 'JaccardAtThresholds',\n",
    "        'AbsoluteDateDifferenceAtThresholds', 'AbsoluteTimeDifferenceAtThresholds',\n",
    "        'ArrayIntersectAtSizes', 'DateOfBirthComparison', 'DistanceFunctionAtThresholds',\n",
    "        'DistanceInKMAtThresholds', 'EmailComparison', 'ForenameSurnameComparison',\n",
    "        'NameComparison', 'PostcodeComparison'\n",
    "    ]\n",
    "\n",
    "    default_values = {\n",
    "        'ExactMatch': ('john', 'jon'),\n",
    "        'LevenshteinAtThresholds': ('smith', 'smyth'),\n",
    "        'JaroAtThresholds': ('martha', 'matha'),\n",
    "        'JaroWinklerAtThresholds': ('williams', 'willaims'),\n",
    "        'DamerauLevenshteinAtThresholds': ('receive', 'recieve'),\n",
    "        'CosineSimilarityAtThresholds': ('data science', 'science data'),\n",
    "        'JaccardAtThresholds': ('python programming', 'programming python'),\n",
    "        'AbsoluteDateDifferenceAtThresholds': ('2023-01-01', '2023-01-15'),\n",
    "        'AbsoluteTimeDifferenceAtThresholds': ('12:00:00', '12:15:30'),\n",
    "        'ArrayIntersectAtSizes': ('apple,banana,cherry', 'banana,cherry,date'),\n",
    "        'DateOfBirthComparison': ('1990-05-15', '1990-05-16'),\n",
    "        'DistanceFunctionAtThresholds': ('10', '15'),\n",
    "        'DistanceInKMAtThresholds': ('51.5074,-0.1278', '51.5074,-0.1290'),\n",
    "        'EmailComparison': ('john.doe@example.com', 'johndoe@example.com'),\n",
    "        'ForenameSurnameComparison': ('John Doe', 'Jon Doe'),\n",
    "        'NameComparison': ('Elizabeth Taylor', 'Elisabeth Taylor'),\n",
    "        'PostcodeComparison': ('SW1A 1AA', 'SW1A 1AB')\n",
    "    }\n",
    "\n",
    "    docstrings = {}\n",
    "    for comp_type in comparison_types:\n",
    "        class_obj = getattr(cl, comp_type)\n",
    "        init_doc = getattr(class_obj.__init__, '__doc__', None)\n",
    "        docstrings[comp_type] = init_doc if init_doc else class_obj.__doc__\n",
    "\n",
    "    def get_comparison(comp_type):\n",
    "        if comp_type in ['DateOfBirthComparison', 'EmailComparison', 'ForenameSurnameComparison', 'NameComparison', 'PostcodeComparison']:\n",
    "            return getattr(cl, comp_type)()\n",
    "        elif comp_type == 'DistanceFunctionAtThresholds':\n",
    "            return cl.DistanceFunctionAtThresholds(column_name, lambda x, y: abs(float(x) - float(y)))\n",
    "        elif comp_type == 'ArrayIntersectAtSizes':\n",
    "            return cl.ArrayIntersectAtSizes(column_name, [1, 2, 3])\n",
    "        else:\n",
    "            return getattr(cl, comp_type)(column_name)\n",
    "\n",
    "    def run_comparison(change):\n",
    "        left_value = left_input.value\n",
    "        right_value = right_input.value\n",
    "        comparison = get_comparison(comparison_select.value)\n",
    "\n",
    "        if comparison_select.value == 'ArrayIntersectAtSizes':\n",
    "            left_value = left_value.split(',')\n",
    "            right_value = right_value.split(',')\n",
    "\n",
    "        result = comparison_vector_value(comparison, {f\"{column_name}_l\": left_value, f\"{column_name}_r\": right_value}, db_api)\n",
    "\n",
    "        html_output = f\"\"\"\n",
    "        <h3>Comparison Result:</h3>\n",
    "        <p><strong>Comparison type:</strong> {comparison_select.value}</p>\n",
    "        <p><strong>Comparison description:</strong> {result['label_for_charts']}</p>\n",
    "        <p><strong>Comparison Vector Value:</strong> {result['comparison_vector_value']}</p>\n",
    "        \"\"\"\n",
    "\n",
    "        docstring = docstrings.get(comparison_select.value, \"No docstring available\")\n",
    "        markdown_docstring = f\"{docstring}\" if docstring else \"No docstring available\"\n",
    "\n",
    "        output.clear_output()\n",
    "        with output:\n",
    "            display(HTML(html_output))\n",
    "            display(Markdown(\"### Comparison Function Docstring:\"))\n",
    "            display(Markdown(markdown_docstring))\n",
    "\n",
    "    def on_comparison_change(change):\n",
    "        new_value = change['new']\n",
    "        left_value, right_value = default_values.get(new_value, ('', ''))\n",
    "        left_input.value = left_value\n",
    "        right_input.value = right_value\n",
    "\n",
    "    comparison_select = widgets.Dropdown(\n",
    "        options=comparison_types,\n",
    "        value='ExactMatch',\n",
    "        description='Comparison:',\n",
    "    )\n",
    "    left_input = widgets.Text(description=f\"{column_name} Left:\", value=default_values['ExactMatch'][0])\n",
    "    right_input = widgets.Text(description=f\"{column_name} Right:\", value=default_values['ExactMatch'][1])\n",
    "    output = widgets.Output()\n",
    "\n",
    "    comparison_select.observe(on_comparison_change, names='value')\n",
    "    for widget in (comparison_select, left_input, right_input):\n",
    "        widget.observe(run_comparison, names='value')\n",
    "\n",
    "    return widgets.VBox([comparison_select, left_input, right_input, output])\n",
    "\n",
    "playground = create_comparison_playground(\"column\")\n",
    "display(playground)"
   ]
  },
  {
   "cell_type": "code",
   "execution_count": 13,
   "metadata": {},
   "outputs": [
    {
     "data": {
      "text/plain": [
       "['AbsoluteDateDifferenceAtThresholds',\n",
       " 'AbsoluteTimeDifferenceAtThresholds',\n",
       " 'ArrayIntersectAtSizes',\n",
       " 'CosineSimilarityAtThresholds',\n",
       " 'CustomComparison',\n",
       " 'DamerauLevenshteinAtThresholds',\n",
       " 'DateOfBirthComparison',\n",
       " 'DistanceFunctionAtThresholds',\n",
       " 'DistanceInKMAtThresholds',\n",
       " 'EmailComparison',\n",
       " 'ExactMatch',\n",
       " 'ForenameSurnameComparison',\n",
       " 'JaccardAtThresholds',\n",
       " 'JaroAtThresholds',\n",
       " 'JaroWinklerAtThresholds',\n",
       " 'LevenshteinAtThresholds',\n",
       " 'NameComparison',\n",
       " 'PostcodeComparison',\n",
       " '__all__',\n",
       " '__builtins__',\n",
       " '__cached__',\n",
       " '__doc__',\n",
       " '__file__',\n",
       " '__loader__',\n",
       " '__name__',\n",
       " '__package__',\n",
       " '__spec__']"
      ]
     },
     "execution_count": 13,
     "metadata": {},
     "output_type": "execute_result"
    }
   ],
   "source": [
    "dir(cl)"
   ]
  },
  {
   "cell_type": "code",
   "execution_count": 26,
   "metadata": {},
   "outputs": [],
   "source": [
    "import splink.internals.comparison_library as cl\n",
    "comparison_types = [\n",
    "    'ExactMatch', 'LevenshteinAtThresholds', 'JaroAtThresholds',\n",
    "    'JaroWinklerAtThresholds', 'DamerauLevenshteinAtThresholds',\n",
    "    'CosineSimilarityAtThresholds', 'JaccardAtThresholds',\n",
    "    'AbsoluteDateDifferenceAtThresholds', 'AbsoluteTimeDifferenceAtThresholds',\n",
    "    'ArrayIntersectAtSizes', 'DateOfBirthComparison', 'DistanceFunctionAtThresholds',\n",
    "    'DistanceInKMAtThresholds', 'EmailComparison', 'ForenameSurnameComparison',\n",
    "    'NameComparison', 'PostcodeComparison'\n",
    "]\n",
    "\n",
    "default_values = {\n",
    "    'ExactMatch': ('john', 'jon'),\n",
    "    'LevenshteinAtThresholds': ('smith', 'smyth'),\n",
    "    'JaroAtThresholds': ('martha', 'matha'),\n",
    "    'JaroWinklerAtThresholds': ('williams', 'willaims'),\n",
    "    'DamerauLevenshteinAtThresholds': ('receive', 'recieve'),\n",
    "    'CosineSimilarityAtThresholds': ('data science', 'science data'),\n",
    "    'JaccardAtThresholds': ('python programming', 'programming python'),\n",
    "    'AbsoluteDateDifferenceAtThresholds': ('2023-01-01', '2023-01-15'),\n",
    "    'AbsoluteTimeDifferenceAtThresholds': ('12:00:00', '12:15:30'),\n",
    "    'ArrayIntersectAtSizes': ('apple,banana,cherry', 'banana,cherry,date'),\n",
    "    'DateOfBirthComparison': ('1990-05-15', '1990-05-16'),\n",
    "    'DistanceFunctionAtThresholds': ('10', '15'),\n",
    "    'DistanceInKMAtThresholds': ('51.5074,-0.1278', '51.5074,-0.1290'),\n",
    "    'EmailComparison': ('john.doe@example.com', 'johndoe@example.com'),\n",
    "    'ForenameSurnameComparison': ('John Doe', 'Jon Doe'),\n",
    "    'NameComparison': ('Elizabeth Taylor', 'Elisabeth Taylor'),\n",
    "    'PostcodeComparison': ('SW1A 1AA', 'SW1A 1AB')\n",
    "}\n",
    "\n",
    "docstrings = {comp_type: getattr(cl, comp_type).__doc__ for comp_type in comparison_types}\n",
    "cl.JaccardAtThresholds.\n"
   ]
  },
  {
   "cell_type": "code",
   "execution_count": null,
   "metadata": {},
   "outputs": [],
   "source": []
  }
 ],
 "metadata": {
  "kernelspec": {
   "display_name": ".venv",
   "language": "python",
   "name": "python3"
  },
  "language_info": {
   "codemirror_mode": {
    "name": "ipython",
    "version": 3
   },
   "file_extension": ".py",
   "mimetype": "text/x-python",
   "name": "python",
   "nbconvert_exporter": "python",
   "pygments_lexer": "ipython3",
   "version": "3.10.8"
  }
 },
 "nbformat": 4,
 "nbformat_minor": 2
}
