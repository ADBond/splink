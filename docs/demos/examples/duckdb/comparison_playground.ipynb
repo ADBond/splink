{
 "cells": [
  {
   "cell_type": "code",
   "execution_count": 1,
   "metadata": {},
   "outputs": [],
   "source": [
    "# Uncomment and run this cell if you're running in Google Colab.\n",
    "# !pip install ipywidgets\n",
    "# !pip install splink\n",
    "# !jupyter nbextension enable --py widgetsnbextension"
   ]
  },
  {
   "cell_type": "code",
   "execution_count": 12,
   "metadata": {},
   "outputs": [
    {
     "data": {
      "text/plain": [
       "{'comparison_vector_value': 1, 'label_for_charts': 'Exact match on first_name'}"
      ]
     },
     "execution_count": 12,
     "metadata": {},
     "output_type": "execute_result"
    }
   ],
   "source": [
    "import splink.comparison_library as cl\n",
    "from splink.internals.testing import comparison_vector_value, is_in_level\n",
    "from splink import DuckDBAPI\n",
    "\n",
    "db_api = DuckDBAPI()\n",
    "\n",
    "comparison = cl.ExactMatch(\"first_name\")\n",
    "\n",
    "comparison_vector_value(comparison, {\"first_name_l\": \"Robin\", \"first_name_r\": \"Robin\"}, db_api)"
   ]
  },
  {
   "cell_type": "code",
   "execution_count": 39,
   "metadata": {},
   "outputs": [],
   "source": []
  },
  {
   "cell_type": "code",
   "execution_count": 61,
   "metadata": {},
   "outputs": [
    {
     "data": {
      "application/vnd.jupyter.widget-view+json": {
       "model_id": "20cbf61dd01e4449b1ab579d79c54d52",
       "version_major": 2,
       "version_minor": 0
      },
      "text/plain": [
       "VBox(children=(Dropdown(description='Comparison:', options=('ExactMatch', 'LevenshteinAtThresholds', 'JaroAtTh…"
      ]
     },
     "metadata": {},
     "output_type": "display_data"
    },
    {
     "ename": "TypeError",
     "evalue": "AbsoluteTimeDifferenceAtThresholds.__init__() missing 3 required keyword-only arguments: 'input_is_string', 'metrics', and 'thresholds'",
     "output_type": "error",
     "traceback": [
      "\u001b[0;31m---------------------------------------------------------------------------\u001b[0m",
      "\u001b[0;31mTypeError\u001b[0m                                 Traceback (most recent call last)",
      "File \u001b[0;32m~/Documents/data_linking/splink_4_311/.venv/lib/python3.10/site-packages/ipywidgets/widgets/widget.py:773\u001b[0m, in \u001b[0;36mWidget._handle_msg\u001b[0;34m(self, msg)\u001b[0m\n\u001b[1;32m    771\u001b[0m         \u001b[38;5;28;01mif\u001b[39;00m \u001b[38;5;124m'\u001b[39m\u001b[38;5;124mbuffer_paths\u001b[39m\u001b[38;5;124m'\u001b[39m \u001b[38;5;129;01min\u001b[39;00m data:\n\u001b[1;32m    772\u001b[0m             _put_buffers(state, data[\u001b[38;5;124m'\u001b[39m\u001b[38;5;124mbuffer_paths\u001b[39m\u001b[38;5;124m'\u001b[39m], msg[\u001b[38;5;124m'\u001b[39m\u001b[38;5;124mbuffers\u001b[39m\u001b[38;5;124m'\u001b[39m])\n\u001b[0;32m--> 773\u001b[0m         \u001b[38;5;28;43mself\u001b[39;49m\u001b[38;5;241;43m.\u001b[39;49m\u001b[43mset_state\u001b[49m\u001b[43m(\u001b[49m\u001b[43mstate\u001b[49m\u001b[43m)\u001b[49m\n\u001b[1;32m    775\u001b[0m \u001b[38;5;66;03m# Handle a state request.\u001b[39;00m\n\u001b[1;32m    776\u001b[0m \u001b[38;5;28;01melif\u001b[39;00m method \u001b[38;5;241m==\u001b[39m \u001b[38;5;124m'\u001b[39m\u001b[38;5;124mrequest_state\u001b[39m\u001b[38;5;124m'\u001b[39m:\n",
      "File \u001b[0;32m~/Documents/data_linking/splink_4_311/.venv/lib/python3.10/site-packages/ipywidgets/widgets/widget.py:650\u001b[0m, in \u001b[0;36mWidget.set_state\u001b[0;34m(self, sync_data)\u001b[0m\n\u001b[1;32m    645\u001b[0m         \u001b[38;5;28mself\u001b[39m\u001b[38;5;241m.\u001b[39m_send(msg, buffers\u001b[38;5;241m=\u001b[39mecho_buffers)\n\u001b[1;32m    647\u001b[0m \u001b[38;5;66;03m# The order of these context managers is important. Properties must\u001b[39;00m\n\u001b[1;32m    648\u001b[0m \u001b[38;5;66;03m# be locked when the hold_trait_notification context manager is\u001b[39;00m\n\u001b[1;32m    649\u001b[0m \u001b[38;5;66;03m# released and notifications are fired.\u001b[39;00m\n\u001b[0;32m--> 650\u001b[0m \u001b[38;5;28;01mwith\u001b[39;00m \u001b[38;5;28mself\u001b[39m\u001b[38;5;241m.\u001b[39m_lock_property(\u001b[38;5;241m*\u001b[39m\u001b[38;5;241m*\u001b[39msync_data), \u001b[38;5;28mself\u001b[39m\u001b[38;5;241m.\u001b[39mhold_trait_notifications():\n\u001b[1;32m    651\u001b[0m     \u001b[38;5;28;01mfor\u001b[39;00m name \u001b[38;5;129;01min\u001b[39;00m sync_data:\n\u001b[1;32m    652\u001b[0m         \u001b[38;5;28;01mif\u001b[39;00m name \u001b[38;5;129;01min\u001b[39;00m \u001b[38;5;28mself\u001b[39m\u001b[38;5;241m.\u001b[39mkeys:\n",
      "File \u001b[0;32m/usr/local/Cellar/python@3.10/3.10.8/Frameworks/Python.framework/Versions/3.10/lib/python3.10/contextlib.py:142\u001b[0m, in \u001b[0;36m_GeneratorContextManager.__exit__\u001b[0;34m(self, typ, value, traceback)\u001b[0m\n\u001b[1;32m    140\u001b[0m \u001b[38;5;28;01mif\u001b[39;00m typ \u001b[38;5;129;01mis\u001b[39;00m \u001b[38;5;28;01mNone\u001b[39;00m:\n\u001b[1;32m    141\u001b[0m     \u001b[38;5;28;01mtry\u001b[39;00m:\n\u001b[0;32m--> 142\u001b[0m         \u001b[38;5;28;43mnext\u001b[39;49m\u001b[43m(\u001b[49m\u001b[38;5;28;43mself\u001b[39;49m\u001b[38;5;241;43m.\u001b[39;49m\u001b[43mgen\u001b[49m\u001b[43m)\u001b[49m\n\u001b[1;32m    143\u001b[0m     \u001b[38;5;28;01mexcept\u001b[39;00m \u001b[38;5;167;01mStopIteration\u001b[39;00m:\n\u001b[1;32m    144\u001b[0m         \u001b[38;5;28;01mreturn\u001b[39;00m \u001b[38;5;28;01mFalse\u001b[39;00m\n",
      "File \u001b[0;32m~/Documents/data_linking/splink_4_311/.venv/lib/python3.10/site-packages/traitlets/traitlets.py:1510\u001b[0m, in \u001b[0;36mHasTraits.hold_trait_notifications\u001b[0;34m(self)\u001b[0m\n\u001b[1;32m   1508\u001b[0m \u001b[38;5;28;01mfor\u001b[39;00m changes \u001b[38;5;129;01min\u001b[39;00m cache\u001b[38;5;241m.\u001b[39mvalues():\n\u001b[1;32m   1509\u001b[0m     \u001b[38;5;28;01mfor\u001b[39;00m change \u001b[38;5;129;01min\u001b[39;00m changes:\n\u001b[0;32m-> 1510\u001b[0m         \u001b[38;5;28;43mself\u001b[39;49m\u001b[38;5;241;43m.\u001b[39;49m\u001b[43mnotify_change\u001b[49m\u001b[43m(\u001b[49m\u001b[43mchange\u001b[49m\u001b[43m)\u001b[49m\n",
      "File \u001b[0;32m~/Documents/data_linking/splink_4_311/.venv/lib/python3.10/site-packages/ipywidgets/widgets/widget.py:701\u001b[0m, in \u001b[0;36mWidget.notify_change\u001b[0;34m(self, change)\u001b[0m\n\u001b[1;32m    698\u001b[0m     \u001b[38;5;28;01mif\u001b[39;00m name \u001b[38;5;129;01min\u001b[39;00m \u001b[38;5;28mself\u001b[39m\u001b[38;5;241m.\u001b[39mkeys \u001b[38;5;129;01mand\u001b[39;00m \u001b[38;5;28mself\u001b[39m\u001b[38;5;241m.\u001b[39m_should_send_property(name, \u001b[38;5;28mgetattr\u001b[39m(\u001b[38;5;28mself\u001b[39m, name)):\n\u001b[1;32m    699\u001b[0m         \u001b[38;5;66;03m# Send new state to front-end\u001b[39;00m\n\u001b[1;32m    700\u001b[0m         \u001b[38;5;28mself\u001b[39m\u001b[38;5;241m.\u001b[39msend_state(key\u001b[38;5;241m=\u001b[39mname)\n\u001b[0;32m--> 701\u001b[0m \u001b[38;5;28;43msuper\u001b[39;49m\u001b[43m(\u001b[49m\u001b[43m)\u001b[49m\u001b[38;5;241;43m.\u001b[39;49m\u001b[43mnotify_change\u001b[49m\u001b[43m(\u001b[49m\u001b[43mchange\u001b[49m\u001b[43m)\u001b[49m\n",
      "File \u001b[0;32m~/Documents/data_linking/splink_4_311/.venv/lib/python3.10/site-packages/traitlets/traitlets.py:1525\u001b[0m, in \u001b[0;36mHasTraits.notify_change\u001b[0;34m(self, change)\u001b[0m\n\u001b[1;32m   1523\u001b[0m \u001b[38;5;28;01mdef\u001b[39;00m \u001b[38;5;21mnotify_change\u001b[39m(\u001b[38;5;28mself\u001b[39m, change: Bunch) \u001b[38;5;241m-\u001b[39m\u001b[38;5;241m>\u001b[39m \u001b[38;5;28;01mNone\u001b[39;00m:\n\u001b[1;32m   1524\u001b[0m \u001b[38;5;250m    \u001b[39m\u001b[38;5;124;03m\"\"\"Notify observers of a change event\"\"\"\u001b[39;00m\n\u001b[0;32m-> 1525\u001b[0m     \u001b[38;5;28;01mreturn\u001b[39;00m \u001b[38;5;28;43mself\u001b[39;49m\u001b[38;5;241;43m.\u001b[39;49m\u001b[43m_notify_observers\u001b[49m\u001b[43m(\u001b[49m\u001b[43mchange\u001b[49m\u001b[43m)\u001b[49m\n",
      "File \u001b[0;32m~/Documents/data_linking/splink_4_311/.venv/lib/python3.10/site-packages/traitlets/traitlets.py:1568\u001b[0m, in \u001b[0;36mHasTraits._notify_observers\u001b[0;34m(self, event)\u001b[0m\n\u001b[1;32m   1565\u001b[0m \u001b[38;5;28;01melif\u001b[39;00m \u001b[38;5;28misinstance\u001b[39m(c, EventHandler) \u001b[38;5;129;01mand\u001b[39;00m c\u001b[38;5;241m.\u001b[39mname \u001b[38;5;129;01mis\u001b[39;00m \u001b[38;5;129;01mnot\u001b[39;00m \u001b[38;5;28;01mNone\u001b[39;00m:\n\u001b[1;32m   1566\u001b[0m     c \u001b[38;5;241m=\u001b[39m \u001b[38;5;28mgetattr\u001b[39m(\u001b[38;5;28mself\u001b[39m, c\u001b[38;5;241m.\u001b[39mname)\n\u001b[0;32m-> 1568\u001b[0m \u001b[43mc\u001b[49m\u001b[43m(\u001b[49m\u001b[43mevent\u001b[49m\u001b[43m)\u001b[49m\n",
      "File \u001b[0;32m~/Documents/data_linking/splink_4_311/.venv/lib/python3.10/site-packages/ipywidgets/widgets/widget_selection.py:236\u001b[0m, in \u001b[0;36m_Selection._propagate_index\u001b[0;34m(self, change)\u001b[0m\n\u001b[1;32m    234\u001b[0m     \u001b[38;5;28mself\u001b[39m\u001b[38;5;241m.\u001b[39mlabel \u001b[38;5;241m=\u001b[39m label\n\u001b[1;32m    235\u001b[0m \u001b[38;5;28;01mif\u001b[39;00m \u001b[38;5;28mself\u001b[39m\u001b[38;5;241m.\u001b[39mvalue \u001b[38;5;129;01mis\u001b[39;00m \u001b[38;5;129;01mnot\u001b[39;00m value:\n\u001b[0;32m--> 236\u001b[0m     \u001b[38;5;28;43mself\u001b[39;49m\u001b[38;5;241;43m.\u001b[39;49m\u001b[43mvalue\u001b[49m \u001b[38;5;241m=\u001b[39m value\n",
      "File \u001b[0;32m~/Documents/data_linking/splink_4_311/.venv/lib/python3.10/site-packages/traitlets/traitlets.py:716\u001b[0m, in \u001b[0;36mTraitType.__set__\u001b[0;34m(self, obj, value)\u001b[0m\n\u001b[1;32m    714\u001b[0m \u001b[38;5;28;01mif\u001b[39;00m \u001b[38;5;28mself\u001b[39m\u001b[38;5;241m.\u001b[39mread_only:\n\u001b[1;32m    715\u001b[0m     \u001b[38;5;28;01mraise\u001b[39;00m TraitError(\u001b[38;5;124m'\u001b[39m\u001b[38;5;124mThe \u001b[39m\u001b[38;5;124m\"\u001b[39m\u001b[38;5;132;01m%s\u001b[39;00m\u001b[38;5;124m\"\u001b[39m\u001b[38;5;124m trait is read-only.\u001b[39m\u001b[38;5;124m'\u001b[39m \u001b[38;5;241m%\u001b[39m \u001b[38;5;28mself\u001b[39m\u001b[38;5;241m.\u001b[39mname)\n\u001b[0;32m--> 716\u001b[0m \u001b[38;5;28;43mself\u001b[39;49m\u001b[38;5;241;43m.\u001b[39;49m\u001b[43mset\u001b[49m\u001b[43m(\u001b[49m\u001b[43mobj\u001b[49m\u001b[43m,\u001b[49m\u001b[43m \u001b[49m\u001b[43mvalue\u001b[49m\u001b[43m)\u001b[49m\n",
      "File \u001b[0;32m~/Documents/data_linking/splink_4_311/.venv/lib/python3.10/site-packages/traitlets/traitlets.py:706\u001b[0m, in \u001b[0;36mTraitType.set\u001b[0;34m(self, obj, value)\u001b[0m\n\u001b[1;32m    702\u001b[0m     silent \u001b[38;5;241m=\u001b[39m \u001b[38;5;28;01mFalse\u001b[39;00m\n\u001b[1;32m    703\u001b[0m \u001b[38;5;28;01mif\u001b[39;00m silent \u001b[38;5;129;01mis\u001b[39;00m \u001b[38;5;129;01mnot\u001b[39;00m \u001b[38;5;28;01mTrue\u001b[39;00m:\n\u001b[1;32m    704\u001b[0m     \u001b[38;5;66;03m# we explicitly compare silent to True just in case the equality\u001b[39;00m\n\u001b[1;32m    705\u001b[0m     \u001b[38;5;66;03m# comparison above returns something other than True/False\u001b[39;00m\n\u001b[0;32m--> 706\u001b[0m     \u001b[43mobj\u001b[49m\u001b[38;5;241;43m.\u001b[39;49m\u001b[43m_notify_trait\u001b[49m\u001b[43m(\u001b[49m\u001b[38;5;28;43mself\u001b[39;49m\u001b[38;5;241;43m.\u001b[39;49m\u001b[43mname\u001b[49m\u001b[43m,\u001b[49m\u001b[43m \u001b[49m\u001b[43mold_value\u001b[49m\u001b[43m,\u001b[49m\u001b[43m \u001b[49m\u001b[43mnew_value\u001b[49m\u001b[43m)\u001b[49m\n",
      "File \u001b[0;32m~/Documents/data_linking/splink_4_311/.venv/lib/python3.10/site-packages/traitlets/traitlets.py:1513\u001b[0m, in \u001b[0;36mHasTraits._notify_trait\u001b[0;34m(self, name, old_value, new_value)\u001b[0m\n\u001b[1;32m   1512\u001b[0m \u001b[38;5;28;01mdef\u001b[39;00m \u001b[38;5;21m_notify_trait\u001b[39m(\u001b[38;5;28mself\u001b[39m, name: \u001b[38;5;28mstr\u001b[39m, old_value: t\u001b[38;5;241m.\u001b[39mAny, new_value: t\u001b[38;5;241m.\u001b[39mAny) \u001b[38;5;241m-\u001b[39m\u001b[38;5;241m>\u001b[39m \u001b[38;5;28;01mNone\u001b[39;00m:\n\u001b[0;32m-> 1513\u001b[0m     \u001b[38;5;28;43mself\u001b[39;49m\u001b[38;5;241;43m.\u001b[39;49m\u001b[43mnotify_change\u001b[49m\u001b[43m(\u001b[49m\n\u001b[1;32m   1514\u001b[0m \u001b[43m        \u001b[49m\u001b[43mBunch\u001b[49m\u001b[43m(\u001b[49m\n\u001b[1;32m   1515\u001b[0m \u001b[43m            \u001b[49m\u001b[43mname\u001b[49m\u001b[38;5;241;43m=\u001b[39;49m\u001b[43mname\u001b[49m\u001b[43m,\u001b[49m\n\u001b[1;32m   1516\u001b[0m \u001b[43m            \u001b[49m\u001b[43mold\u001b[49m\u001b[38;5;241;43m=\u001b[39;49m\u001b[43mold_value\u001b[49m\u001b[43m,\u001b[49m\n\u001b[1;32m   1517\u001b[0m \u001b[43m            \u001b[49m\u001b[43mnew\u001b[49m\u001b[38;5;241;43m=\u001b[39;49m\u001b[43mnew_value\u001b[49m\u001b[43m,\u001b[49m\n\u001b[1;32m   1518\u001b[0m \u001b[43m            \u001b[49m\u001b[43mowner\u001b[49m\u001b[38;5;241;43m=\u001b[39;49m\u001b[38;5;28;43mself\u001b[39;49m\u001b[43m,\u001b[49m\n\u001b[1;32m   1519\u001b[0m \u001b[43m            \u001b[49m\u001b[38;5;28;43mtype\u001b[39;49m\u001b[38;5;241;43m=\u001b[39;49m\u001b[38;5;124;43m\"\u001b[39;49m\u001b[38;5;124;43mchange\u001b[39;49m\u001b[38;5;124;43m\"\u001b[39;49m\u001b[43m,\u001b[49m\n\u001b[1;32m   1520\u001b[0m \u001b[43m        \u001b[49m\u001b[43m)\u001b[49m\n\u001b[1;32m   1521\u001b[0m \u001b[43m    \u001b[49m\u001b[43m)\u001b[49m\n",
      "File \u001b[0;32m~/Documents/data_linking/splink_4_311/.venv/lib/python3.10/site-packages/ipywidgets/widgets/widget.py:701\u001b[0m, in \u001b[0;36mWidget.notify_change\u001b[0;34m(self, change)\u001b[0m\n\u001b[1;32m    698\u001b[0m     \u001b[38;5;28;01mif\u001b[39;00m name \u001b[38;5;129;01min\u001b[39;00m \u001b[38;5;28mself\u001b[39m\u001b[38;5;241m.\u001b[39mkeys \u001b[38;5;129;01mand\u001b[39;00m \u001b[38;5;28mself\u001b[39m\u001b[38;5;241m.\u001b[39m_should_send_property(name, \u001b[38;5;28mgetattr\u001b[39m(\u001b[38;5;28mself\u001b[39m, name)):\n\u001b[1;32m    699\u001b[0m         \u001b[38;5;66;03m# Send new state to front-end\u001b[39;00m\n\u001b[1;32m    700\u001b[0m         \u001b[38;5;28mself\u001b[39m\u001b[38;5;241m.\u001b[39msend_state(key\u001b[38;5;241m=\u001b[39mname)\n\u001b[0;32m--> 701\u001b[0m \u001b[38;5;28;43msuper\u001b[39;49m\u001b[43m(\u001b[49m\u001b[43m)\u001b[49m\u001b[38;5;241;43m.\u001b[39;49m\u001b[43mnotify_change\u001b[49m\u001b[43m(\u001b[49m\u001b[43mchange\u001b[49m\u001b[43m)\u001b[49m\n",
      "File \u001b[0;32m~/Documents/data_linking/splink_4_311/.venv/lib/python3.10/site-packages/traitlets/traitlets.py:1525\u001b[0m, in \u001b[0;36mHasTraits.notify_change\u001b[0;34m(self, change)\u001b[0m\n\u001b[1;32m   1523\u001b[0m \u001b[38;5;28;01mdef\u001b[39;00m \u001b[38;5;21mnotify_change\u001b[39m(\u001b[38;5;28mself\u001b[39m, change: Bunch) \u001b[38;5;241m-\u001b[39m\u001b[38;5;241m>\u001b[39m \u001b[38;5;28;01mNone\u001b[39;00m:\n\u001b[1;32m   1524\u001b[0m \u001b[38;5;250m    \u001b[39m\u001b[38;5;124;03m\"\"\"Notify observers of a change event\"\"\"\u001b[39;00m\n\u001b[0;32m-> 1525\u001b[0m     \u001b[38;5;28;01mreturn\u001b[39;00m \u001b[38;5;28;43mself\u001b[39;49m\u001b[38;5;241;43m.\u001b[39;49m\u001b[43m_notify_observers\u001b[49m\u001b[43m(\u001b[49m\u001b[43mchange\u001b[49m\u001b[43m)\u001b[49m\n",
      "File \u001b[0;32m~/Documents/data_linking/splink_4_311/.venv/lib/python3.10/site-packages/traitlets/traitlets.py:1568\u001b[0m, in \u001b[0;36mHasTraits._notify_observers\u001b[0;34m(self, event)\u001b[0m\n\u001b[1;32m   1565\u001b[0m \u001b[38;5;28;01melif\u001b[39;00m \u001b[38;5;28misinstance\u001b[39m(c, EventHandler) \u001b[38;5;129;01mand\u001b[39;00m c\u001b[38;5;241m.\u001b[39mname \u001b[38;5;129;01mis\u001b[39;00m \u001b[38;5;129;01mnot\u001b[39;00m \u001b[38;5;28;01mNone\u001b[39;00m:\n\u001b[1;32m   1566\u001b[0m     c \u001b[38;5;241m=\u001b[39m \u001b[38;5;28mgetattr\u001b[39m(\u001b[38;5;28mself\u001b[39m, c\u001b[38;5;241m.\u001b[39mname)\n\u001b[0;32m-> 1568\u001b[0m \u001b[43mc\u001b[49m\u001b[43m(\u001b[49m\u001b[43mevent\u001b[49m\u001b[43m)\u001b[49m\n",
      "Cell \u001b[0;32mIn[61], line 88\u001b[0m, in \u001b[0;36mcreate_comparison_playground.<locals>.on_comparison_change\u001b[0;34m(change)\u001b[0m\n\u001b[1;32m     85\u001b[0m right_input\u001b[38;5;241m.\u001b[39mobserve(run_comparison, names\u001b[38;5;241m=\u001b[39m\u001b[38;5;124m'\u001b[39m\u001b[38;5;124mvalue\u001b[39m\u001b[38;5;124m'\u001b[39m)\n\u001b[1;32m     87\u001b[0m \u001b[38;5;66;03m# Run the comparison once after updating both inputs\u001b[39;00m\n\u001b[0;32m---> 88\u001b[0m \u001b[43mrun_comparison\u001b[49m\u001b[43m(\u001b[49m\u001b[38;5;28;43;01mNone\u001b[39;49;00m\u001b[43m)\u001b[49m\n",
      "Cell \u001b[0;32mIn[61], line 53\u001b[0m, in \u001b[0;36mcreate_comparison_playground.<locals>.run_comparison\u001b[0;34m(change)\u001b[0m\n\u001b[1;32m     51\u001b[0m left_value \u001b[38;5;241m=\u001b[39m left_input\u001b[38;5;241m.\u001b[39mvalue\n\u001b[1;32m     52\u001b[0m right_value \u001b[38;5;241m=\u001b[39m right_input\u001b[38;5;241m.\u001b[39mvalue\n\u001b[0;32m---> 53\u001b[0m comparison \u001b[38;5;241m=\u001b[39m \u001b[43mget_comparison\u001b[49m\u001b[43m(\u001b[49m\u001b[43mcomparison_select\u001b[49m\u001b[38;5;241;43m.\u001b[39;49m\u001b[43mvalue\u001b[49m\u001b[43m)\u001b[49m\n\u001b[1;32m     55\u001b[0m \u001b[38;5;28;01mif\u001b[39;00m comparison_select\u001b[38;5;241m.\u001b[39mvalue \u001b[38;5;241m==\u001b[39m \u001b[38;5;124m'\u001b[39m\u001b[38;5;124mArrayIntersectAtSizes\u001b[39m\u001b[38;5;124m'\u001b[39m:\n\u001b[1;32m     56\u001b[0m     left_value \u001b[38;5;241m=\u001b[39m left_value\u001b[38;5;241m.\u001b[39msplit(\u001b[38;5;124m'\u001b[39m\u001b[38;5;124m,\u001b[39m\u001b[38;5;124m'\u001b[39m)\n",
      "Cell \u001b[0;32mIn[61], line 48\u001b[0m, in \u001b[0;36mcreate_comparison_playground.<locals>.get_comparison\u001b[0;34m(comp_type)\u001b[0m\n\u001b[1;32m     46\u001b[0m     \u001b[38;5;28;01mreturn\u001b[39;00m \u001b[38;5;28mgetattr\u001b[39m(cl, comp_type)(column_name)\n\u001b[1;32m     47\u001b[0m \u001b[38;5;28;01melse\u001b[39;00m:\n\u001b[0;32m---> 48\u001b[0m     \u001b[38;5;28;01mreturn\u001b[39;00m \u001b[38;5;28;43mgetattr\u001b[39;49m\u001b[43m(\u001b[49m\u001b[43mcl\u001b[49m\u001b[43m,\u001b[49m\u001b[43m \u001b[49m\u001b[43mcomp_type\u001b[49m\u001b[43m)\u001b[49m\u001b[43m(\u001b[49m\u001b[43mcolumn_name\u001b[49m\u001b[43m)\u001b[49m\n",
      "\u001b[0;31mTypeError\u001b[0m: AbsoluteTimeDifferenceAtThresholds.__init__() missing 3 required keyword-only arguments: 'input_is_string', 'metrics', and 'thresholds'"
     ]
    }
   ],
   "source": [
    "def create_comparison_playground(column_name):\n",
    "\n",
    "    comparison_types = [\n",
    "        'ExactMatch', 'LevenshteinAtThresholds', 'JaroAtThresholds',\n",
    "        'JaroWinklerAtThresholds', 'DamerauLevenshteinAtThresholds',\n",
    "        'JaccardAtThresholds',\n",
    "        'AbsoluteDateDifferenceAtThresholds', 'AbsoluteTimeDifferenceAtThresholds',\n",
    "        'ArrayIntersectAtSizes', 'DateOfBirthComparison', 'DistanceFunctionAtThresholds',\n",
    "        'DistanceInKMAtThresholds', 'EmailComparison', 'ForenameSurnameComparison',\n",
    "        'NameComparison', 'PostcodeComparison'\n",
    "    ]\n",
    "\n",
    "    default_values = {\n",
    "        'ExactMatch': ('john', 'jon'),\n",
    "        'LevenshteinAtThresholds': ('smith', 'smyth'),\n",
    "        'JaroAtThresholds': ('martha', 'matha'),\n",
    "        'JaroWinklerAtThresholds': ('williams', 'willaims'),\n",
    "        'DamerauLevenshteinAtThresholds': ('receive', 'recieve'),\n",
    "        'CosineSimilarityAtThresholds': ('data science', 'science data'),\n",
    "        'JaccardAtThresholds': ('0123456789', '012345678'),\n",
    "        'AbsoluteDateDifferenceAtThresholds': ('2023-01-01', '2023-01-15'),\n",
    "        'AbsoluteTimeDifferenceAtThresholds': ('12:00:00', '12:15:30'),\n",
    "        'ArrayIntersectAtSizes': ('apple,banana,cherry', 'banana,cherry,date'),\n",
    "        'DateOfBirthComparison': ('1990-05-15', '1990-05-16'),\n",
    "        'DistanceFunctionAtThresholds': ('10', '15'),\n",
    "        'DistanceInKMAtThresholds': ('51.5074,-0.1278', '51.5074,-0.1290'),\n",
    "        'EmailComparison': ('john.doe@example.com', 'johndoe@example.com'),\n",
    "        'ForenameSurnameComparison': ('John Doe', 'Jon Doe'),\n",
    "        'NameComparison': ('Elizabeth Taylor', 'Elisabeth Taylor'),\n",
    "        'PostcodeComparison': ('SW1A 1AA', 'SW1A 1AB')\n",
    "    }\n",
    "\n",
    "    db_api = DuckDBAPI()\n",
    "\n",
    "    docstrings = {}\n",
    "    for comp_type in comparison_types:\n",
    "        class_obj = getattr(cl, comp_type)\n",
    "        init_doc = getattr(class_obj.__init__, '__doc__', None)\n",
    "        docstrings[comp_type] = init_doc if init_doc else class_obj.__doc__\n",
    "\n",
    "\n",
    "    def get_comparison(comp_type):\n",
    "        if comp_type == 'DateOfBirthComparison':\n",
    "            return getattr(cl, comp_type)(column_name, input_is_string=True)\n",
    "        elif comp_type in ['EmailComparison', 'ForenameSurnameComparison', 'NameComparison', 'PostcodeComparison', 'ArrayIntersectAtSizes']:\n",
    "            return getattr(cl, comp_type)(column_name)\n",
    "        else:\n",
    "            return getattr(cl, comp_type)(column_name)\n",
    "\n",
    "    def run_comparison(change):\n",
    "        left_value = left_input.value\n",
    "        right_value = right_input.value\n",
    "        comparison = get_comparison(comparison_select.value)\n",
    "\n",
    "        if comparison_select.value == 'ArrayIntersectAtSizes':\n",
    "            left_value = left_value.split(',')\n",
    "            right_value = right_value.split(',')\n",
    "\n",
    "        output.clear_output()\n",
    "        with output:\n",
    "            display(Markdown(\"### Comparison levels:\"))\n",
    "            report_comparison_levels(comparison, left_value, right_value, column_name)\n",
    "            docstring = docstrings.get(comparison_select.value, \"No docstring available\")\n",
    "\n",
    "            # Process the docstring to remove indentation and render as markdown\n",
    "\n",
    "            processed_docstring = \"\\n\".join(line.strip() for line in docstring.split(\"\\n\"))\n",
    "            display(Markdown(\"### Comparison Function Docstring:\"))\n",
    "            display(Markdown(processed_docstring))\n",
    "\n",
    "    def on_comparison_change(change):\n",
    "        new_value = change['new']\n",
    "        left_value, right_value = default_values.get(new_value, ('', ''))\n",
    "\n",
    "        # Temporarily unobserve the input widgets\n",
    "        left_input.unobserve(run_comparison, names='value')\n",
    "        right_input.unobserve(run_comparison, names='value')\n",
    "\n",
    "        # Update the values\n",
    "        left_input.value = left_value\n",
    "        right_input.value = right_value\n",
    "\n",
    "        # Re-observe the input widgets\n",
    "        left_input.observe(run_comparison, names='value')\n",
    "        right_input.observe(run_comparison, names='value')\n",
    "\n",
    "        # Run the comparison once after updating both inputs\n",
    "        run_comparison(None)\n",
    "\n",
    "\n",
    "    comparison_select = widgets.Dropdown(\n",
    "        options=comparison_types,\n",
    "        value='ExactMatch',\n",
    "        description='Comparison:',\n",
    "    )\n",
    "    left_input = widgets.Text(description=f\"{column_name} Left:\", value=default_values['ExactMatch'][0])\n",
    "    right_input = widgets.Text(description=f\"{column_name} Right:\", value=default_values['ExactMatch'][1])\n",
    "    output = widgets.Output()\n",
    "\n",
    "    comparison_select.observe(on_comparison_change, names='value')\n",
    "    for widget in (comparison_select, left_input, right_input):\n",
    "        widget.observe(run_comparison, names='value')\n",
    "\n",
    "    # Call run_comparison immediately to compute initial output\n",
    "    run_comparison(None)\n",
    "\n",
    "    return widgets.VBox([comparison_select, left_input, right_input, output])\n",
    "\n",
    "playground = create_comparison_playground(\"column\")\n",
    "display(playground)"
   ]
  },
  {
   "cell_type": "code",
   "execution_count": 13,
   "metadata": {},
   "outputs": [
    {
     "data": {
      "text/plain": [
       "['AbsoluteDateDifferenceAtThresholds',\n",
       " 'AbsoluteTimeDifferenceAtThresholds',\n",
       " 'ArrayIntersectAtSizes',\n",
       " 'CosineSimilarityAtThresholds',\n",
       " 'CustomComparison',\n",
       " 'DamerauLevenshteinAtThresholds',\n",
       " 'DateOfBirthComparison',\n",
       " 'DistanceFunctionAtThresholds',\n",
       " 'DistanceInKMAtThresholds',\n",
       " 'EmailComparison',\n",
       " 'ExactMatch',\n",
       " 'ForenameSurnameComparison',\n",
       " 'JaccardAtThresholds',\n",
       " 'JaroAtThresholds',\n",
       " 'JaroWinklerAtThresholds',\n",
       " 'LevenshteinAtThresholds',\n",
       " 'NameComparison',\n",
       " 'PostcodeComparison',\n",
       " '__all__',\n",
       " '__builtins__',\n",
       " '__cached__',\n",
       " '__doc__',\n",
       " '__file__',\n",
       " '__loader__',\n",
       " '__name__',\n",
       " '__package__',\n",
       " '__spec__']"
      ]
     },
     "execution_count": 13,
     "metadata": {},
     "output_type": "execute_result"
    }
   ],
   "source": [
    "dir(cl)"
   ]
  },
  {
   "cell_type": "code",
   "execution_count": 26,
   "metadata": {},
   "outputs": [],
   "source": [
    "import splink.internals.comparison_library as cl\n",
    "comparison_types = [\n",
    "    'ExactMatch', 'LevenshteinAtThresholds', 'JaroAtThresholds',\n",
    "    'JaroWinklerAtThresholds', 'DamerauLevenshteinAtThresholds',\n",
    "    'CosineSimilarityAtThresholds', 'JaccardAtThresholds',\n",
    "    'AbsoluteDateDifferenceAtThresholds', 'AbsoluteTimeDifferenceAtThresholds',\n",
    "    'ArrayIntersectAtSizes', 'DateOfBirthComparison', 'DistanceFunctionAtThresholds',\n",
    "    'DistanceInKMAtThresholds', 'EmailComparison', 'ForenameSurnameComparison',\n",
    "    'NameComparison', 'PostcodeComparison'\n",
    "]\n",
    "\n",
    "default_values = {\n",
    "    'ExactMatch': ('john', 'jon'),\n",
    "    'LevenshteinAtThresholds': ('smith', 'smyth'),\n",
    "    'JaroAtThresholds': ('martha', 'matha'),\n",
    "    'JaroWinklerAtThresholds': ('williams', 'willaims'),\n",
    "    'DamerauLevenshteinAtThresholds': ('receive', 'recieve'),\n",
    "    'CosineSimilarityAtThresholds': ('data science', 'science data'),\n",
    "    'JaccardAtThresholds': ('python programming', 'programming python'),\n",
    "    'AbsoluteDateDifferenceAtThresholds': ('2023-01-01', '2023-01-15'),\n",
    "    'AbsoluteTimeDifferenceAtThresholds': ('12:00:00', '12:15:30'),\n",
    "    'ArrayIntersectAtSizes': ('apple,banana,cherry', 'banana,cherry,date'),\n",
    "    'DateOfBirthComparison': ('1990-05-15', '1990-05-16'),\n",
    "    'DistanceFunctionAtThresholds': ('10', '15'),\n",
    "    'DistanceInKMAtThresholds': ('51.5074,-0.1278', '51.5074,-0.1290'),\n",
    "    'EmailComparison': ('john.doe@example.com', 'johndoe@example.com'),\n",
    "    'ForenameSurnameComparison': ('John Doe', 'Jon Doe'),\n",
    "    'NameComparison': ('Elizabeth Taylor', 'Elisabeth Taylor'),\n",
    "    'PostcodeComparison': ('SW1A 1AA', 'SW1A 1AB')\n",
    "}\n",
    "\n",
    "docstrings = {comp_type: getattr(cl, comp_type).__doc__ for comp_type in comparison_types}\n",
    "cl.JaccardAtThresholds.\n"
   ]
  },
  {
   "cell_type": "code",
   "execution_count": 43,
   "metadata": {},
   "outputs": [],
   "source": [
    "from splink.internals.testing import comparison_vector_value, is_in_level\n",
    "from splink import DuckDBAPI\n",
    "from IPython.display import display, Markdown\n",
    "\n",
    "def report_comparison_levels(comparison, left_value, right_value, column_name):\n",
    "    db_api = DuckDBAPI()\n",
    "    levels = comparison.create_comparison_levels()\n",
    "\n",
    "    messages = []\n",
    "    matched_level = None\n",
    "    total_levels = len(levels)\n",
    "    for i, level in enumerate(levels):\n",
    "        level_number = total_levels - i - 1\n",
    "        label = level.create_label_for_charts()\n",
    "        if matched_level is None and is_in_level(level, {f\"{column_name}_l\": left_value, f\"{column_name}_r\": right_value}, db_api):\n",
    "            messages.append(f\"**Level {level_number}: {label} (Matched)**\")\n",
    "            matched_level = level_number\n",
    "        else:\n",
    "            messages.append(f\"Level {level_number}: {label}\")\n",
    "        messages.append(\"\")  # Add an empty line after each level\n",
    "\n",
    "    markdown_output = \"\\n\".join(messages)\n",
    "    display(Markdown(markdown_output))"
   ]
  },
  {
   "cell_type": "code",
   "execution_count": 48,
   "metadata": {},
   "outputs": [
    {
     "ename": "TypeError",
     "evalue": "DateOfBirthComparison.__init__() missing 1 required keyword-only argument: 'input_is_string'",
     "output_type": "error",
     "traceback": [
      "\u001b[0;31m---------------------------------------------------------------------------\u001b[0m",
      "\u001b[0;31mTypeError\u001b[0m                                 Traceback (most recent call last)",
      "Cell \u001b[0;32mIn[48], line 1\u001b[0m\n\u001b[0;32m----> 1\u001b[0m \u001b[43mcl\u001b[49m\u001b[38;5;241;43m.\u001b[39;49m\u001b[43mDateOfBirthComparison\u001b[49m\u001b[43m(\u001b[49m\u001b[38;5;124;43m\"\u001b[39;49m\u001b[38;5;124;43ma\u001b[39;49m\u001b[38;5;124;43m\"\u001b[39;49m\u001b[43m)\u001b[49m\n",
      "\u001b[0;31mTypeError\u001b[0m: DateOfBirthComparison.__init__() missing 1 required keyword-only argument: 'input_is_string'"
     ]
    }
   ],
   "source": [
    "cl.DateOfBirthComparison(\"a\")"
   ]
  },
  {
   "cell_type": "code",
   "execution_count": null,
   "metadata": {},
   "outputs": [],
   "source": []
  }
 ],
 "metadata": {
  "kernelspec": {
   "display_name": ".venv",
   "language": "python",
   "name": "python3"
  },
  "language_info": {
   "codemirror_mode": {
    "name": "ipython",
    "version": 3
   },
   "file_extension": ".py",
   "mimetype": "text/x-python",
   "name": "python",
   "nbconvert_exporter": "python",
   "pygments_lexer": "ipython3",
   "version": "3.10.8"
  }
 },
 "nbformat": 4,
 "nbformat_minor": 2
}
