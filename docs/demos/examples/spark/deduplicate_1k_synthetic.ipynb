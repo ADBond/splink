{
  "cells": [
    {
      "attachments": {},
      "cell_type": "markdown",
      "metadata": {},
      "source": [
        "## Linking in Spark\n"
      ]
    },
    {
      "cell_type": "markdown",
      "metadata": {},
      "source": [
        "<a target=\"_blank\" href=\"https://colab.research.google.com/github/moj-analytical-services/splink/blob/splink4_dev/docs/demos/examples/spark/deduplicate_1k_synthetic.ipynb\">\n",
        "  <img src=\"https://colab.research.google.com/assets/colab-badge.svg\" alt=\"Open In Colab\"/>\n",
        "</a>\n"
      ]
    },
    {
      "cell_type": "code",
      "execution_count": 1,
      "metadata": {
        "execution": {
          "iopub.execute_input": "2024-03-13T12:29:57.518197Z",
          "iopub.status.busy": "2024-03-13T12:29:57.517750Z",
          "iopub.status.idle": "2024-03-13T12:29:57.523242Z",
          "shell.execute_reply": "2024-03-13T12:29:57.522525Z"
        },
        "tags": [
          "hide_input"
        ]
      },
      "outputs": [],
      "source": [
        "# Uncomment and run this cell if you're running in Google Colab.\n",
        "# !pip install git+https://github.com/moj-analytical-services/splink.git@splink4_dev\n",
        "# !pip install pyspark"
      ]
    },
    {
      "cell_type": "code",
      "execution_count": 2,
      "metadata": {
        "execution": {
          "iopub.execute_input": "2024-03-13T12:29:57.527366Z",
          "iopub.status.busy": "2024-03-13T12:29:57.527045Z",
          "iopub.status.idle": "2024-03-13T12:30:42.348824Z",
          "shell.execute_reply": "2024-03-13T12:30:42.347900Z"
        }
      },
      "outputs": [
        {
          "name": "stderr",
          "output_type": "stream",
          "text": [
            "24/06/22 10:55:10 WARN NativeCodeLoader: Unable to load native-hadoop library for your platform... using builtin-java classes where applicable\n",
            "Setting default log level to \"WARN\".\n",
            "To adjust logging level use sc.setLogLevel(newLevel). For SparkR, use setLogLevel(newLevel).\n"
          ]
        }
      ],
      "source": [
        "from pyspark import SparkConf, SparkContext\n",
        "from pyspark.sql import SparkSession\n",
        "\n",
        "from splink.backends.spark import similarity_jar_location\n",
        "\n",
        "conf = SparkConf()\n",
        "# This parallelism setting is only suitable for a small toy example\n",
        "conf.set(\"spark.driver.memory\", \"12g\")\n",
        "conf.set(\"spark.default.parallelism\", \"8\")\n",
        "\n",
        "\n",
        "# Add custom similarity functions, which are bundled with Splink\n",
        "# documented here: https://github.com/moj-analytical-services/splink_scalaudfs\n",
        "path = similarity_jar_location()\n",
        "conf.set(\"spark.jars\", path)\n",
        "\n",
        "sc = SparkContext.getOrCreate(conf=conf)\n",
        "\n",
        "spark = SparkSession(sc)\n",
        "spark.sparkContext.setCheckpointDir(\"./tmp_checkpoints\")"
      ]
    },
    {
      "cell_type": "code",
      "execution_count": 3,
      "metadata": {
        "execution": {
          "iopub.execute_input": "2024-03-13T12:30:42.353970Z",
          "iopub.status.busy": "2024-03-13T12:30:42.353260Z",
          "iopub.status.idle": "2024-03-13T12:30:42.358982Z",
          "shell.execute_reply": "2024-03-13T12:30:42.358209Z"
        },
        "tags": [
          "hide_input",
          "hide_output"
        ]
      },
      "outputs": [],
      "source": [
        "# Disable warnings for pyspark - you don't need to include this\n",
        "import warnings\n",
        "\n",
        "spark.sparkContext.setLogLevel(\"ERROR\")\n",
        "warnings.simplefilter(\"ignore\", UserWarning)"
      ]
    },
    {
      "cell_type": "code",
      "execution_count": 4,
      "metadata": {
        "execution": {
          "iopub.execute_input": "2024-03-13T12:30:42.363648Z",
          "iopub.status.busy": "2024-03-13T12:30:42.363227Z",
          "iopub.status.idle": "2024-03-13T12:30:45.734688Z",
          "shell.execute_reply": "2024-03-13T12:30:45.733419Z"
        }
      },
      "outputs": [],
      "source": [
        "from splink import splink_datasets\n",
        "\n",
        "pandas_df = splink_datasets.fake_1000\n",
        "\n",
        "df = spark.createDataFrame(pandas_df)"
      ]
    },
    {
      "cell_type": "code",
      "execution_count": 5,
      "metadata": {
        "execution": {
          "iopub.execute_input": "2024-03-13T12:30:45.740685Z",
          "iopub.status.busy": "2024-03-13T12:30:45.740314Z",
          "iopub.status.idle": "2024-03-13T12:30:45.773778Z",
          "shell.execute_reply": "2024-03-13T12:30:45.772855Z"
        }
      },
      "outputs": [],
      "source": [
        "import splink.comparison_library as cl\n",
        "from splink import Linker, SettingsCreator, SparkAPI, block_on\n",
        "\n",
        "settings = SettingsCreator(\n",
        "    link_type=\"dedupe_only\",\n",
        "    comparisons=[\n",
        "        cl.NameComparison(\"first_name\"),\n",
        "        cl.NameComparison(\"surname\"),\n",
        "        cl.DateOfBirthComparison(\n",
        "            \"dob\",\n",
        "            input_is_string=True,\n",
        "        ),\n",
        "        cl.ExactMatch(\"city\").configure(term_frequency_adjustments=True),\n",
        "        cl.EmailComparison(\"email\"),\n",
        "    ],\n",
        "    blocking_rules_to_generate_predictions=[\n",
        "        block_on(\"first_name\"),\n",
        "        \"l.surname = r.surname\",  # alternatively, you can write BRs in their SQL form\n",
        "    ],\n",
        "    retain_intermediate_calculation_columns=True,\n",
        "    em_convergence=0.01,\n",
        ")"
      ]
    },
    {
      "cell_type": "code",
      "execution_count": 6,
      "metadata": {
        "execution": {
          "iopub.execute_input": "2024-03-13T12:30:45.779194Z",
          "iopub.status.busy": "2024-03-13T12:30:45.778688Z",
          "iopub.status.idle": "2024-03-13T12:30:57.746806Z",
          "shell.execute_reply": "2024-03-13T12:30:57.744480Z"
        }
      },
      "outputs": [
        {
          "name": "stderr",
          "output_type": "stream",
          "text": [
            "Probability two random records match is estimated to be  0.0806.                \n",
            "This means that amongst all possible pairwise record comparisons, one in 12.41 are expected to match.  With 499,500 total possible comparisons, we expect a total of around 40,246.67 matching pairs\n"
          ]
        }
      ],
      "source": [
        "linker = Linker(df, settings, database_api=SparkAPI(spark_session=spark))\n",
        "deterministic_rules = [\n",
        "    \"l.first_name = r.first_name and levenshtein(r.dob, l.dob) <= 1\",\n",
        "    \"l.surname = r.surname and levenshtein(r.dob, l.dob) <= 1\",\n",
        "    \"l.first_name = r.first_name and levenshtein(r.surname, l.surname) <= 2\",\n",
        "    \"l.email = r.email\",\n",
        "]\n",
        "\n",
        "linker.training.estimate_probability_two_random_records_match(deterministic_rules, recall=0.6)"
      ]
    },
    {
      "cell_type": "code",
      "execution_count": 7,
      "metadata": {
        "execution": {
          "iopub.execute_input": "2024-03-13T12:30:57.757986Z",
          "iopub.status.busy": "2024-03-13T12:30:57.757315Z",
          "iopub.status.idle": "2024-03-13T12:31:17.080600Z",
          "shell.execute_reply": "2024-03-13T12:31:17.079503Z"
        }
      },
      "outputs": [
        {
          "name": "stderr",
          "output_type": "stream",
          "text": [
            "----- Estimating u probabilities using random sampling -----\n",
            "                                                                                \n",
            "Estimated u probabilities using random sampling\n",
            "\n",
            "Your model is not yet fully trained. Missing estimates for:\n",
            "    - first_name (no m values are trained).\n",
            "    - surname (no m values are trained).\n",
            "    - dob (no m values are trained).\n",
            "    - city (no m values are trained).\n",
            "    - email (no m values are trained).\n"
          ]
        }
      ],
      "source": [
        "linker.training.estimate_u_using_random_sampling(max_pairs=5e5)"
      ]
    },
    {
      "cell_type": "code",
      "execution_count": 8,
      "metadata": {
        "execution": {
          "iopub.execute_input": "2024-03-13T12:31:17.085610Z",
          "iopub.status.busy": "2024-03-13T12:31:17.085246Z",
          "iopub.status.idle": "2024-03-13T12:31:36.217869Z",
          "shell.execute_reply": "2024-03-13T12:31:36.217063Z"
        }
      },
      "outputs": [
        {
          "name": "stderr",
          "output_type": "stream",
          "text": [
            "                                                                                \n",
            "----- Starting EM training session -----\n",
            "\n",
            "Estimating the m probabilities of the model by blocking on:\n",
            "l.first_name = r.first_name and l.surname = r.surname\n",
            "\n",
            "Parameter estimates will be made for the following comparison(s):\n",
            "    - dob\n",
            "    - city\n",
            "    - email\n",
            "\n",
            "Parameter estimates cannot be made for the following comparison(s) since they are used in the blocking rules: \n",
            "    - first_name\n",
            "    - surname\n",
            "                                                                                \n",
            "Iteration 1: Largest change in params was -0.706 in probability_two_random_records_match\n",
            "Iteration 2: Largest change in params was 0.0583 in the m_probability of email, level `All other comparisons`\n",
            "Iteration 3: Largest change in params was 0.0217 in the m_probability of email, level `All other comparisons`\n",
            "Iteration 4: Largest change in params was 0.00941 in the m_probability of email, level `All other comparisons`\n",
            "\n",
            "EM converged after 4 iterations\n",
            "\n",
            "Your model is not yet fully trained. Missing estimates for:\n",
            "    - first_name (no m values are trained).\n",
            "    - surname (no m values are trained).\n",
            "\n",
            "----- Starting EM training session -----\n",
            "\n",
            "Estimating the m probabilities of the model by blocking on:\n",
            "l.dob = r.dob\n",
            "\n",
            "Parameter estimates will be made for the following comparison(s):\n",
            "    - first_name\n",
            "    - surname\n",
            "    - city\n",
            "    - email\n",
            "\n",
            "Parameter estimates cannot be made for the following comparison(s) since they are used in the blocking rules: \n",
            "    - dob\n",
            "                                                                                \n",
            "WARNING:\n",
            "Level Jaro-Winkler >0.88 on username on comparison email not observed in dataset, unable to train m value\n",
            "\n",
            "Iteration 1: Largest change in params was -0.548 in the m_probability of surname, level `Exact match on surname`\n",
            "Iteration 2: Largest change in params was 0.129 in probability_two_random_records_match\n",
            "Iteration 3: Largest change in params was 0.0313 in probability_two_random_records_match\n",
            "Iteration 4: Largest change in params was 0.0128 in probability_two_random_records_match\n",
            "Iteration 5: Largest change in params was 0.00651 in probability_two_random_records_match\n",
            "\n",
            "EM converged after 5 iterations\n",
            "m probability not trained for email - Jaro-Winkler >0.88 on username (comparison vector value: 1). This usually means the comparison level was never observed in the training data.\n",
            "\n",
            "Your model is fully trained. All comparisons have at least one estimate for their m and u values\n"
          ]
        }
      ],
      "source": [
        "training_blocking_rule = \"l.first_name = r.first_name and l.surname = r.surname\"\n",
        "training_session_fname_sname = (\n",
        "    linker.training.estimate_parameters_using_expectation_maximisation(training_blocking_rule)\n",
        ")\n",
        "\n",
        "training_blocking_rule = \"l.dob = r.dob\"\n",
        "training_session_dob = linker.training.estimate_parameters_using_expectation_maximisation(\n",
        "    training_blocking_rule\n",
        ")"
      ]
    },
    {
      "cell_type": "code",
      "execution_count": 12,
      "metadata": {
        "execution": {
          "iopub.execute_input": "2024-03-13T12:31:36.223120Z",
          "iopub.status.busy": "2024-03-13T12:31:36.222561Z",
          "iopub.status.idle": "2024-03-13T12:31:44.599133Z",
          "shell.execute_reply": "2024-03-13T12:31:44.597894Z"
        }
      },
      "outputs": [],
      "source": [
        "results = linker.inference.predict(threshold_match_probability=0.9)"
      ]
    },
    {
      "cell_type": "code",
      "execution_count": 11,
      "metadata": {
        "execution": {
          "iopub.execute_input": "2024-03-13T12:31:44.605970Z",
          "iopub.status.busy": "2024-03-13T12:31:44.605505Z",
          "iopub.status.idle": "2024-03-13T12:31:44.750590Z",
          "shell.execute_reply": "2024-03-13T12:31:44.749429Z"
        },
        "tags": []
      },
      "outputs": [
        {
          "data": {
            "text/html": [
              "<div>\n",
              "<style scoped>\n",
              "    .dataframe tbody tr th:only-of-type {\n",
              "        vertical-align: middle;\n",
              "    }\n",
              "\n",
              "    .dataframe tbody tr th {\n",
              "        vertical-align: top;\n",
              "    }\n",
              "\n",
              "    .dataframe thead th {\n",
              "        text-align: right;\n",
              "    }\n",
              "</style>\n",
              "<table border=\"1\" class=\"dataframe\">\n",
              "  <thead>\n",
              "    <tr style=\"text-align: right;\">\n",
              "      <th></th>\n",
              "      <th>match_weight</th>\n",
              "      <th>match_probability</th>\n",
              "      <th>unique_id_l</th>\n",
              "      <th>unique_id_r</th>\n",
              "      <th>first_name_l</th>\n",
              "      <th>first_name_r</th>\n",
              "      <th>gamma_first_name</th>\n",
              "      <th>tf_first_name_l</th>\n",
              "      <th>tf_first_name_r</th>\n",
              "      <th>bf_first_name</th>\n",
              "      <th>...</th>\n",
              "      <th>bf_city</th>\n",
              "      <th>bf_tf_adj_city</th>\n",
              "      <th>email_l</th>\n",
              "      <th>email_r</th>\n",
              "      <th>gamma_email</th>\n",
              "      <th>tf_email_l</th>\n",
              "      <th>tf_email_r</th>\n",
              "      <th>bf_email</th>\n",
              "      <th>bf_tf_adj_email</th>\n",
              "      <th>match_key</th>\n",
              "    </tr>\n",
              "  </thead>\n",
              "  <tbody>\n",
              "    <tr>\n",
              "      <th>0</th>\n",
              "      <td>14.992986</td>\n",
              "      <td>0.999969</td>\n",
              "      <td>192</td>\n",
              "      <td>194</td>\n",
              "      <td>Isla</td>\n",
              "      <td>Isla</td>\n",
              "      <td>4</td>\n",
              "      <td>0.009</td>\n",
              "      <td>0.009</td>\n",
              "      <td>11.371023</td>\n",
              "      <td>...</td>\n",
              "      <td>0.626291</td>\n",
              "      <td>1.000000</td>\n",
              "      <td>iprice@carr.com</td>\n",
              "      <td>iprice@carr.com</td>\n",
              "      <td>4</td>\n",
              "      <td>0.004</td>\n",
              "      <td>0.004</td>\n",
              "      <td>8.473825</td>\n",
              "      <td>11.429930</td>\n",
              "      <td>0</td>\n",
              "    </tr>\n",
              "    <tr>\n",
              "      <th>1</th>\n",
              "      <td>10.461631</td>\n",
              "      <td>0.999291</td>\n",
              "      <td>303</td>\n",
              "      <td>304</td>\n",
              "      <td>Charlie</td>\n",
              "      <td>Charlie</td>\n",
              "      <td>4</td>\n",
              "      <td>0.006</td>\n",
              "      <td>0.006</td>\n",
              "      <td>11.371023</td>\n",
              "      <td>...</td>\n",
              "      <td>5.870654</td>\n",
              "      <td>2.159371</td>\n",
              "      <td>candrews15@thompson.net</td>\n",
              "      <td>NaN</td>\n",
              "      <td>0</td>\n",
              "      <td>0.002</td>\n",
              "      <td>0.211</td>\n",
              "      <td>0.349824</td>\n",
              "      <td>1.000000</td>\n",
              "      <td>0</td>\n",
              "    </tr>\n",
              "    <tr>\n",
              "      <th>2</th>\n",
              "      <td>15.283680</td>\n",
              "      <td>0.999975</td>\n",
              "      <td>79</td>\n",
              "      <td>84</td>\n",
              "      <td>Ryan</td>\n",
              "      <td>Ryan</td>\n",
              "      <td>4</td>\n",
              "      <td>0.005</td>\n",
              "      <td>0.005</td>\n",
              "      <td>11.371023</td>\n",
              "      <td>...</td>\n",
              "      <td>0.626291</td>\n",
              "      <td>1.000000</td>\n",
              "      <td>r.cole1@ramirez-anthony.com</td>\n",
              "      <td>r.cole1@ramtrez-anihony.com</td>\n",
              "      <td>3</td>\n",
              "      <td>0.005</td>\n",
              "      <td>0.001</td>\n",
              "      <td>210.647668</td>\n",
              "      <td>1.000000</td>\n",
              "      <td>0</td>\n",
              "    </tr>\n",
              "    <tr>\n",
              "      <th>3</th>\n",
              "      <td>7.419792</td>\n",
              "      <td>0.994194</td>\n",
              "      <td>111</td>\n",
              "      <td>113</td>\n",
              "      <td>Oliver</td>\n",
              "      <td>Oliver</td>\n",
              "      <td>4</td>\n",
              "      <td>0.028</td>\n",
              "      <td>0.028</td>\n",
              "      <td>11.371023</td>\n",
              "      <td>...</td>\n",
              "      <td>5.870654</td>\n",
              "      <td>0.411903</td>\n",
              "      <td>NaN</td>\n",
              "      <td>NaN</td>\n",
              "      <td>4</td>\n",
              "      <td>0.211</td>\n",
              "      <td>0.211</td>\n",
              "      <td>8.473825</td>\n",
              "      <td>0.216681</td>\n",
              "      <td>0</td>\n",
              "    </tr>\n",
              "    <tr>\n",
              "      <th>4</th>\n",
              "      <td>4.030262</td>\n",
              "      <td>0.942327</td>\n",
              "      <td>220</td>\n",
              "      <td>222</td>\n",
              "      <td>Logan</td>\n",
              "      <td>Logan</td>\n",
              "      <td>4</td>\n",
              "      <td>0.010</td>\n",
              "      <td>0.010</td>\n",
              "      <td>11.371023</td>\n",
              "      <td>...</td>\n",
              "      <td>0.626291</td>\n",
              "      <td>1.000000</td>\n",
              "      <td>l.feruson46@sahh.com</td>\n",
              "      <td>l.ferguson46@shah.com</td>\n",
              "      <td>2</td>\n",
              "      <td>0.001</td>\n",
              "      <td>0.002</td>\n",
              "      <td>252.479846</td>\n",
              "      <td>1.000000</td>\n",
              "      <td>0</td>\n",
              "    </tr>\n",
              "  </tbody>\n",
              "</table>\n",
              "<p>5 rows × 37 columns</p>\n",
              "</div>"
            ],
            "text/plain": [
              "   match_weight  match_probability  unique_id_l  unique_id_r first_name_l  \\\n",
              "0     14.992986           0.999969          192          194         Isla   \n",
              "1     10.461631           0.999291          303          304      Charlie   \n",
              "2     15.283680           0.999975           79           84         Ryan   \n",
              "3      7.419792           0.994194          111          113       Oliver   \n",
              "4      4.030262           0.942327          220          222        Logan   \n",
              "\n",
              "  first_name_r  gamma_first_name  tf_first_name_l  tf_first_name_r  \\\n",
              "0         Isla                 4            0.009            0.009   \n",
              "1      Charlie                 4            0.006            0.006   \n",
              "2         Ryan                 4            0.005            0.005   \n",
              "3       Oliver                 4            0.028            0.028   \n",
              "4        Logan                 4            0.010            0.010   \n",
              "\n",
              "   bf_first_name  ...   bf_city bf_tf_adj_city                      email_l  \\\n",
              "0      11.371023  ...  0.626291       1.000000              iprice@carr.com   \n",
              "1      11.371023  ...  5.870654       2.159371      candrews15@thompson.net   \n",
              "2      11.371023  ...  0.626291       1.000000  r.cole1@ramirez-anthony.com   \n",
              "3      11.371023  ...  5.870654       0.411903                          NaN   \n",
              "4      11.371023  ...  0.626291       1.000000         l.feruson46@sahh.com   \n",
              "\n",
              "                       email_r  gamma_email  tf_email_l  tf_email_r  \\\n",
              "0              iprice@carr.com            4       0.004       0.004   \n",
              "1                          NaN            0       0.002       0.211   \n",
              "2  r.cole1@ramtrez-anihony.com            3       0.005       0.001   \n",
              "3                          NaN            4       0.211       0.211   \n",
              "4        l.ferguson46@shah.com            2       0.001       0.002   \n",
              "\n",
              "     bf_email bf_tf_adj_email match_key  \n",
              "0    8.473825       11.429930         0  \n",
              "1    0.349824        1.000000         0  \n",
              "2  210.647668        1.000000         0  \n",
              "3    8.473825        0.216681         0  \n",
              "4  252.479846        1.000000         0  \n",
              "\n",
              "[5 rows x 37 columns]"
            ]
          },
          "execution_count": 11,
          "metadata": {},
          "output_type": "execute_result"
        }
      ],
      "source": [
        "results.as_pandas_dataframe(limit=5)"
      ]
    }
  ],
  "metadata": {
    "kernelspec": {
      "display_name": "Python 3 (ipykernel)",
      "language": "python",
      "name": "python3"
    },
    "language_info": {
      "codemirror_mode": {
        "name": "ipython",
        "version": 3
      },
      "file_extension": ".py",
      "mimetype": "text/x-python",
      "name": "python",
      "nbconvert_exporter": "python",
      "pygments_lexer": "ipython3",
      "version": "3.10.8"
    }
  },
  "nbformat": 4,
  "nbformat_minor": 4
}
