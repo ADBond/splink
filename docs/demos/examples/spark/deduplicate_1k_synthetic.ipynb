{
 "cells": [
  {
   "attachments": {},
   "cell_type": "markdown",
   "metadata": {},
   "source": [
    "## Linking in Spark\n"
   ]
  },
  {
   "cell_type": "markdown",
   "metadata": {},
   "source": [
    "<a target=\"_blank\" href=\"https://colab.research.google.com/github/moj-analytical-services/splink/blob/splink4_dev/docs/demos/examples/spark/deduplicate_1k_synthetic.ipynb\">\n",
    "  <img src=\"https://colab.research.google.com/assets/colab-badge.svg\" alt=\"Open In Colab\"/>\n",
    "</a>\n"
   ]
  },
  {
   "cell_type": "code",
   "execution_count": 1,
   "metadata": {
    "execution": {
     "iopub.execute_input": "2024-03-13T12:29:57.518197Z",
     "iopub.status.busy": "2024-03-13T12:29:57.517750Z",
     "iopub.status.idle": "2024-03-13T12:29:57.523242Z",
     "shell.execute_reply": "2024-03-13T12:29:57.522525Z"
    }
   },
   "source": [
    "# Uncomment and run this cell if you're running in Google Colab.\n",
    "# !pip install git+https://github.com/moj-analytical-services/splink.git@splink4_dev\n",
    "# !pip install pyspark"
   ],
   "outputs": []
  },
  {
   "cell_type": "code",
   "execution_count": 2,
   "metadata": {
    "execution": {
     "iopub.execute_input": "2024-03-13T12:29:57.527366Z",
     "iopub.status.busy": "2024-03-13T12:29:57.527045Z",
     "iopub.status.idle": "2024-03-13T12:30:42.348824Z",
     "shell.execute_reply": "2024-03-13T12:30:42.347900Z"
    }
   },
   "source": [
    "from splink.spark.jar_location import similarity_jar_location\n",
    "\n",
    "from pyspark import SparkContext, SparkConf\n",
    "from pyspark.sql import SparkSession\n",
    "\n",
    "conf = SparkConf()\n",
    "# This parallelism setting is only suitable for a small toy example\n",
    "conf.set(\"spark.driver.memory\", \"12g\")\n",
    "conf.set(\"spark.default.parallelism\", \"16\")\n",
    "\n",
    "\n",
    "# Add custom similarity functions, which are bundled with Splink\n",
    "# documented here: https://github.com/moj-analytical-services/splink_scalaudfs\n",
    "path = similarity_jar_location()\n",
    "conf.set(\"spark.jars\", path)\n",
    "\n",
    "sc = SparkContext.getOrCreate(conf=conf)\n",
    "\n",
    "spark = SparkSession(sc)\n",
    "spark.sparkContext.setCheckpointDir(\"./tmp_checkpoints\")"
   ],
   "outputs": []
  },
  {
   "cell_type": "code",
   "execution_count": 3,
   "metadata": {
    "execution": {
     "iopub.execute_input": "2024-03-13T12:30:42.353970Z",
     "iopub.status.busy": "2024-03-13T12:30:42.353260Z",
     "iopub.status.idle": "2024-03-13T12:30:42.358982Z",
     "shell.execute_reply": "2024-03-13T12:30:42.358209Z"
    }
   },
   "source": [
    "# Disable warnings for pyspark - you don't need to include this\n",
    "import warnings\n",
    "\n",
    "spark.sparkContext.setLogLevel(\"ERROR\")\n",
    "warnings.simplefilter(\"ignore\", UserWarning)"
   ],
   "outputs": []
  },
  {
   "cell_type": "code",
   "execution_count": 4,
   "metadata": {
    "execution": {
     "iopub.execute_input": "2024-03-13T12:30:42.363648Z",
     "iopub.status.busy": "2024-03-13T12:30:42.363227Z",
     "iopub.status.idle": "2024-03-13T12:30:45.734688Z",
     "shell.execute_reply": "2024-03-13T12:30:45.733419Z"
    }
   },
   "source": [
    "from splink import splink_datasets\n",
    "\n",
    "pandas_df = splink_datasets.fake_1000\n",
    "\n",
    "df = spark.createDataFrame(pandas_df)"
   ],
   "outputs": []
  },
  {
   "cell_type": "code",
   "execution_count": 5,
   "metadata": {
    "execution": {
     "iopub.execute_input": "2024-03-13T12:30:45.740685Z",
     "iopub.status.busy": "2024-03-13T12:30:45.740314Z",
     "iopub.status.idle": "2024-03-13T12:30:45.773778Z",
     "shell.execute_reply": "2024-03-13T12:30:45.772855Z"
    }
   },
   "source": [
    "import splink.comparison_library as cl\n",
    "import splink.comparison_template_library as ctl\n",
    "\n",
    "from splink import Linker, SparkAPI, block_on, SettingsCreator\n",
    "\n",
    "settings = SettingsCreator(\n",
    "    link_type=\"dedupe_only\",\n",
    "    comparisons=[\n",
    "        ctl.NameComparison(\"first_name\"),\n",
    "        ctl.NameComparison(\"surname\"),\n",
    "        # ctl.date_comparison(\"dob\", cast_strings_to_date=True),\n",
    "        # TOD=Fix date comparison\n",
    "        ctl.DateComparison(\n",
    "            \"dob\",\n",
    "            input_is_string=True,\n",
    "            datetime_metrics=[\"month\", \"year\", \"year\"],\n",
    "            datetime_thresholds=[1, 1, 10],\n",
    "            datetime_format=\"%Y%m%d\",\n",
    "        ),\n",
    "        cl.ExactMatch(\"city\").configure(term_frequency_adjustments=True),\n",
    "        ctl.EmailComparison(\"email\", include_username_fuzzy_level=False),\n",
    "    ],\n",
    "    blocking_rules_to_generate_predictions=[\n",
    "        block_on(\"first_name\"),\n",
    "        \"l.surname = r.surname\",  # alternatively, you can write BRs in their SQL form\n",
    "    ],\n",
    "    retain_intermediate_calculation_columns=True,\n",
    "    em_convergence=0.01,\n",
    ")"
   ],
   "outputs": []
  },
  {
   "cell_type": "code",
   "execution_count": 6,
   "metadata": {
    "execution": {
     "iopub.execute_input": "2024-03-13T12:30:45.779194Z",
     "iopub.status.busy": "2024-03-13T12:30:45.778688Z",
     "iopub.status.idle": "2024-03-13T12:30:57.746806Z",
     "shell.execute_reply": "2024-03-13T12:30:57.744480Z"
    }
   },
   "source": [
    "linker = Linker(df, settings, database_api=SparkAPI(spark_session=spark))\n",
    "deterministic_rules = [\n",
    "    \"l.first_name = r.first_name and levenshtein(r.dob, l.dob) <= 1\",\n",
    "    \"l.surname = r.surname and levenshtein(r.dob, l.dob) <= 1\",\n",
    "    \"l.first_name = r.first_name and levenshtein(r.surname, l.surname) <= 2\",\n",
    "    \"l.email = r.email\",\n",
    "]\n",
    "\n",
    "linker.estimate_probability_two_random_records_match(deterministic_rules, recall=0.6)"
   ],
   "outputs": []
  },
  {
   "cell_type": "code",
   "execution_count": 7,
   "metadata": {
    "execution": {
     "iopub.execute_input": "2024-03-13T12:30:57.757986Z",
     "iopub.status.busy": "2024-03-13T12:30:57.757315Z",
     "iopub.status.idle": "2024-03-13T12:31:17.080600Z",
     "shell.execute_reply": "2024-03-13T12:31:17.079503Z"
    }
   },
   "source": [
    "linker.estimate_u_using_random_sampling(max_pairs=5e5)"
   ],
   "outputs": []
  },
  {
   "cell_type": "code",
   "execution_count": 8,
   "metadata": {
    "execution": {
     "iopub.execute_input": "2024-03-13T12:31:17.085610Z",
     "iopub.status.busy": "2024-03-13T12:31:17.085246Z",
     "iopub.status.idle": "2024-03-13T12:31:36.217869Z",
     "shell.execute_reply": "2024-03-13T12:31:36.217063Z"
    }
   },
   "source": [
    "training_blocking_rule = \"l.first_name = r.first_name and l.surname = r.surname\"\n",
    "training_session_fname_sname = (\n",
    "    linker.estimate_parameters_using_expectation_maximisation(training_blocking_rule)\n",
    ")\n",
    "\n",
    "training_blocking_rule = \"l.dob = r.dob\"\n",
    "training_session_dob = linker.estimate_parameters_using_expectation_maximisation(\n",
    "    training_blocking_rule\n",
    ")"
   ],
   "outputs": []
  },
  {
   "cell_type": "code",
   "execution_count": 9,
   "metadata": {
    "execution": {
     "iopub.execute_input": "2024-03-13T12:31:36.223120Z",
     "iopub.status.busy": "2024-03-13T12:31:36.222561Z",
     "iopub.status.idle": "2024-03-13T12:31:44.599133Z",
     "shell.execute_reply": "2024-03-13T12:31:44.597894Z"
    }
   },
   "source": [
    "results = linker.predict(threshold_match_probability=0.9)"
   ],
   "outputs": []
  },
  {
   "cell_type": "code",
   "execution_count": 10,
   "metadata": {
    "execution": {
     "iopub.execute_input": "2024-03-13T12:31:44.605970Z",
     "iopub.status.busy": "2024-03-13T12:31:44.605505Z",
     "iopub.status.idle": "2024-03-13T12:31:44.750590Z",
     "shell.execute_reply": "2024-03-13T12:31:44.749429Z"
    },
    "tags": []
   },
   "source": [
    "results.as_pandas_dataframe(limit=5)"
   ],
   "outputs": []
  }
 ],
 "metadata": {
  "kernelspec": {
   "display_name": "Python 3 (ipykernel)",
   "language": "python",
   "name": "python3"
  },
  "language_info": {
   "codemirror_mode": {
    "name": "ipython",
    "version": 3
   },
   "file_extension": ".py",
   "mimetype": "text/x-python",
   "name": "python",
   "nbconvert_exporter": "python",
   "pygments_lexer": "ipython3",
   "version": "3.10.8"
  }
 },
 "nbformat": 4,
 "nbformat_minor": 4
}
