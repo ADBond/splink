{
  "cells": [
    {
      "attachments": {},
      "cell_type": "markdown",
      "metadata": {},
      "source": [
        "## Linking in Spark\n"
      ]
    },
    {
      "cell_type": "markdown",
      "metadata": {},
      "source": [
        "<a target=\"_blank\" href=\"https://colab.research.google.com/github/moj-analytical-services/splink/blob/splink4_examples_notebooks/docs/demos/examples/spark/deduplicate_1k_synthetic.ipynb\">\n",
        "  <img src=\"https://colab.research.google.com/assets/colab-badge.svg\" alt=\"Open In Colab\"/>\n",
        "</a>\n"
      ]
    },
    {
      "cell_type": "code",
      "execution_count": 1,
      "metadata": {},
      "outputs": [],
      "source": [
        "# Uncomment and run this cell if you're running in Google Colab.\n",
        "# !pip install git+https://github.com/moj-analytical-services/splink.git@splink4_examples_notebooks\n",
        "# !pip install pyspark"
      ]
    },
    {
      "cell_type": "code",
      "execution_count": 2,
      "metadata": {},
      "outputs": [
        {
          "name": "stderr",
          "output_type": "stream",
          "text": [
            "24/02/13 16:46:18 WARN NativeCodeLoader: Unable to load native-hadoop library for your platform... using builtin-java classes where applicable\n",
            "Setting default log level to \"WARN\".\n",
            "To adjust logging level use sc.setLogLevel(newLevel). For SparkR, use setLogLevel(newLevel).\n"
          ]
        }
      ],
      "source": [
        "from splink.spark.jar_location import similarity_jar_location\n",
        "\n",
        "from pyspark import SparkContext, SparkConf\n",
        "from pyspark.sql import SparkSession\n",
        "from pyspark.sql import types\n",
        "\n",
        "conf = SparkConf()\n",
        "# This parallelism setting is only suitable for a small toy example\n",
        "conf.set(\"spark.driver.memory\", \"12g\")\n",
        "conf.set(\"spark.default.parallelism\", \"16\")\n",
        "\n",
        "\n",
        "# Add custom similarity functions, which are bundled with Splink\n",
        "# documented here: https://github.com/moj-analytical-services/splink_scalaudfs\n",
        "path = similarity_jar_location()\n",
        "conf.set(\"spark.jars\", path)\n",
        "\n",
        "sc = SparkContext.getOrCreate(conf=conf)\n",
        "\n",
        "spark = SparkSession(sc)\n",
        "spark.sparkContext.setCheckpointDir(\"./tmp_checkpoints\")"
      ]
    },
    {
      "cell_type": "code",
      "execution_count": 7,
      "metadata": {},
      "outputs": [],
      "source": [
        "# Disable warnings for pyspark - you don't need to include this\n",
        "import warnings\n",
        "\n",
        "spark.sparkContext.setLogLevel(\"ERROR\")\n",
        "warnings.simplefilter(\"ignore\", UserWarning)"
      ]
    },
    {
      "cell_type": "code",
      "execution_count": 8,
      "metadata": {},
      "outputs": [],
      "source": [
        "from splink.datasets import splink_datasets\n",
        "\n",
        "pandas_df = splink_datasets.fake_1000\n",
        "\n",
        "df = spark.createDataFrame(pandas_df)"
      ]
    },
    {
      "cell_type": "code",
      "execution_count": 9,
      "metadata": {},
      "outputs": [],
      "source": [
        "import splink.comparison_library as cl\n",
        "import splink.comparison_template_library as ctl\n",
        "from splink.blocking_rule_library import block_on\n",
        "from splink.settings_creator import SettingsCreator\n",
        "\n",
        "settings = SettingsCreator(\n",
        "    link_type=\"dedupe_only\",\n",
        "    comparisons=[\n",
        "        ctl.NameComparison(\"first_name\"),\n",
        "        ctl.NameComparison(\"surname\"),\n",
        "        # ctl.date_comparison(\"dob\", cast_strings_to_date=True),\n",
        "        # TOD=Fix date comparison\n",
        "        ctl.DateComparison(\n",
        "            \"dob\",\n",
        "            input_is_string=True,\n",
        "            datetime_metrics=[\"month\", \"year\", \"year\"],\n",
        "            datetime_thresholds=[1, 1, 10],\n",
        "            datetime_format=\"%Y%m%d\",\n",
        "        ),\n",
        "        cl.ExactMatch(\"city\").configure(term_frequency_adjustments=True),\n",
        "        ctl.EmailComparison(\"email\", include_username_fuzzy_level=False),\n",
        "    ],\n",
        "    blocking_rules_to_generate_predictions=[\n",
        "        block_on(\"first_name\"),\n",
        "        \"l.surname = r.surname\",  # alternatively, you can write BRs in their SQL form\n",
        "    ],\n",
        "    retain_intermediate_calculation_columns=True,\n",
        "    em_convergence=0.01,\n",
        ")"
      ]
    },
    {
      "cell_type": "code",
      "execution_count": 11,
      "metadata": {},
      "outputs": [
        {
          "name": "stderr",
          "output_type": "stream",
          "text": [
            "Probability two random records match is estimated to be  0.0806.                \n",
            "This means that amongst all possible pairwise record comparisons, one in 12.41 are expected to match.  With 499,500 total possible comparisons, we expect a total of around 40,246.67 matching pairs\n"
          ]
        }
      ],
      "source": [
        "from splink.linker import Linker\n",
        "from splink.spark.database_api import DuckDBAPI\n",
        "\n",
        "linker = Linker(df, settings, database_api=SparkAPI(spark_session=spark))\n",
        "deterministic_rules = [\n",
        "    \"l.first_name = r.first_name and levenshtein(r.dob, l.dob) <= 1\",\n",
        "    \"l.surname = r.surname and levenshtein(r.dob, l.dob) <= 1\",\n",
        "    \"l.first_name = r.first_name and levenshtein(r.surname, l.surname) <= 2\",\n",
        "    \"l.email = r.email\",\n",
        "]\n",
        "\n",
        "linker.estimate_probability_two_random_records_match(deterministic_rules, recall=0.6)"
      ]
    },
    {
      "cell_type": "code",
      "execution_count": 12,
      "metadata": {},
      "outputs": [
        {
          "name": "stderr",
          "output_type": "stream",
          "text": [
            "----- Estimating u probabilities using random sampling -----\n",
            "                                                                                \n",
            "Estimated u probabilities using random sampling\n",
            "\n",
            "Your model is not yet fully trained. Missing estimates for:\n",
            "    - first_name (no m values are trained).\n",
            "    - surname (no m values are trained).\n",
            "    - dob (no m values are trained).\n",
            "    - city (no m values are trained).\n",
            "    - email (no m values are trained).\n"
          ]
        }
      ],
      "source": [
        "linker.estimate_u_using_random_sampling(max_pairs=5e5)"
      ]
    },
    {
      "cell_type": "code",
      "execution_count": 13,
      "metadata": {},
      "outputs": [
        {
          "name": "stderr",
          "output_type": "stream",
          "text": [
            "\n",
            "----- Starting EM training session -----\n",
            "\n",
            "Estimating the m probabilities of the model by blocking on:\n",
            "l.first_name = r.first_name and l.surname = r.surname\n",
            "\n",
            "Parameter estimates will be made for the following comparison(s):\n",
            "    - dob\n",
            "    - city\n",
            "    - email\n",
            "\n",
            "Parameter estimates cannot be made for the following comparison(s) since they are used in the blocking rules: \n",
            "    - first_name\n",
            "    - surname\n"
          ]
        },
        {
          "name": "stderr",
          "output_type": "stream",
          "text": [
            "                                                                                \n",
            "Iteration 1: Largest change in params was -0.697 in probability_two_random_records_match\n",
            "Iteration 2: Largest change in params was 0.0594 in the m_probability of email, level `All other comparisons`\n",
            "Iteration 3: Largest change in params was 0.0201 in the m_probability of email, level `All other comparisons`\n",
            "Iteration 4: Largest change in params was 0.00733 in the m_probability of email, level `All other comparisons`\n",
            "\n",
            "EM converged after 4 iterations\n",
            "\n",
            "Your model is not yet fully trained. Missing estimates for:\n",
            "    - first_name (no m values are trained).\n",
            "    - surname (no m values are trained).\n",
            "\n",
            "----- Starting EM training session -----\n",
            "\n",
            "Estimating the m probabilities of the model by blocking on:\n",
            "l.dob = r.dob\n",
            "\n",
            "Parameter estimates will be made for the following comparison(s):\n",
            "    - first_name\n",
            "    - surname\n",
            "    - city\n",
            "    - email\n",
            "\n",
            "Parameter estimates cannot be made for the following comparison(s) since they are used in the blocking rules: \n",
            "    - dob\n",
            "                                                                                \n",
            "Iteration 1: Largest change in params was -0.541 in the m_probability of surname, level `Exact match on surname`\n",
            "Iteration 2: Largest change in params was 0.125 in probability_two_random_records_match\n",
            "Iteration 3: Largest change in params was 0.043 in probability_two_random_records_match\n",
            "Iteration 4: Largest change in params was 0.0178 in probability_two_random_records_match\n",
            "Iteration 5: Largest change in params was 0.00898 in probability_two_random_records_match\n",
            "\n",
            "EM converged after 5 iterations\n",
            "\n",
            "Your model is fully trained. All comparisons have at least one estimate for their m and u values\n"
          ]
        }
      ],
      "source": [
        "training_blocking_rule = \"l.first_name = r.first_name and l.surname = r.surname\"\n",
        "training_session_fname_sname = (\n",
        "    linker.estimate_parameters_using_expectation_maximisation(training_blocking_rule)\n",
        ")\n",
        "\n",
        "training_blocking_rule = \"l.dob = r.dob\"\n",
        "training_session_dob = linker.estimate_parameters_using_expectation_maximisation(\n",
        "    training_blocking_rule\n",
        ")"
      ]
    },
    {
      "cell_type": "code",
      "execution_count": 14,
      "metadata": {},
      "outputs": [
        {
          "name": "stderr",
          "output_type": "stream",
          "text": [
            "                                                                                \r"
          ]
        }
      ],
      "source": [
        "results = linker.predict(threshold_match_probability=0.9)"
      ]
    },
    {
      "cell_type": "code",
      "execution_count": 15,
      "metadata": {
        "tags": []
      },
      "outputs": [
        {
          "data": {
            "text/html": [
              "<div>\n",
              "<style scoped>\n",
              "    .dataframe tbody tr th:only-of-type {\n",
              "        vertical-align: middle;\n",
              "    }\n",
              "\n",
              "    .dataframe tbody tr th {\n",
              "        vertical-align: top;\n",
              "    }\n",
              "\n",
              "    .dataframe thead th {\n",
              "        text-align: right;\n",
              "    }\n",
              "</style>\n",
              "<table border=\"1\" class=\"dataframe\">\n",
              "  <thead>\n",
              "    <tr style=\"text-align: right;\">\n",
              "      <th></th>\n",
              "      <th>match_weight</th>\n",
              "      <th>match_probability</th>\n",
              "      <th>unique_id_l</th>\n",
              "      <th>unique_id_r</th>\n",
              "      <th>first_name_l</th>\n",
              "      <th>first_name_r</th>\n",
              "      <th>gamma_first_name</th>\n",
              "      <th>bf_first_name</th>\n",
              "      <th>surname_l</th>\n",
              "      <th>surname_r</th>\n",
              "      <th>...</th>\n",
              "      <th>gamma_city</th>\n",
              "      <th>tf_city_l</th>\n",
              "      <th>tf_city_r</th>\n",
              "      <th>bf_city</th>\n",
              "      <th>bf_tf_adj_city</th>\n",
              "      <th>email_l</th>\n",
              "      <th>email_r</th>\n",
              "      <th>gamma_email</th>\n",
              "      <th>bf_email</th>\n",
              "      <th>match_key</th>\n",
              "    </tr>\n",
              "  </thead>\n",
              "  <tbody>\n",
              "    <tr>\n",
              "      <th>0</th>\n",
              "      <td>16.438427</td>\n",
              "      <td>0.999989</td>\n",
              "      <td>552</td>\n",
              "      <td>553</td>\n",
              "      <td>Riley</td>\n",
              "      <td>Riley</td>\n",
              "      <td>3</td>\n",
              "      <td>11.445406</td>\n",
              "      <td>Kiing</td>\n",
              "      <td>King</td>\n",
              "      <td>...</td>\n",
              "      <td>0</td>\n",
              "      <td>0.016</td>\n",
              "      <td>0.187</td>\n",
              "      <td>0.624766</td>\n",
              "      <td>1.000000</td>\n",
              "      <td>riley.k@zavala.com</td>\n",
              "      <td>riley.k@zavala.com</td>\n",
              "      <td>3</td>\n",
              "      <td>8.414103</td>\n",
              "      <td>0</td>\n",
              "    </tr>\n",
              "    <tr>\n",
              "      <th>1</th>\n",
              "      <td>8.580023</td>\n",
              "      <td>0.997394</td>\n",
              "      <td>415</td>\n",
              "      <td>418</td>\n",
              "      <td>Brown</td>\n",
              "      <td>Brown</td>\n",
              "      <td>3</td>\n",
              "      <td>11.445406</td>\n",
              "      <td>Florence</td>\n",
              "      <td>Florence</td>\n",
              "      <td>...</td>\n",
              "      <td>0</td>\n",
              "      <td>0.173</td>\n",
              "      <td>0.001</td>\n",
              "      <td>0.624766</td>\n",
              "      <td>1.000000</td>\n",
              "      <td>fb@reese.com</td>\n",
              "      <td>f@b@reese.com</td>\n",
              "      <td>1</td>\n",
              "      <td>252.564307</td>\n",
              "      <td>0</td>\n",
              "    </tr>\n",
              "    <tr>\n",
              "      <th>2</th>\n",
              "      <td>11.468454</td>\n",
              "      <td>0.999647</td>\n",
              "      <td>129</td>\n",
              "      <td>131</td>\n",
              "      <td>Matilda</td>\n",
              "      <td>Matilda</td>\n",
              "      <td>3</td>\n",
              "      <td>11.445406</td>\n",
              "      <td>Barker</td>\n",
              "      <td>NaN</td>\n",
              "      <td>...</td>\n",
              "      <td>1</td>\n",
              "      <td>0.012</td>\n",
              "      <td>0.012</td>\n",
              "      <td>5.890519</td>\n",
              "      <td>5.938272</td>\n",
              "      <td>m.b@bell-brown.com</td>\n",
              "      <td>m.b@bell-brown.com</td>\n",
              "      <td>3</td>\n",
              "      <td>8.414103</td>\n",
              "      <td>0</td>\n",
              "    </tr>\n",
              "    <tr>\n",
              "      <th>3</th>\n",
              "      <td>14.659426</td>\n",
              "      <td>0.999961</td>\n",
              "      <td>244</td>\n",
              "      <td>245</td>\n",
              "      <td>Joshua</td>\n",
              "      <td>Joshua</td>\n",
              "      <td>3</td>\n",
              "      <td>11.445406</td>\n",
              "      <td>Williams</td>\n",
              "      <td>NaN</td>\n",
              "      <td>...</td>\n",
              "      <td>1</td>\n",
              "      <td>0.014</td>\n",
              "      <td>0.014</td>\n",
              "      <td>5.890519</td>\n",
              "      <td>5.089947</td>\n",
              "      <td>j.williams@levine-johnson.com</td>\n",
              "      <td>j.williams@levine-johnson.com</td>\n",
              "      <td>3</td>\n",
              "      <td>8.414103</td>\n",
              "      <td>0</td>\n",
              "    </tr>\n",
              "    <tr>\n",
              "      <th>4</th>\n",
              "      <td>21.093968</td>\n",
              "      <td>1.000000</td>\n",
              "      <td>196</td>\n",
              "      <td>198</td>\n",
              "      <td>Arthur</td>\n",
              "      <td>Arthur</td>\n",
              "      <td>3</td>\n",
              "      <td>11.445406</td>\n",
              "      <td>Both</td>\n",
              "      <td>Booth</td>\n",
              "      <td>...</td>\n",
              "      <td>0</td>\n",
              "      <td>0.017</td>\n",
              "      <td>0.187</td>\n",
              "      <td>0.624766</td>\n",
              "      <td>1.000000</td>\n",
              "      <td>arthurbooth25@romero-onovan.com</td>\n",
              "      <td>arthurbooth25@romero-donovan.com</td>\n",
              "      <td>2</td>\n",
              "      <td>212.063153</td>\n",
              "      <td>0</td>\n",
              "    </tr>\n",
              "  </tbody>\n",
              "</table>\n",
              "<p>5 rows × 28 columns</p>\n",
              "</div>"
            ],
            "text/plain": [
              "   match_weight  match_probability  unique_id_l  unique_id_r first_name_l  \\\n",
              "0     16.438427           0.999989          552          553        Riley   \n",
              "1      8.580023           0.997394          415          418        Brown   \n",
              "2     11.468454           0.999647          129          131      Matilda   \n",
              "3     14.659426           0.999961          244          245       Joshua   \n",
              "4     21.093968           1.000000          196          198       Arthur   \n",
              "\n",
              "  first_name_r  gamma_first_name  bf_first_name surname_l surname_r  ...  \\\n",
              "0        Riley                 3      11.445406     Kiing      King  ...   \n",
              "1        Brown                 3      11.445406  Florence  Florence  ...   \n",
              "2      Matilda                 3      11.445406    Barker       NaN  ...   \n",
              "3       Joshua                 3      11.445406  Williams       NaN  ...   \n",
              "4       Arthur                 3      11.445406      Both     Booth  ...   \n",
              "\n",
              "   gamma_city  tf_city_l tf_city_r   bf_city  bf_tf_adj_city  \\\n",
              "0           0      0.016     0.187  0.624766        1.000000   \n",
              "1           0      0.173     0.001  0.624766        1.000000   \n",
              "2           1      0.012     0.012  5.890519        5.938272   \n",
              "3           1      0.014     0.014  5.890519        5.089947   \n",
              "4           0      0.017     0.187  0.624766        1.000000   \n",
              "\n",
              "                           email_l                           email_r  \\\n",
              "0               riley.k@zavala.com                riley.k@zavala.com   \n",
              "1                     fb@reese.com                     f@b@reese.com   \n",
              "2               m.b@bell-brown.com                m.b@bell-brown.com   \n",
              "3    j.williams@levine-johnson.com     j.williams@levine-johnson.com   \n",
              "4  arthurbooth25@romero-onovan.com  arthurbooth25@romero-donovan.com   \n",
              "\n",
              "  gamma_email    bf_email  match_key  \n",
              "0           3    8.414103          0  \n",
              "1           1  252.564307          0  \n",
              "2           3    8.414103          0  \n",
              "3           3    8.414103          0  \n",
              "4           2  212.063153          0  \n",
              "\n",
              "[5 rows x 28 columns]"
            ]
          },
          "execution_count": 15,
          "metadata": {},
          "output_type": "execute_result"
        }
      ],
      "source": [
        "results.as_pandas_dataframe(limit=5)"
      ]
    }
  ],
  "metadata": {
    "kernelspec": {
      "display_name": "Python 3 (ipykernel)",
      "language": "python",
      "name": "python3"
    },
    "language_info": {
      "codemirror_mode": {
        "name": "ipython",
        "version": 3
      },
      "file_extension": ".py",
      "mimetype": "text/x-python",
      "name": "python",
      "nbconvert_exporter": "python",
      "pygments_lexer": "ipython3",
      "version": "3.11.7"
    }
  },
  "nbformat": 4,
  "nbformat_minor": 4
}