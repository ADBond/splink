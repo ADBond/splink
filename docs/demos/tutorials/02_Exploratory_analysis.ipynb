{
 "cells": [
  {
   "cell_type": "markdown",
   "id": "26e50a28",
   "metadata": {},
   "source": [
    "# Exploratory analysis\n",
    "\n",
    "<a target=\"_blank\" href=\"https://colab.research.google.com/github/moj-analytical-services/splink/blob/splink4_dev/docs/demos/tutorials/02_Exploratory_analysis.ipynb\">\n",
    "  <img src=\"https://colab.research.google.com/assets/colab-badge.svg\" alt=\"Open In Colab\"/>\n",
    "</a>\n",
    "\n",
    "The purpose of exploratory analysis is to understand your data and any idiosyncrasies which may be relevant linking or deduplicating your data.\n",
    "\n",
    "Splink includes a variety of charts to help with this.\n",
    "\n",
    "In this notebook we generate some of these charts and interpret the results.\n"
   ]
  },
  {
   "cell_type": "markdown",
   "id": "96a3d08d",
   "metadata": {},
   "source": [
    "### Read in the data\n",
    "\n",
    "For the purpose of this tutorial we will use a 1,000 row synthetic dataset that contains duplicates.\n",
    "\n",
    "The first five rows of this dataset are printed below.\n",
    "\n",
    "Note that the cluster column represents the 'ground truth' - a column which tells us with which rows refer to the same person. In most real linkage scenarios, we wouldn't have this column (this is what Splink is trying to estimate.)\n"
   ]
  },
  {
   "cell_type": "code",
   "execution_count": 1,
   "id": "09c3966a",
   "metadata": {
    "execution": {
     "iopub.execute_input": "2024-03-27T15:08:56.167126Z",
     "iopub.status.busy": "2024-03-27T15:08:56.166787Z",
     "iopub.status.idle": "2024-03-27T15:08:56.188713Z",
     "shell.execute_reply": "2024-03-27T15:08:56.187918Z"
    }
   },
   "source": [
    "# Uncomment and run this cell if you're running in Google Colab.\n",
    "# !pip install git+https://github.com/moj-analytical-services/splink.git@splink4_dev"
   ],
   "outputs": []
  },
  {
   "cell_type": "code",
   "execution_count": 2,
   "id": "ffceed65",
   "metadata": {
    "execution": {
     "iopub.execute_input": "2024-03-27T15:08:56.193054Z",
     "iopub.status.busy": "2024-03-27T15:08:56.192762Z",
     "iopub.status.idle": "2024-03-27T15:08:58.543582Z",
     "shell.execute_reply": "2024-03-27T15:08:58.542298Z"
    }
   },
   "source": [
    "from splink import splink_datasets, Linker, DuckDBAPI, SettingsCreator\n",
    "import altair as alt\n",
    "\n",
    "df = splink_datasets.fake_1000\n",
    "df = df.drop(columns=[\"cluster\"])\n",
    "df.head(5)"
   ],
   "outputs": []
  },
  {
   "cell_type": "markdown",
   "id": "2d53e50b",
   "metadata": {},
   "source": [
    "### Instantiate the linker\n",
    "\n",
    "Most of Splink's core functionality can be accessed as methods on a linker object. For example, to make predictions, you would call `linker.predict()`.\n",
    "\n",
    "We therefore begin by instantiating the linker, passing in the data we wish to deduplicate.\n"
   ]
  },
  {
   "cell_type": "code",
   "execution_count": 3,
   "id": "8a1aa029",
   "metadata": {
    "execution": {
     "iopub.execute_input": "2024-03-27T15:08:58.549260Z",
     "iopub.status.busy": "2024-03-27T15:08:58.548841Z",
     "iopub.status.idle": "2024-03-27T15:08:58.662001Z",
     "shell.execute_reply": "2024-03-27T15:08:58.661131Z"
    }
   },
   "source": [
    "# Initialise the linker, passing in the input dataset(s)\n",
    "\n",
    "db_api = DuckDBAPI()\n",
    "settings = SettingsCreator(link_type=\"dedupe_only\")\n",
    "\n",
    "linker = Linker(df, settings, database_api=db_api)"
   ],
   "outputs": []
  },
  {
   "cell_type": "markdown",
   "id": "3d982939",
   "metadata": {},
   "source": [
    "## Analyse missingness\n"
   ]
  },
  {
   "cell_type": "markdown",
   "id": "bfab11e8",
   "metadata": {},
   "source": [
    "It's important to understand the level of missingness in your data, because columns with higher levels of missingness are less useful for data linking.\n"
   ]
  },
  {
   "cell_type": "code",
   "execution_count": 4,
   "id": "6dae307c",
   "metadata": {
    "execution": {
     "iopub.execute_input": "2024-03-27T15:08:58.666751Z",
     "iopub.status.busy": "2024-03-27T15:08:58.666373Z",
     "iopub.status.idle": "2024-03-27T15:08:58.867357Z",
     "shell.execute_reply": "2024-03-27T15:08:58.866676Z"
    }
   },
   "source": [
    "from splink.exploratory import completeness_chart\n",
    "completeness_chart(df, db_api=db_api)"
   ],
   "outputs": []
  },
  {
   "cell_type": "markdown",
   "id": "2c35a4e0",
   "metadata": {},
   "source": [
    "The above summary chart shows that in this dataset, the `email`, `city`, `surname` and `forename` columns contain nulls, but the level of missingness is relatively low (less than 22%).\n"
   ]
  },
  {
   "cell_type": "markdown",
   "id": "f11cc6b6",
   "metadata": {},
   "source": [
    "## Analyse the distribution of values in your data\n"
   ]
  },
  {
   "cell_type": "markdown",
   "id": "973cb505",
   "metadata": {},
   "source": [
    "The distribution of values in your data is important for two main reasons:\n",
    "\n",
    "1. Columns with higher cardinality (number of distinct values) are usually more useful for data linking. For instance, date of birth is a much stronger linkage variable than gender.\n",
    "\n",
    "2. The skew of values is important. If you have a `city` column that has 1,000 distinct values, but 75% of them are `London`, this is much less useful for linkage than if the 1,000 values were equally distributed\n",
    "\n",
    "The `linker.profile_columns()` method creates summary charts to help you understand these aspects of your data.\n",
    "\n",
    "To profile all columns, leave the column_expressions argument empty.\n"
   ]
  },
  {
   "cell_type": "code",
   "execution_count": 5,
   "id": "897d183c",
   "metadata": {
    "execution": {
     "iopub.execute_input": "2024-03-27T15:08:58.871168Z",
     "iopub.status.busy": "2024-03-27T15:08:58.870903Z",
     "iopub.status.idle": "2024-03-27T15:08:59.874052Z",
     "shell.execute_reply": "2024-03-27T15:08:59.873454Z"
    }
   },
   "source": [
    "from splink.exploratory import profile_columns\n",
    "profile_columns(df, db_api=DuckDBAPI(), top_n=10, bottom_n=5)"
   ],
   "outputs": []
  },
  {
   "cell_type": "markdown",
   "id": "6c5d3a2d",
   "metadata": {},
   "source": [
    "This chart is very information-dense, but here are some key takehomes relevant to our linkage:\n",
    "\n",
    "- There is strong skew in the `city` field with around 20% of the values being `London`. We therefore will probably want to use `term_frequency_adjustments` in our linkage model, so that it can weight a match on London differently to a match on, say, `Norwich`.\n",
    "\n",
    "- Looking at the \"Bottom 5 values by value count\", we can see typos in the data in most fields. This tells us this information was possibly entered by hand, or using Optical Character Recognition, giving us an insight into the type of data entry errors we may see.\n",
    "\n",
    "- Email is a much more uniquely-identifying field than any others, with a maximum value count of 6. It's likely to be a strong linking variable.\n"
   ]
  },
  {
   "cell_type": "markdown",
   "id": "c537f065-f61f-402a-ad2c-a8575b6207ab",
   "metadata": {},
   "source": [
    "!!! note \"Further Reading\"\n",
    "\n",
    "    :material-tools: For more on exploratory analysis tools in Splink, please refer to the [Exploratory Analysis API documentation](../../linkerexp.md).\n",
    "\n",
    "    :bar_chart: For more on the charts used in this tutorial, please refer to the [Charts Gallery](../../charts/index.md#exploratory-analysis).\n"
   ]
  },
  {
   "cell_type": "markdown",
   "id": "1f37cb1e",
   "metadata": {},
   "source": [
    "## Next steps\n",
    "\n",
    "At this point, we have begun to develop a strong understanding of our data. It's time to move on to estimating a linkage model\n"
   ]
  }
 ],
 "metadata": {
  "kernelspec": {
   "display_name": ".venv",
   "language": "python",
   "name": "python3"
  },
  "language_info": {
   "codemirror_mode": {
    "name": "ipython",
    "version": 3
   },
   "file_extension": ".py",
   "mimetype": "text/x-python",
   "name": "python",
   "nbconvert_exporter": "python",
   "pygments_lexer": "ipython3",
   "version": "3.10.8"
  }
 },
 "nbformat": 4,
 "nbformat_minor": 5
}
