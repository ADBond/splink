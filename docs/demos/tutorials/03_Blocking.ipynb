{
 "cells": [
  {
   "cell_type": "markdown",
   "metadata": {},
   "source": [
    "# Choosing blocking rules to optimise runtime\n",
    "\n",
    "<a target=\"_blank\" href=\"https://colab.research.google.com/github/moj-analytical-services/splink/blob/splink4_dev/docs/demos/tutorials/03_Blocking.ipynb\">\n",
    "  <img src=\"https://colab.research.google.com/assets/colab-badge.svg\" alt=\"Open In Colab\"/>\n",
    "</a>\n",
    "\n",
    "To link records, we need to compare pairs of records, and decide which pairs are matches and non matches.\n",
    "\n",
    "For example consider the following two records:\n",
    "\n",
    "| first_name | surname | dob        | city   | email               |\n",
    "| ---------- | ------- | ---------- | ------ | ------------------- |\n",
    "| Robert     | Allen   | 1971-05-24 | nan    | roberta25@smith.net |\n",
    "| Rob        | Allen   | 1971-06-24 | London | roberta25@smith.net |\n",
    "\n",
    "These can be represented as a pairwise comparison as follows:\n",
    "\n",
    "| first_name_l | first_name_r | surname_l | surname_r | dob_l      | dob_r      | city_l | city_r | email_l             | email_r             |\n",
    "| ------------ | ------------ | --------- | --------- | ---------- | ---------- | ------ | ------ | ------------------- | ------------------- |\n",
    "| Robert       | Rob          | Allen     | Allen     | 1971-05-24 | 1971-06-24 | nan    | London | roberta25@smith.net | roberta25@smith.net |\n",
    "\n",
    "For most large datasets, it is computationally intractable to compare every row with every other row, since the number of comparisons rises quadratically with the number of records.\n",
    "\n",
    "Instead we rely on blocking rules, which specify which pairwise comparisons to generate. For example, we could generate the subset of pairwise comparisons where either first name or surname matches.\n",
    "\n",
    "This is part of a two step process to link data:\n",
    "\n",
    "1.  Use blocking rules to generate candidate pairwise record comparisons\n",
    "\n",
    "2.  Use a probabilistic linkage model to score these candidate pairs, to determine which ones should be linked\n",
    "\n",
    "**Blocking rules are the most important determinant of the performance of your linkage job**.\n",
    "\n",
    "When deciding on your blocking rules, you're trading off accuracy for performance:\n",
    "\n",
    "- If your rules are too loose, your linkage job may fail.\n",
    "- If they're too tight, you may miss some valid links.\n",
    "\n",
    "This tutorial clarifies what blocking rules are, and how to choose good rules.\n",
    "\n",
    "## Blocking rules in Splink\n",
    "\n",
    "In Splink, blocking rules are specified as SQL expressions.\n",
    "\n",
    "For example, to generate the subset of record comparisons where the first name and surname matches, we can specify the following blocking rule:\n",
    "\n",
    "```python\n",
    "from splink.blocking_rule_library import block_on\n",
    "block_on(\"first_name\", \"surname\")\n",
    "```\n",
    "\n",
    "When executed, this blocking rule will be converted to a SQL statement with the following form:\n",
    "\n",
    "```sql\n",
    "SELECT ...\n",
    "FROM input_tables as l\n",
    "INNER jOIN input_tables as r\n",
    "ON l.first_name = r.first_name AND l.surname = r.surname\n",
    "```\n",
    "\n",
    "Since blocking rules are SQL expressions, they can be arbitrarily complex. For example, you could create record comparisons where the initial of the first name and the surname match with the following rule:\n",
    "\n",
    "```python\n",
    "from splink.blocking_rule_library import block_on\n",
    "block_on(\"substr(first_name, 1, 2)\", \"surname\")\n",
    "```\n"
   ]
  },
  {
   "cell_type": "markdown",
   "metadata": {},
   "source": [
    "## Devising effective blocking rules for prediction\n",
    "\n",
    "The aims of your blocking rules are twofold:\n",
    "\n",
    "1. Eliminate enough non-matching comparison pairs so your record linkage job is small enough to compute\n",
    "2. Eliminate as few truly matching pairs as possible (ideally none)\n",
    "\n",
    "It is usually impossible to find a single blocking rule which achieves both aims, so we recommend using multiple blocking rules.\n",
    "\n",
    "When we specify multiple blocking rules, Splink will generate all comparison pairs that meet any one of the rules.\n",
    "\n",
    "For example, consider the following blocking rule:\n",
    "\n",
    "`block_on(\"first_name\", \"dob\")`\n",
    "\n",
    "This rule is likely to be effective in reducing the number of comparison pairs. It will retain all truly matching pairs, except those with errors or nulls in either the `first_name` or `dob` fields.\n",
    "\n",
    "Now consider a second blocking rule:\n",
    "\n",
    "`block_on(\"email\")`.\n",
    "\n",
    "This will retain all truly matching pairs, except those with errors or nulls in the `email` column.\n",
    "\n",
    "Individually, these blocking rules are problematic because they exclude true matches where the records contain typos of certain types. But between them, they might do quite a good job.\n",
    "\n",
    "For a true match to be eliminated by the use of these two blocking rules, it would have to have an error in _both_ `email` AND (`first_name` or `dob`).\n",
    "\n",
    "This is not completely implausible, but it is significantly less likely than if we'd used a single rule.\n",
    "\n",
    "More generally, we can often specify multiple blocking rules such that it becomes highly implausible that a true match would not meet at least one of these blocking criteria. This is the recommended approach in Splink. Generally we would recommend between about 3 and 10, though even more is possible.\n",
    "\n",
    "The question then becomes how to choose what to put in this list.\n"
   ]
  },
  {
   "cell_type": "markdown",
   "metadata": {},
   "source": [
    "## Splink tools to help choose your blocking rules\n",
    "\n",
    "Splink contains a number of tools to help you choose effective blocking rules. Let's try them out, using our small test dataset:\n"
   ]
  },
  {
   "cell_type": "code",
   "execution_count": 1,
   "metadata": {
    "execution": {
     "iopub.execute_input": "2024-05-16T12:14:10.776394Z",
     "iopub.status.busy": "2024-05-16T12:14:10.776043Z",
     "iopub.status.idle": "2024-05-16T12:14:10.781556Z",
     "shell.execute_reply": "2024-05-16T12:14:10.780845Z"
    }
   },
   "source": [
    "# Uncomment and run this cell if you're running in Google Colab.\n",
    "# !pip install git+https://github.com/moj-analytical-services/splink.git@splink4_dev"
   ],
   "outputs": []
  },
  {
   "cell_type": "code",
   "execution_count": 2,
   "metadata": {
    "execution": {
     "iopub.execute_input": "2024-05-16T12:14:10.785735Z",
     "iopub.status.busy": "2024-05-16T12:14:10.785460Z",
     "iopub.status.idle": "2024-05-16T12:14:12.763325Z",
     "shell.execute_reply": "2024-05-16T12:14:12.762406Z"
    },
    "tags": []
   },
   "source": [
    "from splink import Linker, DuckDBAPI, block_on, SettingsCreator, splink_datasets\n",
    "import altair as alt\n",
    "\n",
    "df = splink_datasets.fake_1000"
   ],
   "outputs": []
  },
  {
   "cell_type": "markdown",
   "metadata": {},
   "source": [
    "### Counting the number of comparisons created by a single blocking rule\n",
    "\n",
    "On large datasets, some blocking rules imply the creation of trillions of record comparisons, which would cause a linkage job to fail.\n",
    "\n",
    "Before using a blocking rule in a linkage job, it's therefore a good idea to count the number of records it generates to ensure it is not too loose:\n"
   ]
  },
  {
   "cell_type": "code",
   "execution_count": 3,
   "metadata": {
    "execution": {
     "iopub.execute_input": "2024-05-16T12:14:12.767657Z",
     "iopub.status.busy": "2024-05-16T12:14:12.767348Z",
     "iopub.status.idle": "2024-05-16T12:14:13.144051Z",
     "shell.execute_reply": "2024-05-16T12:14:13.143363Z"
    },
    "tags": []
   },
   "source": [
    "from splink.blocking_analysis import count_comparisons_from_blocking_rule\n",
    "\n",
    "db_api = DuckDBAPI()\n",
    "blocking_rules_for_analysis = [\n",
    "    block_on(\"substr(first_name, 1,1)\", \"surname\"),\n",
    "    block_on(\"surname\"),\n",
    "    block_on(\"email\"),\n",
    "    block_on(\"city\", \"first_name\"),\n",
    "    \"l.first_name = r.first_name and levenshtein(l.surname, r.surname) < 2\",\n",
    "]\n",
    "\n",
    "\n",
    "for br in blocking_rules_for_analysis:\n",
    "    counts = count_comparisons_from_blocking_rule(\n",
    "        table_or_tables=df,\n",
    "        blocking_rule=br,\n",
    "        link_type=\"dedupe_only\",\n",
    "        db_api=db_api,\n",
    "    )\n",
    "    print(\"---\")\n",
    "    print(counts)"
   ],
   "outputs": []
  },
  {
   "cell_type": "markdown",
   "metadata": {},
   "source": [
    "The maximum number of comparisons that you can compute will be affected by your choice of SQL backend, and how powerful your computer is.\n",
    "\n",
    "For linkages in DuckDB on a standard laptop, we suggest using blocking rules that create no more than about 20 million comparisons. For Spark and Athena, try starting with fewer than a a billion comparisons, before scaling up.\n"
   ]
  },
  {
   "cell_type": "markdown",
   "metadata": {},
   "source": [
    "### Counting the number of comparisons created by a list of blocking rules\n",
    "\n",
    "As noted above, it's usually a good idea to use multiple blocking rules. It's therefore useful to know how many record comparisons will be generated when these rules are applied.\n",
    "\n",
    "Since the same record comparison may be created by several blocking rules, and Splink automatically deduplicates these comparisons, we cannot simply total the number of comparisons generated by each rule individually.\n",
    "\n",
    "Splink provides a chart that shows the marginal (additional) comparisons generated by each blocking rule, after deduplication:\n"
   ]
  },
  {
   "cell_type": "code",
   "execution_count": 4,
   "metadata": {
    "execution": {
     "iopub.execute_input": "2024-05-16T12:14:13.150066Z",
     "iopub.status.busy": "2024-05-16T12:14:13.149747Z",
     "iopub.status.idle": "2024-05-16T12:14:13.396698Z",
     "shell.execute_reply": "2024-05-16T12:14:13.395979Z"
    },
    "tags": []
   },
   "source": [
    "from splink.blocking_analysis import (\n",
    "    cumulative_comparisons_to_be_scored_from_blocking_rules_chart,\n",
    ")\n",
    "\n",
    "cumulative_comparisons_to_be_scored_from_blocking_rules_chart(\n",
    "    table_or_tables=df,\n",
    "    blocking_rules=blocking_rules_for_analysis,\n",
    "    db_api=db_api,\n",
    "    link_type=\"dedupe_only\",\n",
    ")"
   ],
   "outputs": []
  },
  {
   "cell_type": "markdown",
   "metadata": {},
   "source": [
    "### Understanding why certain blocking rules create large numbers of comparisons\n",
    "\n",
    "Finally, we can use the `profile_columns` function we saw in the previous tutorial to understand a specific blocking rule in more depth.\n",
    "\n",
    "Suppose we're interested in blocking on city and first initial.\n",
    "\n",
    "Within each distinct value of `(city, first initial)`, all possible pairwise comparisons will be generated.\n",
    "\n",
    "So for instance, if there are 15 distinct records with `London,J` then these records will result in `n(n-1)/2 = 105` pairwise comparisons being generated.\n",
    "\n",
    "In a larger dataset, we might observe 10,000 `London,J` records, which would then be responsible for `49,995,000` comparisons.\n",
    "\n",
    "These high-frequency values therefore have a disproportionate influence on the overall number of pairwise comparisons, and so it can be useful to analyse skew, as follows:\n"
   ]
  },
  {
   "cell_type": "code",
   "execution_count": 5,
   "metadata": {
    "execution": {
     "iopub.execute_input": "2024-05-16T12:14:13.400314Z",
     "iopub.status.busy": "2024-05-16T12:14:13.400025Z",
     "iopub.status.idle": "2024-05-16T12:14:13.595444Z",
     "shell.execute_reply": "2024-05-16T12:14:13.594906Z"
    },
    "tags": []
   },
   "source": [
    "from splink.exploratory import profile_columns\n",
    "profile_columns(df, column_expressions=[\"city || left(first_name,1)\"], db_api=db_api)"
   ],
   "outputs": []
  },
  {
   "cell_type": "markdown",
   "metadata": {},
   "source": [
    "!!! note \"Further Reading\"\n",
    ":simple-readme: For a deeper dive on blocking, please refer to the [Blocking Topic Guides](../../topic_guides/blocking/blocking_rules.md).\n",
    "\n",
    "    :material-tools: For more on the blocking tools in Splink, please refer to the [Blocking API documentation](../../linkerbloc.md).\n",
    "\n",
    "    :bar_chart: For more on the charts used in this tutorial, please refer to the [Charts Gallery](../../charts/index.md#blocking).\n"
   ]
  },
  {
   "cell_type": "markdown",
   "metadata": {},
   "source": [
    "## Next steps\n",
    "\n",
    "Now we have chosen which records to compare, we can use those records to train a linkage model.\n"
   ]
  }
 ],
 "metadata": {
  "kernelspec": {
   "display_name": ".venv",
   "language": "python",
   "name": "python3"
  },
  "language_info": {
   "codemirror_mode": {
    "name": "ipython",
    "version": 3
   },
   "file_extension": ".py",
   "mimetype": "text/x-python",
   "name": "python",
   "nbconvert_exporter": "python",
   "pygments_lexer": "ipython3",
   "version": "3.10.8"
  }
 },
 "nbformat": 4,
 "nbformat_minor": 4
}
