{
 "cells": [
  {
   "cell_type": "markdown",
   "id": "84cca40c",
   "metadata": {},
   "source": [
    "# Predicting which records match\n",
    "\n",
    "<a target=\"_blank\" href=\"https://colab.research.google.com/github/moj-analytical-services/splink/blob/splink4_dev/docs/demos/tutorials/05_Predicting_results.ipynb\">\n",
    "  <img src=\"https://colab.research.google.com/assets/colab-badge.svg\" alt=\"Open In Colab\"/>\n",
    "</a>\n",
    "\n",
    "In the previous tutorial, we built and estimated a linkage model.\n",
    "\n",
    "In this tutorial, we will load the estimated model and use it to make predictions of which pairwise record comparisons match.\n"
   ]
  },
  {
   "cell_type": "code",
   "execution_count": 1,
   "id": "9a445f52",
   "metadata": {
    "execution": {
     "iopub.execute_input": "2024-03-27T15:09:14.907307Z",
     "iopub.status.busy": "2024-03-27T15:09:14.907009Z",
     "iopub.status.idle": "2024-03-27T15:09:14.912862Z",
     "shell.execute_reply": "2024-03-27T15:09:14.911964Z"
    }
   },
   "source": [
    "# Uncomment and run this cell if you're running in Google Colab.\n",
    "# !pip install git+https://github.com/moj-analytical-services/splink.git@splink4_dev"
   ],
   "outputs": []
  },
  {
   "cell_type": "code",
   "execution_count": 2,
   "id": "48f57034",
   "metadata": {
    "execution": {
     "iopub.execute_input": "2024-03-27T15:09:14.917154Z",
     "iopub.status.busy": "2024-03-27T15:09:14.916851Z",
     "iopub.status.idle": "2024-03-27T15:09:16.506960Z",
     "shell.execute_reply": "2024-03-27T15:09:16.506150Z"
    },
    "tags": []
   },
   "source": [
    "from splink import Linker, DuckDBAPI, splink_datasets\n",
    "\n",
    "import pandas as pd\n",
    "\n",
    "pd.options.display.max_columns = 1000\n",
    "\n",
    "db_api = DuckDBAPI()\n",
    "df = splink_datasets.fake_1000"
   ],
   "outputs": []
  },
  {
   "cell_type": "markdown",
   "id": "d77b6eb8",
   "metadata": {},
   "source": [
    "## Load estimated model from previous tutorial\n"
   ]
  },
  {
   "cell_type": "code",
   "execution_count": 3,
   "id": "619553a5",
   "metadata": {
    "execution": {
     "iopub.execute_input": "2024-03-27T15:09:16.511276Z",
     "iopub.status.busy": "2024-03-27T15:09:16.510916Z",
     "iopub.status.idle": "2024-03-27T15:09:16.857580Z",
     "shell.execute_reply": "2024-03-27T15:09:16.856381Z"
    },
    "tags": []
   },
   "source": [
    "import json\n",
    "import urllib\n",
    "\n",
    "url = \"https://raw.githubusercontent.com/moj-analytical-services/splink_demos/master/demo_settings/saved_model_from_demo.json\"\n",
    "\n",
    "with urllib.request.urlopen(url) as u:\n",
    "    settings = json.loads(u.read().decode())\n",
    "\n",
    "\n",
    "linker = Linker(df, settings, database_api=DuckDBAPI())"
   ],
   "outputs": []
  },
  {
   "cell_type": "markdown",
   "id": "c1d97518",
   "metadata": {},
   "source": [
    "# Predicting match weights using the trained model\n",
    "\n",
    "We use `linker.predict()` to run the model.\n",
    "\n",
    "Under the hood this will:\n",
    "\n",
    "- Generate all pairwise record comparisons that match at least one of the `blocking_rules_to_generate_predictions`\n",
    "\n",
    "- Use the rules specified in the `Comparisons` to evaluate the similarity of the input data\n",
    "\n",
    "- Use the estimated match weights, applying term frequency adjustments where requested to produce the final `match_weight` and `match_probability` scores\n",
    "\n",
    "Optionally, a `threshold_match_probability` or `threshold_match_weight` can be provided, which will drop any row where the predicted score is below the threshold.\n"
   ]
  },
  {
   "cell_type": "code",
   "execution_count": 4,
   "id": "ead23f3e",
   "metadata": {
    "execution": {
     "iopub.execute_input": "2024-03-27T15:09:16.860962Z",
     "iopub.status.busy": "2024-03-27T15:09:16.860706Z",
     "iopub.status.idle": "2024-03-27T15:09:17.348291Z",
     "shell.execute_reply": "2024-03-27T15:09:17.347534Z"
    },
    "tags": []
   },
   "source": [
    "df_predictions = linker.predict(threshold_match_probability=0.2)\n",
    "df_predictions.as_pandas_dataframe(limit=5)"
   ],
   "outputs": []
  },
  {
   "cell_type": "markdown",
   "id": "f00370bb",
   "metadata": {},
   "source": [
    "## Clustering\n",
    "\n",
    "The result of `linker.predict()` is a list of pairwise record comparisons and their associated scores. For instance, if we have input records A, B, C and D, it could be represented conceptually as:\n",
    "\n",
    "```\n",
    "A -> B with score 0.9\n",
    "B -> C with score 0.95\n",
    "C -> D with score 0.1\n",
    "D -> E with score 0.99\n",
    "```\n",
    "\n",
    "Often, an alternative representation of this result is more useful, where each row is an input record, and where records link, they are assigned to the same cluster.\n",
    "\n",
    "With a score threshold of 0.5, the above data could be represented conceptually as:\n",
    "\n",
    "```\n",
    "ID, Cluster ID\n",
    "A,  1\n",
    "B,  1\n",
    "C,  1\n",
    "D,  2\n",
    "E,  2\n",
    "```\n",
    "\n",
    "The algorithm that converts between the pairwise results and the clusters is called connected components, and it is included in Splink. You can use it as follows:\n"
   ]
  },
  {
   "cell_type": "code",
   "execution_count": 5,
   "id": "257ae717",
   "metadata": {
    "execution": {
     "iopub.execute_input": "2024-03-27T15:09:17.352763Z",
     "iopub.status.busy": "2024-03-27T15:09:17.352430Z",
     "iopub.status.idle": "2024-03-27T15:09:17.405029Z",
     "shell.execute_reply": "2024-03-27T15:09:17.404434Z"
    }
   },
   "source": [
    "clusters = linker.cluster_pairwise_predictions_at_threshold(\n",
    "    df_predictions, threshold_match_probability=0.5\n",
    ")\n",
    "clusters.as_pandas_dataframe(limit=10)"
   ],
   "outputs": []
  },
  {
   "cell_type": "code",
   "execution_count": 6,
   "id": "b973f53f-6d57-4c79-a87d-fbad40f303f1",
   "metadata": {
    "execution": {
     "iopub.execute_input": "2024-03-27T15:09:17.408780Z",
     "iopub.status.busy": "2024-03-27T15:09:17.408484Z",
     "iopub.status.idle": "2024-03-27T15:09:17.432558Z",
     "shell.execute_reply": "2024-03-27T15:09:17.431424Z"
    }
   },
   "source": [
    "sql = f\"\"\"\n",
    "select *\n",
    "from {df_predictions.physical_name}\n",
    "limit 2\n",
    "\"\"\"\n",
    "linker.query_sql(sql)"
   ],
   "outputs": []
  },
  {
   "cell_type": "markdown",
   "id": "177c5013",
   "metadata": {},
   "source": [
    "!!! note \"Further Reading\"\n",
    ":material-tools: For more on the prediction tools in Splink, please refer to the [Prediction API documentation](../../linkerpred.md).\n"
   ]
  },
  {
   "cell_type": "markdown",
   "id": "b7cae5d7",
   "metadata": {},
   "source": [
    "## Next steps\n",
    "\n",
    "Now we have made predictions with a model, we can move on to visualising it to understand how it is working.\n"
   ]
  }
 ],
 "metadata": {
  "kernelspec": {
   "display_name": "Python 3 (ipykernel)",
   "language": "python",
   "name": "python3"
  },
  "language_info": {
   "codemirror_mode": {
    "name": "ipython",
    "version": 3
   },
   "file_extension": ".py",
   "mimetype": "text/x-python",
   "name": "python",
   "nbconvert_exporter": "python",
   "pygments_lexer": "ipython3",
   "version": "3.10.8"
  }
 },
 "nbformat": 4,
 "nbformat_minor": 5
}
