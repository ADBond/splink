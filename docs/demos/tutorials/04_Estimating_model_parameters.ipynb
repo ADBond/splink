{
 "cells": [
  {
   "cell_type": "markdown",
   "id": "d729e302",
   "metadata": {},
   "source": [
    "# Specifying and estimating a linkage model\n",
    "\n",
    "<a target=\"_blank\" href=\"https://colab.research.google.com/github/moj-analytical-services/splink/blob/splink4_dev/docs/demos/tutorials/04_Estimating_model_parameters.ipynb\">\n",
    "  <img src=\"https://colab.research.google.com/assets/colab-badge.svg\" alt=\"Open In Colab\"/>\n",
    "</a>\n",
    "\n",
    "In the last tutorial we looked at how we can use blocking rules to generate pairwise record comparisons.\n",
    "\n",
    "Now it's time to estimate a probabilistic linkage model to score each of these comparisons. The resultant match score is a prediction of whether the two records represent the same entity (e.g. are the same person).\n",
    "\n",
    "The purpose of estimating the model is to learn the relative importance of different parts of your data for the purpose of data linking.\n",
    "\n",
    "For example, a match on date of birth is a much stronger indicator that two records refer to the same entity than a match on gender. A mismatch on gender may be a stronger indicate against two records referring than a mismatch on name, since names are more likely to be entered differently.\n",
    "\n",
    "The relative importance of different information is captured in the (partial) 'match weights', which can be learned from your data. These match weights are then added up to compute the overall match score.\n",
    "\n",
    "The match weights are are derived from the `m` and `u` parameters of the underlying Fellegi Sunter model. Splink uses various statistical routines to estimate these parameters. Further details of the underlying theory can be found [here](https://www.robinlinacre.com/intro_to_probabilistic_linkage/), which will help you understand this part of the tutorial.\n"
   ]
  },
  {
   "cell_type": "markdown",
   "id": "0f104340",
   "metadata": {},
   "source": [
    "## Specifying a linkage model\n",
    "\n",
    "To build a linkage model, the user defines the partial match weights that `splink` needs to estimate. This is done by defining how the information in the input records should be compared.\n",
    "\n",
    "To be concrete, here is an example comparison:\n",
    "\n",
    "| first_name_l | first_name_r | surname_l | surname_r | dob_l      | dob_r      | city_l | city_r | email_l             | email_r             |\n",
    "| ------------ | ------------ | --------- | --------- | ---------- | ---------- | ------ | ------ | ------------------- | ------------------- |\n",
    "| Robert       | Rob          | Allen     | Allen     | 1971-05-24 | 1971-06-24 | nan    | London | roberta25@smith.net | roberta25@smith.net |\n",
    "\n",
    "What functions should we use to assess the similarity of `Rob` vs. `Robert` in the the `first_name` field?\n",
    "\n",
    "Should similarity in the `dob` field be computed in the same way, or a different way?\n",
    "\n",
    "Your job as the developer of a linkage model is to decide what comparisons are most appropriate for the types of data you have.\n",
    "\n",
    "Splink can then estimate how much weight to place on a fuzzy match of `Rob` vs. `Robert`, relative to an exact match on `Robert`, or a non-match.\n",
    "\n",
    "Defining these scenarios is done using `Comparison`s.\n"
   ]
  },
  {
   "cell_type": "markdown",
   "id": "8a520392",
   "metadata": {},
   "source": [
    "### Comparisons\n",
    "\n",
    "The concept of a `Comparison` has a specific definition within Splink: it defines how data from one or more input columns is compared.\n",
    "\n",
    "For example, one `Comparison` may represent how similarity is assessed for a person's date of birth.\n",
    "\n",
    "Another `Comparison` may represent the comparison of a person's name or location.\n",
    "\n",
    "A model is composed of many `Comparison`s, which between them assess the similarity of all of the columns being used for data linking.\n",
    "\n",
    "Each `Comparison` contains two or more `ComparisonLevels` which define _n_ discrete gradations of similarity between the input columns within the Comparison.\n",
    "\n",
    "As such `ComparisonLevels`are nested within `Comparisons` as follows:\n",
    "\n",
    "```\n",
    "Data Linking Model\n",
    "├─-- Comparison: Date of birth\n",
    "│    ├─-- ComparisonLevel: Exact match\n",
    "│    ├─-- ComparisonLevel: One character difference\n",
    "│    ├─-- ComparisonLevel: All other\n",
    "├─-- Comparison: Surname\n",
    "│    ├─-- ComparisonLevel: Exact match on surname\n",
    "│    ├─-- ComparisonLevel: All other\n",
    "│    etc.\n",
    "```\n",
    "\n",
    "Our example data would therefore result in the following comparisons, for `dob` and `surname`:\n",
    "\n",
    "| dob_l      | dob_r      | comparison_level         | interpretation |\n",
    "| ---------- | ---------- | ------------------------ | -------------- |\n",
    "| 1971-05-24 | 1971-05-24 | Exact match              | great match    |\n",
    "| 1971-05-24 | 1971-06-24 | One character difference | fuzzy match    |\n",
    "| 1971-05-24 | 2000-01-02 | All other                | bad match      |\n",
    "\n",
    "| surname_l | surname_r | comparison_level | interpretation                                        |\n",
    "| --------- | --------- | ---------------- | ----------------------------------------------------- |\n",
    "| Rob       | Rob       | Exact match      | great match                                           |\n",
    "| Rob       | Jane      | All other        | bad match                                             |\n",
    "| Rob       | Robert    | All other        | bad match, this comparison has no notion of nicknames |\n",
    "\n",
    "More information about comparisons can be found [here](https://moj-analytical-services.github.io/splink/comparison.html).\n",
    "\n",
    "We will now use these concepts to build a data linking model.\n"
   ]
  },
  {
   "cell_type": "code",
   "execution_count": 1,
   "id": "9ceef6f1",
   "metadata": {
    "execution": {
     "iopub.execute_input": "2024-03-27T15:09:07.307455Z",
     "iopub.status.busy": "2024-03-27T15:09:07.306991Z",
     "iopub.status.idle": "2024-03-27T15:09:07.312286Z",
     "shell.execute_reply": "2024-03-27T15:09:07.311584Z"
    }
   },
   "source": [
    "# Uncomment and run this cell if you're running in Google Colab.\n",
    "# !pip install git+https://github.com/moj-analytical-services/splink.git@splink4_dev"
   ],
   "outputs": []
  },
  {
   "cell_type": "code",
   "execution_count": 2,
   "id": "aa6a9e30",
   "metadata": {
    "execution": {
     "iopub.execute_input": "2024-03-27T15:09:07.316160Z",
     "iopub.status.busy": "2024-03-27T15:09:07.315816Z",
     "iopub.status.idle": "2024-03-27T15:09:08.921271Z",
     "shell.execute_reply": "2024-03-27T15:09:08.920582Z"
    },
    "tags": []
   },
   "source": [
    "# Begin by reading in the tutorial data again\n",
    "from splink import DuckDBAPI, splink_datasets\n",
    "\n",
    "df = splink_datasets.fake_1000"
   ],
   "outputs": []
  },
  {
   "cell_type": "markdown",
   "id": "02000a24",
   "metadata": {},
   "source": [
    "### Specifying the model using comparisons\n",
    "\n",
    "Splink includes libraries of comparison functions to make it simple to get started. These are split into two categories:\n",
    "\n",
    "1. `Comparison` functions which apply a particular fuzzy matching function. For example, levenshtein distance.\n"
   ]
  },
  {
   "cell_type": "code",
   "execution_count": 3,
   "id": "4b7159fb",
   "metadata": {
    "execution": {
     "iopub.execute_input": "2024-03-27T15:09:08.925079Z",
     "iopub.status.busy": "2024-03-27T15:09:08.924800Z",
     "iopub.status.idle": "2024-03-27T15:09:08.947124Z",
     "shell.execute_reply": "2024-03-27T15:09:08.946342Z"
    },
    "tags": []
   },
   "source": [
    "import splink.comparison_library as cl\n",
    "\n",
    "email_comparison = cl.LevenshteinAtThresholds(\"email\", 2)\n",
    "print(email_comparison.get_comparison(\"duckdb\").human_readable_description)"
   ],
   "outputs": []
  },
  {
   "cell_type": "markdown",
   "id": "f0a6cc8b",
   "metadata": {},
   "source": [
    "2. `Comparison Template` functions which have been created for specific data types. For example, names.\n"
   ]
  },
  {
   "cell_type": "code",
   "execution_count": 4,
   "id": "bd6143e7",
   "metadata": {
    "execution": {
     "iopub.execute_input": "2024-03-27T15:09:08.952029Z",
     "iopub.status.busy": "2024-03-27T15:09:08.951716Z",
     "iopub.status.idle": "2024-03-27T15:09:08.969352Z",
     "shell.execute_reply": "2024-03-27T15:09:08.968536Z"
    },
    "tags": []
   },
   "source": [
    "import splink.comparison_template_library as ctl\n",
    "\n",
    "first_name_comparison = ctl.NameComparison(\"first_name\")\n",
    "print(first_name_comparison.get_comparison(\"duckdb\").human_readable_description)"
   ],
   "outputs": []
  },
  {
   "cell_type": "markdown",
   "id": "47b7677a",
   "metadata": {},
   "source": [
    "## Specifying the full settings dictionary\n",
    "\n",
    "`Comparisons` are specified as part of the Splink `settings`, a Python dictionary which controls all of the configuration of a Splink model:\n"
   ]
  },
  {
   "cell_type": "code",
   "execution_count": 5,
   "id": "0fa0611a",
   "metadata": {
    "execution": {
     "iopub.execute_input": "2024-03-27T15:09:08.973195Z",
     "iopub.status.busy": "2024-03-27T15:09:08.972905Z",
     "iopub.status.idle": "2024-03-27T15:09:09.090089Z",
     "shell.execute_reply": "2024-03-27T15:09:09.089555Z"
    },
    "tags": []
   },
   "source": [
    "from splink import SettingsCreator, block_on, Linker, DuckDBAPI\n",
    "\n",
    "settings = SettingsCreator(\n",
    "    link_type=\"dedupe_only\",\n",
    "    comparisons=[\n",
    "        ctl.NameComparison(\"first_name\"),\n",
    "        ctl.NameComparison(\"surname\"),\n",
    "        cl.LevenshteinAtThresholds(\"dob\", 1),\n",
    "        cl.ExactMatch(\"city\").configure(term_frequency_adjustments=True),\n",
    "        ctl.EmailComparison(\"email\", include_username_fuzzy_level=False),\n",
    "    ],\n",
    "    blocking_rules_to_generate_predictions=[\n",
    "        block_on(\"first_name\"),\n",
    "        block_on(\"surname\"),\n",
    "    ],\n",
    "    retain_intermediate_calculation_columns=True,\n",
    ")\n",
    "\n",
    "linker = Linker(df, settings, database_api=DuckDBAPI())"
   ],
   "outputs": []
  },
  {
   "cell_type": "markdown",
   "id": "657a1fb8",
   "metadata": {},
   "source": [
    "In words, this setting dictionary says:\n",
    "\n",
    "- We are performing a `dedupe_only` (the other options are `link_only`, or `link_and_dedupe`, which may be used if there are multiple input datasets).\n",
    "- When comparing records, we will use information from the `first_name`, `surname`, `dob`, `city` and `email` columns to compute a match score.\n",
    "- The `blocking_rules_to_generate_predictions` states that we will only check for duplicates amongst records where either the `first_name` or `surname` is identical.\n",
    "- We have enabled [term frequency adjustments](https://moj-analytical-services.github.io/splink/topic_guides/term-frequency.html) for the 'city' column, because some values (e.g. `London`) appear much more frequently than others.\n",
    "- We have set `retain_intermediate_calculation_columns` and `additional_columns_to_retain` to `True` so that Splink outputs additional information that helps the user understand the calculations. If they were `False`, the computations would run faster.\n"
   ]
  },
  {
   "cell_type": "markdown",
   "id": "afa31386",
   "metadata": {},
   "source": [
    "## Estimate the parameters of the model\n",
    "\n",
    "Now that we have specified our linkage model, we need to estimate the [`probability_two_random_records_match`](https://moj-analytical-services.github.io/splink/settings_dict_guide.html#probability_two_random_records_match), `u`, and `m` parameters.\n",
    "\n",
    "- The `probability_two_random_records_match` parameter is the probability that two records taken at random from your input data represent a match (typically a very small number).\n",
    "\n",
    "- The `u` values are the proportion of records falling into each `ComparisonLevel` amongst truly _non-matching_ records.\n",
    "\n",
    "- The `m` values are the proportion of records falling into each `ComparisonLevel` amongst truly _matching_ records\n",
    "\n",
    "You can read more about [the theory of what these mean](https://www.robinlinacre.com/m_and_u_values/).\n",
    "\n",
    "We can estimate these parameters using unlabeled data. If we have labels, then we can estimate them even more accurately.\n"
   ]
  },
  {
   "cell_type": "markdown",
   "id": "c2871ac6",
   "metadata": {},
   "source": [
    "### Estimation of `probability_two_random_records_match`\n",
    "\n",
    "In some cases, the `probability_two_random_records_match` will be known. For example, if you are linking two tables of 10,000 records and expect a one-to-one match, then you should set this value to `1/10_000` in your settings instead of estimating it.\n",
    "\n",
    "More generally, this parameter is unknown and needs to be estimated.\n",
    "\n",
    "It can be estimated accurately enough for most purposes by combining a series of deterministic matching rules and a guess of the recall corresponding to those rules. For further details of the rationale behind this appraoch see [here](https://github.com/moj-analytical-services/splink/issues/462#issuecomment-1227027995).\n",
    "\n",
    "In this example, I guess that the following deterministic matching rules have a recall of about 70%. That means, between them, the rules recover 70% of all true matches.\n"
   ]
  },
  {
   "cell_type": "code",
   "execution_count": 6,
   "id": "cbf92120",
   "metadata": {
    "execution": {
     "iopub.execute_input": "2024-03-27T15:09:09.093686Z",
     "iopub.status.busy": "2024-03-27T15:09:09.093466Z",
     "iopub.status.idle": "2024-03-27T15:09:09.224399Z",
     "shell.execute_reply": "2024-03-27T15:09:09.223851Z"
    },
    "tags": []
   },
   "source": [
    "deterministic_rules = [\n",
    "    \"l.first_name = r.first_name and levenshtein(r.dob, l.dob) <= 1\",\n",
    "    \"l.surname = r.surname and levenshtein(r.dob, l.dob) <= 1\",\n",
    "    \"l.first_name = r.first_name and levenshtein(r.surname, l.surname) <= 2\",\n",
    "    \"l.email = r.email\",\n",
    "]\n",
    "\n",
    "linker.estimate_probability_two_random_records_match(deterministic_rules, recall=0.7)"
   ],
   "outputs": []
  },
  {
   "cell_type": "markdown",
   "id": "7712860b",
   "metadata": {},
   "source": [
    "### Estimation of `u` probabilities\n",
    "\n",
    "Once we have the `probability_two_random_records_match` parameter, we can estimate the `u` probabilities.\n",
    "\n",
    "We estimate `u` using the `estimate_u_using_random_sampling` method, which doesn't require any labels.\n",
    "\n",
    "It works by sampling random pairs of records, since most of these pairs are going to be non-matches. Over these non-matches we compute the distribution of `ComparisonLevel`s for each `Comparison`.\n",
    "\n",
    "For instance, for `gender`, we would find that the the gender matches 50% of the time, and mismatches 50% of the time.\n",
    "\n",
    "For `dob` on the other hand, we would find that the `dob` matches 1% of the time, has a \"one character difference\" 3% of the time, and everything else happens 96% of the time.\n",
    "\n",
    "The larger the random sample, the more accurate the predictions. You control this using the `max_pairs` parameter. For large datasets, we recommend using at least 10 million - but the higher the better and 1 billion is often appropriate for larger datasets.\n"
   ]
  },
  {
   "cell_type": "code",
   "execution_count": 7,
   "id": "b8d49e7a",
   "metadata": {
    "execution": {
     "iopub.execute_input": "2024-03-27T15:09:09.227533Z",
     "iopub.status.busy": "2024-03-27T15:09:09.227291Z",
     "iopub.status.idle": "2024-03-27T15:09:09.792075Z",
     "shell.execute_reply": "2024-03-27T15:09:09.790994Z"
    }
   },
   "source": [
    "linker.estimate_u_using_random_sampling(max_pairs=1e6)"
   ],
   "outputs": []
  },
  {
   "cell_type": "markdown",
   "id": "a73921b7",
   "metadata": {},
   "source": [
    "### Estimation of `m` probabilities\n",
    "\n",
    "`m` is the trickiest of the parameters to estimate, because we have to have some idea of what the true matches are.\n",
    "\n",
    "If we have labels, we can directly estimate it.\n",
    "\n",
    "If we do not have labelled data, the `m` parameters can be estimated using an iterative maximum likelihood approach called Expectation Maximisation.\n",
    "\n",
    "#### Estimating directly\n",
    "\n",
    "If we have labels, we can estimate `m` directly using the `estimate_m_from_label_column` method of the linker.\n",
    "\n",
    "For example, if the entity being matched is persons, and your input dataset(s) contain social security number, this could be used to estimate the m values for the model.\n",
    "\n",
    "Note that this column does not need to be fully populated. A common case is where a unique identifier such as social security number is only partially populated.\n",
    "\n",
    "For example (in this tutorial we don't have labels, so we're not actually going to use this):\n",
    "\n",
    "```python\n",
    "linker.estimate_m_from_label_column(\"social_security_number\")\n",
    "```\n",
    "\n",
    "#### Estimating with Expectation Maximisation\n",
    "\n",
    "This algorithm estimates the `m` values by generating pairwise record comparisons, and using them to maximise a likelihood function.\n",
    "\n",
    "Each estimation pass requires the user to configure an estimation blocking rule to reduce the number of record comparisons generated to a manageable level.\n",
    "\n",
    "In our first estimation pass, we block on `first_name` and `surname`, meaning we will generate all record comparisons that have `first_name` and `surname` exactly equal.\n",
    "\n",
    "Recall we are trying to estimate the `m` values of the model, i.e. proportion of records falling into each `ComparisonLevel` amongst truly matching records.\n",
    "\n",
    "This means that, in this training session, we cannot estimate parameter estimates for the `first_name` or `surname` columns, since they will be equal for all the comparisons we do.\n",
    "\n",
    "We can, however, estimate parameter estimates for all of the other columns. The output messages produced by Splink confirm this.\n"
   ]
  },
  {
   "cell_type": "code",
   "execution_count": 8,
   "id": "098f0a40",
   "metadata": {
    "execution": {
     "iopub.execute_input": "2024-03-27T15:09:09.796329Z",
     "iopub.status.busy": "2024-03-27T15:09:09.795948Z",
     "iopub.status.idle": "2024-03-27T15:09:10.353784Z",
     "shell.execute_reply": "2024-03-27T15:09:10.353187Z"
    }
   },
   "source": [
    "training_blocking_rule = block_on(\"first_name\", \"surname\")\n",
    "training_session_fname_sname = (\n",
    "    linker.estimate_parameters_using_expectation_maximisation(training_blocking_rule)\n",
    ")"
   ],
   "outputs": []
  },
  {
   "cell_type": "markdown",
   "id": "92bd4a31",
   "metadata": {},
   "source": [
    "In a second estimation pass, we block on dob. This allows us to estimate parameters for the `first_name` and `surname` comparisons.\n",
    "\n",
    "Between the two estimation passes, we now have parameter estimates for all comparisons.\n"
   ]
  },
  {
   "cell_type": "code",
   "execution_count": 9,
   "id": "ac8d3264",
   "metadata": {
    "execution": {
     "iopub.execute_input": "2024-03-27T15:09:10.356777Z",
     "iopub.status.busy": "2024-03-27T15:09:10.356555Z",
     "iopub.status.idle": "2024-03-27T15:09:11.496239Z",
     "shell.execute_reply": "2024-03-27T15:09:11.495437Z"
    }
   },
   "source": [
    "training_blocking_rule = block_on(\"dob\")\n",
    "training_session_dob = linker.estimate_parameters_using_expectation_maximisation(\n",
    "    training_blocking_rule\n",
    ")"
   ],
   "outputs": []
  },
  {
   "cell_type": "markdown",
   "id": "efdb0c5f",
   "metadata": {},
   "source": [
    "Note that Splink includes other algorithms for estimating m and u values, which are documented [here](https://moj-analytical-services.github.io/splink/linkerest.html).\n"
   ]
  },
  {
   "cell_type": "markdown",
   "id": "38355535",
   "metadata": {},
   "source": [
    "## Visualising model parameters\n",
    "\n",
    "Splink can generate a number of charts to help you understand your model. For an introduction to these charts and how to interpret them, please see [this](https://www.youtube.com/watch?v=msz3T741KQI&t=507s) video.\n",
    "\n",
    "The final estimated match weights can be viewed in the match weights chart:\n"
   ]
  },
  {
   "cell_type": "code",
   "execution_count": 10,
   "id": "3a1e15cc",
   "metadata": {
    "execution": {
     "iopub.execute_input": "2024-03-27T15:09:11.501712Z",
     "iopub.status.busy": "2024-03-27T15:09:11.501410Z",
     "iopub.status.idle": "2024-03-27T15:09:11.841320Z",
     "shell.execute_reply": "2024-03-27T15:09:11.840665Z"
    }
   },
   "source": [
    "linker.match_weights_chart()"
   ],
   "outputs": []
  },
  {
   "cell_type": "code",
   "execution_count": 11,
   "id": "8576c042",
   "metadata": {
    "execution": {
     "iopub.execute_input": "2024-03-27T15:09:11.844657Z",
     "iopub.status.busy": "2024-03-27T15:09:11.844394Z",
     "iopub.status.idle": "2024-03-27T15:09:12.028408Z",
     "shell.execute_reply": "2024-03-27T15:09:12.027671Z"
    }
   },
   "source": [
    "linker.m_u_parameters_chart()"
   ],
   "outputs": []
  },
  {
   "cell_type": "markdown",
   "id": "c44fcc26",
   "metadata": {},
   "source": [
    "### Saving the model\n",
    "\n",
    "We can save the model, including our estimated parameters, to a `.json` file, so we can use it in the next tutorial.\n"
   ]
  },
  {
   "cell_type": "code",
   "execution_count": 12,
   "id": "992703a7",
   "metadata": {
    "execution": {
     "iopub.execute_input": "2024-03-27T15:09:12.032891Z",
     "iopub.status.busy": "2024-03-27T15:09:12.032545Z",
     "iopub.status.idle": "2024-03-27T15:09:12.039615Z",
     "shell.execute_reply": "2024-03-27T15:09:12.038749Z"
    }
   },
   "source": [
    "settings = linker.save_model_to_json(\n",
    "    \"../demo_settings/saved_model_from_demo.json\", overwrite=True\n",
    ")"
   ],
   "outputs": []
  },
  {
   "cell_type": "markdown",
   "id": "d07e6901-110f-449e-9534-8e24bbf1d5fb",
   "metadata": {},
   "source": [
    "## Detecting unlinkable records\n",
    "\n",
    "An interesting application of our trained model that is useful to explore before making any predictions is to detect 'unlinkable' records.\n",
    "\n",
    "Unlinkable records are those which do not contain enough information to be linked. A simple example would be a record containing only 'John Smith', and null in all other fields. This record may link to other records, but we'll never know because there's not enough information to disambiguate any potential links. Unlinkable records can be found by linking records to themselves - if, even when matched to themselves, they don't meet the match threshold score, we can be sure they will never link to anything.\n"
   ]
  },
  {
   "cell_type": "code",
   "execution_count": 13,
   "id": "b0f17f7c-fa83-41b5-b2da-25ae18e11d81",
   "metadata": {
    "execution": {
     "iopub.execute_input": "2024-03-27T15:09:12.044301Z",
     "iopub.status.busy": "2024-03-27T15:09:12.043941Z",
     "iopub.status.idle": "2024-03-27T15:09:12.352584Z",
     "shell.execute_reply": "2024-03-27T15:09:12.352012Z"
    }
   },
   "source": [
    "linker.unlinkables_chart()"
   ],
   "outputs": []
  },
  {
   "cell_type": "markdown",
   "id": "ca2570b7-9f68-4fb2-b7a9-527233a8fcd4",
   "metadata": {},
   "source": [
    "In the above chart, we can see that about 1.3% of records in the input dataset are unlinkable at a threshold match weight of 6.11 (correponding to a match probability of around 98.6%)\n"
   ]
  },
  {
   "cell_type": "markdown",
   "id": "83fd8e7f",
   "metadata": {},
   "source": [
    "!!! note \"Further Reading\"\n",
    "\n",
    "    :material-tools: For more on the model estimation tools in Splink, please refer to the [Model Training API documentation](../../linkerest.md).\n",
    "\n",
    "    :simple-readme: For a deeper dive on:\n",
    "\n",
    "    * choosing comparisons, please refer to the [Comparisons Topic Guides](../../topic_guides/comparisons/customising_comparisons.ipynb)\n",
    "    * the underlying model theory, please refer to the [Fellegi Sunter Topic Guide](../../topic_guides/theory/fellegi_sunter.md)\n",
    "    * model training, please refer to the Model Training Topic Guides (Coming Soon).\n",
    "\n",
    "    :bar_chart: For more on the charts used in this tutorial, please refer to the [Charts Gallery](../../charts/index.md#model-training).\n"
   ]
  },
  {
   "cell_type": "markdown",
   "id": "fd531cd2",
   "metadata": {},
   "source": [
    "## Next steps\n",
    "\n",
    "Now we have trained a model, we can move on to using it predict matching records.\n"
   ]
  }
 ],
 "metadata": {
  "kernelspec": {
   "display_name": ".venv",
   "language": "python",
   "name": "python3"
  },
  "language_info": {
   "codemirror_mode": {
    "name": "ipython",
    "version": 3
   },
   "file_extension": ".py",
   "mimetype": "text/x-python",
   "name": "python",
   "nbconvert_exporter": "python",
   "pygments_lexer": "ipython3",
   "version": "3.10.8"
  }
 },
 "nbformat": 4,
 "nbformat_minor": 5
}
