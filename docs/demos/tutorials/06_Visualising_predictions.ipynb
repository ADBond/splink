{
 "cells": [
  {
   "cell_type": "markdown",
   "id": "f110e018",
   "metadata": {},
   "source": [
    "# Visualising predictions\n",
    "\n",
    "Splink contains a variety of tools to help you visualise your predictions.\n",
    "\n",
    "The idea is that, by developing an understanding of how your model works, you can gain confidence that the predictions it makes are sensible, or alternatively find examples of where your model isn't working, which may help you improve the model specification and fix these problems.\n",
    "\n"
   ]
  },
  {
   "cell_type": "code",
   "execution_count": 1,
   "id": "fb29d421",
   "metadata": {
    "tags": []
   },
   "outputs": [],
   "source": [
    "# Rerun our predictions to we're ready to view the charts\n",
    "from splink.linker import Linker\n",
    "from splink.duckdb.database_api import DuckDBAPI\n",
    "\n",
    "from splink.datasets import splink_datasets\n",
    "\n",
    "import pandas as pd\n",
    "pd.options.display.max_columns = 1000\n",
    "\n",
    "db_api = DuckDBAPI()\n",
    "df = splink_datasets.fake_1000\n",
    "\n",
    "linker = Linker(df, \"../demo_settings/saved_model_from_demo.json\", database_api=db_api)\n",
    "\n",
    "df_predictions = linker.predict(threshold_match_probability=0.2)"
   ]
  },
  {
   "cell_type": "markdown",
   "id": "7b0dedd9",
   "metadata": {},
   "source": [
    "## Waterfall chart\n",
    "\n",
    "The waterfall chart provides a means of visualising individual predictions to understand how Splink computed the final matchweight for a particular pairwise record comparison.\n",
    "\n",
    "To plot a waterfall chart, the user chooses one or more records from the results of `linker.predict()`, and provides these records to the [`linker.waterfall_chart()`](https://moj-analytical-services.github.io/splink/linkerqa.html#splink.linker.Linker.waterfall_chart) function.\n",
    "\n",
    "For an introduction to waterfall charts and how to interpret them, please see [this](https://www.youtube.com/watch?v=msz3T741KQI&t=507s) video."
   ]
  },
  {
   "cell_type": "code",
   "execution_count": 2,
   "id": "bbfdc70c",
   "metadata": {
    "tags": []
   },
   "outputs": [
    {
     "data": {
      "text/html": [
       "\n",
       "<style>\n",
       "  #altair-viz-b76f03b218164575a5428012cf6d00cf.vega-embed {\n",
       "    width: 100%;\n",
       "    display: flex;\n",
       "  }\n",
       "\n",
       "  #altair-viz-b76f03b218164575a5428012cf6d00cf.vega-embed details,\n",
       "  #altair-viz-b76f03b218164575a5428012cf6d00cf.vega-embed details summary {\n",
       "    position: relative;\n",
       "  }\n",
       "</style>\n",
       "<div id=\"altair-viz-b76f03b218164575a5428012cf6d00cf\"></div>\n",
       "<script type=\"text/javascript\">\n",
       "  var VEGA_DEBUG = (typeof VEGA_DEBUG == \"undefined\") ? {} : VEGA_DEBUG;\n",
       "  (function(spec, embedOpt){\n",
       "    let outputDiv = document.currentScript.previousElementSibling;\n",
       "    if (outputDiv.id !== \"altair-viz-b76f03b218164575a5428012cf6d00cf\") {\n",
       "      outputDiv = document.getElementById(\"altair-viz-b76f03b218164575a5428012cf6d00cf\");\n",
       "    }\n",
       "    const paths = {\n",
       "      \"vega\": \"https://cdn.jsdelivr.net/npm/vega@5?noext\",\n",
       "      \"vega-lib\": \"https://cdn.jsdelivr.net/npm/vega-lib?noext\",\n",
       "      \"vega-lite\": \"https://cdn.jsdelivr.net/npm/vega-lite@5.14.1?noext\",\n",
       "      \"vega-embed\": \"https://cdn.jsdelivr.net/npm/vega-embed@6?noext\",\n",
       "    };\n",
       "\n",
       "    function maybeLoadScript(lib, version) {\n",
       "      var key = `${lib.replace(\"-\", \"\")}_version`;\n",
       "      return (VEGA_DEBUG[key] == version) ?\n",
       "        Promise.resolve(paths[lib]) :\n",
       "        new Promise(function(resolve, reject) {\n",
       "          var s = document.createElement('script');\n",
       "          document.getElementsByTagName(\"head\")[0].appendChild(s);\n",
       "          s.async = true;\n",
       "          s.onload = () => {\n",
       "            VEGA_DEBUG[key] = version;\n",
       "            return resolve(paths[lib]);\n",
       "          };\n",
       "          s.onerror = () => reject(`Error loading script: ${paths[lib]}`);\n",
       "          s.src = paths[lib];\n",
       "        });\n",
       "    }\n",
       "\n",
       "    function showError(err) {\n",
       "      outputDiv.innerHTML = `<div class=\"error\" style=\"color:red;\">${err}</div>`;\n",
       "      throw err;\n",
       "    }\n",
       "\n",
       "    function displayChart(vegaEmbed) {\n",
       "      vegaEmbed(outputDiv, spec, embedOpt)\n",
       "        .catch(err => showError(`Javascript Error: ${err.message}<br>This usually means there's a typo in your chart specification. See the javascript console for the full traceback.`));\n",
       "    }\n",
       "\n",
       "    if(typeof define === \"function\" && define.amd) {\n",
       "      requirejs.config({paths});\n",
       "      require([\"vega-embed\"], displayChart, err => showError(`Error loading script: ${err.message}`));\n",
       "    } else {\n",
       "      maybeLoadScript(\"vega\", \"5\")\n",
       "        .then(() => maybeLoadScript(\"vega-lite\", \"5.14.1\"))\n",
       "        .then(() => maybeLoadScript(\"vega-embed\", \"6\"))\n",
       "        .catch(showError)\n",
       "        .then(() => displayChart(vegaEmbed));\n",
       "    }\n",
       "  })({\"config\": {\"view\": {\"continuousWidth\": 400, \"continuousHeight\": 300}}, \"layer\": [{\"layer\": [{\"mark\": \"rule\", \"encoding\": {\"color\": {\"value\": \"black\"}, \"size\": {\"value\": 0.5}, \"y\": {\"field\": \"zero\", \"type\": \"quantitative\"}}}, {\"mark\": {\"type\": \"bar\", \"width\": 60}, \"encoding\": {\"color\": {\"condition\": {\"test\": \"(datum.log2_bayes_factor < 0)\", \"value\": \"red\"}, \"value\": \"green\"}, \"opacity\": {\"condition\": {\"test\": \"datum.column_name == 'Prior match weight' || datum.column_name == 'Final score'\", \"value\": 1}, \"value\": 0.5}, \"tooltip\": [{\"field\": \"column_name\", \"title\": \"Comparison column\", \"type\": \"nominal\"}, {\"field\": \"value_l\", \"title\": \"Value (L)\", \"type\": \"nominal\"}, {\"field\": \"value_r\", \"title\": \"Value (R)\", \"type\": \"nominal\"}, {\"field\": \"label_for_charts\", \"title\": \"Label\", \"type\": \"ordinal\"}, {\"field\": \"sql_condition\", \"title\": \"SQL condition\", \"type\": \"nominal\"}, {\"field\": \"comparison_vector_value\", \"title\": \"Comparison vector value\", \"type\": \"nominal\"}, {\"field\": \"bayes_factor\", \"format\": \",.4f\", \"title\": \"Bayes factor = m/u\", \"type\": \"quantitative\"}, {\"field\": \"log2_bayes_factor\", \"format\": \",.4f\", \"title\": \"Match weight = log2(m/u)\", \"type\": \"quantitative\"}, {\"field\": \"prob\", \"format\": \".4f\", \"title\": \"Cumulative match probability\", \"type\": \"quantitative\"}, {\"field\": \"bayes_factor_description\", \"title\": \"Match weight description\", \"type\": \"nominal\"}], \"x\": {\"axis\": {\"grid\": true, \"labelAlign\": \"center\", \"labelAngle\": -20, \"labelExpr\": \"datum.value == 'Prior' || datum.value == 'Final score' ? '' : datum.value\", \"labelPadding\": 10, \"tickBand\": \"extent\", \"title\": \"Column\"}, \"field\": \"column_name\", \"sort\": {\"field\": \"bar_sort_order\", \"order\": \"ascending\"}, \"type\": \"nominal\"}, \"y\": {\"axis\": {\"grid\": false, \"orient\": \"left\", \"title\": \"Match Weight\"}, \"field\": \"previous_sum\", \"type\": \"quantitative\"}, \"y2\": {\"field\": \"sum\"}}}, {\"mark\": {\"type\": \"text\", \"fontWeight\": \"bold\"}, \"encoding\": {\"color\": {\"value\": \"white\"}, \"text\": {\"condition\": {\"test\": \"abs(datum.log2_bayes_factor) > 1\", \"field\": \"log2_bayes_factor\", \"format\": \".2f\", \"type\": \"nominal\"}, \"value\": \"\"}, \"x\": {\"axis\": {\"labelAngle\": -20, \"title\": \"Column\"}, \"field\": \"column_name\", \"sort\": {\"field\": \"bar_sort_order\", \"order\": \"ascending\"}, \"type\": \"nominal\"}, \"y\": {\"axis\": {\"orient\": \"left\"}, \"field\": \"center\", \"type\": \"quantitative\"}}}, {\"mark\": {\"type\": \"text\", \"baseline\": \"bottom\", \"dy\": -25, \"fontWeight\": \"bold\"}, \"encoding\": {\"color\": {\"value\": \"black\"}, \"text\": {\"field\": \"column_name\", \"type\": \"nominal\"}, \"x\": {\"axis\": {\"labelAngle\": -20, \"title\": \"Column\"}, \"field\": \"column_name\", \"sort\": {\"field\": \"bar_sort_order\", \"order\": \"ascending\"}, \"type\": \"nominal\"}, \"y\": {\"field\": \"sum_top\", \"type\": \"quantitative\"}}}, {\"mark\": {\"type\": \"text\", \"baseline\": \"bottom\", \"dy\": -13, \"fontSize\": 8}, \"encoding\": {\"color\": {\"value\": \"grey\"}, \"text\": {\"field\": \"value_l\", \"type\": \"nominal\"}, \"x\": {\"axis\": {\"labelAngle\": -20, \"title\": \"Column\"}, \"field\": \"column_name\", \"sort\": {\"field\": \"bar_sort_order\", \"order\": \"ascending\"}, \"type\": \"nominal\"}, \"y\": {\"field\": \"sum_top\", \"type\": \"quantitative\"}}}, {\"mark\": {\"type\": \"text\", \"baseline\": \"bottom\", \"dy\": -5, \"fontSize\": 8}, \"encoding\": {\"color\": {\"value\": \"grey\"}, \"text\": {\"field\": \"value_r\", \"type\": \"nominal\"}, \"x\": {\"axis\": {\"labelAngle\": -20, \"title\": \"Column\"}, \"field\": \"column_name\", \"sort\": {\"field\": \"bar_sort_order\", \"order\": \"ascending\"}, \"type\": \"nominal\"}, \"y\": {\"field\": \"sum_top\", \"type\": \"quantitative\"}}}]}, {\"mark\": {\"type\": \"rule\", \"color\": \"black\", \"strokeWidth\": 2, \"x2Offset\": 30, \"xOffset\": -30}, \"encoding\": {\"x\": {\"axis\": {\"labelAngle\": -20, \"title\": \"Column\"}, \"field\": \"column_name\", \"sort\": {\"field\": \"bar_sort_order\", \"order\": \"ascending\"}, \"type\": \"nominal\"}, \"x2\": {\"field\": \"lead\"}, \"y\": {\"axis\": {\"labelExpr\": \"format(1 / (1 + pow(2, -1*datum.value)), '.2r')\", \"orient\": \"right\", \"title\": \"Probability\"}, \"field\": \"sum\", \"scale\": {\"zero\": false}, \"type\": \"quantitative\"}}}], \"data\": {\"name\": \"data-dbbfda70ec08462df6210b11ac282b0d\"}, \"height\": 450, \"params\": [{\"name\": \"record_number\", \"bind\": {\"input\": \"range\", \"max\": 4, \"min\": 0, \"step\": 1}, \"value\": 0}], \"resolve\": {\"axis\": {\"y\": \"independent\"}}, \"title\": {\"text\": \"Match weights waterfall chart\", \"subtitle\": \"How each comparison contributes to the final match score\"}, \"transform\": [{\"filter\": \"(datum.record_number == record_number)\"}, {\"window\": [{\"op\": \"sum\", \"field\": \"log2_bayes_factor\", \"as\": \"sum\"}, {\"op\": \"lead\", \"field\": \"column_name\", \"as\": \"lead\"}], \"frame\": [null, 0]}, {\"calculate\": \"datum.column_name === \\\"Final score\\\" ? datum.sum - datum.log2_bayes_factor : datum.sum\", \"as\": \"sum\"}, {\"calculate\": \"datum.lead === null ? datum.column_name : datum.lead\", \"as\": \"lead\"}, {\"calculate\": \"datum.column_name === \\\"Final score\\\" || datum.column_name === \\\"Prior match weight\\\" ? 0 : datum.sum - datum.log2_bayes_factor\", \"as\": \"previous_sum\"}, {\"calculate\": \"datum.sum > datum.previous_sum ? datum.column_name : \\\"\\\"\", \"as\": \"top_label\"}, {\"calculate\": \"datum.sum < datum.previous_sum ? datum.column_name : \\\"\\\"\", \"as\": \"bottom_label\"}, {\"calculate\": \"datum.sum > datum.previous_sum ? datum.sum : datum.previous_sum\", \"as\": \"sum_top\"}, {\"calculate\": \"datum.sum < datum.previous_sum ? datum.sum : datum.previous_sum\", \"as\": \"sum_bottom\"}, {\"calculate\": \"(datum.sum + datum.previous_sum) / 2\", \"as\": \"center\"}, {\"calculate\": \"(datum.log2_bayes_factor > 0 ? \\\"+\\\" : \\\"\\\") + datum.log2_bayes_factor\", \"as\": \"text_log2_bayes_factor\"}, {\"calculate\": \"datum.sum < datum.previous_sum ? 4 : -4\", \"as\": \"dy\"}, {\"calculate\": \"datum.sum < datum.previous_sum ? \\\"top\\\" : \\\"bottom\\\"\", \"as\": \"baseline\"}, {\"calculate\": \"1. / (1 + pow(2, -1.*datum.sum))\", \"as\": \"prob\"}, {\"calculate\": \"0*datum.sum\", \"as\": \"zero\"}], \"width\": {\"step\": 75}, \"$schema\": \"https://vega.github.io/schema/vega-lite/v5.9.3.json\", \"datasets\": {\"data-dbbfda70ec08462df6210b11ac282b0d\": [{\"column_name\": \"Prior\", \"label_for_charts\": \"Starting match weight (prior)\", \"sql_condition\": null, \"log2_bayes_factor\": -8.224622793739668, \"bayes_factor\": 0.0033430420247643373, \"comparison_vector_value\": null, \"m_probability\": null, \"u_probability\": null, \"bayes_factor_description\": null, \"value_l\": \"\", \"value_r\": \"\", \"term_frequency_adjustment\": null, \"bar_sort_order\": 0, \"record_number\": 0}, {\"column_name\": \"first_name\", \"label_for_charts\": \"Exact match on first_name\", \"sql_condition\": \"\\\"first_name_l\\\" = \\\"first_name_r\\\"\", \"log2_bayes_factor\": 6.39814010600916, \"bayes_factor\": 84.33970708679004, \"comparison_vector_value\": 3, \"m_probability\": 0.48862811465183914, \"u_probability\": 0.0057935713975033705, \"bayes_factor_description\": \"If comparison level is `exact match on first_name` then comparison is 84.34 times more likely to be a match\", \"value_l\": \"Toby\", \"value_r\": \"Toby\", \"term_frequency_adjustment\": false, \"bar_sort_order\": 1, \"record_number\": 0}, {\"column_name\": \"surname\", \"label_for_charts\": \"surname is NULL\", \"sql_condition\": \"\\\"surname_l\\\" IS NULL OR \\\"surname_r\\\" IS NULL\", \"log2_bayes_factor\": 0.0, \"bayes_factor\": 1.0, \"comparison_vector_value\": -1, \"m_probability\": null, \"u_probability\": null, \"bayes_factor_description\": \"If comparison level is `surname is null` then comparison is 1.00 times more likely to be a match\", \"value_l\": \"Haall\", \"value_r\": \"None\", \"term_frequency_adjustment\": false, \"bar_sort_order\": 2, \"record_number\": 0}, {\"column_name\": \"dob\", \"label_for_charts\": \"All other comparisons\", \"sql_condition\": \"ELSE\", \"log2_bayes_factor\": -1.117835324063533, \"bayes_factor\": 0.4607846862095163, \"comparison_vector_value\": 0, \"m_probability\": 0.4592413573205703, \"u_probability\": 0.9966506506506506, \"bayes_factor_description\": \"If comparison level is `all other comparisons` then comparison is  2.17 times less likely to be a match\", \"value_l\": \"2003-04-23\", \"value_r\": \"2013-03-21\", \"term_frequency_adjustment\": false, \"bar_sort_order\": 3, \"record_number\": 0}, {\"column_name\": \"city\", \"label_for_charts\": \"Exact match on city\", \"sql_condition\": \"\\\"city_l\\\" = \\\"city_r\\\"\", \"log2_bayes_factor\": 3.349864965506074, \"bayes_factor\": 10.195530684671827, \"comparison_vector_value\": 1, \"m_probability\": 0.5622587541522951, \"u_probability\": 0.0551475711801453, \"bayes_factor_description\": \"If comparison level is `exact match on city` then comparison is 10.20 times more likely to be a match\", \"value_l\": \"London\", \"value_r\": \"London\", \"term_frequency_adjustment\": false, \"bar_sort_order\": 4, \"record_number\": 0}, {\"column_name\": \"tf_city\", \"label_for_charts\": \"Term freq adjustment on city with weight {cl.tf_adjustment_weight}\", \"sql_condition\": \"\\\"city_l\\\" = \\\"city_r\\\"\", \"log2_bayes_factor\": -1.948075527570922, \"bayes_factor\": 0.2591617073379083, \"comparison_vector_value\": 1, \"m_probability\": null, \"u_probability\": null, \"bayes_factor_description\": \"Term frequency adjustment on city makes comparison  3.86 times less likely to be a match\", \"value_l\": \"London\", \"value_r\": \"London\", \"term_frequency_adjustment\": true, \"bar_sort_order\": 5, \"record_number\": 0}, {\"column_name\": \"email\", \"label_for_charts\": \"email is NULL\", \"sql_condition\": \"\\\"email_l\\\" IS NULL OR \\\"email_r\\\" IS NULL\", \"log2_bayes_factor\": 0.0, \"bayes_factor\": 1.0, \"comparison_vector_value\": -1, \"m_probability\": null, \"u_probability\": null, \"bayes_factor_description\": \"If comparison level is `email is null` then comparison is 1.00 times more likely to be a match\", \"value_l\": \"None\", \"value_r\": \"None\", \"term_frequency_adjustment\": false, \"bar_sort_order\": 6, \"record_number\": 0}, {\"column_name\": \"Final score\", \"label_for_charts\": \"Final score\", \"sql_condition\": null, \"log2_bayes_factor\": -1.542528573858888, \"bayes_factor\": 0.3432832633709333, \"comparison_vector_value\": null, \"m_probability\": null, \"u_probability\": null, \"bayes_factor_description\": null, \"value_l\": \"\", \"value_r\": \"\", \"term_frequency_adjustment\": null, \"bar_sort_order\": 7, \"record_number\": 0}, {\"column_name\": \"Prior\", \"label_for_charts\": \"Starting match weight (prior)\", \"sql_condition\": null, \"log2_bayes_factor\": -8.224622793739668, \"bayes_factor\": 0.0033430420247643373, \"comparison_vector_value\": null, \"m_probability\": null, \"u_probability\": null, \"bayes_factor_description\": null, \"value_l\": \"\", \"value_r\": \"\", \"term_frequency_adjustment\": null, \"bar_sort_order\": 0, \"record_number\": 1}, {\"column_name\": \"first_name\", \"label_for_charts\": \"Exact match on first_name\", \"sql_condition\": \"\\\"first_name_l\\\" = \\\"first_name_r\\\"\", \"log2_bayes_factor\": 6.39814010600916, \"bayes_factor\": 84.33970708679004, \"comparison_vector_value\": 3, \"m_probability\": 0.48862811465183914, \"u_probability\": 0.0057935713975033705, \"bayes_factor_description\": \"If comparison level is `exact match on first_name` then comparison is 84.34 times more likely to be a match\", \"value_l\": \"Toby\", \"value_r\": \"Toby\", \"term_frequency_adjustment\": false, \"bar_sort_order\": 1, \"record_number\": 1}, {\"column_name\": \"surname\", \"label_for_charts\": \"surname is NULL\", \"sql_condition\": \"\\\"surname_l\\\" IS NULL OR \\\"surname_r\\\" IS NULL\", \"log2_bayes_factor\": 0.0, \"bayes_factor\": 1.0, \"comparison_vector_value\": -1, \"m_probability\": null, \"u_probability\": null, \"bayes_factor_description\": \"If comparison level is `surname is null` then comparison is 1.00 times more likely to be a match\", \"value_l\": \"None\", \"value_r\": \"None\", \"term_frequency_adjustment\": false, \"bar_sort_order\": 2, \"record_number\": 1}, {\"column_name\": \"dob\", \"label_for_charts\": \"All other comparisons\", \"sql_condition\": \"ELSE\", \"log2_bayes_factor\": -1.117835324063533, \"bayes_factor\": 0.4607846862095163, \"comparison_vector_value\": 0, \"m_probability\": 0.4592413573205703, \"u_probability\": 0.9966506506506506, \"bayes_factor_description\": \"If comparison level is `all other comparisons` then comparison is  2.17 times less likely to be a match\", \"value_l\": \"2003-04-23\", \"value_r\": \"2013-03-21\", \"term_frequency_adjustment\": false, \"bar_sort_order\": 3, \"record_number\": 1}, {\"column_name\": \"city\", \"label_for_charts\": \"Exact match on city\", \"sql_condition\": \"\\\"city_l\\\" = \\\"city_r\\\"\", \"log2_bayes_factor\": 3.349864965506074, \"bayes_factor\": 10.195530684671827, \"comparison_vector_value\": 1, \"m_probability\": 0.5622587541522951, \"u_probability\": 0.0551475711801453, \"bayes_factor_description\": \"If comparison level is `exact match on city` then comparison is 10.20 times more likely to be a match\", \"value_l\": \"London\", \"value_r\": \"London\", \"term_frequency_adjustment\": false, \"bar_sort_order\": 4, \"record_number\": 1}, {\"column_name\": \"tf_city\", \"label_for_charts\": \"Term freq adjustment on city with weight {cl.tf_adjustment_weight}\", \"sql_condition\": \"\\\"city_l\\\" = \\\"city_r\\\"\", \"log2_bayes_factor\": -1.948075527570922, \"bayes_factor\": 0.2591617073379083, \"comparison_vector_value\": 1, \"m_probability\": null, \"u_probability\": null, \"bayes_factor_description\": \"Term frequency adjustment on city makes comparison  3.86 times less likely to be a match\", \"value_l\": \"London\", \"value_r\": \"London\", \"term_frequency_adjustment\": true, \"bar_sort_order\": 5, \"record_number\": 1}, {\"column_name\": \"email\", \"label_for_charts\": \"email is NULL\", \"sql_condition\": \"\\\"email_l\\\" IS NULL OR \\\"email_r\\\" IS NULL\", \"log2_bayes_factor\": 0.0, \"bayes_factor\": 1.0, \"comparison_vector_value\": -1, \"m_probability\": null, \"u_probability\": null, \"bayes_factor_description\": \"If comparison level is `email is null` then comparison is 1.00 times more likely to be a match\", \"value_l\": \"toby.d@menhez.com\", \"value_r\": \"None\", \"term_frequency_adjustment\": false, \"bar_sort_order\": 6, \"record_number\": 1}, {\"column_name\": \"Final score\", \"label_for_charts\": \"Final score\", \"sql_condition\": null, \"log2_bayes_factor\": -1.542528573858888, \"bayes_factor\": 0.3432832633709333, \"comparison_vector_value\": null, \"m_probability\": null, \"u_probability\": null, \"bayes_factor_description\": null, \"value_l\": \"\", \"value_r\": \"\", \"term_frequency_adjustment\": null, \"bar_sort_order\": 7, \"record_number\": 1}, {\"column_name\": \"Prior\", \"label_for_charts\": \"Starting match weight (prior)\", \"sql_condition\": null, \"log2_bayes_factor\": -8.224622793739668, \"bayes_factor\": 0.0033430420247643373, \"comparison_vector_value\": null, \"m_probability\": null, \"u_probability\": null, \"bayes_factor_description\": null, \"value_l\": \"\", \"value_r\": \"\", \"term_frequency_adjustment\": null, \"bar_sort_order\": 0, \"record_number\": 2}, {\"column_name\": \"first_name\", \"label_for_charts\": \"Exact match on first_name\", \"sql_condition\": \"\\\"first_name_l\\\" = \\\"first_name_r\\\"\", \"log2_bayes_factor\": 6.39814010600916, \"bayes_factor\": 84.33970708679004, \"comparison_vector_value\": 3, \"m_probability\": 0.48862811465183914, \"u_probability\": 0.0057935713975033705, \"bayes_factor_description\": \"If comparison level is `exact match on first_name` then comparison is 84.34 times more likely to be a match\", \"value_l\": \"Kai\", \"value_r\": \"Kai\", \"term_frequency_adjustment\": false, \"bar_sort_order\": 1, \"record_number\": 2}, {\"column_name\": \"surname\", \"label_for_charts\": \"surname is NULL\", \"sql_condition\": \"\\\"surname_l\\\" IS NULL OR \\\"surname_r\\\" IS NULL\", \"log2_bayes_factor\": 0.0, \"bayes_factor\": 1.0, \"comparison_vector_value\": -1, \"m_probability\": null, \"u_probability\": null, \"bayes_factor_description\": \"If comparison level is `surname is null` then comparison is 1.00 times more likely to be a match\", \"value_l\": \"None\", \"value_r\": \"Turner\", \"term_frequency_adjustment\": false, \"bar_sort_order\": 2, \"record_number\": 2}, {\"column_name\": \"dob\", \"label_for_charts\": \"All other comparisons\", \"sql_condition\": \"ELSE\", \"log2_bayes_factor\": -1.117835324063533, \"bayes_factor\": 0.4607846862095163, \"comparison_vector_value\": 0, \"m_probability\": 0.4592413573205703, \"u_probability\": 0.9966506506506506, \"bayes_factor_description\": \"If comparison level is `all other comparisons` then comparison is  2.17 times less likely to be a match\", \"value_l\": \"2018-12-31\", \"value_r\": \"2009-11-03\", \"term_frequency_adjustment\": false, \"bar_sort_order\": 3, \"record_number\": 2}, {\"column_name\": \"city\", \"label_for_charts\": \"Exact match on city\", \"sql_condition\": \"\\\"city_l\\\" = \\\"city_r\\\"\", \"log2_bayes_factor\": 3.349864965506074, \"bayes_factor\": 10.195530684671827, \"comparison_vector_value\": 1, \"m_probability\": 0.5622587541522951, \"u_probability\": 0.0551475711801453, \"bayes_factor_description\": \"If comparison level is `exact match on city` then comparison is 10.20 times more likely to be a match\", \"value_l\": \"London\", \"value_r\": \"London\", \"term_frequency_adjustment\": false, \"bar_sort_order\": 4, \"record_number\": 2}, {\"column_name\": \"tf_city\", \"label_for_charts\": \"Term freq adjustment on city with weight {cl.tf_adjustment_weight}\", \"sql_condition\": \"\\\"city_l\\\" = \\\"city_r\\\"\", \"log2_bayes_factor\": -1.948075527570922, \"bayes_factor\": 0.2591617073379083, \"comparison_vector_value\": 1, \"m_probability\": null, \"u_probability\": null, \"bayes_factor_description\": \"Term frequency adjustment on city makes comparison  3.86 times less likely to be a match\", \"value_l\": \"London\", \"value_r\": \"London\", \"term_frequency_adjustment\": true, \"bar_sort_order\": 5, \"record_number\": 2}, {\"column_name\": \"email\", \"label_for_charts\": \"email is NULL\", \"sql_condition\": \"\\\"email_l\\\" IS NULL OR \\\"email_r\\\" IS NULL\", \"log2_bayes_factor\": 0.0, \"bayes_factor\": 1.0, \"comparison_vector_value\": -1, \"m_probability\": null, \"u_probability\": null, \"bayes_factor_description\": \"If comparison level is `email is null` then comparison is 1.00 times more likely to be a match\", \"value_l\": \"k.t50eherand@z.ncom\", \"value_r\": \"None\", \"term_frequency_adjustment\": false, \"bar_sort_order\": 6, \"record_number\": 2}, {\"column_name\": \"Final score\", \"label_for_charts\": \"Final score\", \"sql_condition\": null, \"log2_bayes_factor\": -1.542528573858888, \"bayes_factor\": 0.3432832633709333, \"comparison_vector_value\": null, \"m_probability\": null, \"u_probability\": null, \"bayes_factor_description\": null, \"value_l\": \"\", \"value_r\": \"\", \"term_frequency_adjustment\": null, \"bar_sort_order\": 7, \"record_number\": 2}, {\"column_name\": \"Prior\", \"label_for_charts\": \"Starting match weight (prior)\", \"sql_condition\": null, \"log2_bayes_factor\": -8.224622793739668, \"bayes_factor\": 0.0033430420247643373, \"comparison_vector_value\": null, \"m_probability\": null, \"u_probability\": null, \"bayes_factor_description\": null, \"value_l\": \"\", \"value_r\": \"\", \"term_frequency_adjustment\": null, \"bar_sort_order\": 0, \"record_number\": 3}, {\"column_name\": \"first_name\", \"label_for_charts\": \"Exact match on first_name\", \"sql_condition\": \"\\\"first_name_l\\\" = \\\"first_name_r\\\"\", \"log2_bayes_factor\": 6.39814010600916, \"bayes_factor\": 84.33970708679004, \"comparison_vector_value\": 3, \"m_probability\": 0.48862811465183914, \"u_probability\": 0.0057935713975033705, \"bayes_factor_description\": \"If comparison level is `exact match on first_name` then comparison is 84.34 times more likely to be a match\", \"value_l\": \"Logan\", \"value_r\": \"Logan\", \"term_frequency_adjustment\": false, \"bar_sort_order\": 1, \"record_number\": 3}, {\"column_name\": \"surname\", \"label_for_charts\": \"surname is NULL\", \"sql_condition\": \"\\\"surname_l\\\" IS NULL OR \\\"surname_r\\\" IS NULL\", \"log2_bayes_factor\": 0.0, \"bayes_factor\": 1.0, \"comparison_vector_value\": -1, \"m_probability\": null, \"u_probability\": null, \"bayes_factor_description\": \"If comparison level is `surname is null` then comparison is 1.00 times more likely to be a match\", \"value_l\": \"Ferguson\", \"value_r\": \"None\", \"term_frequency_adjustment\": false, \"bar_sort_order\": 2, \"record_number\": 3}, {\"column_name\": \"dob\", \"label_for_charts\": \"All other comparisons\", \"sql_condition\": \"ELSE\", \"log2_bayes_factor\": -1.117835324063533, \"bayes_factor\": 0.4607846862095163, \"comparison_vector_value\": 0, \"m_probability\": 0.4592413573205703, \"u_probability\": 0.9966506506506506, \"bayes_factor_description\": \"If comparison level is `all other comparisons` then comparison is  2.17 times less likely to be a match\", \"value_l\": \"2013-10-15\", \"value_r\": \"1991-04-14\", \"term_frequency_adjustment\": false, \"bar_sort_order\": 3, \"record_number\": 3}, {\"column_name\": \"city\", \"label_for_charts\": \"Exact match on city\", \"sql_condition\": \"\\\"city_l\\\" = \\\"city_r\\\"\", \"log2_bayes_factor\": 3.349864965506074, \"bayes_factor\": 10.195530684671827, \"comparison_vector_value\": 1, \"m_probability\": 0.5622587541522951, \"u_probability\": 0.0551475711801453, \"bayes_factor_description\": \"If comparison level is `exact match on city` then comparison is 10.20 times more likely to be a match\", \"value_l\": \"London\", \"value_r\": \"London\", \"term_frequency_adjustment\": false, \"bar_sort_order\": 4, \"record_number\": 3}, {\"column_name\": \"tf_city\", \"label_for_charts\": \"Term freq adjustment on city with weight {cl.tf_adjustment_weight}\", \"sql_condition\": \"\\\"city_l\\\" = \\\"city_r\\\"\", \"log2_bayes_factor\": -1.948075527570922, \"bayes_factor\": 0.2591617073379083, \"comparison_vector_value\": 1, \"m_probability\": null, \"u_probability\": null, \"bayes_factor_description\": \"Term frequency adjustment on city makes comparison  3.86 times less likely to be a match\", \"value_l\": \"London\", \"value_r\": \"London\", \"term_frequency_adjustment\": true, \"bar_sort_order\": 5, \"record_number\": 3}, {\"column_name\": \"email\", \"label_for_charts\": \"email is NULL\", \"sql_condition\": \"\\\"email_l\\\" IS NULL OR \\\"email_r\\\" IS NULL\", \"log2_bayes_factor\": 0.0, \"bayes_factor\": 1.0, \"comparison_vector_value\": -1, \"m_probability\": null, \"u_probability\": null, \"bayes_factor_description\": \"If comparison level is `email is null` then comparison is 1.00 times more likely to be a match\", \"value_l\": \"None\", \"value_r\": \"lc@kelly-williams.net\", \"term_frequency_adjustment\": false, \"bar_sort_order\": 6, \"record_number\": 3}, {\"column_name\": \"Final score\", \"label_for_charts\": \"Final score\", \"sql_condition\": null, \"log2_bayes_factor\": -1.542528573858888, \"bayes_factor\": 0.3432832633709333, \"comparison_vector_value\": null, \"m_probability\": null, \"u_probability\": null, \"bayes_factor_description\": null, \"value_l\": \"\", \"value_r\": \"\", \"term_frequency_adjustment\": null, \"bar_sort_order\": 7, \"record_number\": 3}, {\"column_name\": \"Prior\", \"label_for_charts\": \"Starting match weight (prior)\", \"sql_condition\": null, \"log2_bayes_factor\": -8.224622793739668, \"bayes_factor\": 0.0033430420247643373, \"comparison_vector_value\": null, \"m_probability\": null, \"u_probability\": null, \"bayes_factor_description\": null, \"value_l\": \"\", \"value_r\": \"\", \"term_frequency_adjustment\": null, \"bar_sort_order\": 0, \"record_number\": 4}, {\"column_name\": \"first_name\", \"label_for_charts\": \"Exact match on first_name\", \"sql_condition\": \"\\\"first_name_l\\\" = \\\"first_name_r\\\"\", \"log2_bayes_factor\": 6.39814010600916, \"bayes_factor\": 84.33970708679004, \"comparison_vector_value\": 3, \"m_probability\": 0.48862811465183914, \"u_probability\": 0.0057935713975033705, \"bayes_factor_description\": \"If comparison level is `exact match on first_name` then comparison is 84.34 times more likely to be a match\", \"value_l\": \"Toby\", \"value_r\": \"Toby\", \"term_frequency_adjustment\": false, \"bar_sort_order\": 1, \"record_number\": 4}, {\"column_name\": \"surname\", \"label_for_charts\": \"surname is NULL\", \"sql_condition\": \"\\\"surname_l\\\" IS NULL OR \\\"surname_r\\\" IS NULL\", \"log2_bayes_factor\": 0.0, \"bayes_factor\": 1.0, \"comparison_vector_value\": -1, \"m_probability\": null, \"u_probability\": null, \"bayes_factor_description\": \"If comparison level is `surname is null` then comparison is 1.00 times more likely to be a match\", \"value_l\": \"Hall\", \"value_r\": \"None\", \"term_frequency_adjustment\": false, \"bar_sort_order\": 2, \"record_number\": 4}, {\"column_name\": \"dob\", \"label_for_charts\": \"All other comparisons\", \"sql_condition\": \"ELSE\", \"log2_bayes_factor\": -1.117835324063533, \"bayes_factor\": 0.4607846862095163, \"comparison_vector_value\": 0, \"m_probability\": 0.4592413573205703, \"u_probability\": 0.9966506506506506, \"bayes_factor_description\": \"If comparison level is `all other comparisons` then comparison is  2.17 times less likely to be a match\", \"value_l\": \"2003-04-23\", \"value_r\": \"2013-03-21\", \"term_frequency_adjustment\": false, \"bar_sort_order\": 3, \"record_number\": 4}, {\"column_name\": \"city\", \"label_for_charts\": \"Exact match on city\", \"sql_condition\": \"\\\"city_l\\\" = \\\"city_r\\\"\", \"log2_bayes_factor\": 3.349864965506074, \"bayes_factor\": 10.195530684671827, \"comparison_vector_value\": 1, \"m_probability\": 0.5622587541522951, \"u_probability\": 0.0551475711801453, \"bayes_factor_description\": \"If comparison level is `exact match on city` then comparison is 10.20 times more likely to be a match\", \"value_l\": \"London\", \"value_r\": \"London\", \"term_frequency_adjustment\": false, \"bar_sort_order\": 4, \"record_number\": 4}, {\"column_name\": \"tf_city\", \"label_for_charts\": \"Term freq adjustment on city with weight {cl.tf_adjustment_weight}\", \"sql_condition\": \"\\\"city_l\\\" = \\\"city_r\\\"\", \"log2_bayes_factor\": -1.948075527570922, \"bayes_factor\": 0.2591617073379083, \"comparison_vector_value\": 1, \"m_probability\": null, \"u_probability\": null, \"bayes_factor_description\": \"Term frequency adjustment on city makes comparison  3.86 times less likely to be a match\", \"value_l\": \"London\", \"value_r\": \"London\", \"term_frequency_adjustment\": true, \"bar_sort_order\": 5, \"record_number\": 4}, {\"column_name\": \"email\", \"label_for_charts\": \"email is NULL\", \"sql_condition\": \"\\\"email_l\\\" IS NULL OR \\\"email_r\\\" IS NULL\", \"log2_bayes_factor\": 0.0, \"bayes_factor\": 1.0, \"comparison_vector_value\": -1, \"m_probability\": null, \"u_probability\": null, \"bayes_factor_description\": \"If comparison level is `email is null` then comparison is 1.00 times more likely to be a match\", \"value_l\": \"toby.h@mendez.com\", \"value_r\": \"None\", \"term_frequency_adjustment\": false, \"bar_sort_order\": 6, \"record_number\": 4}, {\"column_name\": \"Final score\", \"label_for_charts\": \"Final score\", \"sql_condition\": null, \"log2_bayes_factor\": -1.542528573858888, \"bayes_factor\": 0.3432832633709333, \"comparison_vector_value\": null, \"m_probability\": null, \"u_probability\": null, \"bayes_factor_description\": null, \"value_l\": \"\", \"value_r\": \"\", \"term_frequency_adjustment\": null, \"bar_sort_order\": 7, \"record_number\": 4}]}}, {\"mode\": \"vega-lite\"});\n",
       "</script>"
      ],
      "text/plain": [
       "alt.LayerChart(...)"
      ]
     },
     "execution_count": 2,
     "metadata": {},
     "output_type": "execute_result"
    }
   ],
   "source": [
    "records_to_view  = df_predictions.as_record_dict(limit=5)\n",
    "linker.waterfall_chart(records_to_view, filter_nulls=False)\n"
   ]
  },
  {
   "cell_type": "markdown",
   "id": "48b76176",
   "metadata": {},
   "source": [
    "## Comparison viewer dashboard\n",
    "\n",
    "The [comparison viewer dashboard](https://moj-analytical-services.github.io/splink/linkerqa.html#splink.linker.Linker.comparison_viewer_dashboard) takes this one step further by producing an interactive dashboard that contains example predictions from across the spectrum of match scores.\n",
    "\n",
    "An in-depth video describing how to interpret the dashboard can be found [here](https://www.youtube.com/watch?v=DNvCMqjipis).\n"
   ]
  },
  {
   "cell_type": "code",
   "execution_count": 3,
   "id": "da85169c",
   "metadata": {
    "tags": []
   },
   "outputs": [
    {
     "data": {
      "text/html": [
       "\n",
       "        <iframe\n",
       "            width=\"100%\"\n",
       "            height=\"1200\"\n",
       "            src=\"./scv.html\"\n",
       "            frameborder=\"0\"\n",
       "            allowfullscreen\n",
       "            \n",
       "        ></iframe>\n",
       "        "
      ],
      "text/plain": [
       "<IPython.lib.display.IFrame at 0x12e465190>"
      ]
     },
     "execution_count": 3,
     "metadata": {},
     "output_type": "execute_result"
    }
   ],
   "source": [
    "linker.comparison_viewer_dashboard(df_predictions, \"scv.html\", overwrite=True)\n",
    "\n",
    "# You can view the scv.html file in your browser, or inline in a notbook as follows\n",
    "from IPython.display import IFrame\n",
    "IFrame(\n",
    "    src=\"./scv.html\", width=\"100%\", height=1200\n",
    ")  "
   ]
  },
  {
   "cell_type": "markdown",
   "id": "d34df82c",
   "metadata": {},
   "source": [
    "## Cluster studio dashboard\n",
    "\n",
    "Cluster studio is an interactive dashboards that visualises the results of clustering your predictions.\n",
    "\n",
    "It provides examples of clusters of different sizes.  The shape and size of clusters can be indicative of problems with record linkage, so it provides a tool to help you find potential false positive and negative links."
   ]
  },
  {
   "cell_type": "code",
   "execution_count": 4,
   "id": "e2153d91",
   "metadata": {
    "tags": []
   },
   "outputs": [
    {
     "name": "stderr",
     "output_type": "stream",
     "text": [
      "Completed iteration 1, root rows count 11\n",
      "Completed iteration 2, root rows count 1\n",
      "Completed iteration 3, root rows count 0\n"
     ]
    },
    {
     "data": {
      "text/html": [
       "\n",
       "        <iframe\n",
       "            width=\"100%\"\n",
       "            height=\"1200\"\n",
       "            src=\"./cluster_studio.html\"\n",
       "            frameborder=\"0\"\n",
       "            allowfullscreen\n",
       "            \n",
       "        ></iframe>\n",
       "        "
      ],
      "text/plain": [
       "<IPython.lib.display.IFrame at 0x12e2fead0>"
      ]
     },
     "execution_count": 4,
     "metadata": {},
     "output_type": "execute_result"
    }
   ],
   "source": [
    "df_clusters = linker.cluster_pairwise_predictions_at_threshold(df_predictions, threshold_match_probability=0.5)\n",
    "\n",
    "linker.cluster_studio_dashboard(df_predictions, df_clusters, \"cluster_studio.html\", sampling_method=\"by_cluster_size\", overwrite=True)\n",
    "\n",
    "# You can view the scv.html file in your browser, or inline in a notbook as follows\n",
    "from IPython.display import IFrame\n",
    "IFrame(\n",
    "    src=\"./cluster_studio.html\", width=\"100%\", height=1200\n",
    ")"
   ]
  },
  {
   "cell_type": "markdown",
   "id": "20ede1e9",
   "metadata": {},
   "source": [
    "!!! note \"Further Reading\"\n",
    "\n",
    "    :material-tools: For more on the visualisation tools in Splink, please refer to the [Visualisation API documentation](../../linkermodelviz.md).\n",
    "\n",
    "    :bar_chart: For more on the charts used in this tutorial, please refer to the [Charts Gallery](../../charts/index.md#model-training.)\n"
   ]
  },
  {
   "cell_type": "markdown",
   "id": "7cc780cb",
   "metadata": {},
   "source": [
    "## Next steps\n",
    "\n",
    "Now we have visualised the results of a model, we can move on to some more formal Quality Assurance procedures using labelled data."
   ]
  }
 ],
 "metadata": {
  "kernelspec": {
   "display_name": "Python 3 (ipykernel)",
   "language": "python",
   "name": "python3"
  },
  "language_info": {
   "codemirror_mode": {
    "name": "ipython",
    "version": 3
   },
   "file_extension": ".py",
   "mimetype": "text/x-python",
   "name": "python",
   "nbconvert_exporter": "python",
   "pygments_lexer": "ipython3",
   "version": "3.11.6"
  }
 },
 "nbformat": 4,
 "nbformat_minor": 5
}
