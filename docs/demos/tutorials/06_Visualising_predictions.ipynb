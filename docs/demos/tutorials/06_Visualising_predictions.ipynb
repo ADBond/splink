{
  "cells": [
    {
      "cell_type": "markdown",
      "id": "f110e018",
      "metadata": {},
      "source": [
        "# Visualising predictions\n",
        "\n",
        "<a target=\"_blank\" href=\"https://colab.research.google.com/github/moj-analytical-services/splink/blob/splink4_dev/docs/demos/tutorials/06_Visualising_predictions.ipynb\">\n",
        "  <img src=\"https://colab.research.google.com/assets/colab-badge.svg\" alt=\"Open In Colab\"/>\n",
        "</a>\n",
        "\n",
        "Splink contains a variety of tools to help you visualise your predictions.\n",
        "\n",
        "The idea is that, by developing an understanding of how your model works, you can gain confidence that the predictions it makes are sensible, or alternatively find examples of where your model isn't working, which may help you improve the model specification and fix these problems.\n"
      ]
    },
    {
      "cell_type": "code",
      "execution_count": 1,
      "id": "1e3eed24",
      "metadata": {
        "execution": {
          "iopub.execute_input": "2024-03-27T15:09:20.230718Z",
          "iopub.status.busy": "2024-03-27T15:09:20.230329Z",
          "iopub.status.idle": "2024-03-27T15:09:20.238540Z",
          "shell.execute_reply": "2024-03-27T15:09:20.237810Z"
        }
      },
      "source": [
        "# Uncomment and run this cell if you're running in Google Colab.\n",
        "# !pip install git+https://github.com/moj-analytical-services/splink.git@splink4_dev"
      ],
      "outputs": []
    },
    {
      "cell_type": "code",
      "execution_count": 2,
      "id": "fb29d421",
      "metadata": {
        "execution": {
          "iopub.execute_input": "2024-03-27T15:09:20.242360Z",
          "iopub.status.busy": "2024-03-27T15:09:20.242057Z",
          "iopub.status.idle": "2024-03-27T15:09:21.854775Z",
          "shell.execute_reply": "2024-03-27T15:09:21.853995Z"
        },
        "tags": []
      },
      "source": [
        "# Rerun our predictions to we're ready to view the charts\n",
        "from splink import Linker, DuckDBAPI, splink_datasets\n",
        "\n",
        "import pandas as pd\n",
        "\n",
        "pd.options.display.max_columns = 1000\n",
        "\n",
        "db_api = DuckDBAPI()\n",
        "df = splink_datasets.fake_1000"
      ],
      "outputs": []
    },
    {
      "cell_type": "code",
      "execution_count": 3,
      "id": "2733ac16",
      "metadata": {
        "execution": {
          "iopub.execute_input": "2024-03-27T15:09:21.859325Z",
          "iopub.status.busy": "2024-03-27T15:09:21.858965Z",
          "iopub.status.idle": "2024-03-27T15:09:22.677094Z",
          "shell.execute_reply": "2024-03-27T15:09:22.676524Z"
        }
      },
      "source": [
        "import json\n",
        "import urllib\n",
        "\n",
        "url = \"https://raw.githubusercontent.com/moj-analytical-services/splink_demos/master/demo_settings/saved_model_from_demo.json\"\n",
        "\n",
        "with urllib.request.urlopen(url) as u:\n",
        "    settings = json.loads(u.read().decode())\n",
        "\n",
        "\n",
        "linker = Linker(df, settings, database_api=DuckDBAPI())\n",
        "df_predictions = linker.inference.predict(threshold_match_probability=0.2)"
      ],
      "outputs": []
    },
    {
      "cell_type": "markdown",
      "id": "7b0dedd9",
      "metadata": {},
      "source": [
        "## Waterfall chart\n",
        "\n",
        "The waterfall chart provides a means of visualising individual predictions to understand how Splink computed the final matchweight for a particular pairwise record comparison.\n",
        "\n",
        "To plot a waterfall chart, the user chooses one or more records from the results of `linker.inference.predict()`, and provides these records to the [`linker.visualisations.waterfall_chart()`](https://moj-analytical-services.github.io/splink/linkerqa.html#splink.linker.linker.visualisations.waterfall_chart) function.\n",
        "\n",
        "For an introduction to waterfall charts and how to interpret them, please see [this](https://www.youtube.com/watch?v=msz3T741KQI&t=507s) video.\n"
      ]
    },
    {
      "cell_type": "code",
      "execution_count": 4,
      "id": "bbfdc70c",
      "metadata": {
        "execution": {
          "iopub.execute_input": "2024-03-27T15:09:22.680531Z",
          "iopub.status.busy": "2024-03-27T15:09:22.680263Z",
          "iopub.status.idle": "2024-03-27T15:09:23.288367Z",
          "shell.execute_reply": "2024-03-27T15:09:23.287814Z"
        },
        "tags": []
      },
      "source": [
        "records_to_view = df_predictions.as_record_dict(limit=5)\n",
        "linker.visualisations.waterfall_chart(records_to_view, filter_nulls=False)"
      ],
      "outputs": []
    },
    {
      "cell_type": "markdown",
      "id": "48b76176",
      "metadata": {},
      "source": [
        "## Comparison viewer dashboard\n",
        "\n",
        "The [comparison viewer dashboard](https://moj-analytical-services.github.io/splink/linkerqa.html#splink.linker.Linker.comparison_viewer_dashboard) takes this one step further by producing an interactive dashboard that contains example predictions from across the spectrum of match scores.\n",
        "\n",
        "An in-depth video describing how to interpret the dashboard can be found [here](https://www.youtube.com/watch?v=DNvCMqjipis).\n"
      ]
    },
    {
      "cell_type": "code",
      "execution_count": 5,
      "id": "da85169c",
      "metadata": {
        "execution": {
          "iopub.execute_input": "2024-03-27T15:09:23.291425Z",
          "iopub.status.busy": "2024-03-27T15:09:23.291204Z",
          "iopub.status.idle": "2024-03-27T15:09:23.402967Z",
          "shell.execute_reply": "2024-03-27T15:09:23.402274Z"
        },
        "tags": []
      },
      "source": [
        "linker.comparison_viewer_dashboard(df_predictions, \"scv.html\", overwrite=True)\n",
        "\n",
        "# You can view the scv.html file in your browser, or inline in a notbook as follows\n",
        "from IPython.display import IFrame\n",
        "\n",
        "IFrame(src=\"./scv.html\", width=\"100%\", height=1200)"
      ],
      "outputs": []
    },
    {
      "cell_type": "markdown",
      "id": "d34df82c",
      "metadata": {},
      "source": [
        "## Cluster studio dashboard\n",
        "\n",
        "Cluster studio is an interactive dashboards that visualises the results of clustering your predictions.\n",
        "\n",
        "It provides examples of clusters of different sizes. The shape and size of clusters can be indicative of problems with record linkage, so it provides a tool to help you find potential false positive and negative links.\n"
      ]
    },
    {
      "cell_type": "code",
      "execution_count": 6,
      "id": "e2153d91",
      "metadata": {
        "execution": {
          "iopub.execute_input": "2024-03-27T15:09:23.406978Z",
          "iopub.status.busy": "2024-03-27T15:09:23.406680Z",
          "iopub.status.idle": "2024-03-27T15:09:23.546021Z",
          "shell.execute_reply": "2024-03-27T15:09:23.545342Z"
        },
        "tags": []
      },
      "source": [
        "df_clusters = linker.clustering.cluster_pairwise_predictions_at_threshold(\n",
        "    df_predictions, threshold_match_probability=0.5\n",
        ")\n",
        "\n",
        "linker.visualisations.cluster_studio_dashboard(\n",
        "    df_predictions,\n",
        "    df_clusters,\n",
        "    \"cluster_studio.html\",\n",
        "    sampling_method=\"by_cluster_size\",\n",
        "    overwrite=True,\n",
        ")\n",
        "\n",
        "# You can view the scv.html file in your browser, or inline in a notbook as follows\n",
        "from IPython.display import IFrame\n",
        "\n",
        "IFrame(src=\"./cluster_studio.html\", width=\"100%\", height=1200)"
      ],
      "outputs": []
    },
    {
      "cell_type": "markdown",
      "id": "20ede1e9",
      "metadata": {},
      "source": [
        "!!! note \"Further Reading\"\n",
        "\n",
        "    :material-tools: For more on the visualisation tools in Splink, please refer to the [Visualisation API documentation](../../linkermodelviz.md).\n",
        "\n",
        "    :bar_chart: For more on the charts used in this tutorial, please refer to the [Charts Gallery](../../charts/index.md#model-training.)\n"
      ]
    },
    {
      "cell_type": "markdown",
      "id": "7cc780cb",
      "metadata": {},
      "source": [
        "## Next steps\n",
        "\n",
        "Now we have visualised the results of a model, we can move on to some more formal Quality Assurance procedures using labelled data.\n"
      ]
    }
  ],
  "metadata": {
    "kernelspec": {
      "display_name": "Python 3 (ipykernel)",
      "language": "python",
      "name": "python3"
    },
    "language_info": {
      "codemirror_mode": {
        "name": "ipython",
        "version": 3
      },
      "file_extension": ".py",
      "mimetype": "text/x-python",
      "name": "python",
      "nbconvert_exporter": "python",
      "pygments_lexer": "ipython3",
      "version": "3.10.8"
    }
  },
  "nbformat": 4,
  "nbformat_minor": 5
}