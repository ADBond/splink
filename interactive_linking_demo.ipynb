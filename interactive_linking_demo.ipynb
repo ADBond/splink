{
 "cells": [
  {
   "cell_type": "code",
   "execution_count": null,
   "metadata": {},
   "outputs": [],
   "source": [
    "%load_ext autoreload\n",
    "%autoreload 2"
   ]
  },
  {
   "cell_type": "code",
   "execution_count": null,
   "metadata": {},
   "outputs": [],
   "source": [
    "import splink"
   ]
  },
  {
   "cell_type": "code",
   "execution_count": null,
   "metadata": {},
   "outputs": [],
   "source": [
    "from splink.duckdb.duckdb_linker import DuckDBLinker\n",
    "from try_settings import settings_dict\n",
    "import pandas as pd\n",
    "\n",
    "\n",
    "from try_settings import settings_dict\n",
    "\n",
    "\n",
    "df = pd.read_csv(\"./tests/datasets/fake_1000_from_splink_demos.csv\")\n",
    "\n",
    "\n",
    "linker = DuckDBLinker(settings_dict, input_tables={\"input_df\": df})\n",
    "\n",
    "linker.train_u_using_random_sampling(target_rows=1e6)\n",
    "\n",
    "blocking_rule = \"l.first_name = r.first_name and l.surname = r.surname\"\n",
    "linker.train_m_using_expectation_maximisation(blocking_rule)\n",
    "\n",
    "blocking_rule = \"l.dob = r.dob\"\n",
    "linker.train_m_using_expectation_maximisation(blocking_rule)\n",
    "\n",
    "\n",
    "linker.compute_tf_table(\"first_name\")\n",
    "linker.compute_tf_table(\"city\")\n",
    "\n",
    "\n",
    "\n"
   ]
  },
  {
   "cell_type": "code",
   "execution_count": null,
   "metadata": {},
   "outputs": [],
   "source": [
    "from splink.charts import waterfall_chart\n",
    "\n",
    "import ipywidgets as widgets\n",
    "\n",
    "@widgets.interact(first_name='Julia', surname=\"Taylor\", dob=\"2015-10-29\", city=\"London\", email=\"hannah88@powers.com\")\n",
    "def interactive_link(first_name, surname, dob, city, email):    \n",
    "\n",
    "    record = {'unique_id': 123987,\n",
    "     'first_name': first_name,\n",
    "     'surname': surname,\n",
    "     'dob': dob,\n",
    "     'city': city,\n",
    "     'email': email,\n",
    "     'group': 0}\n",
    "\n",
    "    for key in record.keys():\n",
    "        if type(record[key]) == str:\n",
    "            if record[key].strip() == \"\":\n",
    "                record[key] = None\n",
    "\n",
    "    \n",
    "    df_inc = linker.find_matches_to_new_records([record], blocking_rules=[f\"(true)\"]).as_pandas_dataframe()\n",
    "    df_inc = df_inc.sort_values(\"match_weight\", ascending=False)\n",
    "    recs = df_inc.to_dict(orient=\"records\")\n",
    "    \n",
    "\n",
    "\n",
    "    waterfall_chart(recs, linker.settings_obj, filter_nulls=False)\n"
   ]
  },
  {
   "cell_type": "code",
   "execution_count": null,
   "metadata": {},
   "outputs": [],
   "source": [
    "record = {'unique_id': 123987,\n",
    " 'first_name': \"Julia \",\n",
    " 'surname': \"Taylor\",\n",
    " 'dob': \"2015-10-29\",\n",
    " 'city': \"London\",\n",
    " 'email': \"hannah88@powers.com\",\n",
    " 'group': 0}\n",
    "\n",
    "\n",
    "pd.options.display.max_columns = 1000\n",
    "pd.options.display.max_rows = 1000\n",
    "\n",
    "df_inc = linker.find_matches_to_new_records([record], blocking_rules=[f\"(true )\"]).as_pandas_dataframe()\n",
    "df_inc"
   ]
  },
  {
   "cell_type": "code",
   "execution_count": null,
   "metadata": {},
   "outputs": [],
   "source": []
  }
 ],
 "metadata": {
  "kernelspec": {
   "display_name": "Python 3 (ipykernel)",
   "language": "python",
   "name": "python3"
  },
  "language_info": {
   "codemirror_mode": {
    "name": "ipython",
    "version": 3
   },
   "file_extension": ".py",
   "mimetype": "text/x-python",
   "name": "python",
   "nbconvert_exporter": "python",
   "pygments_lexer": "ipython3",
   "version": "3.8.3"
  }
 },
 "nbformat": 4,
 "nbformat_minor": 4
}
