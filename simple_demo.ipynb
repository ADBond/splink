{
 "cells": [
  {
   "cell_type": "code",
   "execution_count": null,
   "metadata": {},
   "outputs": [],
   "source": [
    "%autoreload 2"
   ]
  },
  {
   "cell_type": "code",
   "execution_count": null,
   "metadata": {},
   "outputs": [],
   "source": [
    "import logging \n",
    "logging.basicConfig()\n",
    "# log = logging.getLogger(\"blocking\").setLevel(\"DEBUG\")\n",
    "# log = logging.getLogger(\"sql\").setLevel(\"DEBUG\")\n",
    "# log = logging.getLogger(\"gammas\").setLevel(\"DEBUG\")\n",
    "# log = logging.getLogger(\"expectation_step\").setLevel(\"DEBUG\")\n",
    "# log = logging.getLogger(\"maximisation_step\").setLevel(\"DEBUG\")"
   ]
  },
  {
   "cell_type": "code",
   "execution_count": null,
   "metadata": {},
   "outputs": [],
   "source": [
    "from pyspark.context import SparkContext, SparkConf\n",
    "from pyspark.sql import SparkSession, Window\n",
    "from pyspark.sql.types import StructType\n",
    "import pyspark.sql.functions as f\n",
    "\n",
    "# WARNING:\n",
    "# These config options are appropriate only if you're running Spark locally!!!\n",
    "conf=SparkConf()\n",
    "conf.set('spark.driver.memory', '8g')\n",
    "conf.set(\"spark.sql.shuffle.partitions\", \"8\") \n",
    "\n",
    "sc = SparkContext.getOrCreate(conf=conf)\n",
    "\n",
    "sc = SparkContext.getOrCreate()\n",
    "spark = SparkSession(sc)"
   ]
  },
  {
   "cell_type": "code",
   "execution_count": null,
   "metadata": {},
   "outputs": [],
   "source": [
    "import sys \n",
    "sys.path.append(\"sparklink\")\n",
    "from sql import *\n",
    "from blocking import *\n",
    "from gammas import *\n",
    "from params import *\n",
    "from expectation_step import *\n",
    "from maximisation_step import *\n",
    "from iterate import *\n"
   ]
  },
  {
   "cell_type": "code",
   "execution_count": null,
   "metadata": {},
   "outputs": [],
   "source": [
    "df = spark.read.parquet(\"data/fake_100.parquet\")\n",
    "df = df.dropDuplicates()\n",
    "df.show()"
   ]
  },
  {
   "cell_type": "code",
   "execution_count": null,
   "metadata": {},
   "outputs": [],
   "source": [
    "blocking_rules = []\n",
    "\n",
    "blocking_rules.append('l.first_name = r.first_name  and  l.dob = r.dob')\n",
    "blocking_rules.append('l.first_name = r.first_name  and  l.city = r.city')\n",
    "blocking_rules.append('l.first_name = r.first_name  and  l.email = r.email')\n",
    "\n",
    "blocking_rules.append('l.surname = r.surname  and  l.dob = r.dob')\n",
    "blocking_rules.append('l.surname = r.surname  and  l.city = r.city')\n",
    "blocking_rules.append('l.surname = r.surname  and  l.email = r.email')\n",
    "\n",
    "blocking_rules.append('l.dob = r.dob  and  l.city = r.city')\n",
    "blocking_rules.append('l.dob = r.dob  and  l.email = r.email')\n",
    "\n",
    "blocking_rules.append('l.city = r.city  and  l.email = r.email')"
   ]
  },
  {
   "cell_type": "code",
   "execution_count": null,
   "metadata": {},
   "outputs": [],
   "source": [
    "df_comparison = block_using_rules(df, blocking_rules, spark=spark)"
   ]
  },
  {
   "cell_type": "code",
   "execution_count": null,
   "metadata": {},
   "outputs": [],
   "source": [
    "\n",
    "from gammas import *\n",
    "\n",
    "gamma_settings = {\n",
    "    \"first_name\": {\n",
    "        \"levels\": 3,\n",
    "        \"case_expression\": gammas_case_statement_3_levels(\"first_name\", 0)\n",
    "    },\n",
    "    \"surname\": {\n",
    "        \"levels\": 3\n",
    "    },\n",
    "    \"dob\": {\n",
    "        \"levels\": 2\n",
    "    },\n",
    "    \"city\": {\n",
    "        \"levels\": 2\n",
    "    },\n",
    "    \"email\": {\n",
    "        \"levels\": 2\n",
    "    }\n",
    "}\n",
    "\n",
    "\n",
    "# gamma_settings = {\n",
    "#     \"first_name\": {\n",
    "#         \"levels\": 3,\n",
    "#         \"case_expression\": gammas_case_statement_3_levels(\"first_name\", 0)\n",
    "#     },\n",
    "#     \"surname\": {\n",
    "#         \"levels\": 2\n",
    "#     }\n",
    "    \n",
    "# }\n",
    "\n",
    "df_gammas = add_gammas(df_comparison, gamma_settings, spark, include_orig_cols = False)"
   ]
  },
  {
   "cell_type": "code",
   "execution_count": null,
   "metadata": {},
   "outputs": [],
   "source": []
  },
  {
   "cell_type": "code",
   "execution_count": null,
   "metadata": {},
   "outputs": [],
   "source": [
    "params = Params(gamma_settings)\n",
    "iterate(df_gammas, spark, params)"
   ]
  },
  {
   "cell_type": "code",
   "execution_count": null,
   "metadata": {},
   "outputs": [],
   "source": [
    "data = params.iteration_history_df()"
   ]
  },
  {
   "cell_type": "code",
   "execution_count": null,
   "metadata": {},
   "outputs": [],
   "source": []
  },
  {
   "cell_type": "code",
   "execution_count": null,
   "metadata": {},
   "outputs": [],
   "source": [
    "import altair as alt \n",
    "from altair import datum\n",
    "chart_data = alt.Data(values=data)\n",
    "chart = alt.Chart(chart_data).mark_bar().encode(\n",
    "    x='iteration:O',\n",
    "    y=alt.Y('sum(probability):Q', axis=alt.Axis(title='𝛾 value')),\n",
    "    color='value:N',\n",
    "    row=alt.Row('column:N', sort=alt.SortField(\"gamma\"))\n",
    ").resolve_scale(\n",
    "    y='independent'\n",
    ").properties(height=100)\n",
    "\n",
    "\n",
    "c0 = chart.transform_filter(\n",
    "    (datum.match == 0)\n",
    ").properties(title= \"Match\")\n",
    "\n",
    "c1 = chart.transform_filter(\n",
    "    (datum.match == 1)\n",
    ").properties(title= \"Non match\")\n",
    "\n",
    "facetted_chart = c0 | c1\n",
    "\n",
    "fc = facetted_chart.configure_title(\n",
    "    anchor='middle'\n",
    ").properties(\n",
    "    title='Probability distribution of comparison vector values by iteration number'\n",
    ")\n",
    "fc"
   ]
  },
  {
   "cell_type": "code",
   "execution_count": null,
   "metadata": {},
   "outputs": [],
   "source": [
    "params.probability_distribution_chart()"
   ]
  },
  {
   "cell_type": "code",
   "execution_count": null,
   "metadata": {},
   "outputs": [],
   "source": [
    "data"
   ]
  },
  {
   "cell_type": "code",
   "execution_count": null,
   "metadata": {},
   "outputs": [],
   "source": []
  }
 ],
 "metadata": {
  "kernelspec": {
   "display_name": "Python 3",
   "language": "python",
   "name": "python3"
  },
  "language_info": {
   "codemirror_mode": {
    "name": "ipython",
    "version": 3
   },
   "file_extension": ".py",
   "mimetype": "text/x-python",
   "name": "python",
   "nbconvert_exporter": "python",
   "pygments_lexer": "ipython3",
   "version": "3.6.9"
  }
 },
 "nbformat": 4,
 "nbformat_minor": 4
}
