{
 "cells": [
  {
   "cell_type": "code",
   "execution_count": null,
   "metadata": {},
   "outputs": [],
   "source": [
    "%autoreload 2"
   ]
  },
  {
   "cell_type": "code",
   "execution_count": null,
   "metadata": {},
   "outputs": [],
   "source": [
    "import logging \n",
    "logging.basicConfig()\n",
    "log = logging.getLogger(\"blocking\").setLevel(\"DEBUG\")\n",
    "log = logging.getLogger(\"sql\").setLevel(\"DEBUG\")\n",
    "log = logging.getLogger(\"gammas\").setLevel(\"DEBUG\")\n",
    "log = logging.getLogger(\"expectation_step\").setLevel(\"DEBUG\")\n",
    "log = logging.getLogger(\"maximisation_step\").setLevel(\"DEBUG\")\n",
    "log = logging.getLogger(\"comparison_evaluation\").setLevel(\"DEBUG\")"
   ]
  },
  {
   "cell_type": "code",
   "execution_count": null,
   "metadata": {},
   "outputs": [],
   "source": [
    "from pyspark.context import SparkContext, SparkConf\n",
    "from pyspark.sql import SparkSession, Window\n",
    "from pyspark.sql.types import StructType\n",
    "import pyspark.sql.functions as f\n",
    "\n",
    "# WARNING:\n",
    "# These config options are appropriate only if you're running Spark locally!!!\n",
    "conf=SparkConf()\n",
    "conf.set('spark.driver.memory', '8g')\n",
    "conf.set(\"spark.sql.shuffle.partitions\", \"8\") \n",
    "\n",
    "sc = SparkContext.getOrCreate(conf=conf)\n",
    "\n",
    "sc = SparkContext.getOrCreate()\n",
    "spark = SparkSession(sc)"
   ]
  },
  {
   "cell_type": "code",
   "execution_count": null,
   "metadata": {},
   "outputs": [],
   "source": [
    "import sys \n",
    "sys.path.append(\"sparklink\")\n",
    "from sql import *\n",
    "from blocking import *\n",
    "from gammas import *\n",
    "from params import *\n",
    "from expectation_step import *\n",
    "from maximisation_step import *\n",
    "from iterate import *\n",
    "from comparison_evaluation import *\n"
   ]
  },
  {
   "cell_type": "code",
   "execution_count": null,
   "metadata": {},
   "outputs": [],
   "source": [
    "df = spark.read.parquet(\"data/fake_100.parquet\")\n",
    "df = df.dropDuplicates()\n",
    "df.show(3)"
   ]
  },
  {
   "cell_type": "code",
   "execution_count": null,
   "metadata": {},
   "outputs": [],
   "source": [
    "blocking_rules = []\n",
    "\n",
    "blocking_rules.append('l.first_name = r.first_name  and  l.dob = r.dob')\n",
    "blocking_rules.append('l.first_name = r.first_name  and  l.city = r.city')\n",
    "blocking_rules.append('l.first_name = r.first_name  and  l.email = r.email')\n",
    "\n",
    "blocking_rules.append('l.surname = r.surname  and  l.dob = r.dob')\n",
    "blocking_rules.append('l.surname = r.surname  and  l.city = r.city')\n",
    "blocking_rules.append('l.surname = r.surname  and  l.email = r.email')\n",
    "\n",
    "blocking_rules.append('l.dob = r.dob  and  l.city = r.city')\n",
    "blocking_rules.append('l.dob = r.dob  and  l.email = r.email')\n",
    "\n",
    "blocking_rules.append('l.city = r.city  and  l.email = r.email')"
   ]
  },
  {
   "cell_type": "code",
   "execution_count": null,
   "metadata": {},
   "outputs": [],
   "source": [
    "df_comparison = block_using_rules(df, blocking_rules, spark=spark)\n",
    "df_comparison = cartestian_block(df, spark=spark)"
   ]
  },
  {
   "cell_type": "code",
   "execution_count": null,
   "metadata": {},
   "outputs": [],
   "source": [
    "\n",
    "from gammas import *\n",
    "\n",
    "gamma_settings = {\n",
    "    \"first_name\": {\n",
    "        \"levels\": 3,\n",
    "        \"case_expression\": gammas_case_statement_3_levels(\"first_name\", 0)\n",
    "    },\n",
    "    \"surname\": {\n",
    "        \"levels\": 3\n",
    "    },\n",
    "    \"dob\": {\n",
    "        \"levels\": 2\n",
    "    },\n",
    "    \"city\": {\n",
    "        \"levels\": 2\n",
    "    },\n",
    "    \"email\": {\n",
    "        \"levels\": 2\n",
    "    }\n",
    "}\n",
    "\n",
    "df_gammas = add_gammas(df_comparison, gamma_settings, spark, include_orig_cols = False)\n",
    "params = Params(gamma_settings, starting_lambda=0.027)\n",
    "\n",
    "params.set_pi_value(\"gamma_0\", 0, \"non_match\", 0.57)\n",
    "params.set_pi_value(\"gamma_0\", 1, \"non_match\", 0.42)\n",
    "params.set_pi_value(\"gamma_0\", 2, \"non_match\", 1-0.57-0.42)\n",
    "\n",
    "params.set_pi_value(\"gamma_0\", 0, \"match\", 0.25)\n",
    "params.set_pi_value(\"gamma_0\", 1, \"match\", 0.4)\n",
    "params.set_pi_value(\"gamma_0\", 2, \"match\", 1-0.25-0.4)\n",
    "\n",
    "params.set_pi_value(\"gamma_1\", 0, \"non_match\", 0.57)\n",
    "params.set_pi_value(\"gamma_1\", 1, \"non_match\", 0.42)\n",
    "params.set_pi_value(\"gamma_1\", 2, \"non_match\", 1-0.57-0.42)\n",
    "\n",
    "params.set_pi_value(\"gamma_1\", 0, \"match\", 0.25)\n",
    "params.set_pi_value(\"gamma_1\", 1, \"match\", 0.4)\n",
    "params.set_pi_value(\"gamma_1\", 2, \"match\", 1-0.25-0.4)\n",
    "\n"
   ]
  },
  {
   "cell_type": "code",
   "execution_count": null,
   "metadata": {},
   "outputs": [],
   "source": []
  },
  {
   "cell_type": "code",
   "execution_count": null,
   "metadata": {},
   "outputs": [],
   "source": [
    "sql = sql_gen_intermediate_pi_aggregate(params)\n",
    "\n",
    "\n",
    "df_intermediate = spark.sql(sql)\n",
    "log.debug(format_sql(sql))\n",
    "df_intermediate.registerTempTable(\"df_intermediate\")\n",
    "df_intermediate.persist()\n",
    "\n",
    "new_lambda = get_new_lambda(df_e,  spark)\n",
    "pi_df_collected = get_new_pi_df(df_e, spark, params)\n",
    "\n",
    "pi_df_collected\n"
   ]
  },
  {
   "cell_type": "code",
   "execution_count": null,
   "metadata": {},
   "outputs": [],
   "source": [
    "# gamma_cols = \"gamma_1\"\n",
    "# sql = f\"\"\"\n",
    "# select {gamma_cols}, sum(match_probability) as expected_num_matches, sum(1- match_probability) as expected_num_non_matches, count(*) as num_rows\n",
    "# from df_e\n",
    "# group by {gamma_cols}\n",
    "\n",
    "# \"\"\"\n",
    "# spark.sql(sql).show()"
   ]
  },
  {
   "cell_type": "code",
   "execution_count": null,
   "metadata": {},
   "outputs": [],
   "source": [
    "# spark.sql(\"select * from df_intermediate\").show()"
   ]
  },
  {
   "cell_type": "code",
   "execution_count": null,
   "metadata": {},
   "outputs": [],
   "source": [
    "\n",
    "df_e = iterate(df_gammas, spark, params, num_iterations=20)"
   ]
  },
  {
   "cell_type": "code",
   "execution_count": null,
   "metadata": {},
   "outputs": [],
   "source": [
    "get_real_params(df_comparison, df_gammas, spark, params)"
   ]
  },
  {
   "cell_type": "code",
   "execution_count": null,
   "metadata": {},
   "outputs": [],
   "source": [
    "params.lambda_iteration_chart()"
   ]
  },
  {
   "cell_type": "code",
   "execution_count": null,
   "metadata": {},
   "outputs": [],
   "source": [
    "params.pi_iteration_chart()"
   ]
  },
  {
   "cell_type": "code",
   "execution_count": null,
   "metadata": {},
   "outputs": [],
   "source": []
  },
  {
   "cell_type": "code",
   "execution_count": null,
   "metadata": {},
   "outputs": [],
   "source": [
    "params.lambda_iteration_chart()"
   ]
  },
  {
   "cell_type": "code",
   "execution_count": null,
   "metadata": {},
   "outputs": [],
   "source": [
    "params.pi_iteration_chart()"
   ]
  },
  {
   "cell_type": "code",
   "execution_count": null,
   "metadata": {},
   "outputs": [],
   "source": []
  },
  {
   "cell_type": "code",
   "execution_count": null,
   "metadata": {},
   "outputs": [],
   "source": []
  },
  {
   "cell_type": "code",
   "execution_count": null,
   "metadata": {},
   "outputs": [],
   "source": []
  },
  {
   "cell_type": "code",
   "execution_count": null,
   "metadata": {},
   "outputs": [],
   "source": []
  },
  {
   "cell_type": "code",
   "execution_count": null,
   "metadata": {},
   "outputs": [],
   "source": [
    "df_e.registerTempTable('df_e')\n",
    "df_comparison.registerTempTable('df_comparison')\n",
    "\n",
    "sql = \"\"\"\n",
    "select e.match_probability, c.*\n",
    "from df_e as e\n",
    "left join df_comparison as c\n",
    "on e.unique_id_l = c.unique_id_l\n",
    "and\n",
    "e.unique_id_r = c.unique_id_r\n",
    "\n",
    "\"\"\"\n",
    "spark.sql(sql).filter().sample(0.1).show(100)"
   ]
  },
  {
   "cell_type": "code",
   "execution_count": null,
   "metadata": {},
   "outputs": [],
   "source": [
    "params"
   ]
  },
  {
   "cell_type": "code",
   "execution_count": null,
   "metadata": {},
   "outputs": [],
   "source": [
    "df_comparison.show()"
   ]
  },
  {
   "cell_type": "code",
   "execution_count": null,
   "metadata": {},
   "outputs": [],
   "source": [
    "## Compute real values \n",
    "df_labelled = df_comparison.withColumn(\"label\", (df_comparison[\"group_l\"] == df_comparison[\"group_r\"]).cast(\"integer\"))\n",
    "df_labelled.show()"
   ]
  },
  {
   "cell_type": "code",
   "execution_count": null,
   "metadata": {},
   "outputs": [],
   "source": [
    "df_labelled.registerTempTable(\"df_labelled\")\n",
    "sql = \"\"\"\n",
    "select sum(label)/count(*)\n",
    "from df_labelled\n",
    "\"\"\"\n",
    "spark.sql(sql).collect()[0][0]"
   ]
  },
  {
   "cell_type": "code",
   "execution_count": null,
   "metadata": {},
   "outputs": [],
   "source": [
    "df_e.show()"
   ]
  },
  {
   "cell_type": "code",
   "execution_count": null,
   "metadata": {},
   "outputs": [],
   "source": []
  },
  {
   "cell_type": "code",
   "execution_count": null,
   "metadata": {},
   "outputs": [],
   "source": [
    "df_e.registerTempTable('df_e')\n",
    "df_comparison.registerTempTable('df_comparison')\n",
    "\n",
    "# Want match probability, gammas, label\n",
    "gamma_select_expr = \", \".join([f\"e.{c}\" for c in  params.gamma_cols])\n",
    "\n",
    "\n",
    "sql = f\"\"\"\n",
    "select {gamma_select_expr}, e.match_probability,\n",
    "cast(c.group_l == c.group_r as int) as label\n",
    "from df_e as e\n",
    "left join df_comparison as c\n",
    "on e.unique_id_l = c.unique_id_l\n",
    "and\n",
    "e.unique_id_r = c.unique_id_r\n",
    "\n",
    "\"\"\"\n",
    "gamma_e_label = spark.sql(sql)\n",
    "gamma_e_label.show()"
   ]
  },
  {
   "cell_type": "code",
   "execution_count": null,
   "metadata": {},
   "outputs": [],
   "source": [
    "gamma_e_label.registerTempTable(\"gamma_e_label\")\n",
    "gamma_avg_expr = \", \".join([f\"avg({c})\" for c in  params.gamma_cols])\n",
    "\n",
    "number_matches = gamma_e_label.filter(gamma_e_label[\"label\"]==1).count()\n",
    "number_non_matches = gamma_e_label.filter(gamma_e_label[\"label\"]==0).count()\n",
    "\n",
    "sql = f\"\"\"\n",
    "\n",
    "select label, gamma_0, count(gamma_0)/{number_matches}  as proportion_match, count(gamma_0)/{number_non_matches}  as proportion_non_match\n",
    "from gamma_e_label\n",
    "group by label, gamma_0\n",
    "\"\"\"\n",
    "spark.sql(sql).show()"
   ]
  },
  {
   "cell_type": "code",
   "execution_count": null,
   "metadata": {},
   "outputs": [],
   "source": [
    "# Re-write this to work in the same way as df_intermediate in the max step\n",
    "\n",
    "# Ideally, the column names would come out the same as they do from the maximiastion step.  Then we could treat this as an 'iteration' and pass it into params.\n",
    "\n",
    "\n",
    "gamma_e_label.registerTempTable(\"gamma_e_label\")\n",
    "\n",
    "sql = f\"\"\"\n",
    "select label, gamma_0, count(*) as count_records\n",
    "from gamma_e_label\n",
    "group by label, gamma_0\n",
    "\"\"\"\n",
    "intermediate = spark.sql(sql)\n",
    "\n",
    "intermediate.registerTempTable(\"intermediate\")\n",
    "\n",
    "intermediate.show()"
   ]
  },
  {
   "cell_type": "code",
   "execution_count": null,
   "metadata": {},
   "outputs": [],
   "source": [
    "sql = \"\"\"\n",
    "select *, count_records/sum(count_records) over (partition by label) as proportion\n",
    "from intermediate\n",
    "\"\"\"\n",
    "spark.sql(sql).show()\n"
   ]
  },
  {
   "cell_type": "code",
   "execution_count": null,
   "metadata": {},
   "outputs": [],
   "source": []
  },
  {
   "cell_type": "code",
   "execution_count": null,
   "metadata": {},
   "outputs": [],
   "source": [
    "df_e.registerTempTable('df_e')\n",
    "df_comparison.registerTempTable('df_comparison')\n",
    "\n",
    "# Want match probability, gammas, label\n",
    "gamma_select_expr = \", \".join([f\"e.{c}\" for c in  params.gamma_cols])\n",
    "\n",
    "\n",
    "sql = f\"\"\"\n",
    "select {gamma_select_expr}, \n",
    "cast(c.group_l == c.group_r as int) as match_probability\n",
    "from df_e as e\n",
    "left join df_comparison as c\n",
    "on e.unique_id_l = c.unique_id_l\n",
    "and\n",
    "e.unique_id_r = c.unique_id_r\n",
    "\n",
    "\"\"\"\n",
    "gamma_e_label = spark.sql(sql)\n",
    "gamma_e_label.show()"
   ]
  },
  {
   "cell_type": "code",
   "execution_count": null,
   "metadata": {},
   "outputs": [],
   "source": [
    "gamma_e_label.filter(gamma_e_label.match_probability>0.95).show(100)"
   ]
  },
  {
   "cell_type": "code",
   "execution_count": null,
   "metadata": {},
   "outputs": [],
   "source": []
  },
  {
   "cell_type": "code",
   "execution_count": null,
   "metadata": {},
   "outputs": [],
   "source": [
    "params"
   ]
  },
  {
   "cell_type": "code",
   "execution_count": null,
   "metadata": {},
   "outputs": [],
   "source": []
  },
  {
   "cell_type": "code",
   "execution_count": null,
   "metadata": {},
   "outputs": [],
   "source": []
  },
  {
   "cell_type": "code",
   "execution_count": null,
   "metadata": {},
   "outputs": [],
   "source": []
  },
  {
   "cell_type": "code",
   "execution_count": null,
   "metadata": {},
   "outputs": [],
   "source": []
  }
 ],
 "metadata": {
  "kernelspec": {
   "display_name": "Python 3",
   "language": "python",
   "name": "python3"
  },
  "language_info": {
   "codemirror_mode": {
    "name": "ipython",
    "version": 3
   },
   "file_extension": ".py",
   "mimetype": "text/x-python",
   "name": "python",
   "nbconvert_exporter": "python",
   "pygments_lexer": "ipython3",
   "version": "3.6.9"
  }
 },
 "nbformat": 4,
 "nbformat_minor": 4
}
