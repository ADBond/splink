{
 "cells": [
  {
   "cell_type": "code",
   "execution_count": null,
   "metadata": {},
   "outputs": [],
   "source": [
    "%autoreload 2"
   ]
  },
  {
   "cell_type": "code",
   "execution_count": 2,
   "metadata": {},
   "outputs": [],
   "source": [
    "import logging \n",
    "logging.basicConfig()\n",
    "\n",
    "# logging.getLogger(\"sql\").setLevel(\"DEBUG\")\n",
    "# logging.getLogger(\"gammas\").setLevel(\"DEBUG\")\n",
    "# logging.getLogger(\"expectation_step\").setLevel(\"DEBUG\")\n",
    "# logging.getLogger(\"maximisation_step\").setLevel(\"DEBUG\")\n",
    "# logging.getLogger(\"comparison_evaluation\").setLevel(\"DEBUG\")\n",
    "logging.getLogger(\"sparklink\").setLevel(logging.ERROR)"
   ]
  },
  {
   "cell_type": "code",
   "execution_count": 3,
   "metadata": {},
   "outputs": [],
   "source": [
    "from pyspark.context import SparkContext, SparkConf\n",
    "from pyspark.sql import SparkSession, Window\n",
    "from pyspark.sql.types import StructType\n",
    "import pyspark.sql.functions as f\n",
    "\n",
    "# WARNING:\n",
    "# These config options are appropriate only if you're running Spark locally!!!\n",
    "conf=SparkConf()\n",
    "conf.set('spark.driver.memory', '8g')\n",
    "conf.set(\"spark.sql.shuffle.partitions\", \"8\") \n",
    "\n",
    "sc = SparkContext.getOrCreate(conf=conf)\n",
    "\n",
    "spark = SparkSession(sc)"
   ]
  },
  {
   "cell_type": "code",
   "execution_count": 4,
   "metadata": {},
   "outputs": [],
   "source": [
    "from sparklink.sql import *\n",
    "from sparklink.blocking import *\n",
    "from sparklink.gammas import *\n",
    "from sparklink.params import *\n",
    "from sparklink.expectation_step import *\n",
    "from sparklink.maximisation_step import *\n",
    "from sparklink.iterate import *\n",
    "from sparklink.comparison_evaluation import *"
   ]
  },
  {
   "cell_type": "code",
   "execution_count": 5,
   "metadata": {},
   "outputs": [
    {
     "name": "stdout",
     "output_type": "stream",
     "text": [
      "+---------+---+-------+-----+\n",
      "|unique_id|mob|surname|group|\n",
      "+---------+---+-------+-----+\n",
      "|        1| 10|Linacre|    1|\n",
      "|        2| 10|Linacre|    1|\n",
      "|        3| 10|Linacer|    1|\n",
      "|        4|  7|  Smith|    2|\n",
      "|        5|  8|  Smith|    2|\n",
      "|        6|  8|  Smith|    2|\n",
      "|        7|  8|  Jones|    3|\n",
      "+---------+---+-------+-----+\n",
      "\n"
     ]
    }
   ],
   "source": [
    "df = spark.read.csv(\"data/data.csv\", header=True)\n",
    "df.show()"
   ]
  },
  {
   "cell_type": "code",
   "execution_count": 6,
   "metadata": {},
   "outputs": [],
   "source": [
    "df_comparison = cartestian_block(df, [\"mob\", \"surname\", \"group\"], spark=spark)\n"
   ]
  },
  {
   "cell_type": "code",
   "execution_count": 7,
   "metadata": {},
   "outputs": [
    {
     "name": "stdout",
     "output_type": "stream",
     "text": [
      "+-----------+-----------+-----+-----+---------+---------+-------+-------+\n",
      "|unique_id_l|unique_id_r|mob_l|mob_r|surname_l|surname_r|gamma_0|gamma_1|\n",
      "+-----------+-----------+-----+-----+---------+---------+-------+-------+\n",
      "|          1|          2|   10|   10|  Linacre|  Linacre|      1|      2|\n",
      "|          1|          3|   10|   10|  Linacre|  Linacer|      1|      1|\n",
      "|          1|          4|   10|    7|  Linacre|    Smith|      0|      0|\n",
      "|          1|          5|   10|    8|  Linacre|    Smith|      0|      0|\n",
      "|          1|          6|   10|    8|  Linacre|    Smith|      0|      0|\n",
      "|          1|          7|   10|    8|  Linacre|    Jones|      0|      0|\n",
      "|          2|          3|   10|   10|  Linacre|  Linacer|      1|      1|\n",
      "|          2|          4|   10|    7|  Linacre|    Smith|      0|      0|\n",
      "|          2|          5|   10|    8|  Linacre|    Smith|      0|      0|\n",
      "|          2|          6|   10|    8|  Linacre|    Smith|      0|      0|\n",
      "|          2|          7|   10|    8|  Linacre|    Jones|      0|      0|\n",
      "|          3|          4|   10|    7|  Linacer|    Smith|      0|      0|\n",
      "|          3|          5|   10|    8|  Linacer|    Smith|      0|      0|\n",
      "|          3|          6|   10|    8|  Linacer|    Smith|      0|      0|\n",
      "|          3|          7|   10|    8|  Linacer|    Jones|      0|      0|\n",
      "|          4|          5|    7|    8|    Smith|    Smith|      0|      2|\n",
      "|          4|          6|    7|    8|    Smith|    Smith|      0|      2|\n",
      "|          4|          7|    7|    8|    Smith|    Jones|      0|      0|\n",
      "|          5|          6|    8|    8|    Smith|    Smith|      1|      2|\n",
      "|          5|          7|    8|    8|    Smith|    Jones|      1|      0|\n",
      "+-----------+-----------+-----+-----+---------+---------+-------+-------+\n",
      "only showing top 20 rows\n",
      "\n"
     ]
    }
   ],
   "source": [
    "gamma_settings = {\n",
    "    \"mob\": {\n",
    "        \"levels\": 2\n",
    "    },\n",
    "    \"surname\": {\n",
    "        \"levels\": 3\n",
    "    }}\n",
    "\n",
    "df_gammas = add_gammas(df_comparison, gamma_settings, spark, include_orig_cols = True)\n",
    "df_gammas.show()"
   ]
  },
  {
   "cell_type": "code",
   "execution_count": 8,
   "metadata": {},
   "outputs": [],
   "source": [
    "import copy \n",
    "\n",
    "params = Params(gamma_settings, starting_lambda=0.2)\n",
    "\n",
    "params.set_pi_value(\"gamma_0\", 0, \"match\", 0.2)\n",
    "params.set_pi_value(\"gamma_0\", 1, \"match\", 0.8)\n",
    "\n",
    "params.set_pi_value(\"gamma_0\", 0, \"non_match\", 0.8)\n",
    "params.set_pi_value(\"gamma_0\", 1, \"non_match\", 0.2)\n",
    "\n",
    "params.set_pi_value(\"gamma_1\", 0, \"match\", 0.2)\n",
    "params.set_pi_value(\"gamma_1\", 1, \"match\", 0.4)\n",
    "params.set_pi_value(\"gamma_1\", 2, \"match\", 0.4)\n",
    "\n",
    "params.set_pi_value(\"gamma_1\", 0, \"non_match\", 0.8)\n",
    "params.set_pi_value(\"gamma_1\", 1, \"non_match\", 0.15)\n",
    "params.set_pi_value(\"gamma_1\", 2, \"non_match\", 0.05)\n",
    "\n"
   ]
  },
  {
   "cell_type": "code",
   "execution_count": 9,
   "metadata": {},
   "outputs": [],
   "source": [
    "df_e = iterate(df_gammas, spark, params, num_iterations=1)"
   ]
  },
  {
   "cell_type": "code",
   "execution_count": 10,
   "metadata": {},
   "outputs": [
    {
     "name": "stdout",
     "output_type": "stream",
     "text": [
      "+-----------+-----------+-----+-----+---------+---------+-------+-------+----------------------+------------------+----------------------+------------------+-----------------+\n",
      "|unique_id_l|unique_id_r|mob_l|mob_r|surname_l|surname_r|gamma_0|gamma_1|prob_gamma_0_non_match|prob_gamma_0_match|prob_gamma_1_non_match|prob_gamma_1_match|match_probability|\n",
      "+-----------+-----------+-----+-----+---------+---------+-------+-------+----------------------+------------------+----------------------+------------------+-----------------+\n",
      "|          1|          2|   10|   10|  Linacre|  Linacre|      1|      2|                   0.2|               0.8|                  0.05|               0.4|   0.888888888889|\n",
      "|          1|          3|   10|   10|  Linacre|  Linacer|      1|      1|                   0.2|               0.8|                  0.15|               0.4|   0.727272727273|\n",
      "|          1|          4|   10|    7|  Linacre|    Smith|      0|      0|                   0.8|               0.2|                  0.80|               0.2|   0.015384615385|\n",
      "|          1|          5|   10|    8|  Linacre|    Smith|      0|      0|                   0.8|               0.2|                  0.80|               0.2|   0.015384615385|\n",
      "|          1|          6|   10|    8|  Linacre|    Smith|      0|      0|                   0.8|               0.2|                  0.80|               0.2|   0.015384615385|\n",
      "|          1|          7|   10|    8|  Linacre|    Jones|      0|      0|                   0.8|               0.2|                  0.80|               0.2|   0.015384615385|\n",
      "|          2|          3|   10|   10|  Linacre|  Linacer|      1|      1|                   0.2|               0.8|                  0.15|               0.4|   0.727272727273|\n",
      "|          2|          4|   10|    7|  Linacre|    Smith|      0|      0|                   0.8|               0.2|                  0.80|               0.2|   0.015384615385|\n",
      "|          2|          5|   10|    8|  Linacre|    Smith|      0|      0|                   0.8|               0.2|                  0.80|               0.2|   0.015384615385|\n",
      "|          2|          6|   10|    8|  Linacre|    Smith|      0|      0|                   0.8|               0.2|                  0.80|               0.2|   0.015384615385|\n",
      "|          2|          7|   10|    8|  Linacre|    Jones|      0|      0|                   0.8|               0.2|                  0.80|               0.2|   0.015384615385|\n",
      "|          3|          4|   10|    7|  Linacer|    Smith|      0|      0|                   0.8|               0.2|                  0.80|               0.2|   0.015384615385|\n",
      "|          3|          5|   10|    8|  Linacer|    Smith|      0|      0|                   0.8|               0.2|                  0.80|               0.2|   0.015384615385|\n",
      "|          3|          6|   10|    8|  Linacer|    Smith|      0|      0|                   0.8|               0.2|                  0.80|               0.2|   0.015384615385|\n",
      "|          3|          7|   10|    8|  Linacer|    Jones|      0|      0|                   0.8|               0.2|                  0.80|               0.2|   0.015384615385|\n",
      "|          4|          5|    7|    8|    Smith|    Smith|      0|      2|                   0.8|               0.2|                  0.05|               0.4|   0.333333333333|\n",
      "|          4|          6|    7|    8|    Smith|    Smith|      0|      2|                   0.8|               0.2|                  0.05|               0.4|   0.333333333333|\n",
      "|          4|          7|    7|    8|    Smith|    Jones|      0|      0|                   0.8|               0.2|                  0.80|               0.2|   0.015384615385|\n",
      "|          5|          6|    8|    8|    Smith|    Smith|      1|      2|                   0.2|               0.8|                  0.05|               0.4|   0.888888888889|\n",
      "|          5|          7|    8|    8|    Smith|    Jones|      1|      0|                   0.2|               0.8|                  0.80|               0.2|   0.200000000000|\n",
      "+-----------+-----------+-----+-----+---------+---------+-------+-------+----------------------+------------------+----------------------+------------------+-----------------+\n",
      "only showing top 20 rows\n",
      "\n"
     ]
    }
   ],
   "source": [
    "df_e.show()"
   ]
  },
  {
   "cell_type": "code",
   "execution_count": 11,
   "metadata": {},
   "outputs": [
    {
     "data": {
      "text/plain": [
       "λ (proportion of matches) = 0.21423761546611786\n",
       "------------------------------------\n",
       "gamma_0: Comparison of mob\n",
       "\n",
       "Probability distribution of gamma values amongst matches:\n",
       "    value 0: 0.192636 (level represents lowest category of string similarity)\n",
       "    value 1: 0.807364 (level represents highest category of string similarity)\n",
       "\n",
       "Probability distribution of gamma values amongst non-matches:\n",
       "    value 0: 0.856513 (level represents lowest category of string similarity)\n",
       "    value 1: 0.143487 (level represents highest category of string similarity)\n",
       "------------------------------------\n",
       "gamma_1: Comparison of surname\n",
       "\n",
       "Probability distribution of gamma values amongst matches:\n",
       "    value 0: 0.133363 (level represents lowest category of string similarity)\n",
       "    value 1: 0.323305 \n",
       "    value 2: 0.543332 (level represents highest category of string similarity)\n",
       "\n",
       "Probability distribution of gamma values amongst non-matches:\n",
       "    value 0: 0.872674 (level represents lowest category of string similarity)\n",
       "    value 1: 0.033056 \n",
       "    value 2: 0.094270 (level represents highest category of string similarity)"
      ]
     },
     "execution_count": 11,
     "metadata": {},
     "output_type": "execute_result"
    }
   ],
   "source": [
    "params"
   ]
  },
  {
   "cell_type": "code",
   "execution_count": null,
   "metadata": {},
   "outputs": [],
   "source": []
  },
  {
   "cell_type": "code",
   "execution_count": 12,
   "metadata": {},
   "outputs": [],
   "source": [
    "import copy \n",
    "\n",
    "params = Params(gamma_settings, starting_lambda=0.2)\n",
    "\n",
    "params.set_pi_value(\"gamma_0\", 0, \"match\", 0.2)\n",
    "params.set_pi_value(\"gamma_0\", 1, \"match\", 0.8)\n",
    "\n",
    "params.set_pi_value(\"gamma_0\", 0, \"non_match\", 0.8)\n",
    "params.set_pi_value(\"gamma_0\", 1, \"non_match\", 0.2)\n",
    "\n",
    "params.set_pi_value(\"gamma_1\", 0, \"match\", 0.2)\n",
    "params.set_pi_value(\"gamma_1\", 1, \"match\", 0.4)\n",
    "params.set_pi_value(\"gamma_1\", 2, \"match\", 0.4)\n",
    "\n",
    "params.set_pi_value(\"gamma_1\", 0, \"non_match\", 0.8)\n",
    "params.set_pi_value(\"gamma_1\", 1, \"non_match\", 0.15)\n",
    "params.set_pi_value(\"gamma_1\", 2, \"non_match\", 0.05)\n",
    "\n"
   ]
  },
  {
   "cell_type": "code",
   "execution_count": 13,
   "metadata": {},
   "outputs": [],
   "source": [
    "df_e_2 = iterate(df_gammas, spark, params, num_iterations=2)"
   ]
  },
  {
   "cell_type": "code",
   "execution_count": 14,
   "metadata": {},
   "outputs": [
    {
     "data": {
      "text/plain": [
       "λ (proportion of matches) = 0.22355400025844574\n",
       "------------------------------------\n",
       "gamma_0: Comparison of mob\n",
       "\n",
       "Probability distribution of gamma values amongst matches:\n",
       "    value 0: 0.136957 (level represents lowest category of string similarity)\n",
       "    value 1: 0.863043 (level represents highest category of string similarity)\n",
       "\n",
       "Probability distribution of gamma values amongst non-matches:\n",
       "    value 0: 0.880510 (level represents lowest category of string similarity)\n",
       "    value 1: 0.119490 (level represents highest category of string similarity)\n",
       "------------------------------------\n",
       "gamma_1: Comparison of surname\n",
       "\n",
       "Probability distribution of gamma values amongst matches:\n",
       "    value 0: 0.106618 (level represents lowest category of string similarity)\n",
       "    value 1: 0.399400 \n",
       "    value 2: 0.493981 (level represents highest category of string similarity)\n",
       "\n",
       "Probability distribution of gamma values amongst non-matches:\n",
       "    value 0: 0.889245 (level represents lowest category of string similarity)\n",
       "    value 1: 0.007664 \n",
       "    value 2: 0.103091 (level represents highest category of string similarity)"
      ]
     },
     "execution_count": 14,
     "metadata": {},
     "output_type": "execute_result"
    }
   ],
   "source": [
    "params"
   ]
  },
  {
   "cell_type": "code",
   "execution_count": null,
   "metadata": {},
   "outputs": [],
   "source": []
  },
  {
   "cell_type": "code",
   "execution_count": null,
   "metadata": {},
   "outputs": [],
   "source": []
  },
  {
   "cell_type": "code",
   "execution_count": null,
   "metadata": {},
   "outputs": [],
   "source": []
  }
 ],
 "metadata": {
  "kernelspec": {
   "display_name": "Python 3",
   "language": "python",
   "name": "python3"
  },
  "language_info": {
   "codemirror_mode": {
    "name": "ipython",
    "version": 3
   },
   "file_extension": ".py",
   "mimetype": "text/x-python",
   "name": "python",
   "nbconvert_exporter": "python",
   "pygments_lexer": "ipython3",
   "version": "3.6.9"
  }
 },
 "nbformat": 4,
 "nbformat_minor": 4
}
