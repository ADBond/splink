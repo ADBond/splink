{
 "cells": [
  {
   "cell_type": "code",
   "execution_count": null,
   "metadata": {},
   "outputs": [],
   "source": [
    "import pandas as pd \n",
    "from splink.duckdb.duckdb_linker import DuckDBLinker\n",
    "import splink.duckdb.duckdb_comparison_library as cl\n",
    "import splink.duckdb.duckdb_comparison_level_library as cll\n",
    "\n",
    "df = pd.read_csv(\"./tests/datasets/fake_1000_from_splink_demos.csv\")\n",
    "print(df.dtypes)\n",
    "print(f\"The number of rows is: {df.shape[0]:d}\")\n",
    "df.head(5)"
   ]
  },
  {
   "cell_type": "code",
   "execution_count": null,
   "metadata": {},
   "outputs": [],
   "source": [
    "tricky_dates = ['2021-13-21', '2000-14-22', '1999-10-42', '2002-11-52', '2019-15-55']\n",
    "tricky_dates_df = tricky_dates * int(df.shape[0]/len(tricky_dates))"
   ]
  },
  {
   "cell_type": "code",
   "execution_count": null,
   "metadata": {},
   "outputs": [],
   "source": [
    "df_test = pd.DataFrame(tricky_dates_df, columns=['dob'])\n",
    "print(df_test.dtypes)\n",
    "df_test.head()"
   ]
  },
  {
   "cell_type": "code",
   "execution_count": null,
   "metadata": {},
   "outputs": [],
   "source": [
    "# make a second dataframe and add the bad date strings\n",
    "df_2 = df.copy(deep=True)\n",
    "df_2['dob'] = df_test['dob'].values"
   ]
  },
  {
   "cell_type": "code",
   "execution_count": null,
   "metadata": {},
   "outputs": [],
   "source": [
    "print(df.dtypes)\n",
    "df.head()"
   ]
  },
  {
   "cell_type": "code",
   "execution_count": null,
   "metadata": {},
   "outputs": [],
   "source": [
    "print(df_2.dtypes)\n",
    "df_2.head()"
   ]
  },
  {
   "cell_type": "code",
   "execution_count": null,
   "metadata": {},
   "outputs": [],
   "source": [
    "# Initialise the linker, passing in the input dataset(s)\n",
    "# linker = DuckDBLinker([df, df], input_table_aliases=[\"df\", \"df_2\"])"
   ]
  },
  {
   "cell_type": "code",
   "execution_count": null,
   "metadata": {},
   "outputs": [],
   "source": [
    "# Initialise the linker, passing in the input dataset(s)\n",
    "linker = DuckDBLinker(df_2)"
   ]
  },
  {
   "cell_type": "code",
   "execution_count": null,
   "metadata": {},
   "outputs": [],
   "source": [
    "# linker.missingness_chart(\"df_2\")"
   ]
  },
  {
   "cell_type": "code",
   "execution_count": null,
   "metadata": {},
   "outputs": [],
   "source": [
    "# linker.missingness_chart(\"df\")"
   ]
  },
  {
   "cell_type": "code",
   "execution_count": null,
   "metadata": {},
   "outputs": [],
   "source": [
    "first_name_comparison = cl.exact_match(\"first_name\")\n",
    "print(first_name_comparison.human_readable_description)"
   ]
  },
  {
   "cell_type": "code",
   "execution_count": null,
   "metadata": {},
   "outputs": [],
   "source": [
    "first_name_comparison.as_dict()"
   ]
  },
  {
   "cell_type": "code",
   "execution_count": null,
   "metadata": {},
   "outputs": [],
   "source": [
    "dob_comparison = cl.datediff_at_thresholds(\"dob\",date_thresholds=[1,5], date_metrics = [\"day\", \"year\"],\n",
    "                                cast_strings_to_date=True)\n",
    "dob_comparison.as_dict()"
   ]
  },
  {
   "cell_type": "code",
   "execution_count": null,
   "metadata": {},
   "outputs": [],
   "source": [
    "# dob_comparison = {\n",
    "#     'output_column_name': 'dob_comparison',\n",
    "#     'comparison_description': 'dob jaro',\n",
    "#     'comparison_levels': [\n",
    "#         cll.null_level(\"dob\"),\n",
    "#         cll.exact_match_level(\"dob\"),\n",
    "#         cll.datediff_level(\"dob\", date_threshold=3, date_metric='month', cast_strings_to_date=True)\n",
    "\n",
    "#     ]\n",
    "# }\n",
    "# from splink.comparison import Comparison\n",
    "# print(Comparison(dob_comparison).human_readable_description)"
   ]
  },
  {
   "cell_type": "code",
   "execution_count": null,
   "metadata": {},
   "outputs": [],
   "source": [
    "blocking_rules_predict = [\n",
    "   \n",
    "    # Tight(ish) blocking rule to start\n",
    "    \"l.first_name = r.first_name and l.surname = r.surname\",\n",
    "]"
   ]
  },
  {
   "cell_type": "code",
   "execution_count": null,
   "metadata": {},
   "outputs": [],
   "source": [
    "city = cl.exact_match(\"city\", term_frequency_adjustments=True)"
   ]
  },
  {
   "cell_type": "code",
   "execution_count": null,
   "metadata": {},
   "outputs": [],
   "source": [
    "settings = {\n",
    "    \"link_type\": \"dedupe_only\",\n",
    "    \"unique_id_column_name\": \"unique_id\",\n",
    "    \"retain_matching_columns\": True,\n",
    "    \"retain_intermediate_calculation_columns\": True,\n",
    "    \"max_iterations\": 10,\n",
    "    \"em_convergence\": 0.01,\n",
    "    \"comparisons\": [\n",
    "        city,\n",
    "        first_name_comparison,\n",
    "        dob_comparison,\n",
    "    ],\n",
    "    \"blocking_rules_to_generate_predictions\": blocking_rules_predict,\n",
    "}\n"
   ]
  },
  {
   "cell_type": "code",
   "execution_count": null,
   "metadata": {},
   "outputs": [],
   "source": [
    "# settings['link_type'] = 'link_and_dedupe'"
   ]
  },
  {
   "cell_type": "code",
   "execution_count": null,
   "metadata": {},
   "outputs": [],
   "source": [
    "linker = DuckDBLinker(df_2, settings)\n",
    "# linker = DuckDBLinker([df, df_2], settings)"
   ]
  },
  {
   "cell_type": "code",
   "execution_count": null,
   "metadata": {},
   "outputs": [],
   "source": [
    "deterministic_rules = [\n",
    "    \"l.first_name = r.first_name and levenshtein(r.dob, l.dob) <= 1\",\n",
    "    \"l.surname = r.surname and levenshtein(r.dob, l.dob) <= 1\",\n",
    "    \"l.first_name = r.first_name and levenshtein(r.surname, l.surname) <= 2\",\n",
    "    \"l.email = r.email\"\n",
    "]\n",
    "\n",
    "linker.estimate_probability_two_random_records_match(deterministic_rules, recall=0.7)"
   ]
  },
  {
   "cell_type": "code",
   "execution_count": null,
   "metadata": {},
   "outputs": [],
   "source": [
    "linker.estimate_u_using_random_sampling(target_rows=5000)"
   ]
  },
  {
   "cell_type": "code",
   "execution_count": null,
   "metadata": {},
   "outputs": [],
   "source": [
    "training_blocking_rule = \"l.first_name = r.first_name and l.surname = r.surname\"\n",
    "training_session_fname_sname = linker.estimate_parameters_using_expectation_maximisation(training_blocking_rule)"
   ]
  },
  {
   "cell_type": "code",
   "execution_count": null,
   "metadata": {},
   "outputs": [],
   "source": [
    "# from case_statements import (\n",
    "#     sql_gen_case_stmt_name_inversion_4,\n",
    "#     sql_gen_case_stmt_levenshtein_abs_3,\n",
    "#     sql_gen_case_stmt_jaro_3,\n",
    "#     sql_gen_case_stmt_numeric_abs_3,\n",
    "#     sql_gen_case_stmt_array_intersect_2,\n",
    "#     sql_gen_case_smnt_strict_equality_2,\n",
    "#     _size_intersect, \n",
    "#     _jaro_winkler_array,\n",
    "# )\n",
    "\n",
    "\n",
    "# # Edited from common_case_statements.py\n",
    "# def dob_case_statement_leven(dob_colname, leven_distance=1):\n",
    "#     # It's often the case that too many dates of birth are on the first of january\n",
    "#     # typically because when exact dob is unavailable they round to nearest year\n",
    "#     return f\"\"\"\n",
    "#     case\n",
    "#     when {dob_colname}_l is null or {dob_colname}_r is null then -1\n",
    "#     when {dob_colname}_l = {dob_colname}_r  and substr({dob_colname}_l, -5) = '01-01'  then 4\n",
    "#     when {dob_colname}_l = {dob_colname}_r  then 5\n",
    "#     when levenshtein({dob_colname}_l, {dob_colname}_r) <= {leven_distance} then 3\n",
    "#     when abs(datediff({dob_colname}_l, {dob_colname}_r)) <= 365 then 2\n",
    "#     when abs(datediff({dob_colname}_l, {dob_colname}_r)) <= 10*365 then 1\n",
    "#     else 0 end\n",
    "#     \"\"\""
   ]
  }
 ],
 "metadata": {
  "kernelspec": {
   "display_name": "splink_dev_env",
   "language": "python",
   "name": "python3"
  },
  "language_info": {
   "codemirror_mode": {
    "name": "ipython",
    "version": 3
   },
   "file_extension": ".py",
   "mimetype": "text/x-python",
   "name": "python",
   "nbconvert_exporter": "python",
   "pygments_lexer": "ipython3",
   "version": "3.10.8"
  },
  "orig_nbformat": 4,
  "vscode": {
   "interpreter": {
    "hash": "40ed3ce993a5a5d83f829fe220d0ce5dc391ba3c1504651e486245c4727b11f2"
   }
  }
 },
 "nbformat": 4,
 "nbformat_minor": 2
}
