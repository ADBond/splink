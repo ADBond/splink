{
 "cells": [
  {
   "cell_type": "code",
<<<<<<< HEAD
   "execution_count": null,
   "metadata": {},
   "outputs": [],
=======
<<<<<<< HEAD
   "execution_count": null,
   "metadata": {},
   "outputs": [],
=======
   "execution_count": 1,
   "metadata": {},
   "outputs": [
    {
     "name": "stdout",
     "output_type": "stream",
     "text": [
      "unique_id      int64\n",
      "first_name    object\n",
      "surname       object\n",
      "dob           object\n",
      "city          object\n",
      "email         object\n",
      "group          int64\n",
      "dtype: object\n",
      "The number of rows is: 1000\n"
     ]
    },
    {
     "data": {
      "text/html": [
       "<div>\n",
       "<style scoped>\n",
       "    .dataframe tbody tr th:only-of-type {\n",
       "        vertical-align: middle;\n",
       "    }\n",
       "\n",
       "    .dataframe tbody tr th {\n",
       "        vertical-align: top;\n",
       "    }\n",
       "\n",
       "    .dataframe thead th {\n",
       "        text-align: right;\n",
       "    }\n",
       "</style>\n",
       "<table border=\"1\" class=\"dataframe\">\n",
       "  <thead>\n",
       "    <tr style=\"text-align: right;\">\n",
       "      <th></th>\n",
       "      <th>unique_id</th>\n",
       "      <th>first_name</th>\n",
       "      <th>surname</th>\n",
       "      <th>dob</th>\n",
       "      <th>city</th>\n",
       "      <th>email</th>\n",
       "      <th>group</th>\n",
       "    </tr>\n",
       "  </thead>\n",
       "  <tbody>\n",
       "    <tr>\n",
       "      <th>0</th>\n",
       "      <td>0</td>\n",
       "      <td>Julia</td>\n",
       "      <td>NaN</td>\n",
       "      <td>2015-10-29</td>\n",
       "      <td>London</td>\n",
       "      <td>hannah88@powers.com</td>\n",
       "      <td>0</td>\n",
       "    </tr>\n",
       "    <tr>\n",
       "      <th>1</th>\n",
       "      <td>1</td>\n",
       "      <td>Julia</td>\n",
       "      <td>Taylor</td>\n",
       "      <td>2015-07-31</td>\n",
       "      <td>London</td>\n",
       "      <td>hannah88@powers.com</td>\n",
       "      <td>0</td>\n",
       "    </tr>\n",
       "    <tr>\n",
       "      <th>2</th>\n",
       "      <td>2</td>\n",
       "      <td>Julia</td>\n",
       "      <td>Taylor</td>\n",
       "      <td>2016-01-27</td>\n",
       "      <td>London</td>\n",
       "      <td>hannah88@powers.com</td>\n",
       "      <td>0</td>\n",
       "    </tr>\n",
       "    <tr>\n",
       "      <th>3</th>\n",
       "      <td>3</td>\n",
       "      <td>Julia</td>\n",
       "      <td>Taylor</td>\n",
       "      <td>2015-10-29</td>\n",
       "      <td>NaN</td>\n",
       "      <td>hannah88opowersc@m</td>\n",
       "      <td>0</td>\n",
       "    </tr>\n",
       "    <tr>\n",
       "      <th>4</th>\n",
       "      <td>4</td>\n",
       "      <td>oNah</td>\n",
       "      <td>Watson</td>\n",
       "      <td>2008-03-23</td>\n",
       "      <td>Bolton</td>\n",
       "      <td>matthew78@ballard-mcdonald.net</td>\n",
       "      <td>1</td>\n",
       "    </tr>\n",
       "  </tbody>\n",
       "</table>\n",
       "</div>"
      ],
      "text/plain": [
       "   unique_id first_name surname         dob    city  \\\n",
       "0          0     Julia      NaN  2015-10-29  London   \n",
       "1          1     Julia   Taylor  2015-07-31  London   \n",
       "2          2     Julia   Taylor  2016-01-27  London   \n",
       "3          3     Julia   Taylor  2015-10-29     NaN   \n",
       "4          4       oNah  Watson  2008-03-23  Bolton   \n",
       "\n",
       "                            email  group  \n",
       "0             hannah88@powers.com      0  \n",
       "1             hannah88@powers.com      0  \n",
       "2             hannah88@powers.com      0  \n",
       "3              hannah88opowersc@m      0  \n",
       "4  matthew78@ballard-mcdonald.net      1  "
      ]
     },
     "execution_count": 1,
     "metadata": {},
     "output_type": "execute_result"
    }
   ],
>>>>>>> 16c88e960b91bfcf07c86124b574df2994308ff4
>>>>>>> e76ab9aafda1d211d91a714bc5b500fe49a5277b
   "source": [
    "import pandas as pd \n",
    "from splink.duckdb.duckdb_linker import DuckDBLinker\n",
    "import splink.duckdb.duckdb_comparison_library as cl\n",
    "import splink.duckdb.duckdb_comparison_level_library as cll\n",
    "\n",
    "df = pd.read_csv(\"./tests/datasets/fake_1000_from_splink_demos.csv\")\n",
    "print(df.dtypes)\n",
    "print(f\"The number of rows is: {df.shape[0]:d}\")\n",
    "df.head(5)"
   ]
  },
  {
   "cell_type": "code",
<<<<<<< HEAD
   "execution_count": null,
=======
<<<<<<< HEAD
   "execution_count": null,
=======
   "execution_count": 2,
>>>>>>> 16c88e960b91bfcf07c86124b574df2994308ff4
>>>>>>> e76ab9aafda1d211d91a714bc5b500fe49a5277b
   "metadata": {},
   "outputs": [],
   "source": [
    "tricky_dates = ['2021-13-21', '2000-14-22', '1999-10-42', '2002-11-52', '2019-15-55']\n",
    "tricky_dates_df = tricky_dates * int(df.shape[0]/len(tricky_dates))"
   ]
  },
  {
   "cell_type": "code",
<<<<<<< HEAD
   "execution_count": null,
   "metadata": {},
   "outputs": [],
=======
<<<<<<< HEAD
   "execution_count": null,
   "metadata": {},
   "outputs": [],
=======
   "execution_count": 3,
   "metadata": {},
   "outputs": [
    {
     "name": "stdout",
     "output_type": "stream",
     "text": [
      "dob    object\n",
      "dtype: object\n"
     ]
    },
    {
     "data": {
      "text/html": [
       "<div>\n",
       "<style scoped>\n",
       "    .dataframe tbody tr th:only-of-type {\n",
       "        vertical-align: middle;\n",
       "    }\n",
       "\n",
       "    .dataframe tbody tr th {\n",
       "        vertical-align: top;\n",
       "    }\n",
       "\n",
       "    .dataframe thead th {\n",
       "        text-align: right;\n",
       "    }\n",
       "</style>\n",
       "<table border=\"1\" class=\"dataframe\">\n",
       "  <thead>\n",
       "    <tr style=\"text-align: right;\">\n",
       "      <th></th>\n",
       "      <th>dob</th>\n",
       "    </tr>\n",
       "  </thead>\n",
       "  <tbody>\n",
       "    <tr>\n",
       "      <th>0</th>\n",
       "      <td>2021-13-21</td>\n",
       "    </tr>\n",
       "    <tr>\n",
       "      <th>1</th>\n",
       "      <td>2000-14-22</td>\n",
       "    </tr>\n",
       "    <tr>\n",
       "      <th>2</th>\n",
       "      <td>1999-10-42</td>\n",
       "    </tr>\n",
       "    <tr>\n",
       "      <th>3</th>\n",
       "      <td>2002-11-52</td>\n",
       "    </tr>\n",
       "    <tr>\n",
       "      <th>4</th>\n",
       "      <td>2019-15-55</td>\n",
       "    </tr>\n",
       "  </tbody>\n",
       "</table>\n",
       "</div>"
      ],
      "text/plain": [
       "          dob\n",
       "0  2021-13-21\n",
       "1  2000-14-22\n",
       "2  1999-10-42\n",
       "3  2002-11-52\n",
       "4  2019-15-55"
      ]
     },
     "execution_count": 3,
     "metadata": {},
     "output_type": "execute_result"
    }
   ],
>>>>>>> 16c88e960b91bfcf07c86124b574df2994308ff4
>>>>>>> e76ab9aafda1d211d91a714bc5b500fe49a5277b
   "source": [
    "df_test = pd.DataFrame(tricky_dates_df, columns=['dob'])\n",
    "print(df_test.dtypes)\n",
    "df_test.head()"
   ]
  },
  {
   "cell_type": "code",
<<<<<<< HEAD
   "execution_count": null,
=======
<<<<<<< HEAD
   "execution_count": null,
=======
   "execution_count": 4,
>>>>>>> 16c88e960b91bfcf07c86124b574df2994308ff4
>>>>>>> e76ab9aafda1d211d91a714bc5b500fe49a5277b
   "metadata": {},
   "outputs": [],
   "source": [
    "# make a second dataframe and add the bad date strings\n",
    "df_2 = df.copy(deep=True)\n",
    "df_2['dob'] = df_test['dob'].values"
   ]
  },
  {
   "cell_type": "code",
<<<<<<< HEAD
   "execution_count": null,
   "metadata": {},
   "outputs": [],
=======
<<<<<<< HEAD
   "execution_count": null,
   "metadata": {},
   "outputs": [],
=======
   "execution_count": 5,
   "metadata": {},
   "outputs": [
    {
     "name": "stdout",
     "output_type": "stream",
     "text": [
      "unique_id      int64\n",
      "first_name    object\n",
      "surname       object\n",
      "dob           object\n",
      "city          object\n",
      "email         object\n",
      "group          int64\n",
      "dtype: object\n"
     ]
    },
    {
     "data": {
      "text/html": [
       "<div>\n",
       "<style scoped>\n",
       "    .dataframe tbody tr th:only-of-type {\n",
       "        vertical-align: middle;\n",
       "    }\n",
       "\n",
       "    .dataframe tbody tr th {\n",
       "        vertical-align: top;\n",
       "    }\n",
       "\n",
       "    .dataframe thead th {\n",
       "        text-align: right;\n",
       "    }\n",
       "</style>\n",
       "<table border=\"1\" class=\"dataframe\">\n",
       "  <thead>\n",
       "    <tr style=\"text-align: right;\">\n",
       "      <th></th>\n",
       "      <th>unique_id</th>\n",
       "      <th>first_name</th>\n",
       "      <th>surname</th>\n",
       "      <th>dob</th>\n",
       "      <th>city</th>\n",
       "      <th>email</th>\n",
       "      <th>group</th>\n",
       "    </tr>\n",
       "  </thead>\n",
       "  <tbody>\n",
       "    <tr>\n",
       "      <th>0</th>\n",
       "      <td>0</td>\n",
       "      <td>Julia</td>\n",
       "      <td>NaN</td>\n",
       "      <td>2015-10-29</td>\n",
       "      <td>London</td>\n",
       "      <td>hannah88@powers.com</td>\n",
       "      <td>0</td>\n",
       "    </tr>\n",
       "    <tr>\n",
       "      <th>1</th>\n",
       "      <td>1</td>\n",
       "      <td>Julia</td>\n",
       "      <td>Taylor</td>\n",
       "      <td>2015-07-31</td>\n",
       "      <td>London</td>\n",
       "      <td>hannah88@powers.com</td>\n",
       "      <td>0</td>\n",
       "    </tr>\n",
       "    <tr>\n",
       "      <th>2</th>\n",
       "      <td>2</td>\n",
       "      <td>Julia</td>\n",
       "      <td>Taylor</td>\n",
       "      <td>2016-01-27</td>\n",
       "      <td>London</td>\n",
       "      <td>hannah88@powers.com</td>\n",
       "      <td>0</td>\n",
       "    </tr>\n",
       "    <tr>\n",
       "      <th>3</th>\n",
       "      <td>3</td>\n",
       "      <td>Julia</td>\n",
       "      <td>Taylor</td>\n",
       "      <td>2015-10-29</td>\n",
       "      <td>NaN</td>\n",
       "      <td>hannah88opowersc@m</td>\n",
       "      <td>0</td>\n",
       "    </tr>\n",
       "    <tr>\n",
       "      <th>4</th>\n",
       "      <td>4</td>\n",
       "      <td>oNah</td>\n",
       "      <td>Watson</td>\n",
       "      <td>2008-03-23</td>\n",
       "      <td>Bolton</td>\n",
       "      <td>matthew78@ballard-mcdonald.net</td>\n",
       "      <td>1</td>\n",
       "    </tr>\n",
       "  </tbody>\n",
       "</table>\n",
       "</div>"
      ],
      "text/plain": [
       "   unique_id first_name surname         dob    city  \\\n",
       "0          0     Julia      NaN  2015-10-29  London   \n",
       "1          1     Julia   Taylor  2015-07-31  London   \n",
       "2          2     Julia   Taylor  2016-01-27  London   \n",
       "3          3     Julia   Taylor  2015-10-29     NaN   \n",
       "4          4       oNah  Watson  2008-03-23  Bolton   \n",
       "\n",
       "                            email  group  \n",
       "0             hannah88@powers.com      0  \n",
       "1             hannah88@powers.com      0  \n",
       "2             hannah88@powers.com      0  \n",
       "3              hannah88opowersc@m      0  \n",
       "4  matthew78@ballard-mcdonald.net      1  "
      ]
     },
     "execution_count": 5,
     "metadata": {},
     "output_type": "execute_result"
    }
   ],
>>>>>>> 16c88e960b91bfcf07c86124b574df2994308ff4
>>>>>>> e76ab9aafda1d211d91a714bc5b500fe49a5277b
   "source": [
    "print(df.dtypes)\n",
    "df.head()"
   ]
  },
  {
   "cell_type": "code",
<<<<<<< HEAD
   "execution_count": null,
   "metadata": {},
   "outputs": [],
=======
<<<<<<< HEAD
   "execution_count": null,
   "metadata": {},
   "outputs": [],
=======
   "execution_count": 6,
   "metadata": {},
   "outputs": [
    {
     "name": "stdout",
     "output_type": "stream",
     "text": [
      "unique_id      int64\n",
      "first_name    object\n",
      "surname       object\n",
      "dob           object\n",
      "city          object\n",
      "email         object\n",
      "group          int64\n",
      "dtype: object\n"
     ]
    },
    {
     "data": {
      "text/html": [
       "<div>\n",
       "<style scoped>\n",
       "    .dataframe tbody tr th:only-of-type {\n",
       "        vertical-align: middle;\n",
       "    }\n",
       "\n",
       "    .dataframe tbody tr th {\n",
       "        vertical-align: top;\n",
       "    }\n",
       "\n",
       "    .dataframe thead th {\n",
       "        text-align: right;\n",
       "    }\n",
       "</style>\n",
       "<table border=\"1\" class=\"dataframe\">\n",
       "  <thead>\n",
       "    <tr style=\"text-align: right;\">\n",
       "      <th></th>\n",
       "      <th>unique_id</th>\n",
       "      <th>first_name</th>\n",
       "      <th>surname</th>\n",
       "      <th>dob</th>\n",
       "      <th>city</th>\n",
       "      <th>email</th>\n",
       "      <th>group</th>\n",
       "    </tr>\n",
       "  </thead>\n",
       "  <tbody>\n",
       "    <tr>\n",
       "      <th>0</th>\n",
       "      <td>0</td>\n",
       "      <td>Julia</td>\n",
       "      <td>NaN</td>\n",
       "      <td>2021-13-21</td>\n",
       "      <td>London</td>\n",
       "      <td>hannah88@powers.com</td>\n",
       "      <td>0</td>\n",
       "    </tr>\n",
       "    <tr>\n",
       "      <th>1</th>\n",
       "      <td>1</td>\n",
       "      <td>Julia</td>\n",
       "      <td>Taylor</td>\n",
       "      <td>2000-14-22</td>\n",
       "      <td>London</td>\n",
       "      <td>hannah88@powers.com</td>\n",
       "      <td>0</td>\n",
       "    </tr>\n",
       "    <tr>\n",
       "      <th>2</th>\n",
       "      <td>2</td>\n",
       "      <td>Julia</td>\n",
       "      <td>Taylor</td>\n",
       "      <td>1999-10-42</td>\n",
       "      <td>London</td>\n",
       "      <td>hannah88@powers.com</td>\n",
       "      <td>0</td>\n",
       "    </tr>\n",
       "    <tr>\n",
       "      <th>3</th>\n",
       "      <td>3</td>\n",
       "      <td>Julia</td>\n",
       "      <td>Taylor</td>\n",
       "      <td>2002-11-52</td>\n",
       "      <td>NaN</td>\n",
       "      <td>hannah88opowersc@m</td>\n",
       "      <td>0</td>\n",
       "    </tr>\n",
       "    <tr>\n",
       "      <th>4</th>\n",
       "      <td>4</td>\n",
       "      <td>oNah</td>\n",
       "      <td>Watson</td>\n",
       "      <td>2019-15-55</td>\n",
       "      <td>Bolton</td>\n",
       "      <td>matthew78@ballard-mcdonald.net</td>\n",
       "      <td>1</td>\n",
       "    </tr>\n",
       "  </tbody>\n",
       "</table>\n",
       "</div>"
      ],
      "text/plain": [
       "   unique_id first_name surname         dob    city  \\\n",
       "0          0     Julia      NaN  2021-13-21  London   \n",
       "1          1     Julia   Taylor  2000-14-22  London   \n",
       "2          2     Julia   Taylor  1999-10-42  London   \n",
       "3          3     Julia   Taylor  2002-11-52     NaN   \n",
       "4          4       oNah  Watson  2019-15-55  Bolton   \n",
       "\n",
       "                            email  group  \n",
       "0             hannah88@powers.com      0  \n",
       "1             hannah88@powers.com      0  \n",
       "2             hannah88@powers.com      0  \n",
       "3              hannah88opowersc@m      0  \n",
       "4  matthew78@ballard-mcdonald.net      1  "
      ]
     },
     "execution_count": 6,
     "metadata": {},
     "output_type": "execute_result"
    }
   ],
>>>>>>> 16c88e960b91bfcf07c86124b574df2994308ff4
>>>>>>> e76ab9aafda1d211d91a714bc5b500fe49a5277b
   "source": [
    "print(df_2.dtypes)\n",
    "df_2.head()"
   ]
  },
  {
   "cell_type": "code",
<<<<<<< HEAD
   "execution_count": null,
=======
<<<<<<< HEAD
   "execution_count": null,
=======
   "execution_count": 7,
>>>>>>> 16c88e960b91bfcf07c86124b574df2994308ff4
>>>>>>> e76ab9aafda1d211d91a714bc5b500fe49a5277b
   "metadata": {},
   "outputs": [],
   "source": [
    "# Initialise the linker, passing in the input dataset(s)\n",
    "# linker = DuckDBLinker([df, df], input_table_aliases=[\"df\", \"df_2\"])"
   ]
  },
  {
   "cell_type": "code",
<<<<<<< HEAD
   "execution_count": null,
=======
<<<<<<< HEAD
   "execution_count": null,
=======
   "execution_count": 8,
>>>>>>> 16c88e960b91bfcf07c86124b574df2994308ff4
>>>>>>> e76ab9aafda1d211d91a714bc5b500fe49a5277b
   "metadata": {},
   "outputs": [],
   "source": [
    "# Initialise the linker, passing in the input dataset(s)\n",
    "linker = DuckDBLinker(df_2)"
   ]
  },
  {
   "cell_type": "code",
<<<<<<< HEAD
   "execution_count": null,
=======
<<<<<<< HEAD
   "execution_count": null,
=======
   "execution_count": 9,
>>>>>>> 16c88e960b91bfcf07c86124b574df2994308ff4
>>>>>>> e76ab9aafda1d211d91a714bc5b500fe49a5277b
   "metadata": {},
   "outputs": [],
   "source": [
    "# linker.missingness_chart(\"df_2\")"
   ]
  },
  {
   "cell_type": "code",
<<<<<<< HEAD
   "execution_count": null,
=======
<<<<<<< HEAD
   "execution_count": null,
=======
   "execution_count": 10,
>>>>>>> 16c88e960b91bfcf07c86124b574df2994308ff4
>>>>>>> e76ab9aafda1d211d91a714bc5b500fe49a5277b
   "metadata": {},
   "outputs": [],
   "source": [
    "# linker.missingness_chart(\"df\")"
   ]
  },
  {
   "cell_type": "code",
<<<<<<< HEAD
   "execution_count": null,
   "metadata": {},
   "outputs": [],
=======
<<<<<<< HEAD
   "execution_count": null,
   "metadata": {},
   "outputs": [],
=======
   "execution_count": 11,
   "metadata": {},
   "outputs": [
    {
     "name": "stdout",
     "output_type": "stream",
     "text": [
      "Comparison 'Exact match vs. anything else' of \"first_name\".\n",
      "Similarity is assessed using the following ComparisonLevels:\n",
      "    - 'Null' with SQL rule: \"first_name_l\" IS NULL OR \"first_name_r\" IS NULL\n",
      "    - 'Exact match' with SQL rule: \"first_name_l\" = \"first_name_r\"\n",
      "    - 'All other comparisons' with SQL rule: ELSE\n",
      "\n"
     ]
    }
   ],
>>>>>>> 16c88e960b91bfcf07c86124b574df2994308ff4
>>>>>>> e76ab9aafda1d211d91a714bc5b500fe49a5277b
   "source": [
    "first_name_comparison = cl.exact_match(\"first_name\")\n",
    "print(first_name_comparison.human_readable_description)"
   ]
  },
  {
   "cell_type": "code",
<<<<<<< HEAD
   "execution_count": null,
   "metadata": {},
   "outputs": [],
=======
<<<<<<< HEAD
   "execution_count": null,
   "metadata": {},
   "outputs": [],
=======
   "execution_count": 12,
   "metadata": {},
   "outputs": [
    {
     "data": {
      "text/plain": [
       "{'output_column_name': 'first_name',\n",
       " 'comparison_levels': [{'sql_condition': '\"first_name_l\" IS NULL OR \"first_name_r\" IS NULL',\n",
       "   'label_for_charts': 'Null',\n",
       "   'is_null_level': True},\n",
       "  {'sql_condition': '\"first_name_l\" = \"first_name_r\"',\n",
       "   'label_for_charts': 'Exact match'},\n",
       "  {'sql_condition': 'ELSE', 'label_for_charts': 'All other comparisons'}],\n",
       " 'comparison_description': 'Exact match vs. anything else'}"
      ]
     },
     "execution_count": 12,
     "metadata": {},
     "output_type": "execute_result"
    }
   ],
>>>>>>> 16c88e960b91bfcf07c86124b574df2994308ff4
>>>>>>> e76ab9aafda1d211d91a714bc5b500fe49a5277b
   "source": [
    "first_name_comparison.as_dict()"
   ]
  },
  {
   "cell_type": "code",
<<<<<<< HEAD
   "execution_count": null,
   "metadata": {},
   "outputs": [],
=======
<<<<<<< HEAD
   "execution_count": null,
   "metadata": {},
   "outputs": [],
=======
   "execution_count": 18,
   "metadata": {},
   "outputs": [
    {
     "data": {
      "text/plain": [
       "{'output_column_name': 'dob',\n",
       " 'comparison_levels': [{'sql_condition': '\"dob_l\" IS NULL OR \"dob_r\" IS NULL',\n",
       "   'label_for_charts': 'Null',\n",
       "   'is_null_level': True},\n",
       "  {'sql_condition': '\"dob_l\" = \"dob_r\"', 'label_for_charts': 'Exact match'},\n",
       "  {'sql_condition': '\\n            abs(date_diff(\\'day\\',strptime(\"dob_l\",\\n              \\'%x\\'),strptime(\"dob_r\", \\'%x\\'))) <= 1\\n        ',\n",
       "   'label_for_charts': 'Within 1 day'},\n",
       "  {'sql_condition': '\\n            abs(date_diff(\\'year\\',strptime(\"dob_l\",\\n              \\'%x\\'),strptime(\"dob_r\", \\'%x\\'))) <= 5\\n        ',\n",
       "   'label_for_charts': 'Within 5 years'},\n",
       "  {'sql_condition': 'ELSE', 'label_for_charts': 'All other comparisons'}],\n",
       " 'comparison_description': 'Exact match vs. Dates within the following thresholds Day(s): 1, Year(s): 5 vs. anything else'}"
      ]
     },
     "execution_count": 18,
     "metadata": {},
     "output_type": "execute_result"
    }
   ],
>>>>>>> 16c88e960b91bfcf07c86124b574df2994308ff4
>>>>>>> e76ab9aafda1d211d91a714bc5b500fe49a5277b
   "source": [
    "dob_comparison = cl.datediff_at_thresholds(\"dob\",date_thresholds=[1,5], date_metrics = [\"day\", \"year\"],\n",
    "                                cast_strings_to_date=True)\n",
    "dob_comparison.as_dict()"
   ]
  },
  {
   "cell_type": "code",
<<<<<<< HEAD
   "execution_count": null,
=======
<<<<<<< HEAD
   "execution_count": null,
=======
   "execution_count": 19,
>>>>>>> 16c88e960b91bfcf07c86124b574df2994308ff4
>>>>>>> e76ab9aafda1d211d91a714bc5b500fe49a5277b
   "metadata": {},
   "outputs": [],
   "source": [
    "# dob_comparison = {\n",
    "#     'output_column_name': 'dob_comparison',\n",
    "#     'comparison_description': 'dob jaro',\n",
    "#     'comparison_levels': [\n",
    "#         cll.null_level(\"dob\"),\n",
    "#         cll.exact_match_level(\"dob\"),\n",
    "#         cll.datediff_level(\"dob\", date_threshold=3, date_metric='month', cast_strings_to_date=True)\n",
    "\n",
    "#     ]\n",
    "# }\n",
    "# from splink.comparison import Comparison\n",
    "# print(Comparison(dob_comparison).human_readable_description)"
   ]
  },
  {
   "cell_type": "code",
<<<<<<< HEAD
   "execution_count": null,
=======
<<<<<<< HEAD
   "execution_count": null,
=======
   "execution_count": 20,
>>>>>>> 16c88e960b91bfcf07c86124b574df2994308ff4
>>>>>>> e76ab9aafda1d211d91a714bc5b500fe49a5277b
   "metadata": {},
   "outputs": [],
   "source": [
    "blocking_rules_predict = [\n",
    "   \n",
    "    # Tight(ish) blocking rule to start\n",
    "    \"l.first_name = r.first_name and l.surname = r.surname\",\n",
    "]"
   ]
  },
  {
   "cell_type": "code",
<<<<<<< HEAD
   "execution_count": null,
=======
<<<<<<< HEAD
   "execution_count": null,
=======
   "execution_count": 21,
>>>>>>> 16c88e960b91bfcf07c86124b574df2994308ff4
>>>>>>> e76ab9aafda1d211d91a714bc5b500fe49a5277b
   "metadata": {},
   "outputs": [],
   "source": [
    "city = cl.exact_match(\"city\", term_frequency_adjustments=True)"
   ]
  },
  {
   "cell_type": "code",
<<<<<<< HEAD
   "execution_count": null,
=======
<<<<<<< HEAD
   "execution_count": null,
=======
   "execution_count": 24,
>>>>>>> 16c88e960b91bfcf07c86124b574df2994308ff4
>>>>>>> e76ab9aafda1d211d91a714bc5b500fe49a5277b
   "metadata": {},
   "outputs": [],
   "source": [
    "settings = {\n",
    "    \"link_type\": \"dedupe_only\",\n",
    "    \"unique_id_column_name\": \"unique_id\",\n",
    "    \"retain_matching_columns\": True,\n",
    "    \"retain_intermediate_calculation_columns\": True,\n",
    "    \"max_iterations\": 10,\n",
    "    \"em_convergence\": 0.01,\n",
    "    \"comparisons\": [\n",
    "        city,\n",
    "        first_name_comparison,\n",
    "        dob_comparison,\n",
    "    ],\n",
    "    \"blocking_rules_to_generate_predictions\": blocking_rules_predict,\n",
    "}\n"
   ]
  },
  {
   "cell_type": "code",
<<<<<<< HEAD
   "execution_count": null,
=======
<<<<<<< HEAD
   "execution_count": null,
=======
   "execution_count": 23,
>>>>>>> 16c88e960b91bfcf07c86124b574df2994308ff4
>>>>>>> e76ab9aafda1d211d91a714bc5b500fe49a5277b
   "metadata": {},
   "outputs": [],
   "source": [
    "# settings['link_type'] = 'link_and_dedupe'"
   ]
  },
  {
   "cell_type": "code",
<<<<<<< HEAD
   "execution_count": null,
=======
<<<<<<< HEAD
   "execution_count": null,
=======
   "execution_count": 26,
>>>>>>> 16c88e960b91bfcf07c86124b574df2994308ff4
>>>>>>> e76ab9aafda1d211d91a714bc5b500fe49a5277b
   "metadata": {},
   "outputs": [],
   "source": [
    "linker = DuckDBLinker(df_2, settings)\n",
    "# linker = DuckDBLinker([df, df_2], settings)"
   ]
  },
  {
   "cell_type": "code",
<<<<<<< HEAD
   "execution_count": null,
   "metadata": {},
   "outputs": [],
=======
<<<<<<< HEAD
   "execution_count": null,
   "metadata": {},
   "outputs": [],
=======
   "execution_count": 27,
   "metadata": {},
   "outputs": [
    {
     "name": "stderr",
     "output_type": "stream",
     "text": [
      "Probability two random records match is estimated to be  0.00769.\n",
      "This means that amongst all possible pairwise record comparisons, one in 129.98 are expected to match.  With 499,500 total possible comparisons, we expect a total of around 3,842.86 matching pairs\n"
     ]
    }
   ],
>>>>>>> 16c88e960b91bfcf07c86124b574df2994308ff4
>>>>>>> e76ab9aafda1d211d91a714bc5b500fe49a5277b
   "source": [
    "deterministic_rules = [\n",
    "    \"l.first_name = r.first_name and levenshtein(r.dob, l.dob) <= 1\",\n",
    "    \"l.surname = r.surname and levenshtein(r.dob, l.dob) <= 1\",\n",
    "    \"l.first_name = r.first_name and levenshtein(r.surname, l.surname) <= 2\",\n",
    "    \"l.email = r.email\"\n",
    "]\n",
    "\n",
    "linker.estimate_probability_two_random_records_match(deterministic_rules, recall=0.7)"
   ]
  },
  {
   "cell_type": "code",
<<<<<<< HEAD
   "execution_count": null,
   "metadata": {},
   "outputs": [],
=======
<<<<<<< HEAD
   "execution_count": null,
   "metadata": {},
   "outputs": [],
=======
   "execution_count": 28,
   "metadata": {},
   "outputs": [
    {
     "name": "stderr",
     "output_type": "stream",
     "text": [
      "----- Estimating u probabilities using random sampling -----\n"
     ]
    },
    {
     "ename": "InvalidInputException",
     "evalue": "Invalid Input Error: Could not parse string \"2021-13-21\" according to format specifier \"%x\"\n2021-13-21\n     ^\nError: Month out of range, expected a value between 1 and 12",
     "output_type": "error",
     "traceback": [
      "\u001b[0;31m---------------------------------------------------------------------------\u001b[0m",
      "\u001b[0;31mInvalidInputException\u001b[0m                     Traceback (most recent call last)",
      "Cell \u001b[0;32mIn[28], line 1\u001b[0m\n\u001b[0;32m----> 1\u001b[0m linker\u001b[39m.\u001b[39;49mestimate_u_using_random_sampling(target_rows\u001b[39m=\u001b[39;49m\u001b[39m5000\u001b[39;49m)\n",
      "File \u001b[0;32m~/Documents/splink/splink/linker.py:960\u001b[0m, in \u001b[0;36mLinker.estimate_u_using_random_sampling\u001b[0;34m(self, target_rows)\u001b[0m\n\u001b[1;32m    932\u001b[0m \u001b[39mdef\u001b[39;00m \u001b[39mestimate_u_using_random_sampling\u001b[39m(\u001b[39mself\u001b[39m, target_rows: \u001b[39mint\u001b[39m):\n\u001b[1;32m    933\u001b[0m \u001b[39m    \u001b[39m\u001b[39m\"\"\"Estimate the u parameters of the linkage model using random sampling.\u001b[39;00m\n\u001b[1;32m    934\u001b[0m \n\u001b[1;32m    935\u001b[0m \u001b[39m    The u parameters represent the proportion of record comparisons that fall\u001b[39;00m\n\u001b[0;32m   (...)\u001b[0m\n\u001b[1;32m    957\u001b[0m \u001b[39m        and returns nothing.\u001b[39;00m\n\u001b[1;32m    958\u001b[0m \u001b[39m    \"\"\"\u001b[39;00m\n\u001b[0;32m--> 960\u001b[0m     estimate_u_values(\u001b[39mself\u001b[39;49m, target_rows)\n\u001b[1;32m    961\u001b[0m     \u001b[39mself\u001b[39m\u001b[39m.\u001b[39m_populate_m_u_from_trained_values()\n\u001b[1;32m    963\u001b[0m     \u001b[39mself\u001b[39m\u001b[39m.\u001b[39m_settings_obj\u001b[39m.\u001b[39m_columns_without_estimated_parameters_message()\n",
      "File \u001b[0;32m~/Documents/splink/splink/estimate_u.py:134\u001b[0m, in \u001b[0;36mestimate_u_values\u001b[0;34m(linker, target_rows)\u001b[0m\n\u001b[1;32m    132\u001b[0m sql \u001b[39m=\u001b[39m compute_new_parameters_sql(settings_obj)\n\u001b[1;32m    133\u001b[0m linker\u001b[39m.\u001b[39m_enqueue_sql(sql, \u001b[39m\"\u001b[39m\u001b[39m__splink__m_u_counts\u001b[39m\u001b[39m\"\u001b[39m)\n\u001b[0;32m--> 134\u001b[0m df_params \u001b[39m=\u001b[39m training_linker\u001b[39m.\u001b[39;49m_execute_sql_pipeline(sample_dataframe)\n\u001b[1;32m    136\u001b[0m param_records \u001b[39m=\u001b[39m df_params\u001b[39m.\u001b[39mas_pandas_dataframe()\n\u001b[1;32m    137\u001b[0m param_records \u001b[39m=\u001b[39m compute_proportions_for_new_parameters(param_records)\n",
      "File \u001b[0;32m~/Documents/splink/splink/linker.py:446\u001b[0m, in \u001b[0;36mLinker._execute_sql_pipeline\u001b[0;34m(self, input_dataframes, materialise_as_hash, use_cache)\u001b[0m\n\u001b[1;32m    443\u001b[0m output_tablename_templated \u001b[39m=\u001b[39m \u001b[39mself\u001b[39m\u001b[39m.\u001b[39m_pipeline\u001b[39m.\u001b[39mqueue[\u001b[39m-\u001b[39m\u001b[39m1\u001b[39m]\u001b[39m.\u001b[39moutput_table_name\n\u001b[1;32m    445\u001b[0m \u001b[39mtry\u001b[39;00m:\n\u001b[0;32m--> 446\u001b[0m     dataframe \u001b[39m=\u001b[39m \u001b[39mself\u001b[39;49m\u001b[39m.\u001b[39;49m_sql_to_splink_dataframe_checking_cache(\n\u001b[1;32m    447\u001b[0m         sql_gen,\n\u001b[1;32m    448\u001b[0m         output_tablename_templated,\n\u001b[1;32m    449\u001b[0m         materialise_as_hash,\n\u001b[1;32m    450\u001b[0m         use_cache,\n\u001b[1;32m    451\u001b[0m     )\n\u001b[1;32m    452\u001b[0m \u001b[39mexcept\u001b[39;00m Error \u001b[39mas\u001b[39;00m e:\n\u001b[1;32m    453\u001b[0m     \u001b[39mraise\u001b[39;00m e\n",
      "File \u001b[0;32m~/Documents/splink/splink/linker.py:588\u001b[0m, in \u001b[0;36mLinker._sql_to_splink_dataframe_checking_cache\u001b[0;34m(self, sql, output_tablename_templated, materialise_as_hash, use_cache)\u001b[0m\n\u001b[1;32m    585\u001b[0m     \u001b[39mprint\u001b[39m(sql)\n\u001b[1;32m    587\u001b[0m \u001b[39mif\u001b[39;00m materialise_as_hash:\n\u001b[0;32m--> 588\u001b[0m     splink_dataframe \u001b[39m=\u001b[39m \u001b[39mself\u001b[39;49m\u001b[39m.\u001b[39;49m_execute_sql_against_backend(\n\u001b[1;32m    589\u001b[0m         sql, output_tablename_templated, table_name_hash\n\u001b[1;32m    590\u001b[0m     )\n\u001b[1;32m    591\u001b[0m \u001b[39melse\u001b[39;00m:\n\u001b[1;32m    592\u001b[0m     splink_dataframe \u001b[39m=\u001b[39m \u001b[39mself\u001b[39m\u001b[39m.\u001b[39m_execute_sql_against_backend(\n\u001b[1;32m    593\u001b[0m         sql,\n\u001b[1;32m    594\u001b[0m         output_tablename_templated,\n\u001b[1;32m    595\u001b[0m         output_tablename_templated,\n\u001b[1;32m    596\u001b[0m     )\n",
      "File \u001b[0;32m~/Documents/splink/splink/duckdb/duckdb_linker.py:190\u001b[0m, in \u001b[0;36mDuckDBLinker._execute_sql_against_backend\u001b[0;34m(self, sql, templated_name, physical_name)\u001b[0m\n\u001b[1;32m    183\u001b[0m logger\u001b[39m.\u001b[39mlog(\u001b[39m5\u001b[39m, log_sql(sql))\n\u001b[1;32m    185\u001b[0m sql \u001b[39m=\u001b[39m \u001b[39mf\u001b[39m\u001b[39m\"\"\"\u001b[39m\n\u001b[1;32m    186\u001b[0m \u001b[39mCREATE TABLE \u001b[39m\u001b[39m{\u001b[39;00mphysical_name\u001b[39m}\u001b[39;00m\n\u001b[1;32m    187\u001b[0m \u001b[39mAS\u001b[39m\n\u001b[1;32m    188\u001b[0m \u001b[39m(\u001b[39m\u001b[39m{\u001b[39;00msql\u001b[39m}\u001b[39;00m\u001b[39m)\u001b[39m\n\u001b[1;32m    189\u001b[0m \u001b[39m\u001b[39m\u001b[39m\"\"\"\u001b[39m\n\u001b[0;32m--> 190\u001b[0m \u001b[39mself\u001b[39;49m\u001b[39m.\u001b[39;49m_con\u001b[39m.\u001b[39;49mexecute(sql)\u001b[39m.\u001b[39mfetch_df()\n\u001b[1;32m    192\u001b[0m \u001b[39mreturn\u001b[39;00m DuckDBLinkerDataFrame(templated_name, physical_name, \u001b[39mself\u001b[39m)\n",
      "\u001b[0;31mInvalidInputException\u001b[0m: Invalid Input Error: Could not parse string \"2021-13-21\" according to format specifier \"%x\"\n2021-13-21\n     ^\nError: Month out of range, expected a value between 1 and 12"
     ]
    }
   ],
>>>>>>> 16c88e960b91bfcf07c86124b574df2994308ff4
>>>>>>> e76ab9aafda1d211d91a714bc5b500fe49a5277b
   "source": [
    "linker.estimate_u_using_random_sampling(target_rows=5000)"
   ]
  },
  {
   "cell_type": "code",
   "execution_count": null,
   "metadata": {},
   "outputs": [],
   "source": [
    "training_blocking_rule = \"l.first_name = r.first_name and l.surname = r.surname\"\n",
    "training_session_fname_sname = linker.estimate_parameters_using_expectation_maximisation(training_blocking_rule)"
   ]
  },
  {
   "cell_type": "code",
   "execution_count": null,
   "metadata": {},
   "outputs": [],
   "source": [
    "# from case_statements import (\n",
    "#     sql_gen_case_stmt_name_inversion_4,\n",
    "#     sql_gen_case_stmt_levenshtein_abs_3,\n",
    "#     sql_gen_case_stmt_jaro_3,\n",
    "#     sql_gen_case_stmt_numeric_abs_3,\n",
    "#     sql_gen_case_stmt_array_intersect_2,\n",
    "#     sql_gen_case_smnt_strict_equality_2,\n",
    "#     _size_intersect, \n",
    "#     _jaro_winkler_array,\n",
    "# )\n",
    "\n",
    "\n",
    "# # Edited from common_case_statements.py\n",
    "# def dob_case_statement_leven(dob_colname, leven_distance=1):\n",
    "#     # It's often the case that too many dates of birth are on the first of january\n",
    "#     # typically because when exact dob is unavailable they round to nearest year\n",
    "#     return f\"\"\"\n",
    "#     case\n",
    "#     when {dob_colname}_l is null or {dob_colname}_r is null then -1\n",
    "#     when {dob_colname}_l = {dob_colname}_r  and substr({dob_colname}_l, -5) = '01-01'  then 4\n",
    "#     when {dob_colname}_l = {dob_colname}_r  then 5\n",
    "#     when levenshtein({dob_colname}_l, {dob_colname}_r) <= {leven_distance} then 3\n",
    "#     when abs(datediff({dob_colname}_l, {dob_colname}_r)) <= 365 then 2\n",
    "#     when abs(datediff({dob_colname}_l, {dob_colname}_r)) <= 10*365 then 1\n",
    "#     else 0 end\n",
    "#     \"\"\""
   ]
  }
 ],
 "metadata": {
  "kernelspec": {
   "display_name": "splink_dev_env",
   "language": "python",
   "name": "python3"
  },
  "language_info": {
   "codemirror_mode": {
    "name": "ipython",
    "version": 3
   },
   "file_extension": ".py",
   "mimetype": "text/x-python",
   "name": "python",
   "nbconvert_exporter": "python",
   "pygments_lexer": "ipython3",
   "version": "3.10.8"
  },
  "orig_nbformat": 4,
  "vscode": {
   "interpreter": {
    "hash": "40ed3ce993a5a5d83f829fe220d0ce5dc391ba3c1504651e486245c4727b11f2"
   }
  }
 },
 "nbformat": 4,
 "nbformat_minor": 2
}
